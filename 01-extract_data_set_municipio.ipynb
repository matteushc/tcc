{
 "cells": [
  {
   "cell_type": "code",
   "execution_count": 57,
   "metadata": {},
   "outputs": [],
   "source": [
    "from ftplib import FTP\n",
    "import zipfile\n",
    "import os\n",
    "import shutil"
   ]
  },
  {
   "cell_type": "code",
   "execution_count": 58,
   "metadata": {},
   "outputs": [],
   "source": [
    "def connect(url, dir):\n",
    "    try:\n",
    "        ftp = FTP(url)\n",
    "        ftp.login() \n",
    "        ftp.cwd(dir)\n",
    "        return ftp\n",
    "    except Exception:\n",
    "        logging.critical('Não foi possivel conectar ao servidor FTP')"
   ]
  },
  {
   "cell_type": "code",
   "execution_count": 74,
   "metadata": {},
   "outputs": [],
   "source": [
    "def download(ftp, pathDestino, filename):\n",
    "    try:\n",
    "        # Create target Directory\n",
    "        os.mkdir(pathDestino)\n",
    "        print(\"Directory \" , pathDestino ,  \" Created \") \n",
    "    except FileExistsError:\n",
    "        print(\"Directory \" , pathDestino ,  \" already exists\")    \n",
    "\n",
    "    Dfile = open(pathDestino + filename, 'wb')\n",
    "    try:\n",
    "        ftp.retrbinary('RETR ' + filename, Dfile.write)\n",
    "    except Exception:\n",
    "        print('Erro ao abaixar o arquivo')\n",
    "    print('Download feito com sucesso!')\n",
    "    \n",
    "    Dfile.close()\n"
   ]
  },
  {
   "cell_type": "code",
   "execution_count": 60,
   "metadata": {},
   "outputs": [],
   "source": [
    "def extract_zip(file_name, target_directory):\n",
    "    with zipfile.ZipFile(file_name, 'r') as zip_ref:\n",
    "        zip_ref.extractall(target_directory)"
   ]
  },
  {
   "cell_type": "code",
   "execution_count": 76,
   "metadata": {},
   "outputs": [],
   "source": [
    "url_ftp = 'ftp.datasus.gov.br'\n",
    "path_ftp = 'territorio/tabelas'\n",
    "filenamezip = 'base_territorial.zip'\n",
    "filename = 'tb_municip.csv'\n",
    "path_tmp = '/home/caioabreu/Downloads/base_territorial/'\n",
    "path_destino = '/home/caioabreu/workspace/tcc/datasets/municipio/'"
   ]
  },
  {
   "cell_type": "code",
   "execution_count": null,
   "metadata": {},
   "outputs": [],
   "source": [
    "ftp = connect(url_ftp, path_ftp)\n",
    "download(ftp, path_tmp, filenamezip)\n",
    "ftp.close()\n",
    "extract_zip(path_tmp + filenamezip, path_tmp)\n",
    "shutil.move(path_tmp + filename, path_destino + filename)"
   ]
  },
  {
   "cell_type": "code",
   "execution_count": 80,
   "metadata": {},
   "outputs": [],
   "source": [
    "url_ftp = 'ftp.ibge.gov.br'\n",
    "path_ftp = 'Estimativas_de_Populacao/Estimativas_2017'\n",
    "filename = 'estimativa_TCU_2017_20190919.xls'\n",
    "path_tmp = '/home/caioabreu/Downloads/'\n",
    "path_destino = '/home/caioabreu/workspace/tcc/datasets/municipio/'"
   ]
  },
  {
   "cell_type": "code",
   "execution_count": 82,
   "metadata": {},
   "outputs": [
    {
     "name": "stdout",
     "output_type": "stream",
     "text": [
      "Directory  /home/caioabreu/Downloads/  already exists\n",
      "Download feito com sucesso!\n"
     ]
    },
    {
     "data": {
      "text/plain": [
       "'/home/caioabreu/workspace/tcc/datasets/municipio/estimativa_TCU_2017_20190919.xls'"
      ]
     },
     "execution_count": 82,
     "metadata": {},
     "output_type": "execute_result"
    }
   ],
   "source": [
    "ftp = connect(url_ftp, path_ftp)\n",
    "download(ftp, path_tmp, filename)\n",
    "ftp.close()\n",
    "shutil.move(path_tmp + filename, path_destino + filename)"
   ]
  }
 ],
 "metadata": {
  "kernelspec": {
   "display_name": "Python 3",
   "language": "python",
   "name": "python3"
  },
  "language_info": {
   "codemirror_mode": {
    "name": "ipython",
    "version": 3
   },
   "file_extension": ".py",
   "mimetype": "text/x-python",
   "name": "python",
   "nbconvert_exporter": "python",
   "pygments_lexer": "ipython3",
   "version": "3.7.3"
  }
 },
 "nbformat": 4,
 "nbformat_minor": 4
}
