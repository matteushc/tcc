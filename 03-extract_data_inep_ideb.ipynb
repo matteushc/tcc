{
 "cells": [
  {
   "cell_type": "code",
   "execution_count": 1,
   "metadata": {},
   "outputs": [],
   "source": [
    "import requests\n",
    "import os\n",
    "from tqdm import tqdm\n",
    "from bs4 import BeautifulSoup"
   ]
  },
  {
   "cell_type": "code",
   "execution_count": 6,
   "metadata": {},
   "outputs": [],
   "source": [
    "path_directory = \"/path/\"\n",
    "fonte_dados_inep = \"http://inep.gov.br/web/guest/microdados\"\n",
    "file_name = \"micro_censo_escolar_2017.zip\""
   ]
  },
  {
   "cell_type": "code",
   "execution_count": 7,
   "metadata": {},
   "outputs": [],
   "source": [
    "file_name_anos_iniciais = \"divulgacao_anos_iniciais_municipios2017-atualizado-Jun_2019.zip\"\n",
    "file_name_anos_finais = \"divulgacao_anos_finais_municipios2017-atualizado-Jun_2019.zip\"\n",
    "file_name_ensino_medio = \"divulgacao_ensino_medio_municipios2017-atualizado-Jun_2019.zip\"\n",
    "fonte_dados_ideb = \"http://portal.inep.gov.br/web/guest/educacao-basica/ideb/resultados\""
   ]
  },
  {
   "cell_type": "code",
   "execution_count": 5,
   "metadata": {},
   "outputs": [],
   "source": [
    "def extractInepMicroDados():\n",
    "\t\n",
    "\tresult = requests.get(fonte_dados)\n",
    "\tsrc = result.content\n",
    "\n",
    "\tsoup = BeautifulSoup(src, 'html.parser')\n",
    "\n",
    "\tcenso_escolar = soup.find('div',{'data-anchor':'censo-escolar'})\n",
    "\n",
    "\tdownload_content = censo_escolar.find('div',{'class':'list-download__content'})\n",
    "\n",
    "\tfor x in download_content.find('ul').find_all('a'):\n",
    "\t\turl = x.attrs['href']\n",
    "\n",
    "\t\tdownload_name = os.path.basename(url)\n",
    "\t\tif file_name == download_name:\n",
    "\t\t\t\n",
    "\t\t\tr = requests.get(url, stream=True)\n",
    "\t\t\ttotal_size = int(r.headers.get('content-length', 0))\n",
    "\t\t\tblock_size = 1048576\n",
    "\t\t\tt=tqdm(total=total_size)\n",
    "\t\t\twith open(path_directory + download_name, 'wb') as fobj:\n",
    "\t\t\t\tfor data in r.iter_content(block_size):\n",
    "\t\t\t\t\tt.update(len(data))\n",
    "\t\t\t\t\tfobj.write(data)\n",
    "\t\t\tt.close()"
   ]
  },
  {
   "cell_type": "code",
   "execution_count": 8,
   "metadata": {},
   "outputs": [],
   "source": [
    "def extractIDEBResultadosEscolas():\n",
    "\t\n",
    "\tresult = requests.get(fonte_dados_ideb)\n",
    "\tsrc = result.content\n",
    "\n",
    "\tsoup = BeautifulSoup(src, 'html.parser')\n",
    "\n",
    "\tresultado_escolar = soup.find('div',{'id':'p_p_id_56_INSTANCE_6G5n5Ax2xN2I_'})\n",
    "\tfor ul_content in resultado_escolar.find_all('ul'):\n",
    "\t\tfor x in ul_content.find_all('a'):\n",
    "\t\t\turl = x.attrs['href']\n",
    "\n",
    "\t\t\tdownload_name = os.path.basename(url)\n",
    "\t\t\tif download_name == file_name_anos_iniciais \\\n",
    "\t\t\t\tor download_name == file_name_anos_finais \\\n",
    "\t\t\t\t\tor download_name == file_name_ensino_medio:\n",
    "\t\t\t\t\n",
    "\t\t\t\tr = requests.get(url, stream=True)\n",
    "\t\t\t\ttotal_size = int(r.headers.get('content-length', 0))\n",
    "\t\t\t\tblock_size = 1048576\n",
    "\t\t\t\tt=tqdm(total=total_size)\n",
    "\t\t\t\twith open(path_directory + download_name, 'wb') as fobj:\n",
    "\t\t\t\t\tfor data in r.iter_content(block_size):\n",
    "\t\t\t\t\t\tt.update(len(data))\n",
    "\t\t\t\t\t\tfobj.write(data)\n",
    "\t\t\t\tt.close()"
   ]
  },
  {
   "cell_type": "code",
   "execution_count": null,
   "metadata": {},
   "outputs": [],
   "source": [
    "extractInepMicroDados()\n",
    "extractIDEBResultadosEscolas()"
   ]
  }
 ],
 "metadata": {
  "kernelspec": {
   "display_name": "Python 3",
   "language": "python",
   "name": "python3"
  },
  "language_info": {
   "codemirror_mode": {
    "name": "ipython",
    "version": 3
   },
   "file_extension": ".py",
   "mimetype": "text/x-python",
   "name": "python",
   "nbconvert_exporter": "python",
   "pygments_lexer": "ipython3",
   "version": "3.7.5"
  }
 },
 "nbformat": 4,
 "nbformat_minor": 2
}
