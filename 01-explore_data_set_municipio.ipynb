{
 "cells": [
  {
   "cell_type": "code",
   "execution_count": 1,
   "metadata": {},
   "outputs": [],
   "source": [
    "#diretorio_datasets = \"/home/caioabreu/workspace/tcc/datasets/municipio\"\n",
    "diretorio_datasets = \"/home/matteus-paula/Documents/dados/dados_tcc/municipio\""
   ]
  },
  {
   "cell_type": "code",
   "execution_count": 2,
   "metadata": {},
   "outputs": [],
   "source": [
    "import pandas as pd\n",
    "import matplotlib.pyplot as plt"
   ]
  },
  {
   "cell_type": "markdown",
   "metadata": {},
   "source": [
    "> ## Dados Municipio:<br>\n",
    "- Base de Municipios para ligar codigo ibge da tabela escolas do inep (6 digitos) com investimentos (7 digitos)\n",
    "- Fonte: Municipio dados territoriais\n",
    "- http://www2.datasus.gov.br/DATASUS/index.php?area=060206\n",
    "- ftp://ftp.datasus.gov.br/territorio/tabelas\n"
   ]
  },
  {
   "cell_type": "code",
   "execution_count": 3,
   "metadata": {},
   "outputs": [],
   "source": [
    "municipios = pd.read_csv(f'{diretorio_datasets}/tb_municip.csv', \n",
    "                            delimiter=\";\", encoding = \"ISO-8859-1\",\n",
    "                        names=[\"CO_MUNICIP\",\"CO_MUNICDV\",\"CO_STATUS\",\"CO_TIPO\",\n",
    "                               \"DS_NOME\",\"DS_NOMEPAD\",\"DS_OBSERV\",\"CO_ALTER\",\n",
    "                               \"CO_ALTERDV\",\"CO_REGIAO\",\"CO_UF\",\"IN_CAPITAL\",\n",
    "                               \"IN_AMAZLEG\",\"IN_SEMIAR\",\"IN_FRONTZN\",\"IN_FRONTFX\",\n",
    "                               \"IN_POBREZA\",\"DT_INSTAL\",\"DT_EXTIN\",\"CO_SUCESS\",\n",
    "                               \"NU_ORDEM\",\"NU_ORDMAP\",\"NU_LATITUD\",\"NU_LONGIT\",\"NU_ALTITUD\",\"NU_AREA\"])"
   ]
  },
  {
   "cell_type": "code",
   "execution_count": 4,
   "metadata": {},
   "outputs": [
    {
     "data": {
      "text/html": [
       "<div>\n",
       "<style scoped>\n",
       "    .dataframe tbody tr th:only-of-type {\n",
       "        vertical-align: middle;\n",
       "    }\n",
       "\n",
       "    .dataframe tbody tr th {\n",
       "        vertical-align: top;\n",
       "    }\n",
       "\n",
       "    .dataframe thead th {\n",
       "        text-align: right;\n",
       "    }\n",
       "</style>\n",
       "<table border=\"1\" class=\"dataframe\">\n",
       "  <thead>\n",
       "    <tr style=\"text-align: right;\">\n",
       "      <th></th>\n",
       "      <th>CO_MUNICIP</th>\n",
       "      <th>CO_MUNICDV</th>\n",
       "      <th>CO_STATUS</th>\n",
       "      <th>CO_TIPO</th>\n",
       "      <th>DS_NOME</th>\n",
       "      <th>DS_NOMEPAD</th>\n",
       "      <th>DS_OBSERV</th>\n",
       "      <th>CO_ALTER</th>\n",
       "      <th>CO_ALTERDV</th>\n",
       "      <th>CO_REGIAO</th>\n",
       "      <th>...</th>\n",
       "      <th>IN_POBREZA</th>\n",
       "      <th>DT_INSTAL</th>\n",
       "      <th>DT_EXTIN</th>\n",
       "      <th>CO_SUCESS</th>\n",
       "      <th>NU_ORDEM</th>\n",
       "      <th>NU_ORDMAP</th>\n",
       "      <th>NU_LATITUD</th>\n",
       "      <th>NU_LONGIT</th>\n",
       "      <th>NU_ALTITUD</th>\n",
       "      <th>NU_AREA</th>\n",
       "    </tr>\n",
       "  </thead>\n",
       "  <tbody>\n",
       "    <tr>\n",
       "      <th>0</th>\n",
       "      <td>0</td>\n",
       "      <td>0</td>\n",
       "      <td>IGNOR</td>\n",
       "      <td>IGNOR</td>\n",
       "      <td>Ignorado ou exterior</td>\n",
       "      <td>IGNORADO OU EXTERIOR</td>\n",
       "      <td>Ignorado</td>\n",
       "      <td>,      ,000001-009999,999999</td>\n",
       "      <td>,       ,0000001-0099999,9999999</td>\n",
       "      <td>0</td>\n",
       "      <td>...</td>\n",
       "      <td></td>\n",
       "      <td>NaN</td>\n",
       "      <td>NaN</td>\n",
       "      <td>NaN</td>\n",
       "      <td>8</td>\n",
       "      <td></td>\n",
       "      <td>0,00000</td>\n",
       "      <td>0,00000</td>\n",
       "      <td>0</td>\n",
       "      <td>0,000</td>\n",
       "    </tr>\n",
       "    <tr>\n",
       "      <th>1</th>\n",
       "      <td>110000</td>\n",
       "      <td>1100000</td>\n",
       "      <td>IGNOR</td>\n",
       "      <td>IGNOR</td>\n",
       "      <td>Município ignorado - RO</td>\n",
       "      <td>MUNICIPIO IGNORADO - RO</td>\n",
       "      <td>NaN</td>\n",
       "      <td>,119999</td>\n",
       "      <td>,1199999</td>\n",
       "      <td>1</td>\n",
       "      <td>...</td>\n",
       "      <td></td>\n",
       "      <td>NaN</td>\n",
       "      <td>NaN</td>\n",
       "      <td>NaN</td>\n",
       "      <td>8</td>\n",
       "      <td></td>\n",
       "      <td>0,00000</td>\n",
       "      <td>0,00000</td>\n",
       "      <td>0</td>\n",
       "      <td>0,000</td>\n",
       "    </tr>\n",
       "    <tr>\n",
       "      <th>2</th>\n",
       "      <td>110001</td>\n",
       "      <td>1100015</td>\n",
       "      <td>ATIVO</td>\n",
       "      <td>MUNIC</td>\n",
       "      <td>Alta Floresta D'Oeste</td>\n",
       "      <td>ALTA FLORESTA D'OESTE</td>\n",
       "      <td>NaN</td>\n",
       "      <td>NaN</td>\n",
       "      <td>NaN</td>\n",
       "      <td>1</td>\n",
       "      <td>...</td>\n",
       "      <td>N</td>\n",
       "      <td>1986.0</td>\n",
       "      <td>NaN</td>\n",
       "      <td>NaN</td>\n",
       "      <td>1</td>\n",
       "      <td>1</td>\n",
       "      <td>-11,93554</td>\n",
       "      <td>-61,99982</td>\n",
       "      <td>338</td>\n",
       "      <td>7067,025</td>\n",
       "    </tr>\n",
       "    <tr>\n",
       "      <th>3</th>\n",
       "      <td>110002</td>\n",
       "      <td>1100023</td>\n",
       "      <td>ATIVO</td>\n",
       "      <td>MUNIC</td>\n",
       "      <td>Ariquemes</td>\n",
       "      <td>ARIQUEMES</td>\n",
       "      <td>NaN</td>\n",
       "      <td>NaN</td>\n",
       "      <td>NaN</td>\n",
       "      <td>1</td>\n",
       "      <td>...</td>\n",
       "      <td>N</td>\n",
       "      <td>1977.0</td>\n",
       "      <td>NaN</td>\n",
       "      <td>NaN</td>\n",
       "      <td>1</td>\n",
       "      <td>1</td>\n",
       "      <td>-9,90846</td>\n",
       "      <td>-63,03327</td>\n",
       "      <td>139</td>\n",
       "      <td>4426,571</td>\n",
       "    </tr>\n",
       "    <tr>\n",
       "      <th>4</th>\n",
       "      <td>110003</td>\n",
       "      <td>1100031</td>\n",
       "      <td>ATIVO</td>\n",
       "      <td>MUNIC</td>\n",
       "      <td>Cabixi</td>\n",
       "      <td>CABIXI</td>\n",
       "      <td>NaN</td>\n",
       "      <td>NaN</td>\n",
       "      <td>NaN</td>\n",
       "      <td>1</td>\n",
       "      <td>...</td>\n",
       "      <td>N</td>\n",
       "      <td>1989.0</td>\n",
       "      <td>NaN</td>\n",
       "      <td>NaN</td>\n",
       "      <td>1</td>\n",
       "      <td>1</td>\n",
       "      <td>-13,49976</td>\n",
       "      <td>-60,54431</td>\n",
       "      <td>236</td>\n",
       "      <td>1314,352</td>\n",
       "    </tr>\n",
       "  </tbody>\n",
       "</table>\n",
       "<p>5 rows × 26 columns</p>\n",
       "</div>"
      ],
      "text/plain": [
       "   CO_MUNICIP  CO_MUNICDV CO_STATUS CO_TIPO                  DS_NOME  \\\n",
       "0           0           0     IGNOR   IGNOR     Ignorado ou exterior   \n",
       "1      110000     1100000     IGNOR   IGNOR  Município ignorado - RO   \n",
       "2      110001     1100015     ATIVO   MUNIC    Alta Floresta D'Oeste   \n",
       "3      110002     1100023     ATIVO   MUNIC                Ariquemes   \n",
       "4      110003     1100031     ATIVO   MUNIC                   Cabixi   \n",
       "\n",
       "                DS_NOMEPAD DS_OBSERV                      CO_ALTER  \\\n",
       "0     IGNORADO OU EXTERIOR  Ignorado  ,      ,000001-009999,999999   \n",
       "1  MUNICIPIO IGNORADO - RO       NaN                       ,119999   \n",
       "2    ALTA FLORESTA D'OESTE       NaN                           NaN   \n",
       "3                ARIQUEMES       NaN                           NaN   \n",
       "4                   CABIXI       NaN                           NaN   \n",
       "\n",
       "                         CO_ALTERDV  CO_REGIAO  ...  IN_POBREZA DT_INSTAL  \\\n",
       "0  ,       ,0000001-0099999,9999999          0  ...                   NaN   \n",
       "1                          ,1199999          1  ...                   NaN   \n",
       "2                               NaN          1  ...           N    1986.0   \n",
       "3                               NaN          1  ...           N    1977.0   \n",
       "4                               NaN          1  ...           N    1989.0   \n",
       "\n",
       "  DT_EXTIN CO_SUCESS NU_ORDEM NU_ORDMAP NU_LATITUD  NU_LONGIT  NU_ALTITUD  \\\n",
       "0      NaN       NaN        8              0,00000    0,00000           0   \n",
       "1      NaN       NaN        8              0,00000    0,00000           0   \n",
       "2      NaN       NaN        1         1  -11,93554  -61,99982         338   \n",
       "3      NaN       NaN        1         1   -9,90846  -63,03327         139   \n",
       "4      NaN       NaN        1         1  -13,49976  -60,54431         236   \n",
       "\n",
       "    NU_AREA  \n",
       "0     0,000  \n",
       "1     0,000  \n",
       "2  7067,025  \n",
       "3  4426,571  \n",
       "4  1314,352  \n",
       "\n",
       "[5 rows x 26 columns]"
      ]
     },
     "execution_count": 4,
     "metadata": {},
     "output_type": "execute_result"
    }
   ],
   "source": [
    "municipios.head()"
   ]
  },
  {
   "cell_type": "code",
   "execution_count": 5,
   "metadata": {},
   "outputs": [
    {
     "data": {
      "text/html": [
       "<div>\n",
       "<style scoped>\n",
       "    .dataframe tbody tr th:only-of-type {\n",
       "        vertical-align: middle;\n",
       "    }\n",
       "\n",
       "    .dataframe tbody tr th {\n",
       "        vertical-align: top;\n",
       "    }\n",
       "\n",
       "    .dataframe thead th {\n",
       "        text-align: right;\n",
       "    }\n",
       "</style>\n",
       "<table border=\"1\" class=\"dataframe\">\n",
       "  <thead>\n",
       "    <tr style=\"text-align: right;\">\n",
       "      <th></th>\n",
       "      <th>CO_MUNICIP</th>\n",
       "      <th>CO_MUNICDV</th>\n",
       "      <th>DS_NOME</th>\n",
       "    </tr>\n",
       "  </thead>\n",
       "  <tbody>\n",
       "    <tr>\n",
       "      <th>2</th>\n",
       "      <td>110001</td>\n",
       "      <td>1100015</td>\n",
       "      <td>Alta Floresta D'Oeste</td>\n",
       "    </tr>\n",
       "    <tr>\n",
       "      <th>3</th>\n",
       "      <td>110002</td>\n",
       "      <td>1100023</td>\n",
       "      <td>Ariquemes</td>\n",
       "    </tr>\n",
       "    <tr>\n",
       "      <th>4</th>\n",
       "      <td>110003</td>\n",
       "      <td>1100031</td>\n",
       "      <td>Cabixi</td>\n",
       "    </tr>\n",
       "    <tr>\n",
       "      <th>5</th>\n",
       "      <td>110004</td>\n",
       "      <td>1100049</td>\n",
       "      <td>Cacoal</td>\n",
       "    </tr>\n",
       "    <tr>\n",
       "      <th>6</th>\n",
       "      <td>110005</td>\n",
       "      <td>1100056</td>\n",
       "      <td>Cerejeiras</td>\n",
       "    </tr>\n",
       "  </tbody>\n",
       "</table>\n",
       "</div>"
      ],
      "text/plain": [
       "   CO_MUNICIP  CO_MUNICDV                DS_NOME\n",
       "2      110001     1100015  Alta Floresta D'Oeste\n",
       "3      110002     1100023              Ariquemes\n",
       "4      110003     1100031                 Cabixi\n",
       "5      110004     1100049                 Cacoal\n",
       "6      110005     1100056             Cerejeiras"
      ]
     },
     "execution_count": 5,
     "metadata": {},
     "output_type": "execute_result"
    }
   ],
   "source": [
    "municipios_final = municipios[[\"CO_MUNICIP\",\"CO_MUNICDV\", \"DS_NOME\"]][municipios['CO_STATUS'] == 'ATIVO']\n",
    "municipios_final.head()"
   ]
  },
  {
   "cell_type": "code",
   "execution_count": 6,
   "metadata": {},
   "outputs": [
    {
     "name": "stdout",
     "output_type": "stream",
     "text": [
      "<class 'pandas.core.frame.DataFrame'>\n",
      "Int64Index: 5570 entries, 2 to 5658\n",
      "Data columns (total 3 columns):\n",
      " #   Column      Non-Null Count  Dtype \n",
      "---  ------      --------------  ----- \n",
      " 0   CO_MUNICIP  5570 non-null   int64 \n",
      " 1   CO_MUNICDV  5570 non-null   int64 \n",
      " 2   DS_NOME     5570 non-null   object\n",
      "dtypes: int64(2), object(1)\n",
      "memory usage: 174.1+ KB\n"
     ]
    }
   ],
   "source": [
    " municipios_final.info()"
   ]
  },
  {
   "cell_type": "code",
   "execution_count": 7,
   "metadata": {},
   "outputs": [],
   "source": [
    "municipios_final['SIZE_OF_CO_MUNICIP'] = municipios_final['CO_MUNICIP'].apply(lambda x: len(str(x)))\n",
    "municipios_final['SIZE_OF_CO_MUNICDV'] = municipios_final['CO_MUNICDV'].apply(lambda x: len(str(x)))"
   ]
  },
  {
   "cell_type": "code",
   "execution_count": 8,
   "metadata": {},
   "outputs": [
    {
     "data": {
      "text/plain": [
       "0"
      ]
     },
     "execution_count": 8,
     "metadata": {},
     "output_type": "execute_result"
    }
   ],
   "source": [
    "municipios_final['CO_MUNICIP'][(municipios_final['SIZE_OF_CO_MUNICIP'] != 6)].count()"
   ]
  },
  {
   "cell_type": "code",
   "execution_count": 9,
   "metadata": {},
   "outputs": [
    {
     "data": {
      "text/plain": [
       "0"
      ]
     },
     "execution_count": 9,
     "metadata": {},
     "output_type": "execute_result"
    }
   ],
   "source": [
    "municipios_final['CO_MUNICDV'][(municipios_final['SIZE_OF_CO_MUNICDV'] != 7)].count()"
   ]
  },
  {
   "cell_type": "code",
   "execution_count": 10,
   "metadata": {},
   "outputs": [
    {
     "data": {
      "text/plain": [
       "CO_MUNICIP            False\n",
       "CO_MUNICDV            False\n",
       "DS_NOME               False\n",
       "SIZE_OF_CO_MUNICIP    False\n",
       "SIZE_OF_CO_MUNICDV    False\n",
       "dtype: bool"
      ]
     },
     "execution_count": 10,
     "metadata": {},
     "output_type": "execute_result"
    }
   ],
   "source": [
    "municipios_final.isnull().any()"
   ]
  },
  {
   "cell_type": "markdown",
   "metadata": {},
   "source": [
    "> ## Dados Estatisticas Municipio:\n",
    "- Base populacao estimada\n",
    "- https://www.ibge.gov.br/estatisticas/downloads-estatisticas.html\n",
    "- ftp://ftp.ibge.gov.br/Estimativas_de_Populacao/Estimativas_2017/"
   ]
  },
  {
   "cell_type": "code",
   "execution_count": 11,
   "metadata": {},
   "outputs": [],
   "source": [
    "municipios_est_pop = pd.read_excel(f'{diretorio_datasets}/estimativa_TCU_2017_20190919.xls', \n",
    "                                   header=None, sheet_name='Municípios')"
   ]
  },
  {
   "cell_type": "code",
   "execution_count": 12,
   "metadata": {},
   "outputs": [
    {
     "data": {
      "text/html": [
       "<div>\n",
       "<style scoped>\n",
       "    .dataframe tbody tr th:only-of-type {\n",
       "        vertical-align: middle;\n",
       "    }\n",
       "\n",
       "    .dataframe tbody tr th {\n",
       "        vertical-align: top;\n",
       "    }\n",
       "\n",
       "    .dataframe thead th {\n",
       "        text-align: right;\n",
       "    }\n",
       "</style>\n",
       "<table border=\"1\" class=\"dataframe\">\n",
       "  <thead>\n",
       "    <tr style=\"text-align: right;\">\n",
       "      <th></th>\n",
       "      <th>0</th>\n",
       "      <th>1</th>\n",
       "      <th>2</th>\n",
       "      <th>3</th>\n",
       "      <th>4</th>\n",
       "    </tr>\n",
       "  </thead>\n",
       "  <tbody>\n",
       "    <tr>\n",
       "      <th>0</th>\n",
       "      <td>ESTIMATIVAS DA POPULAÇÃO RESIDENTE NOS MUNICÍP...</td>\n",
       "      <td>NaN</td>\n",
       "      <td>NaN</td>\n",
       "      <td>NaN</td>\n",
       "      <td>NaN</td>\n",
       "    </tr>\n",
       "    <tr>\n",
       "      <th>1</th>\n",
       "      <td>UF</td>\n",
       "      <td>COD. UF</td>\n",
       "      <td>COD. MUNIC</td>\n",
       "      <td>NOME DO MUNICÍPIO</td>\n",
       "      <td>POPULAÇÃO ESTIMADA</td>\n",
       "    </tr>\n",
       "    <tr>\n",
       "      <th>2</th>\n",
       "      <td>RO</td>\n",
       "      <td>11</td>\n",
       "      <td>00015</td>\n",
       "      <td>Alta Floresta D'Oeste</td>\n",
       "      <td>25437</td>\n",
       "    </tr>\n",
       "    <tr>\n",
       "      <th>3</th>\n",
       "      <td>RO</td>\n",
       "      <td>11</td>\n",
       "      <td>00023</td>\n",
       "      <td>Ariquemes</td>\n",
       "      <td>107345</td>\n",
       "    </tr>\n",
       "    <tr>\n",
       "      <th>4</th>\n",
       "      <td>RO</td>\n",
       "      <td>11</td>\n",
       "      <td>00031</td>\n",
       "      <td>Cabixi</td>\n",
       "      <td>6224</td>\n",
       "    </tr>\n",
       "  </tbody>\n",
       "</table>\n",
       "</div>"
      ],
      "text/plain": [
       "                                                   0        1           2  \\\n",
       "0  ESTIMATIVAS DA POPULAÇÃO RESIDENTE NOS MUNICÍP...      NaN         NaN   \n",
       "1                                                 UF  COD. UF  COD. MUNIC   \n",
       "2                                                 RO       11       00015   \n",
       "3                                                 RO       11       00023   \n",
       "4                                                 RO       11       00031   \n",
       "\n",
       "                       3                   4  \n",
       "0                    NaN                 NaN  \n",
       "1      NOME DO MUNICÍPIO  POPULAÇÃO ESTIMADA  \n",
       "2  Alta Floresta D'Oeste               25437  \n",
       "3              Ariquemes              107345  \n",
       "4                 Cabixi                6224  "
      ]
     },
     "execution_count": 12,
     "metadata": {},
     "output_type": "execute_result"
    }
   ],
   "source": [
    "municipios_est_pop.head()"
   ]
  },
  {
   "cell_type": "markdown",
   "metadata": {},
   "source": [
    "- #### Função para transformar os COD_UF e COD_MUN em string e concatena-los para formar o codigo ibge do municipio com 7 digitos (dados estimativa_TCU)"
   ]
  },
  {
   "cell_type": "code",
   "execution_count": 15,
   "metadata": {},
   "outputs": [],
   "source": [
    "def transform_mun_pop(input_df):\n",
    "\n",
    "    dfs = input_df.iloc[2:]\n",
    "    dfs.columns = ['UF', 'COD_UF', 'COD_MUN', 'NM_MUNICIPIO', 'NUM_POPULACAO']\n",
    "    \n",
    "    f = lambda x, y : str(x).strip() + str(y).strip()\n",
    "    dfs['COD_MUNICIPIO'] = dfs[['COD_UF', 'COD_MUN']].apply(lambda x: f(*x), axis=1)\n",
    "    \n",
    "    dfs.drop(dfs.tail(16).index,inplace=True)\n",
    "    \n",
    "    return dfs"
   ]
  },
  {
   "cell_type": "code",
   "execution_count": 16,
   "metadata": {},
   "outputs": [
    {
     "name": "stderr",
     "output_type": "stream",
     "text": [
      "/home/matteus-paula/.local/lib/python3.7/site-packages/ipykernel_launcher.py:7: SettingWithCopyWarning: \n",
      "A value is trying to be set on a copy of a slice from a DataFrame.\n",
      "Try using .loc[row_indexer,col_indexer] = value instead\n",
      "\n",
      "See the caveats in the documentation: https://pandas.pydata.org/pandas-docs/stable/user_guide/indexing.html#returning-a-view-versus-a-copy\n",
      "  import sys\n",
      "/home/matteus-paula/.local/lib/python3.7/site-packages/pandas/core/frame.py:3997: SettingWithCopyWarning: \n",
      "A value is trying to be set on a copy of a slice from a DataFrame\n",
      "\n",
      "See the caveats in the documentation: https://pandas.pydata.org/pandas-docs/stable/user_guide/indexing.html#returning-a-view-versus-a-copy\n",
      "  errors=errors,\n"
     ]
    },
    {
     "data": {
      "text/html": [
       "<div>\n",
       "<style scoped>\n",
       "    .dataframe tbody tr th:only-of-type {\n",
       "        vertical-align: middle;\n",
       "    }\n",
       "\n",
       "    .dataframe tbody tr th {\n",
       "        vertical-align: top;\n",
       "    }\n",
       "\n",
       "    .dataframe thead th {\n",
       "        text-align: right;\n",
       "    }\n",
       "</style>\n",
       "<table border=\"1\" class=\"dataframe\">\n",
       "  <thead>\n",
       "    <tr style=\"text-align: right;\">\n",
       "      <th></th>\n",
       "      <th>UF</th>\n",
       "      <th>COD_UF</th>\n",
       "      <th>COD_MUN</th>\n",
       "      <th>NM_MUNICIPIO</th>\n",
       "      <th>NUM_POPULACAO</th>\n",
       "      <th>COD_MUNICIPIO</th>\n",
       "    </tr>\n",
       "  </thead>\n",
       "  <tbody>\n",
       "    <tr>\n",
       "      <th>2</th>\n",
       "      <td>RO</td>\n",
       "      <td>11</td>\n",
       "      <td>00015</td>\n",
       "      <td>Alta Floresta D'Oeste</td>\n",
       "      <td>25437</td>\n",
       "      <td>1100015</td>\n",
       "    </tr>\n",
       "    <tr>\n",
       "      <th>3</th>\n",
       "      <td>RO</td>\n",
       "      <td>11</td>\n",
       "      <td>00023</td>\n",
       "      <td>Ariquemes</td>\n",
       "      <td>107345</td>\n",
       "      <td>1100023</td>\n",
       "    </tr>\n",
       "    <tr>\n",
       "      <th>4</th>\n",
       "      <td>RO</td>\n",
       "      <td>11</td>\n",
       "      <td>00031</td>\n",
       "      <td>Cabixi</td>\n",
       "      <td>6224</td>\n",
       "      <td>1100031</td>\n",
       "    </tr>\n",
       "    <tr>\n",
       "      <th>5</th>\n",
       "      <td>RO</td>\n",
       "      <td>11</td>\n",
       "      <td>00049</td>\n",
       "      <td>Cacoal</td>\n",
       "      <td>88507</td>\n",
       "      <td>1100049</td>\n",
       "    </tr>\n",
       "    <tr>\n",
       "      <th>6</th>\n",
       "      <td>RO</td>\n",
       "      <td>11</td>\n",
       "      <td>00056</td>\n",
       "      <td>Cerejeiras</td>\n",
       "      <td>17934</td>\n",
       "      <td>1100056</td>\n",
       "    </tr>\n",
       "  </tbody>\n",
       "</table>\n",
       "</div>"
      ],
      "text/plain": [
       "   UF COD_UF COD_MUN           NM_MUNICIPIO NUM_POPULACAO COD_MUNICIPIO\n",
       "2  RO     11   00015  Alta Floresta D'Oeste         25437       1100015\n",
       "3  RO     11   00023              Ariquemes        107345       1100023\n",
       "4  RO     11   00031                 Cabixi          6224       1100031\n",
       "5  RO     11   00049                 Cacoal         88507       1100049\n",
       "6  RO     11   00056             Cerejeiras         17934       1100056"
      ]
     },
     "execution_count": 16,
     "metadata": {},
     "output_type": "execute_result"
    }
   ],
   "source": [
    "municipios_est_pop_df = transform_mun_pop(municipios_est_pop)\n",
    "municipios_est_pop_df.head()"
   ]
  },
  {
   "cell_type": "markdown",
   "metadata": {},
   "source": [
    "- #### Transformando o COD_MUNICIPIO em integer para depois fazer ligação com tabela de escolas que já é numerico"
   ]
  },
  {
   "cell_type": "code",
   "execution_count": 17,
   "metadata": {},
   "outputs": [
    {
     "name": "stderr",
     "output_type": "stream",
     "text": [
      "/home/matteus-paula/.local/lib/python3.7/site-packages/ipykernel_launcher.py:1: SettingWithCopyWarning: \n",
      "A value is trying to be set on a copy of a slice from a DataFrame.\n",
      "Try using .loc[row_indexer,col_indexer] = value instead\n",
      "\n",
      "See the caveats in the documentation: https://pandas.pydata.org/pandas-docs/stable/user_guide/indexing.html#returning-a-view-versus-a-copy\n",
      "  \"\"\"Entry point for launching an IPython kernel.\n"
     ]
    }
   ],
   "source": [
    "municipios_est_pop_df['COD_MUNICIPIO'] = municipios_est_pop_df['COD_MUNICIPIO'].astype(int)"
   ]
  },
  {
   "cell_type": "markdown",
   "metadata": {},
   "source": [
    "<br>"
   ]
  },
  {
   "cell_type": "markdown",
   "metadata": {},
   "source": [
    "- #### Transformando o NUM_POPULACAO em string para corrigir numeros que vieram com parenteses e espaços ex: 654564 (1)"
   ]
  },
  {
   "cell_type": "code",
   "execution_count": 18,
   "metadata": {},
   "outputs": [
    {
     "name": "stderr",
     "output_type": "stream",
     "text": [
      "/home/matteus-paula/.local/lib/python3.7/site-packages/ipykernel_launcher.py:1: SettingWithCopyWarning: \n",
      "A value is trying to be set on a copy of a slice from a DataFrame.\n",
      "Try using .loc[row_indexer,col_indexer] = value instead\n",
      "\n",
      "See the caveats in the documentation: https://pandas.pydata.org/pandas-docs/stable/user_guide/indexing.html#returning-a-view-versus-a-copy\n",
      "  \"\"\"Entry point for launching an IPython kernel.\n",
      "/home/matteus-paula/.local/lib/python3.7/site-packages/ipykernel_launcher.py:3: SettingWithCopyWarning: \n",
      "A value is trying to be set on a copy of a slice from a DataFrame.\n",
      "Try using .loc[row_indexer,col_indexer] = value instead\n",
      "\n",
      "See the caveats in the documentation: https://pandas.pydata.org/pandas-docs/stable/user_guide/indexing.html#returning-a-view-versus-a-copy\n",
      "  This is separate from the ipykernel package so we can avoid doing imports until\n"
     ]
    },
    {
     "data": {
      "text/html": [
       "<div>\n",
       "<style scoped>\n",
       "    .dataframe tbody tr th:only-of-type {\n",
       "        vertical-align: middle;\n",
       "    }\n",
       "\n",
       "    .dataframe tbody tr th {\n",
       "        vertical-align: top;\n",
       "    }\n",
       "\n",
       "    .dataframe thead th {\n",
       "        text-align: right;\n",
       "    }\n",
       "</style>\n",
       "<table border=\"1\" class=\"dataframe\">\n",
       "  <thead>\n",
       "    <tr style=\"text-align: right;\">\n",
       "      <th></th>\n",
       "      <th>UF</th>\n",
       "      <th>COD_UF</th>\n",
       "      <th>COD_MUN</th>\n",
       "      <th>NM_MUNICIPIO</th>\n",
       "      <th>NUM_POPULACAO</th>\n",
       "      <th>COD_MUNICIPIO</th>\n",
       "    </tr>\n",
       "  </thead>\n",
       "  <tbody>\n",
       "    <tr>\n",
       "      <th>2</th>\n",
       "      <td>RO</td>\n",
       "      <td>11</td>\n",
       "      <td>00015</td>\n",
       "      <td>Alta Floresta D'Oeste</td>\n",
       "      <td>25437</td>\n",
       "      <td>1100015</td>\n",
       "    </tr>\n",
       "    <tr>\n",
       "      <th>3</th>\n",
       "      <td>RO</td>\n",
       "      <td>11</td>\n",
       "      <td>00023</td>\n",
       "      <td>Ariquemes</td>\n",
       "      <td>107345</td>\n",
       "      <td>1100023</td>\n",
       "    </tr>\n",
       "    <tr>\n",
       "      <th>4</th>\n",
       "      <td>RO</td>\n",
       "      <td>11</td>\n",
       "      <td>00031</td>\n",
       "      <td>Cabixi</td>\n",
       "      <td>6224</td>\n",
       "      <td>1100031</td>\n",
       "    </tr>\n",
       "    <tr>\n",
       "      <th>5</th>\n",
       "      <td>RO</td>\n",
       "      <td>11</td>\n",
       "      <td>00049</td>\n",
       "      <td>Cacoal</td>\n",
       "      <td>88507</td>\n",
       "      <td>1100049</td>\n",
       "    </tr>\n",
       "    <tr>\n",
       "      <th>6</th>\n",
       "      <td>RO</td>\n",
       "      <td>11</td>\n",
       "      <td>00056</td>\n",
       "      <td>Cerejeiras</td>\n",
       "      <td>17934</td>\n",
       "      <td>1100056</td>\n",
       "    </tr>\n",
       "  </tbody>\n",
       "</table>\n",
       "</div>"
      ],
      "text/plain": [
       "   UF COD_UF COD_MUN           NM_MUNICIPIO  NUM_POPULACAO  COD_MUNICIPIO\n",
       "2  RO     11   00015  Alta Floresta D'Oeste          25437        1100015\n",
       "3  RO     11   00023              Ariquemes         107345        1100023\n",
       "4  RO     11   00031                 Cabixi           6224        1100031\n",
       "5  RO     11   00049                 Cacoal          88507        1100049\n",
       "6  RO     11   00056             Cerejeiras          17934        1100056"
      ]
     },
     "execution_count": 18,
     "metadata": {},
     "output_type": "execute_result"
    }
   ],
   "source": [
    "municipios_est_pop_df['NUM_POPULACAO'] = municipios_est_pop_df['NUM_POPULACAO'].astype(str)\n",
    "municipios_est_pop_df['NUM_POPULACAO'] = municipios_est_pop_df['NUM_POPULACAO'].str.\\\n",
    "    replace(r'\\.|[^\\d]*\\(\\d+\\)$', '').astype(int)\n",
    "municipios_est_pop_df.head()"
   ]
  },
  {
   "cell_type": "code",
   "execution_count": 20,
   "metadata": {},
   "outputs": [
    {
     "name": "stdout",
     "output_type": "stream",
     "text": [
      "<class 'pandas.core.frame.DataFrame'>\n",
      "Int64Index: 5570 entries, 2 to 5571\n",
      "Data columns (total 6 columns):\n",
      " #   Column         Non-Null Count  Dtype \n",
      "---  ------         --------------  ----- \n",
      " 0   UF             5570 non-null   object\n",
      " 1   COD_UF         5570 non-null   object\n",
      " 2   COD_MUN        5570 non-null   object\n",
      " 3   NM_MUNICIPIO   5570 non-null   object\n",
      " 4   NUM_POPULACAO  5570 non-null   int64 \n",
      " 5   COD_MUNICIPIO  5570 non-null   int64 \n",
      "dtypes: int64(2), object(4)\n",
      "memory usage: 304.6+ KB\n"
     ]
    }
   ],
   "source": [
    "municipios_est_pop_df.info()"
   ]
  },
  {
   "cell_type": "code",
   "execution_count": 21,
   "metadata": {},
   "outputs": [
    {
     "data": {
      "text/plain": [
       "UF               False\n",
       "COD_UF           False\n",
       "COD_MUN          False\n",
       "NM_MUNICIPIO     False\n",
       "NUM_POPULACAO    False\n",
       "COD_MUNICIPIO    False\n",
       "dtype: bool"
      ]
     },
     "execution_count": 21,
     "metadata": {},
     "output_type": "execute_result"
    }
   ],
   "source": [
    "municipios_est_pop_df.isnull().any()"
   ]
  },
  {
   "cell_type": "markdown",
   "metadata": {},
   "source": [
    "<br>"
   ]
  },
  {
   "cell_type": "code",
   "execution_count": 22,
   "metadata": {},
   "outputs": [
    {
     "data": {
      "text/html": [
       "<div>\n",
       "<style scoped>\n",
       "    .dataframe tbody tr th:only-of-type {\n",
       "        vertical-align: middle;\n",
       "    }\n",
       "\n",
       "    .dataframe tbody tr th {\n",
       "        vertical-align: top;\n",
       "    }\n",
       "\n",
       "    .dataframe thead th {\n",
       "        text-align: right;\n",
       "    }\n",
       "</style>\n",
       "<table border=\"1\" class=\"dataframe\">\n",
       "  <thead>\n",
       "    <tr style=\"text-align: right;\">\n",
       "      <th></th>\n",
       "      <th>UF</th>\n",
       "      <th>COD_UF</th>\n",
       "      <th>COD_MUN</th>\n",
       "      <th>NM_MUNICIPIO</th>\n",
       "      <th>NUM_POPULACAO</th>\n",
       "      <th>COD_MUNICIPIO</th>\n",
       "      <th>CO_MUNICIP</th>\n",
       "      <th>CO_MUNICDV</th>\n",
       "      <th>DS_NOME</th>\n",
       "      <th>SIZE_OF_CO_MUNICIP</th>\n",
       "      <th>SIZE_OF_CO_MUNICDV</th>\n",
       "    </tr>\n",
       "  </thead>\n",
       "  <tbody>\n",
       "    <tr>\n",
       "      <th>0</th>\n",
       "      <td>RO</td>\n",
       "      <td>11</td>\n",
       "      <td>00015</td>\n",
       "      <td>Alta Floresta D'Oeste</td>\n",
       "      <td>25437</td>\n",
       "      <td>1100015</td>\n",
       "      <td>110001</td>\n",
       "      <td>1100015</td>\n",
       "      <td>Alta Floresta D'Oeste</td>\n",
       "      <td>6</td>\n",
       "      <td>7</td>\n",
       "    </tr>\n",
       "    <tr>\n",
       "      <th>1</th>\n",
       "      <td>RO</td>\n",
       "      <td>11</td>\n",
       "      <td>00023</td>\n",
       "      <td>Ariquemes</td>\n",
       "      <td>107345</td>\n",
       "      <td>1100023</td>\n",
       "      <td>110002</td>\n",
       "      <td>1100023</td>\n",
       "      <td>Ariquemes</td>\n",
       "      <td>6</td>\n",
       "      <td>7</td>\n",
       "    </tr>\n",
       "    <tr>\n",
       "      <th>2</th>\n",
       "      <td>RO</td>\n",
       "      <td>11</td>\n",
       "      <td>00031</td>\n",
       "      <td>Cabixi</td>\n",
       "      <td>6224</td>\n",
       "      <td>1100031</td>\n",
       "      <td>110003</td>\n",
       "      <td>1100031</td>\n",
       "      <td>Cabixi</td>\n",
       "      <td>6</td>\n",
       "      <td>7</td>\n",
       "    </tr>\n",
       "    <tr>\n",
       "      <th>3</th>\n",
       "      <td>RO</td>\n",
       "      <td>11</td>\n",
       "      <td>00049</td>\n",
       "      <td>Cacoal</td>\n",
       "      <td>88507</td>\n",
       "      <td>1100049</td>\n",
       "      <td>110004</td>\n",
       "      <td>1100049</td>\n",
       "      <td>Cacoal</td>\n",
       "      <td>6</td>\n",
       "      <td>7</td>\n",
       "    </tr>\n",
       "    <tr>\n",
       "      <th>4</th>\n",
       "      <td>RO</td>\n",
       "      <td>11</td>\n",
       "      <td>00056</td>\n",
       "      <td>Cerejeiras</td>\n",
       "      <td>17934</td>\n",
       "      <td>1100056</td>\n",
       "      <td>110005</td>\n",
       "      <td>1100056</td>\n",
       "      <td>Cerejeiras</td>\n",
       "      <td>6</td>\n",
       "      <td>7</td>\n",
       "    </tr>\n",
       "  </tbody>\n",
       "</table>\n",
       "</div>"
      ],
      "text/plain": [
       "   UF COD_UF COD_MUN           NM_MUNICIPIO  NUM_POPULACAO  COD_MUNICIPIO  \\\n",
       "0  RO     11   00015  Alta Floresta D'Oeste          25437        1100015   \n",
       "1  RO     11   00023              Ariquemes         107345        1100023   \n",
       "2  RO     11   00031                 Cabixi           6224        1100031   \n",
       "3  RO     11   00049                 Cacoal          88507        1100049   \n",
       "4  RO     11   00056             Cerejeiras          17934        1100056   \n",
       "\n",
       "   CO_MUNICIP  CO_MUNICDV                DS_NOME  SIZE_OF_CO_MUNICIP  \\\n",
       "0      110001     1100015  Alta Floresta D'Oeste                   6   \n",
       "1      110002     1100023              Ariquemes                   6   \n",
       "2      110003     1100031                 Cabixi                   6   \n",
       "3      110004     1100049                 Cacoal                   6   \n",
       "4      110005     1100056             Cerejeiras                   6   \n",
       "\n",
       "   SIZE_OF_CO_MUNICDV  \n",
       "0                   7  \n",
       "1                   7  \n",
       "2                   7  \n",
       "3                   7  \n",
       "4                   7  "
      ]
     },
     "execution_count": 22,
     "metadata": {},
     "output_type": "execute_result"
    }
   ],
   "source": [
    "municipios_pop = pd.merge(municipios_est_pop_df, municipios_final, left_on='COD_MUNICIPIO', right_on='CO_MUNICDV', how='inner')\n",
    "municipios_pop.head()"
   ]
  },
  {
   "cell_type": "code",
   "execution_count": 23,
   "metadata": {},
   "outputs": [],
   "source": [
    "municipios_pop['CO_MUNICIPIO_IBGE'] = municipios_pop['CO_MUNICIP']\n",
    "municipios_pop['CO_MUNICIPIO'] = municipios_pop['COD_MUNICIPIO']"
   ]
  },
  {
   "cell_type": "code",
   "execution_count": 24,
   "metadata": {},
   "outputs": [
    {
     "data": {
      "text/html": [
       "<div>\n",
       "<style scoped>\n",
       "    .dataframe tbody tr th:only-of-type {\n",
       "        vertical-align: middle;\n",
       "    }\n",
       "\n",
       "    .dataframe tbody tr th {\n",
       "        vertical-align: top;\n",
       "    }\n",
       "\n",
       "    .dataframe thead th {\n",
       "        text-align: right;\n",
       "    }\n",
       "</style>\n",
       "<table border=\"1\" class=\"dataframe\">\n",
       "  <thead>\n",
       "    <tr style=\"text-align: right;\">\n",
       "      <th></th>\n",
       "      <th>UF</th>\n",
       "      <th>NM_MUNICIPIO</th>\n",
       "      <th>NUM_POPULACAO</th>\n",
       "      <th>CO_MUNICIPIO_IBGE</th>\n",
       "      <th>CO_MUNICIPIO</th>\n",
       "    </tr>\n",
       "  </thead>\n",
       "  <tbody>\n",
       "    <tr>\n",
       "      <th>0</th>\n",
       "      <td>RO</td>\n",
       "      <td>Alta Floresta D'Oeste</td>\n",
       "      <td>25437</td>\n",
       "      <td>110001</td>\n",
       "      <td>1100015</td>\n",
       "    </tr>\n",
       "    <tr>\n",
       "      <th>1</th>\n",
       "      <td>RO</td>\n",
       "      <td>Ariquemes</td>\n",
       "      <td>107345</td>\n",
       "      <td>110002</td>\n",
       "      <td>1100023</td>\n",
       "    </tr>\n",
       "    <tr>\n",
       "      <th>2</th>\n",
       "      <td>RO</td>\n",
       "      <td>Cabixi</td>\n",
       "      <td>6224</td>\n",
       "      <td>110003</td>\n",
       "      <td>1100031</td>\n",
       "    </tr>\n",
       "    <tr>\n",
       "      <th>3</th>\n",
       "      <td>RO</td>\n",
       "      <td>Cacoal</td>\n",
       "      <td>88507</td>\n",
       "      <td>110004</td>\n",
       "      <td>1100049</td>\n",
       "    </tr>\n",
       "    <tr>\n",
       "      <th>4</th>\n",
       "      <td>RO</td>\n",
       "      <td>Cerejeiras</td>\n",
       "      <td>17934</td>\n",
       "      <td>110005</td>\n",
       "      <td>1100056</td>\n",
       "    </tr>\n",
       "  </tbody>\n",
       "</table>\n",
       "</div>"
      ],
      "text/plain": [
       "   UF           NM_MUNICIPIO  NUM_POPULACAO  CO_MUNICIPIO_IBGE  CO_MUNICIPIO\n",
       "0  RO  Alta Floresta D'Oeste          25437             110001       1100015\n",
       "1  RO              Ariquemes         107345             110002       1100023\n",
       "2  RO                 Cabixi           6224             110003       1100031\n",
       "3  RO                 Cacoal          88507             110004       1100049\n",
       "4  RO             Cerejeiras          17934             110005       1100056"
      ]
     },
     "execution_count": 24,
     "metadata": {},
     "output_type": "execute_result"
    }
   ],
   "source": [
    "municipios_final = municipios_pop[['UF', 'NM_MUNICIPIO', 'NUM_POPULACAO', 'CO_MUNICIPIO_IBGE', 'CO_MUNICIPIO']]\n",
    "municipios_final.head()"
   ]
  },
  {
   "cell_type": "code",
   "execution_count": 26,
   "metadata": {},
   "outputs": [],
   "source": [
    "municipios_final.to_csv(f'{diretorio_datasets}/municipio.csv', sep=';', encoding='utf-8', index=False)"
   ]
  }
 ],
 "metadata": {
  "kernelspec": {
   "display_name": "Python 3",
   "language": "python",
   "name": "python3"
  },
  "language_info": {
   "codemirror_mode": {
    "name": "ipython",
    "version": 3
   },
   "file_extension": ".py",
   "mimetype": "text/x-python",
   "name": "python",
   "nbconvert_exporter": "python",
   "pygments_lexer": "ipython3",
   "version": "3.7.5"
  }
 },
 "nbformat": 4,
 "nbformat_minor": 2
}
