{
 "cells": [
  {
   "cell_type": "code",
   "execution_count": 1,
   "metadata": {},
   "outputs": [],
   "source": [
    "diretorio_datasets = \"/home/matteus-paula/Documents/dados/dados_tcc/remun_docentes\"\n",
    "#diretorio_datasets = \"/home/caioabreu/workspace/tcc/datasets/investimento\""
   ]
  },
  {
   "cell_type": "code",
   "execution_count": 2,
   "metadata": {},
   "outputs": [],
   "source": [
    "import pandas as pd\n",
    "import matplotlib.pyplot as plt"
   ]
  },
  {
   "cell_type": "markdown",
   "metadata": {},
   "source": [
    "> ## Dados Remuneração Docentes Muncipio:<br>\n",
    "- https://www.fnde.gov.br/index.php/fnde_sistemas/siope/relatorios/arquivos-dados-analiticos"
   ]
  },
  {
   "cell_type": "code",
   "execution_count": 36,
   "metadata": {},
   "outputs": [],
   "source": [
    "def read_docente(uf):\n",
    "    df1_remun_docentes = pd.read_csv(f'{diretorio_datasets}/REMUNERACAO_PROFISSIONAIS_EDUCACAO_{uf}_2017.CSV', \n",
    "                                     delimiter=\";\", \n",
    "                                     encoding = \"ISO-8859-1\",\n",
    "                                     usecols=[\"CO_MUNICIPIO\", \n",
    "                                              \"NO_PROFISSIONAL\",\n",
    "                                              \"LOCAL_EXERCICIO\",\n",
    "                                              \"CO_UF\", \n",
    "                                              \"VL_TOTAL\", \n",
    "                                              \"CATEG_PROFISSIONAL\", \n",
    "                                              \"TP_CATEGORIA\"])\n",
    "    list_categ = ['Docente habilitado em curso de pedagogia', \n",
    "                  'Docente habilitado em curso de licenciatura plena',\n",
    "                  'Docente habilitado em curso de nível médio',\n",
    "                  'Profissionais em efetivo exercício no âmbito da educação infantil e ensino fundamental.']\n",
    "\n",
    "    if df1_remun_docentes.empty:\n",
    "         return df1_remun_docentes\n",
    "    else:\n",
    "        df2_remun_docentes = df1_remun_docentes[df1_remun_docentes['CATEG_PROFISSIONAL'].isin(list_categ)\n",
    "                                                 & (df1_remun_docentes['TP_CATEGORIA'] == 'PROFISSIONAIS DO MAGISTÉRIO')]\n",
    "        df2_remun_docentes['VL_TOTAL'] = df2_remun_docentes['VL_TOTAL'].str.replace(',','.').astype('float')\n",
    "        df4_remun_docentes = df2_remun_docentes[['CO_MUNICIPIO',\n",
    "                                                 'NO_PROFISSIONAL',\n",
    "                                                 'LOCAL_EXERCICIO',\n",
    "                                                 'CO_UF', \n",
    "                                                 'VL_TOTAL']] \\\n",
    "                                               .groupby(['CO_MUNICIPIO',\n",
    "                                                 'NO_PROFISSIONAL',\n",
    "                                                 'LOCAL_EXERCICIO',        \n",
    "                                                 'CO_UF',], as_index=False) \\\n",
    "                                               .agg(lambda x: round(x.sum(), 2))\n",
    "        return df4_remun_docentes"
   ]
  },
  {
   "cell_type": "markdown",
   "metadata": {},
   "source": [
    "- Soma do salario anual "
   ]
  },
  {
   "cell_type": "code",
   "execution_count": 37,
   "metadata": {},
   "outputs": [],
   "source": [
    "def media_rem_docente_uf(df):\n",
    "    if df.empty:\n",
    "        return df\n",
    "    else:\n",
    "        df1 = df[['CO_MUNICIPIO',\n",
    "                  'CO_UF', \n",
    "                  'VL_TOTAL']] \\\n",
    "                .groupby(['CO_MUNICIPIO',\n",
    "                          'CO_UF',], as_index=False) \\\n",
    "                .agg(lambda x: round(x.mean(),2))\n",
    "        return df1"
   ]
  },
  {
   "cell_type": "code",
   "execution_count": 38,
   "metadata": {},
   "outputs": [
    {
     "name": "stderr",
     "output_type": "stream",
     "text": [
      "/home/matteus-paula/.local/lib/python3.7/site-packages/ipykernel_launcher.py:27: SettingWithCopyWarning: \n",
      "A value is trying to be set on a copy of a slice from a DataFrame.\n",
      "Try using .loc[row_indexer,col_indexer] = value instead\n",
      "\n",
      "See the caveats in the documentation: https://pandas.pydata.org/pandas-docs/stable/user_guide/indexing.html#returning-a-view-versus-a-copy\n"
     ]
    },
    {
     "name": "stdout",
     "output_type": "stream",
     "text": [
      "AC - 22\n",
      "AL - 96\n",
      "AP - 16\n",
      "AM - 61\n",
      "BA - 410\n",
      "CE - 176\n",
      "DF\n",
      "ES - 78\n",
      "GO - 217\n",
      "MA - 204\n",
      "MT - 140\n",
      "MS - 78\n",
      "MG - 844\n",
      "PA - 133\n",
      "PB - 222\n",
      "PR - 391\n",
      "PE - 180\n",
      "PI - 217\n",
      "RJ - 91\n",
      "RN - 158\n",
      "RS - 494\n",
      "RO - 52\n",
      "RR - 15\n",
      "SC - 290\n",
      "SP - 639\n",
      "SE - 74\n",
      "TO - 135\n",
      "5433\n"
     ]
    }
   ],
   "source": [
    "ufs = ['AC',\n",
    "'AL',\n",
    "'AP',\n",
    "'AM',\n",
    "'BA',\n",
    "'CE',\n",
    "'DF',\n",
    "'ES',\n",
    "'GO',\n",
    "'MA',\n",
    "'MT',\n",
    "'MS',\n",
    "'MG',\n",
    "'PA',\n",
    "'PB',\n",
    "'PR',\n",
    "'PE',\n",
    "'PI',\n",
    "'RJ',\n",
    "'RN',\n",
    "'RS',\n",
    "'RO',\n",
    "'RR',\n",
    "'SC',\n",
    "'SP',\n",
    "'SE',\n",
    "'TO']\n",
    "\n",
    "COLUNAS = ['CO_MUNICIPIO',\n",
    "           'CO_UF', \n",
    "           'VL_TOTAL']\n",
    "df_rem_docentes = pd.DataFrame(columns=COLUNAS)\n",
    "for uf in ufs:\n",
    "    df = media_rem_docente_uf(read_docente(uf))\n",
    "    if df.empty:\n",
    "        print(uf)\n",
    "    else:\n",
    "        df_rem_docentes = df_rem_docentes.append(df)\n",
    "        print(uf + ' - ' + str(df['CO_UF'].count()))\n",
    "\n",
    "print(df_rem_docentes['CO_UF'].count())"
   ]
  },
  {
   "cell_type": "markdown",
   "metadata": {},
   "source": [
    "IQR = 3 quartil - 1 quartil <br>\n",
    "OUTLIER_BAIXO = 1 quartil - 1.5 IQR <br>\n",
    "OUTLIER_CIMA = 3 quartil + 1.5 IQR"
   ]
  },
  {
   "cell_type": "code",
   "execution_count": 39,
   "metadata": {},
   "outputs": [],
   "source": [
    "iqr = df_rem_docentes.VL_TOTAL.quantile(0.75) - df_rem_docentes.VL_TOTAL.quantile(0.25)"
   ]
  },
  {
   "cell_type": "code",
   "execution_count": 40,
   "metadata": {},
   "outputs": [],
   "source": [
    "outlier_down = round(df_rem_docentes.VL_TOTAL.quantile(0.25) - (1.5 * iqr), 2)\n",
    "outlier_up = round(df_rem_docentes.VL_TOTAL.quantile(0.75) + (1.5 * iqr), 2)"
   ]
  },
  {
   "cell_type": "code",
   "execution_count": 41,
   "metadata": {},
   "outputs": [
    {
     "name": "stdout",
     "output_type": "stream",
     "text": [
      "51295.17\n",
      "-3572.59\n"
     ]
    }
   ],
   "source": [
    "print(outlier_up)\n",
    "print(outlier_down)"
   ]
  },
  {
   "cell_type": "code",
   "execution_count": 42,
   "metadata": {},
   "outputs": [
    {
     "data": {
      "text/html": [
       "<div>\n",
       "<style scoped>\n",
       "    .dataframe tbody tr th:only-of-type {\n",
       "        vertical-align: middle;\n",
       "    }\n",
       "\n",
       "    .dataframe tbody tr th {\n",
       "        vertical-align: top;\n",
       "    }\n",
       "\n",
       "    .dataframe thead th {\n",
       "        text-align: right;\n",
       "    }\n",
       "</style>\n",
       "<table border=\"1\" class=\"dataframe\">\n",
       "  <thead>\n",
       "    <tr style=\"text-align: right;\">\n",
       "      <th></th>\n",
       "      <th>CO_MUNICIPIO</th>\n",
       "      <th>CO_UF</th>\n",
       "      <th>VL_TOTAL</th>\n",
       "    </tr>\n",
       "  </thead>\n",
       "  <tbody>\n",
       "    <tr>\n",
       "      <th>0</th>\n",
       "      <td>120001</td>\n",
       "      <td>12</td>\n",
       "      <td>30339.05</td>\n",
       "    </tr>\n",
       "    <tr>\n",
       "      <th>1</th>\n",
       "      <td>120005</td>\n",
       "      <td>12</td>\n",
       "      <td>12965.51</td>\n",
       "    </tr>\n",
       "    <tr>\n",
       "      <th>2</th>\n",
       "      <td>120010</td>\n",
       "      <td>12</td>\n",
       "      <td>15376.11</td>\n",
       "    </tr>\n",
       "    <tr>\n",
       "      <th>3</th>\n",
       "      <td>120013</td>\n",
       "      <td>12</td>\n",
       "      <td>19510.97</td>\n",
       "    </tr>\n",
       "    <tr>\n",
       "      <th>4</th>\n",
       "      <td>120017</td>\n",
       "      <td>12</td>\n",
       "      <td>29418.67</td>\n",
       "    </tr>\n",
       "  </tbody>\n",
       "</table>\n",
       "</div>"
      ],
      "text/plain": [
       "  CO_MUNICIPIO CO_UF  VL_TOTAL\n",
       "0       120001    12  30339.05\n",
       "1       120005    12  12965.51\n",
       "2       120010    12  15376.11\n",
       "3       120013    12  19510.97\n",
       "4       120017    12  29418.67"
      ]
     },
     "execution_count": 42,
     "metadata": {},
     "output_type": "execute_result"
    }
   ],
   "source": [
    "df_rem_docentes.head()"
   ]
  },
  {
   "cell_type": "code",
   "execution_count": 43,
   "metadata": {},
   "outputs": [
    {
     "data": {
      "text/plain": [
       "215"
      ]
     },
     "execution_count": 43,
     "metadata": {},
     "output_type": "execute_result"
    }
   ],
   "source": [
    "df_rem_docentes_expurgo = df_rem_docentes[(df_rem_docentes.VL_TOTAL <= outlier_down) \\\n",
    "                                            | (df_rem_docentes.VL_TOTAL >= outlier_up)]\n",
    "df_rem_docentes_expurgo['CO_UF'].count()"
   ]
  },
  {
   "cell_type": "code",
   "execution_count": 44,
   "metadata": {},
   "outputs": [
    {
     "data": {
      "text/plain": [
       "5218"
      ]
     },
     "execution_count": 44,
     "metadata": {},
     "output_type": "execute_result"
    }
   ],
   "source": [
    "df_rem_docentes_normalizado = df_rem_docentes[(df_rem_docentes.VL_TOTAL > outlier_down) \\\n",
    "                                            & (df_rem_docentes.VL_TOTAL < outlier_up)]\n",
    "df_rem_docentes_normalizado['CO_UF'].count()"
   ]
  },
  {
   "cell_type": "code",
   "execution_count": 45,
   "metadata": {},
   "outputs": [
    {
     "name": "stderr",
     "output_type": "stream",
     "text": [
      "/home/matteus-paula/.local/lib/python3.7/site-packages/ipykernel_launcher.py:1: SettingWithCopyWarning: \n",
      "A value is trying to be set on a copy of a slice from a DataFrame.\n",
      "Try using .loc[row_indexer,col_indexer] = value instead\n",
      "\n",
      "See the caveats in the documentation: https://pandas.pydata.org/pandas-docs/stable/user_guide/indexing.html#returning-a-view-versus-a-copy\n",
      "  \"\"\"Entry point for launching an IPython kernel.\n"
     ]
    }
   ],
   "source": [
    "df_rem_docentes_normalizado['CO_MUNICIPIO_IBGE'] = df_rem_docentes_normalizado['CO_MUNICIPIO']\n",
    "df_rem_docentes_normalizado = df_rem_docentes_normalizado[['CO_MUNICIPIO_IBGE', 'VL_TOTAL']]"
   ]
  },
  {
   "cell_type": "code",
   "execution_count": 46,
   "metadata": {},
   "outputs": [],
   "source": [
    "df_rem_docentes_expurgo.to_csv(f'{diretorio_datasets}/expurgo_remuneracao_media_docentes.csv', sep=';', encoding='utf-8', index=False)\n",
    "df_rem_docentes_normalizado.to_csv(f'{diretorio_datasets}/remuneracao_media_docentes.csv', sep=';', encoding='utf-8', index=False)"
   ]
  }
 ],
 "metadata": {
  "kernelspec": {
   "display_name": "Python 3",
   "language": "python",
   "name": "python3"
  },
  "language_info": {
   "codemirror_mode": {
    "name": "ipython",
    "version": 3
   },
   "file_extension": ".py",
   "mimetype": "text/x-python",
   "name": "python",
   "nbconvert_exporter": "python",
   "pygments_lexer": "ipython3",
   "version": "3.7.5"
  }
 },
 "nbformat": 4,
 "nbformat_minor": 4
}
