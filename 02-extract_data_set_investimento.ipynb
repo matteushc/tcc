{
 "cells": [
  {
   "cell_type": "code",
   "execution_count": 1,
   "metadata": {},
   "outputs": [],
   "source": [
    "from ftplib import FTP\n",
    "import zipfile\n",
    "import os\n",
    "import shutil"
   ]
  },
  {
   "cell_type": "code",
   "execution_count": 2,
   "metadata": {},
   "outputs": [],
   "source": [
    "def createDir(path):\n",
    "    try:\n",
    "        # Create target Directory\n",
    "        os.mkdir(path)\n",
    "        print(\"Directory \" , path,  \" Created \") \n",
    "    except FileExistsError:\n",
    "        print(\"Directory \" , path,  \" already exists\") "
   ]
  },
  {
   "cell_type": "code",
   "execution_count": 3,
   "metadata": {},
   "outputs": [],
   "source": [
    "def connect(url, dir):\n",
    "    try:\n",
    "        ftp = FTP(url)\n",
    "        ftp.login() \n",
    "        ftp.cwd(dir)\n",
    "        return ftp\n",
    "    except Exception:\n",
    "        logging.critical('Não foi possivel conectar ao servidor FTP')"
   ]
  },
  {
   "cell_type": "code",
   "execution_count": 4,
   "metadata": {},
   "outputs": [],
   "source": [
    "def download(ftp, pathDestino, filename):\n",
    "    createDir(pathDestino)\n",
    "\n",
    "    Dfile = open(pathDestino + filename, 'wb')\n",
    "    try:\n",
    "        ftp.retrbinary('RETR ' + filename, Dfile.write)\n",
    "    except Exception:\n",
    "        print('Erro ao abaixar o arquivo')\n",
    "    print('Download feito com sucesso!')\n",
    "    \n",
    "    Dfile.close()"
   ]
  },
  {
   "cell_type": "code",
   "execution_count": 5,
   "metadata": {},
   "outputs": [],
   "source": [
    "def extract_zip(file_name, target_directory):\n",
    "    createDir(target_directory)\n",
    "    with zipfile.ZipFile(file_name, 'r') as zip_ref:\n",
    "        zip_ref.extractall(target_directory)"
   ]
  },
  {
   "cell_type": "markdown",
   "metadata": {},
   "source": [
    "> ## Dados Investimento Municipio:<br>\n",
    "- Base de Investimentos dos Municipios \n",
    "- SIOPE (Sistema de Informações sobre Orçamentos Públicos em Educação)\n",
    "- https://www.fnde.gov.br/index.php/fnde_sistemas/siope/relatorios/arquivos-dados-analiticos\n",
    "- Download: ftp://ftp2.fnde.gov.br/dadosabertos/SIOPE/DADOS_CONSOLIDADOS_2017.CSV"
   ]
  },
  {
   "cell_type": "code",
   "execution_count": 6,
   "metadata": {},
   "outputs": [],
   "source": [
    "#ftp://ftp2.fnde.gov.br/dadosabertos/SIOPE/DADOS_CONSOLIDADOS_2017.CSV\n",
    "url_ftp = 'ftp2.fnde.gov.br'\n",
    "path_ftp = 'dadosabertos/SIOPE'\n",
    "filename = 'DADOS_CONSOLIDADOS_2017.CSV'\n",
    "path_tmp = '/home/caioabreu/Downloads/'\n",
    "path_destino = '/home/caioabreu/workspace/tcc/datasets/investimento/'"
   ]
  },
  {
   "cell_type": "code",
   "execution_count": 7,
   "metadata": {},
   "outputs": [
    {
     "name": "stdout",
     "output_type": "stream",
     "text": [
      "Directory  /home/caioabreu/Downloads/  already exists\n",
      "Download feito com sucesso!\n",
      "Directory  /home/caioabreu/workspace/tcc/datasets/investimento/  already exists\n"
     ]
    },
    {
     "data": {
      "text/plain": [
       "'/home/caioabreu/workspace/tcc/datasets/investimento/DADOS_CONSOLIDADOS_2017.CSV'"
      ]
     },
     "execution_count": 7,
     "metadata": {},
     "output_type": "execute_result"
    }
   ],
   "source": [
    "ftp = connect(url_ftp, path_ftp)\n",
    "download(ftp, path_tmp, filename)\n",
    "ftp.close()\n",
    "createDir(path_destino)\n",
    "shutil.move(path_tmp + filename, path_destino + filename)"
   ]
  },
  {
   "cell_type": "code",
   "execution_count": null,
   "metadata": {},
   "outputs": [],
   "source": []
  }
 ],
 "metadata": {
  "kernelspec": {
   "display_name": "Python 3",
   "language": "python",
   "name": "python3"
  },
  "language_info": {
   "codemirror_mode": {
    "name": "ipython",
    "version": 3
   },
   "file_extension": ".py",
   "mimetype": "text/x-python",
   "name": "python",
   "nbconvert_exporter": "python",
   "pygments_lexer": "ipython3",
   "version": "3.7.5"
  }
 },
 "nbformat": 4,
 "nbformat_minor": 4
}
