{
 "cells": [
  {
   "cell_type": "code",
   "execution_count": 1,
   "metadata": {},
   "outputs": [],
   "source": [
    "import pandas as pd\n",
    "import matplotlib.pyplot as plt"
   ]
  },
  {
   "cell_type": "code",
   "execution_count": 2,
   "metadata": {},
   "outputs": [],
   "source": [
    "#diretorio_datasets = \"/home/matteus-paula/Documents/dados/dados_tcc/municipio\"\n",
    "diretorio_datasets = \"/home/caioabreu/workspace/tcc/datasets/municipio\"\n",
    "municipios = pd.read_csv(f'{diretorio_datasets}/municipio.csv', delimiter=\";\")"
   ]
  },
  {
   "cell_type": "code",
   "execution_count": 3,
   "metadata": {},
   "outputs": [],
   "source": [
    "#diretorio_datasets = \"/home/matteus-paula/Documents/dados/dados_tcc/investimento\"\n",
    "diretorio_datasets = \"/home/caioabreu/workspace/tcc/datasets/investimento\"\n",
    "investimento = pd.read_csv(f'{diretorio_datasets}/investimento_municipio.csv', delimiter=\";\")"
   ]
  },
  {
   "cell_type": "code",
   "execution_count": 4,
   "metadata": {},
   "outputs": [],
   "source": [
    "#diretorio_datasets = \"/home/matteus-paula/Documents/dados/dados_tcc/ideb\"\n",
    "diretorio_datasets = \"/home/caioabreu/workspace/tcc/datasets/educacao-basica/ideb\"\n",
    "ideb = pd.read_csv(f'{diretorio_datasets}/ideb_final.csv', delimiter=\";\")"
   ]
  },
  {
   "cell_type": "code",
   "execution_count": 5,
   "metadata": {},
   "outputs": [],
   "source": [
    "#diretorio_datasets = \"/home/matteus-paula/Documents/dados/dados_tcc/inep\"\n",
    "diretorio_datasets = \"/home/caioabreu/workspace/tcc/datasets/educacao-basica/inep\"\n",
    "inep_escolas = pd.read_csv(f'{diretorio_datasets}/escolas_set.csv', delimiter=\";\")"
   ]
  },
  {
   "cell_type": "code",
   "execution_count": 6,
   "metadata": {},
   "outputs": [],
   "source": [
    "#diretorio_datasets = \"/home/matteus-paula/Documents/dados/dados_tcc/inep/docentes\"\n",
    "diretorio_datasets = \"/home/caioabreu/workspace/tcc/datasets/educacao-basica/inep/docentes\"\n",
    "escolaridade_docentes = pd.read_csv(f'{diretorio_datasets}/docentes.csv', delimiter=\";\")"
   ]
  },
  {
   "cell_type": "code",
   "execution_count": 7,
   "metadata": {},
   "outputs": [],
   "source": [
    "#diretorio_datasets = \"/home/matteus-paula/Documents/dados/dados_tcc/remun_docentes\"\n",
    "diretorio_datasets = \"/home/caioabreu/workspace/tcc/datasets/investimento\"\n",
    "remun_docentes_media_mun = pd.read_csv(f'{diretorio_datasets}/remuneracao_media_docentes.csv', delimiter=\";\")"
   ]
  },
  {
   "cell_type": "markdown",
   "metadata": {},
   "source": [
    "<br>"
   ]
  },
  {
   "cell_type": "code",
   "execution_count": 8,
   "metadata": {},
   "outputs": [
    {
     "data": {
      "text/html": [
       "<div>\n",
       "<style scoped>\n",
       "    .dataframe tbody tr th:only-of-type {\n",
       "        vertical-align: middle;\n",
       "    }\n",
       "\n",
       "    .dataframe tbody tr th {\n",
       "        vertical-align: top;\n",
       "    }\n",
       "\n",
       "    .dataframe thead th {\n",
       "        text-align: right;\n",
       "    }\n",
       "</style>\n",
       "<table border=\"1\" class=\"dataframe\">\n",
       "  <thead>\n",
       "    <tr style=\"text-align: right;\">\n",
       "      <th></th>\n",
       "      <th>CO_MUNICIPIO</th>\n",
       "      <th>CO_UF</th>\n",
       "      <th>IN_AGUA_EXISTENTE</th>\n",
       "      <th>IN_AGUA_FILTRADA</th>\n",
       "      <th>IN_ESGOTO_EXISTENTE</th>\n",
       "      <th>IN_BIBLIOTECA_SALA_LEITURA</th>\n",
       "      <th>IN_BANHEIRO</th>\n",
       "      <th>IN_REFEITORIO</th>\n",
       "      <th>IN_AUDITORIO</th>\n",
       "      <th>IN_COMPUTADOR</th>\n",
       "      <th>...</th>\n",
       "      <th>TP_ATIVIDADE_COMPLEMENTAR</th>\n",
       "      <th>DS_REGIAO</th>\n",
       "      <th>IN_NECESSIDADE_ESPECIAL</th>\n",
       "      <th>IN_01_FUNDAMENTAL_COMPLETO</th>\n",
       "      <th>IN_02_ENSINO_MEDIO_COMPLETO</th>\n",
       "      <th>IN_03_NIVEL_SUPERIOR_CURSANDO</th>\n",
       "      <th>IN_04_NIVEL_SUPERIOR_COMPLETO</th>\n",
       "      <th>IN_05_POS_GRADUACAO</th>\n",
       "      <th>IN_06_MESTRADO</th>\n",
       "      <th>IN_07_DOUTORADO</th>\n",
       "    </tr>\n",
       "  </thead>\n",
       "  <tbody>\n",
       "    <tr>\n",
       "      <th>0</th>\n",
       "      <td>1100015</td>\n",
       "      <td>11</td>\n",
       "      <td>100.0</td>\n",
       "      <td>100.0</td>\n",
       "      <td>94.12</td>\n",
       "      <td>26.47</td>\n",
       "      <td>85.29</td>\n",
       "      <td>23.53</td>\n",
       "      <td>0.00</td>\n",
       "      <td>52.94</td>\n",
       "      <td>...</td>\n",
       "      <td>2.94</td>\n",
       "      <td>NORTE</td>\n",
       "      <td>2.57</td>\n",
       "      <td>100.0</td>\n",
       "      <td>100.00</td>\n",
       "      <td>0.40</td>\n",
       "      <td>99.60</td>\n",
       "      <td>57.71</td>\n",
       "      <td>8.89</td>\n",
       "      <td>2.37</td>\n",
       "    </tr>\n",
       "    <tr>\n",
       "      <th>1</th>\n",
       "      <td>1100023</td>\n",
       "      <td>11</td>\n",
       "      <td>100.0</td>\n",
       "      <td>100.0</td>\n",
       "      <td>100.00</td>\n",
       "      <td>68.42</td>\n",
       "      <td>100.00</td>\n",
       "      <td>81.58</td>\n",
       "      <td>44.74</td>\n",
       "      <td>100.00</td>\n",
       "      <td>...</td>\n",
       "      <td>47.37</td>\n",
       "      <td>NORTE</td>\n",
       "      <td>1.82</td>\n",
       "      <td>100.0</td>\n",
       "      <td>99.83</td>\n",
       "      <td>0.80</td>\n",
       "      <td>98.58</td>\n",
       "      <td>61.26</td>\n",
       "      <td>12.17</td>\n",
       "      <td>2.16</td>\n",
       "    </tr>\n",
       "    <tr>\n",
       "      <th>2</th>\n",
       "      <td>1100031</td>\n",
       "      <td>11</td>\n",
       "      <td>100.0</td>\n",
       "      <td>100.0</td>\n",
       "      <td>100.00</td>\n",
       "      <td>25.00</td>\n",
       "      <td>75.00</td>\n",
       "      <td>62.50</td>\n",
       "      <td>0.00</td>\n",
       "      <td>100.00</td>\n",
       "      <td>...</td>\n",
       "      <td>12.50</td>\n",
       "      <td>NORTE</td>\n",
       "      <td>0.00</td>\n",
       "      <td>100.0</td>\n",
       "      <td>100.00</td>\n",
       "      <td>0.00</td>\n",
       "      <td>100.00</td>\n",
       "      <td>49.06</td>\n",
       "      <td>0.00</td>\n",
       "      <td>0.00</td>\n",
       "    </tr>\n",
       "    <tr>\n",
       "      <th>3</th>\n",
       "      <td>1100049</td>\n",
       "      <td>11</td>\n",
       "      <td>100.0</td>\n",
       "      <td>100.0</td>\n",
       "      <td>97.96</td>\n",
       "      <td>40.82</td>\n",
       "      <td>97.96</td>\n",
       "      <td>57.14</td>\n",
       "      <td>12.24</td>\n",
       "      <td>97.96</td>\n",
       "      <td>...</td>\n",
       "      <td>26.53</td>\n",
       "      <td>NORTE</td>\n",
       "      <td>0.00</td>\n",
       "      <td>100.0</td>\n",
       "      <td>100.00</td>\n",
       "      <td>2.77</td>\n",
       "      <td>96.78</td>\n",
       "      <td>58.85</td>\n",
       "      <td>6.67</td>\n",
       "      <td>2.02</td>\n",
       "    </tr>\n",
       "    <tr>\n",
       "      <th>4</th>\n",
       "      <td>1100056</td>\n",
       "      <td>11</td>\n",
       "      <td>100.0</td>\n",
       "      <td>100.0</td>\n",
       "      <td>100.00</td>\n",
       "      <td>28.57</td>\n",
       "      <td>100.00</td>\n",
       "      <td>21.43</td>\n",
       "      <td>14.29</td>\n",
       "      <td>100.00</td>\n",
       "      <td>...</td>\n",
       "      <td>21.43</td>\n",
       "      <td>NORTE</td>\n",
       "      <td>0.00</td>\n",
       "      <td>100.0</td>\n",
       "      <td>100.00</td>\n",
       "      <td>0.00</td>\n",
       "      <td>100.00</td>\n",
       "      <td>83.56</td>\n",
       "      <td>0.00</td>\n",
       "      <td>0.00</td>\n",
       "    </tr>\n",
       "  </tbody>\n",
       "</table>\n",
       "<p>5 rows × 31 columns</p>\n",
       "</div>"
      ],
      "text/plain": [
       "   CO_MUNICIPIO  CO_UF  IN_AGUA_EXISTENTE  IN_AGUA_FILTRADA  \\\n",
       "0       1100015     11              100.0             100.0   \n",
       "1       1100023     11              100.0             100.0   \n",
       "2       1100031     11              100.0             100.0   \n",
       "3       1100049     11              100.0             100.0   \n",
       "4       1100056     11              100.0             100.0   \n",
       "\n",
       "   IN_ESGOTO_EXISTENTE  IN_BIBLIOTECA_SALA_LEITURA  IN_BANHEIRO  \\\n",
       "0                94.12                       26.47        85.29   \n",
       "1               100.00                       68.42       100.00   \n",
       "2               100.00                       25.00        75.00   \n",
       "3                97.96                       40.82        97.96   \n",
       "4               100.00                       28.57       100.00   \n",
       "\n",
       "   IN_REFEITORIO  IN_AUDITORIO  IN_COMPUTADOR  ...  TP_ATIVIDADE_COMPLEMENTAR  \\\n",
       "0          23.53          0.00          52.94  ...                       2.94   \n",
       "1          81.58         44.74         100.00  ...                      47.37   \n",
       "2          62.50          0.00         100.00  ...                      12.50   \n",
       "3          57.14         12.24          97.96  ...                      26.53   \n",
       "4          21.43         14.29         100.00  ...                      21.43   \n",
       "\n",
       "   DS_REGIAO  IN_NECESSIDADE_ESPECIAL  IN_01_FUNDAMENTAL_COMPLETO  \\\n",
       "0      NORTE                     2.57                       100.0   \n",
       "1      NORTE                     1.82                       100.0   \n",
       "2      NORTE                     0.00                       100.0   \n",
       "3      NORTE                     0.00                       100.0   \n",
       "4      NORTE                     0.00                       100.0   \n",
       "\n",
       "   IN_02_ENSINO_MEDIO_COMPLETO  IN_03_NIVEL_SUPERIOR_CURSANDO  \\\n",
       "0                       100.00                           0.40   \n",
       "1                        99.83                           0.80   \n",
       "2                       100.00                           0.00   \n",
       "3                       100.00                           2.77   \n",
       "4                       100.00                           0.00   \n",
       "\n",
       "   IN_04_NIVEL_SUPERIOR_COMPLETO  IN_05_POS_GRADUACAO  IN_06_MESTRADO  \\\n",
       "0                          99.60                57.71            8.89   \n",
       "1                          98.58                61.26           12.17   \n",
       "2                         100.00                49.06            0.00   \n",
       "3                          96.78                58.85            6.67   \n",
       "4                         100.00                83.56            0.00   \n",
       "\n",
       "   IN_07_DOUTORADO  \n",
       "0             2.37  \n",
       "1             2.16  \n",
       "2             0.00  \n",
       "3             2.02  \n",
       "4             0.00  \n",
       "\n",
       "[5 rows x 31 columns]"
      ]
     },
     "execution_count": 8,
     "metadata": {},
     "output_type": "execute_result"
    }
   ],
   "source": [
    "all_escolas = pd.merge(inep_escolas, escolaridade_docentes, on='CO_MUNICIPIO', how='inner')\n",
    "all_escolas.head()"
   ]
  },
  {
   "cell_type": "code",
   "execution_count": 9,
   "metadata": {},
   "outputs": [
    {
     "data": {
      "text/html": [
       "<div>\n",
       "<style scoped>\n",
       "    .dataframe tbody tr th:only-of-type {\n",
       "        vertical-align: middle;\n",
       "    }\n",
       "\n",
       "    .dataframe tbody tr th {\n",
       "        vertical-align: top;\n",
       "    }\n",
       "\n",
       "    .dataframe thead th {\n",
       "        text-align: right;\n",
       "    }\n",
       "</style>\n",
       "<table border=\"1\" class=\"dataframe\">\n",
       "  <thead>\n",
       "    <tr style=\"text-align: right;\">\n",
       "      <th></th>\n",
       "      <th>CO_MUNICIPIO</th>\n",
       "      <th>CO_UF</th>\n",
       "      <th>IN_AGUA_EXISTENTE</th>\n",
       "      <th>IN_AGUA_FILTRADA</th>\n",
       "      <th>IN_ESGOTO_EXISTENTE</th>\n",
       "      <th>IN_BIBLIOTECA_SALA_LEITURA</th>\n",
       "      <th>IN_BANHEIRO</th>\n",
       "      <th>IN_REFEITORIO</th>\n",
       "      <th>IN_AUDITORIO</th>\n",
       "      <th>IN_COMPUTADOR</th>\n",
       "      <th>...</th>\n",
       "      <th>IN_02_ENSINO_MEDIO_COMPLETO</th>\n",
       "      <th>IN_03_NIVEL_SUPERIOR_CURSANDO</th>\n",
       "      <th>IN_04_NIVEL_SUPERIOR_COMPLETO</th>\n",
       "      <th>IN_05_POS_GRADUACAO</th>\n",
       "      <th>IN_06_MESTRADO</th>\n",
       "      <th>IN_07_DOUTORADO</th>\n",
       "      <th>SIGLA_UF</th>\n",
       "      <th>NO_MUNICIPIO</th>\n",
       "      <th>REDE</th>\n",
       "      <th>NOTA_IDEB</th>\n",
       "    </tr>\n",
       "  </thead>\n",
       "  <tbody>\n",
       "    <tr>\n",
       "      <th>0</th>\n",
       "      <td>1100015</td>\n",
       "      <td>11</td>\n",
       "      <td>100.0</td>\n",
       "      <td>100.0</td>\n",
       "      <td>94.12</td>\n",
       "      <td>26.47</td>\n",
       "      <td>85.29</td>\n",
       "      <td>23.53</td>\n",
       "      <td>0.00</td>\n",
       "      <td>52.94</td>\n",
       "      <td>...</td>\n",
       "      <td>100.00</td>\n",
       "      <td>0.40</td>\n",
       "      <td>99.60</td>\n",
       "      <td>57.71</td>\n",
       "      <td>8.89</td>\n",
       "      <td>2.37</td>\n",
       "      <td>RO</td>\n",
       "      <td>Alta Floresta D'Oeste</td>\n",
       "      <td>Pública</td>\n",
       "      <td>3.9</td>\n",
       "    </tr>\n",
       "    <tr>\n",
       "      <th>1</th>\n",
       "      <td>1100023</td>\n",
       "      <td>11</td>\n",
       "      <td>100.0</td>\n",
       "      <td>100.0</td>\n",
       "      <td>100.00</td>\n",
       "      <td>68.42</td>\n",
       "      <td>100.00</td>\n",
       "      <td>81.58</td>\n",
       "      <td>44.74</td>\n",
       "      <td>100.00</td>\n",
       "      <td>...</td>\n",
       "      <td>99.83</td>\n",
       "      <td>0.80</td>\n",
       "      <td>98.58</td>\n",
       "      <td>61.26</td>\n",
       "      <td>12.17</td>\n",
       "      <td>2.16</td>\n",
       "      <td>RO</td>\n",
       "      <td>Ariquemes</td>\n",
       "      <td>Pública</td>\n",
       "      <td>3.8</td>\n",
       "    </tr>\n",
       "    <tr>\n",
       "      <th>2</th>\n",
       "      <td>1100031</td>\n",
       "      <td>11</td>\n",
       "      <td>100.0</td>\n",
       "      <td>100.0</td>\n",
       "      <td>100.00</td>\n",
       "      <td>25.00</td>\n",
       "      <td>75.00</td>\n",
       "      <td>62.50</td>\n",
       "      <td>0.00</td>\n",
       "      <td>100.00</td>\n",
       "      <td>...</td>\n",
       "      <td>100.00</td>\n",
       "      <td>0.00</td>\n",
       "      <td>100.00</td>\n",
       "      <td>49.06</td>\n",
       "      <td>0.00</td>\n",
       "      <td>0.00</td>\n",
       "      <td>RO</td>\n",
       "      <td>Cabixi</td>\n",
       "      <td>Pública</td>\n",
       "      <td>3.7</td>\n",
       "    </tr>\n",
       "    <tr>\n",
       "      <th>3</th>\n",
       "      <td>1100049</td>\n",
       "      <td>11</td>\n",
       "      <td>100.0</td>\n",
       "      <td>100.0</td>\n",
       "      <td>97.96</td>\n",
       "      <td>40.82</td>\n",
       "      <td>97.96</td>\n",
       "      <td>57.14</td>\n",
       "      <td>12.24</td>\n",
       "      <td>97.96</td>\n",
       "      <td>...</td>\n",
       "      <td>100.00</td>\n",
       "      <td>2.77</td>\n",
       "      <td>96.78</td>\n",
       "      <td>58.85</td>\n",
       "      <td>6.67</td>\n",
       "      <td>2.02</td>\n",
       "      <td>RO</td>\n",
       "      <td>Cacoal</td>\n",
       "      <td>Pública</td>\n",
       "      <td>3.9</td>\n",
       "    </tr>\n",
       "    <tr>\n",
       "      <th>4</th>\n",
       "      <td>1100056</td>\n",
       "      <td>11</td>\n",
       "      <td>100.0</td>\n",
       "      <td>100.0</td>\n",
       "      <td>100.00</td>\n",
       "      <td>28.57</td>\n",
       "      <td>100.00</td>\n",
       "      <td>21.43</td>\n",
       "      <td>14.29</td>\n",
       "      <td>100.00</td>\n",
       "      <td>...</td>\n",
       "      <td>100.00</td>\n",
       "      <td>0.00</td>\n",
       "      <td>100.00</td>\n",
       "      <td>83.56</td>\n",
       "      <td>0.00</td>\n",
       "      <td>0.00</td>\n",
       "      <td>RO</td>\n",
       "      <td>Cerejeiras</td>\n",
       "      <td>Pública</td>\n",
       "      <td>3.8</td>\n",
       "    </tr>\n",
       "  </tbody>\n",
       "</table>\n",
       "<p>5 rows × 35 columns</p>\n",
       "</div>"
      ],
      "text/plain": [
       "   CO_MUNICIPIO  CO_UF  IN_AGUA_EXISTENTE  IN_AGUA_FILTRADA  \\\n",
       "0       1100015     11              100.0             100.0   \n",
       "1       1100023     11              100.0             100.0   \n",
       "2       1100031     11              100.0             100.0   \n",
       "3       1100049     11              100.0             100.0   \n",
       "4       1100056     11              100.0             100.0   \n",
       "\n",
       "   IN_ESGOTO_EXISTENTE  IN_BIBLIOTECA_SALA_LEITURA  IN_BANHEIRO  \\\n",
       "0                94.12                       26.47        85.29   \n",
       "1               100.00                       68.42       100.00   \n",
       "2               100.00                       25.00        75.00   \n",
       "3                97.96                       40.82        97.96   \n",
       "4               100.00                       28.57       100.00   \n",
       "\n",
       "   IN_REFEITORIO  IN_AUDITORIO  IN_COMPUTADOR  ...  \\\n",
       "0          23.53          0.00          52.94  ...   \n",
       "1          81.58         44.74         100.00  ...   \n",
       "2          62.50          0.00         100.00  ...   \n",
       "3          57.14         12.24          97.96  ...   \n",
       "4          21.43         14.29         100.00  ...   \n",
       "\n",
       "   IN_02_ENSINO_MEDIO_COMPLETO  IN_03_NIVEL_SUPERIOR_CURSANDO  \\\n",
       "0                       100.00                           0.40   \n",
       "1                        99.83                           0.80   \n",
       "2                       100.00                           0.00   \n",
       "3                       100.00                           2.77   \n",
       "4                       100.00                           0.00   \n",
       "\n",
       "   IN_04_NIVEL_SUPERIOR_COMPLETO  IN_05_POS_GRADUACAO  IN_06_MESTRADO  \\\n",
       "0                          99.60                57.71            8.89   \n",
       "1                          98.58                61.26           12.17   \n",
       "2                         100.00                49.06            0.00   \n",
       "3                          96.78                58.85            6.67   \n",
       "4                         100.00                83.56            0.00   \n",
       "\n",
       "   IN_07_DOUTORADO  SIGLA_UF           NO_MUNICIPIO     REDE  NOTA_IDEB  \n",
       "0             2.37        RO  Alta Floresta D'Oeste  Pública        3.9  \n",
       "1             2.16        RO              Ariquemes  Pública        3.8  \n",
       "2             0.00        RO                 Cabixi  Pública        3.7  \n",
       "3             2.02        RO                 Cacoal  Pública        3.9  \n",
       "4             0.00        RO             Cerejeiras  Pública        3.8  \n",
       "\n",
       "[5 rows x 35 columns]"
      ]
     },
     "execution_count": 9,
     "metadata": {},
     "output_type": "execute_result"
    }
   ],
   "source": [
    "all_escolas = pd.merge(all_escolas, ideb, on='CO_MUNICIPIO', how='inner')\n",
    "all_escolas.head()"
   ]
  },
  {
   "cell_type": "code",
   "execution_count": 10,
   "metadata": {},
   "outputs": [
    {
     "data": {
      "text/html": [
       "<div>\n",
       "<style scoped>\n",
       "    .dataframe tbody tr th:only-of-type {\n",
       "        vertical-align: middle;\n",
       "    }\n",
       "\n",
       "    .dataframe tbody tr th {\n",
       "        vertical-align: top;\n",
       "    }\n",
       "\n",
       "    .dataframe thead th {\n",
       "        text-align: right;\n",
       "    }\n",
       "</style>\n",
       "<table border=\"1\" class=\"dataframe\">\n",
       "  <thead>\n",
       "    <tr style=\"text-align: right;\">\n",
       "      <th></th>\n",
       "      <th>CO_MUNICIPIO</th>\n",
       "      <th>CO_UF</th>\n",
       "      <th>IN_AGUA_EXISTENTE</th>\n",
       "      <th>IN_AGUA_FILTRADA</th>\n",
       "      <th>IN_ESGOTO_EXISTENTE</th>\n",
       "      <th>IN_BIBLIOTECA_SALA_LEITURA</th>\n",
       "      <th>IN_BANHEIRO</th>\n",
       "      <th>IN_REFEITORIO</th>\n",
       "      <th>IN_AUDITORIO</th>\n",
       "      <th>IN_COMPUTADOR</th>\n",
       "      <th>...</th>\n",
       "      <th>IN_06_MESTRADO</th>\n",
       "      <th>IN_07_DOUTORADO</th>\n",
       "      <th>SIGLA_UF</th>\n",
       "      <th>NO_MUNICIPIO</th>\n",
       "      <th>REDE</th>\n",
       "      <th>NOTA_IDEB</th>\n",
       "      <th>UF</th>\n",
       "      <th>NM_MUNICIPIO</th>\n",
       "      <th>NUM_POPULACAO</th>\n",
       "      <th>CO_MUNICIPIO_IBGE</th>\n",
       "    </tr>\n",
       "  </thead>\n",
       "  <tbody>\n",
       "    <tr>\n",
       "      <th>0</th>\n",
       "      <td>1100015</td>\n",
       "      <td>11</td>\n",
       "      <td>100.0</td>\n",
       "      <td>100.0</td>\n",
       "      <td>94.12</td>\n",
       "      <td>26.47</td>\n",
       "      <td>85.29</td>\n",
       "      <td>23.53</td>\n",
       "      <td>0.00</td>\n",
       "      <td>52.94</td>\n",
       "      <td>...</td>\n",
       "      <td>8.89</td>\n",
       "      <td>2.37</td>\n",
       "      <td>RO</td>\n",
       "      <td>Alta Floresta D'Oeste</td>\n",
       "      <td>Pública</td>\n",
       "      <td>3.9</td>\n",
       "      <td>RO</td>\n",
       "      <td>Alta Floresta D'Oeste</td>\n",
       "      <td>25437</td>\n",
       "      <td>110001</td>\n",
       "    </tr>\n",
       "    <tr>\n",
       "      <th>1</th>\n",
       "      <td>1100023</td>\n",
       "      <td>11</td>\n",
       "      <td>100.0</td>\n",
       "      <td>100.0</td>\n",
       "      <td>100.00</td>\n",
       "      <td>68.42</td>\n",
       "      <td>100.00</td>\n",
       "      <td>81.58</td>\n",
       "      <td>44.74</td>\n",
       "      <td>100.00</td>\n",
       "      <td>...</td>\n",
       "      <td>12.17</td>\n",
       "      <td>2.16</td>\n",
       "      <td>RO</td>\n",
       "      <td>Ariquemes</td>\n",
       "      <td>Pública</td>\n",
       "      <td>3.8</td>\n",
       "      <td>RO</td>\n",
       "      <td>Ariquemes</td>\n",
       "      <td>107345</td>\n",
       "      <td>110002</td>\n",
       "    </tr>\n",
       "    <tr>\n",
       "      <th>2</th>\n",
       "      <td>1100031</td>\n",
       "      <td>11</td>\n",
       "      <td>100.0</td>\n",
       "      <td>100.0</td>\n",
       "      <td>100.00</td>\n",
       "      <td>25.00</td>\n",
       "      <td>75.00</td>\n",
       "      <td>62.50</td>\n",
       "      <td>0.00</td>\n",
       "      <td>100.00</td>\n",
       "      <td>...</td>\n",
       "      <td>0.00</td>\n",
       "      <td>0.00</td>\n",
       "      <td>RO</td>\n",
       "      <td>Cabixi</td>\n",
       "      <td>Pública</td>\n",
       "      <td>3.7</td>\n",
       "      <td>RO</td>\n",
       "      <td>Cabixi</td>\n",
       "      <td>6224</td>\n",
       "      <td>110003</td>\n",
       "    </tr>\n",
       "    <tr>\n",
       "      <th>3</th>\n",
       "      <td>1100049</td>\n",
       "      <td>11</td>\n",
       "      <td>100.0</td>\n",
       "      <td>100.0</td>\n",
       "      <td>97.96</td>\n",
       "      <td>40.82</td>\n",
       "      <td>97.96</td>\n",
       "      <td>57.14</td>\n",
       "      <td>12.24</td>\n",
       "      <td>97.96</td>\n",
       "      <td>...</td>\n",
       "      <td>6.67</td>\n",
       "      <td>2.02</td>\n",
       "      <td>RO</td>\n",
       "      <td>Cacoal</td>\n",
       "      <td>Pública</td>\n",
       "      <td>3.9</td>\n",
       "      <td>RO</td>\n",
       "      <td>Cacoal</td>\n",
       "      <td>88507</td>\n",
       "      <td>110004</td>\n",
       "    </tr>\n",
       "    <tr>\n",
       "      <th>4</th>\n",
       "      <td>1100056</td>\n",
       "      <td>11</td>\n",
       "      <td>100.0</td>\n",
       "      <td>100.0</td>\n",
       "      <td>100.00</td>\n",
       "      <td>28.57</td>\n",
       "      <td>100.00</td>\n",
       "      <td>21.43</td>\n",
       "      <td>14.29</td>\n",
       "      <td>100.00</td>\n",
       "      <td>...</td>\n",
       "      <td>0.00</td>\n",
       "      <td>0.00</td>\n",
       "      <td>RO</td>\n",
       "      <td>Cerejeiras</td>\n",
       "      <td>Pública</td>\n",
       "      <td>3.8</td>\n",
       "      <td>RO</td>\n",
       "      <td>Cerejeiras</td>\n",
       "      <td>17934</td>\n",
       "      <td>110005</td>\n",
       "    </tr>\n",
       "  </tbody>\n",
       "</table>\n",
       "<p>5 rows × 39 columns</p>\n",
       "</div>"
      ],
      "text/plain": [
       "   CO_MUNICIPIO  CO_UF  IN_AGUA_EXISTENTE  IN_AGUA_FILTRADA  \\\n",
       "0       1100015     11              100.0             100.0   \n",
       "1       1100023     11              100.0             100.0   \n",
       "2       1100031     11              100.0             100.0   \n",
       "3       1100049     11              100.0             100.0   \n",
       "4       1100056     11              100.0             100.0   \n",
       "\n",
       "   IN_ESGOTO_EXISTENTE  IN_BIBLIOTECA_SALA_LEITURA  IN_BANHEIRO  \\\n",
       "0                94.12                       26.47        85.29   \n",
       "1               100.00                       68.42       100.00   \n",
       "2               100.00                       25.00        75.00   \n",
       "3                97.96                       40.82        97.96   \n",
       "4               100.00                       28.57       100.00   \n",
       "\n",
       "   IN_REFEITORIO  IN_AUDITORIO  IN_COMPUTADOR  ...  IN_06_MESTRADO  \\\n",
       "0          23.53          0.00          52.94  ...            8.89   \n",
       "1          81.58         44.74         100.00  ...           12.17   \n",
       "2          62.50          0.00         100.00  ...            0.00   \n",
       "3          57.14         12.24          97.96  ...            6.67   \n",
       "4          21.43         14.29         100.00  ...            0.00   \n",
       "\n",
       "   IN_07_DOUTORADO  SIGLA_UF           NO_MUNICIPIO     REDE  NOTA_IDEB  UF  \\\n",
       "0             2.37        RO  Alta Floresta D'Oeste  Pública        3.9  RO   \n",
       "1             2.16        RO              Ariquemes  Pública        3.8  RO   \n",
       "2             0.00        RO                 Cabixi  Pública        3.7  RO   \n",
       "3             2.02        RO                 Cacoal  Pública        3.9  RO   \n",
       "4             0.00        RO             Cerejeiras  Pública        3.8  RO   \n",
       "\n",
       "            NM_MUNICIPIO  NUM_POPULACAO  CO_MUNICIPIO_IBGE  \n",
       "0  Alta Floresta D'Oeste          25437             110001  \n",
       "1              Ariquemes         107345             110002  \n",
       "2                 Cabixi           6224             110003  \n",
       "3                 Cacoal          88507             110004  \n",
       "4             Cerejeiras          17934             110005  \n",
       "\n",
       "[5 rows x 39 columns]"
      ]
     },
     "execution_count": 10,
     "metadata": {},
     "output_type": "execute_result"
    }
   ],
   "source": [
    "all_escolas_mun = pd.merge(all_escolas, municipios, on='CO_MUNICIPIO', how='inner')\n",
    "all_escolas_mun.head()"
   ]
  },
  {
   "cell_type": "code",
   "execution_count": 11,
   "metadata": {},
   "outputs": [
    {
     "data": {
      "text/html": [
       "<div>\n",
       "<style scoped>\n",
       "    .dataframe tbody tr th:only-of-type {\n",
       "        vertical-align: middle;\n",
       "    }\n",
       "\n",
       "    .dataframe tbody tr th {\n",
       "        vertical-align: top;\n",
       "    }\n",
       "\n",
       "    .dataframe thead th {\n",
       "        text-align: right;\n",
       "    }\n",
       "</style>\n",
       "<table border=\"1\" class=\"dataframe\">\n",
       "  <thead>\n",
       "    <tr style=\"text-align: right;\">\n",
       "      <th></th>\n",
       "      <th>CO_MUNICIPIO</th>\n",
       "      <th>CO_UF</th>\n",
       "      <th>IN_AGUA_EXISTENTE</th>\n",
       "      <th>IN_AGUA_FILTRADA</th>\n",
       "      <th>IN_ESGOTO_EXISTENTE</th>\n",
       "      <th>IN_BIBLIOTECA_SALA_LEITURA</th>\n",
       "      <th>IN_BANHEIRO</th>\n",
       "      <th>IN_REFEITORIO</th>\n",
       "      <th>IN_AUDITORIO</th>\n",
       "      <th>IN_COMPUTADOR</th>\n",
       "      <th>...</th>\n",
       "      <th>IN_07_DOUTORADO</th>\n",
       "      <th>SIGLA_UF</th>\n",
       "      <th>NO_MUNICIPIO</th>\n",
       "      <th>REDE</th>\n",
       "      <th>NOTA_IDEB</th>\n",
       "      <th>UF</th>\n",
       "      <th>NM_MUNICIPIO</th>\n",
       "      <th>NUM_POPULACAO</th>\n",
       "      <th>CO_MUNICIPIO_IBGE</th>\n",
       "      <th>VL_TOTAL</th>\n",
       "    </tr>\n",
       "  </thead>\n",
       "  <tbody>\n",
       "    <tr>\n",
       "      <th>0</th>\n",
       "      <td>1100015</td>\n",
       "      <td>11</td>\n",
       "      <td>100.0</td>\n",
       "      <td>100.0</td>\n",
       "      <td>94.12</td>\n",
       "      <td>26.47</td>\n",
       "      <td>85.29</td>\n",
       "      <td>23.53</td>\n",
       "      <td>0.00</td>\n",
       "      <td>52.94</td>\n",
       "      <td>...</td>\n",
       "      <td>2.37</td>\n",
       "      <td>RO</td>\n",
       "      <td>Alta Floresta D'Oeste</td>\n",
       "      <td>Pública</td>\n",
       "      <td>3.9</td>\n",
       "      <td>RO</td>\n",
       "      <td>Alta Floresta D'Oeste</td>\n",
       "      <td>25437</td>\n",
       "      <td>110001</td>\n",
       "      <td>1766.74</td>\n",
       "    </tr>\n",
       "    <tr>\n",
       "      <th>1</th>\n",
       "      <td>1100023</td>\n",
       "      <td>11</td>\n",
       "      <td>100.0</td>\n",
       "      <td>100.0</td>\n",
       "      <td>100.00</td>\n",
       "      <td>68.42</td>\n",
       "      <td>100.00</td>\n",
       "      <td>81.58</td>\n",
       "      <td>44.74</td>\n",
       "      <td>100.00</td>\n",
       "      <td>...</td>\n",
       "      <td>2.16</td>\n",
       "      <td>RO</td>\n",
       "      <td>Ariquemes</td>\n",
       "      <td>Pública</td>\n",
       "      <td>3.8</td>\n",
       "      <td>RO</td>\n",
       "      <td>Ariquemes</td>\n",
       "      <td>107345</td>\n",
       "      <td>110002</td>\n",
       "      <td>3571.47</td>\n",
       "    </tr>\n",
       "    <tr>\n",
       "      <th>2</th>\n",
       "      <td>1100031</td>\n",
       "      <td>11</td>\n",
       "      <td>100.0</td>\n",
       "      <td>100.0</td>\n",
       "      <td>100.00</td>\n",
       "      <td>25.00</td>\n",
       "      <td>75.00</td>\n",
       "      <td>62.50</td>\n",
       "      <td>0.00</td>\n",
       "      <td>100.00</td>\n",
       "      <td>...</td>\n",
       "      <td>0.00</td>\n",
       "      <td>RO</td>\n",
       "      <td>Cabixi</td>\n",
       "      <td>Pública</td>\n",
       "      <td>3.7</td>\n",
       "      <td>RO</td>\n",
       "      <td>Cabixi</td>\n",
       "      <td>6224</td>\n",
       "      <td>110003</td>\n",
       "      <td>3228.31</td>\n",
       "    </tr>\n",
       "    <tr>\n",
       "      <th>3</th>\n",
       "      <td>1100049</td>\n",
       "      <td>11</td>\n",
       "      <td>100.0</td>\n",
       "      <td>100.0</td>\n",
       "      <td>97.96</td>\n",
       "      <td>40.82</td>\n",
       "      <td>97.96</td>\n",
       "      <td>57.14</td>\n",
       "      <td>12.24</td>\n",
       "      <td>97.96</td>\n",
       "      <td>...</td>\n",
       "      <td>2.02</td>\n",
       "      <td>RO</td>\n",
       "      <td>Cacoal</td>\n",
       "      <td>Pública</td>\n",
       "      <td>3.9</td>\n",
       "      <td>RO</td>\n",
       "      <td>Cacoal</td>\n",
       "      <td>88507</td>\n",
       "      <td>110004</td>\n",
       "      <td>3634.48</td>\n",
       "    </tr>\n",
       "    <tr>\n",
       "      <th>4</th>\n",
       "      <td>1100056</td>\n",
       "      <td>11</td>\n",
       "      <td>100.0</td>\n",
       "      <td>100.0</td>\n",
       "      <td>100.00</td>\n",
       "      <td>28.57</td>\n",
       "      <td>100.00</td>\n",
       "      <td>21.43</td>\n",
       "      <td>14.29</td>\n",
       "      <td>100.00</td>\n",
       "      <td>...</td>\n",
       "      <td>0.00</td>\n",
       "      <td>RO</td>\n",
       "      <td>Cerejeiras</td>\n",
       "      <td>Pública</td>\n",
       "      <td>3.8</td>\n",
       "      <td>RO</td>\n",
       "      <td>Cerejeiras</td>\n",
       "      <td>17934</td>\n",
       "      <td>110005</td>\n",
       "      <td>3392.86</td>\n",
       "    </tr>\n",
       "  </tbody>\n",
       "</table>\n",
       "<p>5 rows × 40 columns</p>\n",
       "</div>"
      ],
      "text/plain": [
       "   CO_MUNICIPIO  CO_UF  IN_AGUA_EXISTENTE  IN_AGUA_FILTRADA  \\\n",
       "0       1100015     11              100.0             100.0   \n",
       "1       1100023     11              100.0             100.0   \n",
       "2       1100031     11              100.0             100.0   \n",
       "3       1100049     11              100.0             100.0   \n",
       "4       1100056     11              100.0             100.0   \n",
       "\n",
       "   IN_ESGOTO_EXISTENTE  IN_BIBLIOTECA_SALA_LEITURA  IN_BANHEIRO  \\\n",
       "0                94.12                       26.47        85.29   \n",
       "1               100.00                       68.42       100.00   \n",
       "2               100.00                       25.00        75.00   \n",
       "3                97.96                       40.82        97.96   \n",
       "4               100.00                       28.57       100.00   \n",
       "\n",
       "   IN_REFEITORIO  IN_AUDITORIO  IN_COMPUTADOR  ...  IN_07_DOUTORADO  SIGLA_UF  \\\n",
       "0          23.53          0.00          52.94  ...             2.37        RO   \n",
       "1          81.58         44.74         100.00  ...             2.16        RO   \n",
       "2          62.50          0.00         100.00  ...             0.00        RO   \n",
       "3          57.14         12.24          97.96  ...             2.02        RO   \n",
       "4          21.43         14.29         100.00  ...             0.00        RO   \n",
       "\n",
       "            NO_MUNICIPIO     REDE  NOTA_IDEB  UF           NM_MUNICIPIO  \\\n",
       "0  Alta Floresta D'Oeste  Pública        3.9  RO  Alta Floresta D'Oeste   \n",
       "1              Ariquemes  Pública        3.8  RO              Ariquemes   \n",
       "2                 Cabixi  Pública        3.7  RO                 Cabixi   \n",
       "3                 Cacoal  Pública        3.9  RO                 Cacoal   \n",
       "4             Cerejeiras  Pública        3.8  RO             Cerejeiras   \n",
       "\n",
       "   NUM_POPULACAO  CO_MUNICIPIO_IBGE  VL_TOTAL  \n",
       "0          25437             110001   1766.74  \n",
       "1         107345             110002   3571.47  \n",
       "2           6224             110003   3228.31  \n",
       "3          88507             110004   3634.48  \n",
       "4          17934             110005   3392.86  \n",
       "\n",
       "[5 rows x 40 columns]"
      ]
     },
     "execution_count": 11,
     "metadata": {},
     "output_type": "execute_result"
    }
   ],
   "source": [
    "all_escolas_remun_docentes = pd.merge(all_escolas_mun, remun_docentes_media_mun, on=\"CO_MUNICIPIO_IBGE\", how='inner')\n",
    "all_escolas_remun_docentes.head()"
   ]
  },
  {
   "cell_type": "code",
   "execution_count": 12,
   "metadata": {
    "scrolled": true
   },
   "outputs": [
    {
     "data": {
      "text/html": [
       "<div>\n",
       "<style scoped>\n",
       "    .dataframe tbody tr th:only-of-type {\n",
       "        vertical-align: middle;\n",
       "    }\n",
       "\n",
       "    .dataframe tbody tr th {\n",
       "        vertical-align: top;\n",
       "    }\n",
       "\n",
       "    .dataframe thead th {\n",
       "        text-align: right;\n",
       "    }\n",
       "</style>\n",
       "<table border=\"1\" class=\"dataframe\">\n",
       "  <thead>\n",
       "    <tr style=\"text-align: right;\">\n",
       "      <th></th>\n",
       "      <th>CO_MUNICIPIO</th>\n",
       "      <th>CO_UF</th>\n",
       "      <th>IN_AGUA_EXISTENTE</th>\n",
       "      <th>IN_AGUA_FILTRADA</th>\n",
       "      <th>IN_ESGOTO_EXISTENTE</th>\n",
       "      <th>IN_BIBLIOTECA_SALA_LEITURA</th>\n",
       "      <th>IN_BANHEIRO</th>\n",
       "      <th>IN_REFEITORIO</th>\n",
       "      <th>IN_AUDITORIO</th>\n",
       "      <th>IN_COMPUTADOR</th>\n",
       "      <th>...</th>\n",
       "      <th>NM_MUNICIPIO</th>\n",
       "      <th>NUM_POPULACAO</th>\n",
       "      <th>CO_MUNICIPIO_IBGE</th>\n",
       "      <th>VL_TOTAL</th>\n",
       "      <th>VL_RECEITA_REALIZADA</th>\n",
       "      <th>VL_RECEITA_ORCADA</th>\n",
       "      <th>VL_DESPESA_EMPENHADA_EDUCACAO</th>\n",
       "      <th>VL_DESPESA_LIQUIDADA_EDUCACAO</th>\n",
       "      <th>VL_DESPESA_PAGA_EDUCACAO</th>\n",
       "      <th>VL_DESPESA_ORCADA_EDUCACAO</th>\n",
       "    </tr>\n",
       "  </thead>\n",
       "  <tbody>\n",
       "    <tr>\n",
       "      <th>0</th>\n",
       "      <td>1100015</td>\n",
       "      <td>11</td>\n",
       "      <td>100.0</td>\n",
       "      <td>100.0</td>\n",
       "      <td>94.12</td>\n",
       "      <td>26.47</td>\n",
       "      <td>85.29</td>\n",
       "      <td>23.53</td>\n",
       "      <td>0.00</td>\n",
       "      <td>52.94</td>\n",
       "      <td>...</td>\n",
       "      <td>Alta Floresta D'Oeste</td>\n",
       "      <td>25437</td>\n",
       "      <td>110001</td>\n",
       "      <td>1766.74</td>\n",
       "      <td>5.566505e+07</td>\n",
       "      <td>5.460927e+07</td>\n",
       "      <td>19143909.03</td>\n",
       "      <td>18270050.25</td>\n",
       "      <td>17848851.98</td>\n",
       "      <td>17414670.64</td>\n",
       "    </tr>\n",
       "    <tr>\n",
       "      <th>1</th>\n",
       "      <td>1100023</td>\n",
       "      <td>11</td>\n",
       "      <td>100.0</td>\n",
       "      <td>100.0</td>\n",
       "      <td>100.00</td>\n",
       "      <td>68.42</td>\n",
       "      <td>100.00</td>\n",
       "      <td>81.58</td>\n",
       "      <td>44.74</td>\n",
       "      <td>100.00</td>\n",
       "      <td>...</td>\n",
       "      <td>Ariquemes</td>\n",
       "      <td>107345</td>\n",
       "      <td>110002</td>\n",
       "      <td>3571.47</td>\n",
       "      <td>2.199496e+08</td>\n",
       "      <td>2.410261e+08</td>\n",
       "      <td>70205925.76</td>\n",
       "      <td>69849241.57</td>\n",
       "      <td>68941222.90</td>\n",
       "      <td>65925282.00</td>\n",
       "    </tr>\n",
       "    <tr>\n",
       "      <th>2</th>\n",
       "      <td>1100031</td>\n",
       "      <td>11</td>\n",
       "      <td>100.0</td>\n",
       "      <td>100.0</td>\n",
       "      <td>100.00</td>\n",
       "      <td>25.00</td>\n",
       "      <td>75.00</td>\n",
       "      <td>62.50</td>\n",
       "      <td>0.00</td>\n",
       "      <td>100.00</td>\n",
       "      <td>...</td>\n",
       "      <td>Cabixi</td>\n",
       "      <td>6224</td>\n",
       "      <td>110003</td>\n",
       "      <td>3228.31</td>\n",
       "      <td>1.875777e+07</td>\n",
       "      <td>2.245000e+07</td>\n",
       "      <td>5642689.96</td>\n",
       "      <td>5597949.37</td>\n",
       "      <td>5421175.39</td>\n",
       "      <td>6448000.00</td>\n",
       "    </tr>\n",
       "    <tr>\n",
       "      <th>3</th>\n",
       "      <td>1100049</td>\n",
       "      <td>11</td>\n",
       "      <td>100.0</td>\n",
       "      <td>100.0</td>\n",
       "      <td>97.96</td>\n",
       "      <td>40.82</td>\n",
       "      <td>97.96</td>\n",
       "      <td>57.14</td>\n",
       "      <td>12.24</td>\n",
       "      <td>97.96</td>\n",
       "      <td>...</td>\n",
       "      <td>Cacoal</td>\n",
       "      <td>88507</td>\n",
       "      <td>110004</td>\n",
       "      <td>3634.48</td>\n",
       "      <td>1.660485e+08</td>\n",
       "      <td>1.960090e+08</td>\n",
       "      <td>43131489.93</td>\n",
       "      <td>43034558.76</td>\n",
       "      <td>43023572.89</td>\n",
       "      <td>47990000.00</td>\n",
       "    </tr>\n",
       "    <tr>\n",
       "      <th>4</th>\n",
       "      <td>1100056</td>\n",
       "      <td>11</td>\n",
       "      <td>100.0</td>\n",
       "      <td>100.0</td>\n",
       "      <td>100.00</td>\n",
       "      <td>28.57</td>\n",
       "      <td>100.00</td>\n",
       "      <td>21.43</td>\n",
       "      <td>14.29</td>\n",
       "      <td>100.00</td>\n",
       "      <td>...</td>\n",
       "      <td>Cerejeiras</td>\n",
       "      <td>17934</td>\n",
       "      <td>110005</td>\n",
       "      <td>3392.86</td>\n",
       "      <td>4.284447e+07</td>\n",
       "      <td>4.643137e+07</td>\n",
       "      <td>11248803.38</td>\n",
       "      <td>11206994.51</td>\n",
       "      <td>11168253.80</td>\n",
       "      <td>12189580.76</td>\n",
       "    </tr>\n",
       "  </tbody>\n",
       "</table>\n",
       "<p>5 rows × 46 columns</p>\n",
       "</div>"
      ],
      "text/plain": [
       "   CO_MUNICIPIO  CO_UF  IN_AGUA_EXISTENTE  IN_AGUA_FILTRADA  \\\n",
       "0       1100015     11              100.0             100.0   \n",
       "1       1100023     11              100.0             100.0   \n",
       "2       1100031     11              100.0             100.0   \n",
       "3       1100049     11              100.0             100.0   \n",
       "4       1100056     11              100.0             100.0   \n",
       "\n",
       "   IN_ESGOTO_EXISTENTE  IN_BIBLIOTECA_SALA_LEITURA  IN_BANHEIRO  \\\n",
       "0                94.12                       26.47        85.29   \n",
       "1               100.00                       68.42       100.00   \n",
       "2               100.00                       25.00        75.00   \n",
       "3                97.96                       40.82        97.96   \n",
       "4               100.00                       28.57       100.00   \n",
       "\n",
       "   IN_REFEITORIO  IN_AUDITORIO  IN_COMPUTADOR  ...           NM_MUNICIPIO  \\\n",
       "0          23.53          0.00          52.94  ...  Alta Floresta D'Oeste   \n",
       "1          81.58         44.74         100.00  ...              Ariquemes   \n",
       "2          62.50          0.00         100.00  ...                 Cabixi   \n",
       "3          57.14         12.24          97.96  ...                 Cacoal   \n",
       "4          21.43         14.29         100.00  ...             Cerejeiras   \n",
       "\n",
       "   NUM_POPULACAO  CO_MUNICIPIO_IBGE  VL_TOTAL  VL_RECEITA_REALIZADA  \\\n",
       "0          25437             110001   1766.74          5.566505e+07   \n",
       "1         107345             110002   3571.47          2.199496e+08   \n",
       "2           6224             110003   3228.31          1.875777e+07   \n",
       "3          88507             110004   3634.48          1.660485e+08   \n",
       "4          17934             110005   3392.86          4.284447e+07   \n",
       "\n",
       "   VL_RECEITA_ORCADA  VL_DESPESA_EMPENHADA_EDUCACAO  \\\n",
       "0       5.460927e+07                    19143909.03   \n",
       "1       2.410261e+08                    70205925.76   \n",
       "2       2.245000e+07                     5642689.96   \n",
       "3       1.960090e+08                    43131489.93   \n",
       "4       4.643137e+07                    11248803.38   \n",
       "\n",
       "   VL_DESPESA_LIQUIDADA_EDUCACAO  VL_DESPESA_PAGA_EDUCACAO  \\\n",
       "0                    18270050.25               17848851.98   \n",
       "1                    69849241.57               68941222.90   \n",
       "2                     5597949.37                5421175.39   \n",
       "3                    43034558.76               43023572.89   \n",
       "4                    11206994.51               11168253.80   \n",
       "\n",
       "   VL_DESPESA_ORCADA_EDUCACAO  \n",
       "0                 17414670.64  \n",
       "1                 65925282.00  \n",
       "2                  6448000.00  \n",
       "3                 47990000.00  \n",
       "4                 12189580.76  \n",
       "\n",
       "[5 rows x 46 columns]"
      ]
     },
     "execution_count": 12,
     "metadata": {},
     "output_type": "execute_result"
    }
   ],
   "source": [
    "final = pd.merge(all_escolas_remun_docentes, investimento, on=\"CO_MUNICIPIO_IBGE\", how='inner')\n",
    "final.head()"
   ]
  },
  {
   "cell_type": "code",
   "execution_count": 13,
   "metadata": {},
   "outputs": [],
   "source": [
    "final['VL_DESPESA_PAG_ED_CID'] = round(final['VL_DESPESA_PAGA_EDUCACAO'] / final['NUM_POPULACAO'], 2)\n",
    "final['VL_DESPESA_LIQ_ED_CID'] = round(final['VL_DESPESA_LIQUIDADA_EDUCACAO'] / final['NUM_POPULACAO'], 2)"
   ]
  },
  {
   "cell_type": "code",
   "execution_count": 14,
   "metadata": {},
   "outputs": [],
   "source": [
    "final['PROP_EDU_INV'] = (final['VL_DESPESA_PAGA_EDUCACAO'] * 100) / final['VL_RECEITA_REALIZADA']"
   ]
  },
  {
   "cell_type": "code",
   "execution_count": 15,
   "metadata": {},
   "outputs": [
    {
     "data": {
      "text/html": [
       "<div>\n",
       "<style scoped>\n",
       "    .dataframe tbody tr th:only-of-type {\n",
       "        vertical-align: middle;\n",
       "    }\n",
       "\n",
       "    .dataframe tbody tr th {\n",
       "        vertical-align: top;\n",
       "    }\n",
       "\n",
       "    .dataframe thead th {\n",
       "        text-align: right;\n",
       "    }\n",
       "</style>\n",
       "<table border=\"1\" class=\"dataframe\">\n",
       "  <thead>\n",
       "    <tr style=\"text-align: right;\">\n",
       "      <th></th>\n",
       "      <th>CO_MUNICIPIO</th>\n",
       "      <th>CO_UF</th>\n",
       "      <th>IN_AGUA_EXISTENTE</th>\n",
       "      <th>IN_AGUA_FILTRADA</th>\n",
       "      <th>IN_ESGOTO_EXISTENTE</th>\n",
       "      <th>IN_BIBLIOTECA_SALA_LEITURA</th>\n",
       "      <th>IN_BANHEIRO</th>\n",
       "      <th>IN_REFEITORIO</th>\n",
       "      <th>IN_AUDITORIO</th>\n",
       "      <th>IN_COMPUTADOR</th>\n",
       "      <th>...</th>\n",
       "      <th>VL_TOTAL</th>\n",
       "      <th>VL_RECEITA_REALIZADA</th>\n",
       "      <th>VL_RECEITA_ORCADA</th>\n",
       "      <th>VL_DESPESA_EMPENHADA_EDUCACAO</th>\n",
       "      <th>VL_DESPESA_LIQUIDADA_EDUCACAO</th>\n",
       "      <th>VL_DESPESA_PAGA_EDUCACAO</th>\n",
       "      <th>VL_DESPESA_ORCADA_EDUCACAO</th>\n",
       "      <th>VL_DESPESA_PAG_ED_CID</th>\n",
       "      <th>VL_DESPESA_LIQ_ED_CID</th>\n",
       "      <th>PROP_EDU_INV</th>\n",
       "    </tr>\n",
       "  </thead>\n",
       "  <tbody>\n",
       "    <tr>\n",
       "      <th>0</th>\n",
       "      <td>1100015</td>\n",
       "      <td>11</td>\n",
       "      <td>100.0</td>\n",
       "      <td>100.0</td>\n",
       "      <td>94.12</td>\n",
       "      <td>26.47</td>\n",
       "      <td>85.29</td>\n",
       "      <td>23.53</td>\n",
       "      <td>0.00</td>\n",
       "      <td>52.94</td>\n",
       "      <td>...</td>\n",
       "      <td>1766.74</td>\n",
       "      <td>5.566505e+07</td>\n",
       "      <td>5.460927e+07</td>\n",
       "      <td>19143909.03</td>\n",
       "      <td>18270050.25</td>\n",
       "      <td>17848851.98</td>\n",
       "      <td>17414670.64</td>\n",
       "      <td>701.69</td>\n",
       "      <td>718.25</td>\n",
       "      <td>32.064737</td>\n",
       "    </tr>\n",
       "    <tr>\n",
       "      <th>1</th>\n",
       "      <td>1100023</td>\n",
       "      <td>11</td>\n",
       "      <td>100.0</td>\n",
       "      <td>100.0</td>\n",
       "      <td>100.00</td>\n",
       "      <td>68.42</td>\n",
       "      <td>100.00</td>\n",
       "      <td>81.58</td>\n",
       "      <td>44.74</td>\n",
       "      <td>100.00</td>\n",
       "      <td>...</td>\n",
       "      <td>3571.47</td>\n",
       "      <td>2.199496e+08</td>\n",
       "      <td>2.410261e+08</td>\n",
       "      <td>70205925.76</td>\n",
       "      <td>69849241.57</td>\n",
       "      <td>68941222.90</td>\n",
       "      <td>65925282.00</td>\n",
       "      <td>642.24</td>\n",
       "      <td>650.70</td>\n",
       "      <td>31.344106</td>\n",
       "    </tr>\n",
       "    <tr>\n",
       "      <th>2</th>\n",
       "      <td>1100031</td>\n",
       "      <td>11</td>\n",
       "      <td>100.0</td>\n",
       "      <td>100.0</td>\n",
       "      <td>100.00</td>\n",
       "      <td>25.00</td>\n",
       "      <td>75.00</td>\n",
       "      <td>62.50</td>\n",
       "      <td>0.00</td>\n",
       "      <td>100.00</td>\n",
       "      <td>...</td>\n",
       "      <td>3228.31</td>\n",
       "      <td>1.875777e+07</td>\n",
       "      <td>2.245000e+07</td>\n",
       "      <td>5642689.96</td>\n",
       "      <td>5597949.37</td>\n",
       "      <td>5421175.39</td>\n",
       "      <td>6448000.00</td>\n",
       "      <td>871.01</td>\n",
       "      <td>899.41</td>\n",
       "      <td>28.900965</td>\n",
       "    </tr>\n",
       "    <tr>\n",
       "      <th>3</th>\n",
       "      <td>1100049</td>\n",
       "      <td>11</td>\n",
       "      <td>100.0</td>\n",
       "      <td>100.0</td>\n",
       "      <td>97.96</td>\n",
       "      <td>40.82</td>\n",
       "      <td>97.96</td>\n",
       "      <td>57.14</td>\n",
       "      <td>12.24</td>\n",
       "      <td>97.96</td>\n",
       "      <td>...</td>\n",
       "      <td>3634.48</td>\n",
       "      <td>1.660485e+08</td>\n",
       "      <td>1.960090e+08</td>\n",
       "      <td>43131489.93</td>\n",
       "      <td>43034558.76</td>\n",
       "      <td>43023572.89</td>\n",
       "      <td>47990000.00</td>\n",
       "      <td>486.10</td>\n",
       "      <td>486.23</td>\n",
       "      <td>25.910248</td>\n",
       "    </tr>\n",
       "    <tr>\n",
       "      <th>4</th>\n",
       "      <td>1100056</td>\n",
       "      <td>11</td>\n",
       "      <td>100.0</td>\n",
       "      <td>100.0</td>\n",
       "      <td>100.00</td>\n",
       "      <td>28.57</td>\n",
       "      <td>100.00</td>\n",
       "      <td>21.43</td>\n",
       "      <td>14.29</td>\n",
       "      <td>100.00</td>\n",
       "      <td>...</td>\n",
       "      <td>3392.86</td>\n",
       "      <td>4.284447e+07</td>\n",
       "      <td>4.643137e+07</td>\n",
       "      <td>11248803.38</td>\n",
       "      <td>11206994.51</td>\n",
       "      <td>11168253.80</td>\n",
       "      <td>12189580.76</td>\n",
       "      <td>622.74</td>\n",
       "      <td>624.90</td>\n",
       "      <td>26.066967</td>\n",
       "    </tr>\n",
       "  </tbody>\n",
       "</table>\n",
       "<p>5 rows × 49 columns</p>\n",
       "</div>"
      ],
      "text/plain": [
       "   CO_MUNICIPIO  CO_UF  IN_AGUA_EXISTENTE  IN_AGUA_FILTRADA  \\\n",
       "0       1100015     11              100.0             100.0   \n",
       "1       1100023     11              100.0             100.0   \n",
       "2       1100031     11              100.0             100.0   \n",
       "3       1100049     11              100.0             100.0   \n",
       "4       1100056     11              100.0             100.0   \n",
       "\n",
       "   IN_ESGOTO_EXISTENTE  IN_BIBLIOTECA_SALA_LEITURA  IN_BANHEIRO  \\\n",
       "0                94.12                       26.47        85.29   \n",
       "1               100.00                       68.42       100.00   \n",
       "2               100.00                       25.00        75.00   \n",
       "3                97.96                       40.82        97.96   \n",
       "4               100.00                       28.57       100.00   \n",
       "\n",
       "   IN_REFEITORIO  IN_AUDITORIO  IN_COMPUTADOR  ...  VL_TOTAL  \\\n",
       "0          23.53          0.00          52.94  ...   1766.74   \n",
       "1          81.58         44.74         100.00  ...   3571.47   \n",
       "2          62.50          0.00         100.00  ...   3228.31   \n",
       "3          57.14         12.24          97.96  ...   3634.48   \n",
       "4          21.43         14.29         100.00  ...   3392.86   \n",
       "\n",
       "   VL_RECEITA_REALIZADA  VL_RECEITA_ORCADA  VL_DESPESA_EMPENHADA_EDUCACAO  \\\n",
       "0          5.566505e+07       5.460927e+07                    19143909.03   \n",
       "1          2.199496e+08       2.410261e+08                    70205925.76   \n",
       "2          1.875777e+07       2.245000e+07                     5642689.96   \n",
       "3          1.660485e+08       1.960090e+08                    43131489.93   \n",
       "4          4.284447e+07       4.643137e+07                    11248803.38   \n",
       "\n",
       "   VL_DESPESA_LIQUIDADA_EDUCACAO  VL_DESPESA_PAGA_EDUCACAO  \\\n",
       "0                    18270050.25               17848851.98   \n",
       "1                    69849241.57               68941222.90   \n",
       "2                     5597949.37                5421175.39   \n",
       "3                    43034558.76               43023572.89   \n",
       "4                    11206994.51               11168253.80   \n",
       "\n",
       "   VL_DESPESA_ORCADA_EDUCACAO  VL_DESPESA_PAG_ED_CID  VL_DESPESA_LIQ_ED_CID  \\\n",
       "0                 17414670.64                 701.69                 718.25   \n",
       "1                 65925282.00                 642.24                 650.70   \n",
       "2                  6448000.00                 871.01                 899.41   \n",
       "3                 47990000.00                 486.10                 486.23   \n",
       "4                 12189580.76                 622.74                 624.90   \n",
       "\n",
       "   PROP_EDU_INV  \n",
       "0     32.064737  \n",
       "1     31.344106  \n",
       "2     28.900965  \n",
       "3     25.910248  \n",
       "4     26.066967  \n",
       "\n",
       "[5 rows x 49 columns]"
      ]
     },
     "execution_count": 15,
     "metadata": {},
     "output_type": "execute_result"
    }
   ],
   "source": [
    "final.head()"
   ]
  },
  {
   "cell_type": "code",
   "execution_count": 16,
   "metadata": {},
   "outputs": [
    {
     "name": "stdout",
     "output_type": "stream",
     "text": [
      "<class 'pandas.core.frame.DataFrame'>\n",
      "Int64Index: 5037 entries, 0 to 5036\n",
      "Data columns (total 49 columns):\n",
      " #   Column                         Non-Null Count  Dtype  \n",
      "---  ------                         --------------  -----  \n",
      " 0   CO_MUNICIPIO                   5037 non-null   int64  \n",
      " 1   CO_UF                          5037 non-null   int64  \n",
      " 2   IN_AGUA_EXISTENTE              5037 non-null   float64\n",
      " 3   IN_AGUA_FILTRADA               5037 non-null   float64\n",
      " 4   IN_ESGOTO_EXISTENTE            5037 non-null   float64\n",
      " 5   IN_BIBLIOTECA_SALA_LEITURA     5037 non-null   float64\n",
      " 6   IN_BANHEIRO                    5037 non-null   float64\n",
      " 7   IN_REFEITORIO                  5037 non-null   float64\n",
      " 8   IN_AUDITORIO                   5037 non-null   float64\n",
      " 9   IN_COMPUTADOR                  5037 non-null   float64\n",
      " 10  IN_INTERNET                    5037 non-null   float64\n",
      " 11  IN_BANDA_LARGA                 5037 non-null   float64\n",
      " 12  IN_ALIMENTACAO                 5037 non-null   float64\n",
      " 13  IN_PATIO                       5037 non-null   float64\n",
      " 14  IN_AREA_VERDE                  5037 non-null   float64\n",
      " 15  IN_LABORATORIO_CIENCIAS        5037 non-null   float64\n",
      " 16  IN_LABORATORIO_INFORMATICA     5037 non-null   float64\n",
      " 17  IN_ENERGIA_EXISTENTE           5037 non-null   float64\n",
      " 18  IN_LIXO_RECICLA                5037 non-null   float64\n",
      " 19  IN_QUADRA_ESPORTES             5037 non-null   float64\n",
      " 20  IN_DEPENDENCIAS_PNE            5037 non-null   float64\n",
      " 21  TP_ATIVIDADE_COMPLEMENTAR      5037 non-null   float64\n",
      " 22  DS_REGIAO                      5037 non-null   object \n",
      " 23  IN_NECESSIDADE_ESPECIAL        5037 non-null   float64\n",
      " 24  IN_01_FUNDAMENTAL_COMPLETO     5037 non-null   float64\n",
      " 25  IN_02_ENSINO_MEDIO_COMPLETO    5037 non-null   float64\n",
      " 26  IN_03_NIVEL_SUPERIOR_CURSANDO  5037 non-null   float64\n",
      " 27  IN_04_NIVEL_SUPERIOR_COMPLETO  5037 non-null   float64\n",
      " 28  IN_05_POS_GRADUACAO            5037 non-null   float64\n",
      " 29  IN_06_MESTRADO                 5037 non-null   float64\n",
      " 30  IN_07_DOUTORADO                5037 non-null   float64\n",
      " 31  SIGLA_UF                       5037 non-null   object \n",
      " 32  NO_MUNICIPIO                   5037 non-null   object \n",
      " 33  REDE                           5037 non-null   object \n",
      " 34  NOTA_IDEB                      5037 non-null   float64\n",
      " 35  UF                             5037 non-null   object \n",
      " 36  NM_MUNICIPIO                   5037 non-null   object \n",
      " 37  NUM_POPULACAO                  5037 non-null   int64  \n",
      " 38  CO_MUNICIPIO_IBGE              5037 non-null   int64  \n",
      " 39  VL_TOTAL                       5037 non-null   float64\n",
      " 40  VL_RECEITA_REALIZADA           5037 non-null   float64\n",
      " 41  VL_RECEITA_ORCADA              5037 non-null   float64\n",
      " 42  VL_DESPESA_EMPENHADA_EDUCACAO  5037 non-null   float64\n",
      " 43  VL_DESPESA_LIQUIDADA_EDUCACAO  5037 non-null   float64\n",
      " 44  VL_DESPESA_PAGA_EDUCACAO       5037 non-null   float64\n",
      " 45  VL_DESPESA_ORCADA_EDUCACAO     5037 non-null   float64\n",
      " 46  VL_DESPESA_PAG_ED_CID          5037 non-null   float64\n",
      " 47  VL_DESPESA_LIQ_ED_CID          5037 non-null   float64\n",
      " 48  PROP_EDU_INV                   5037 non-null   float64\n",
      "dtypes: float64(39), int64(4), object(6)\n",
      "memory usage: 1.9+ MB\n"
     ]
    }
   ],
   "source": [
    "final.info()"
   ]
  },
  {
   "cell_type": "code",
   "execution_count": 17,
   "metadata": {},
   "outputs": [
    {
     "data": {
      "text/plain": [
       "<matplotlib.axes._subplots.AxesSubplot at 0x7fdeb1f9d550>"
      ]
     },
     "execution_count": 17,
     "metadata": {},
     "output_type": "execute_result"
    },
    {
     "data": {
      "image/png": "[encoded data removed]",
      "text/plain": [
       "<Figure size 1296x720 with 1 Axes>"
      ]
     },
     "metadata": {
      "needs_background": "light"
     },
     "output_type": "display_data"
    }
   ],
   "source": [
    "agua = final[['UF', \n",
    "                'IN_AGUA_EXISTENTE',\n",
    "                'IN_AGUA_FILTRADA']].groupby('UF') \\\n",
    "            .agg(lambda x: x.mean())\n",
    "agua.plot(kind='bar', figsize=(18,10))"
   ]
  },
  {
   "cell_type": "code",
   "execution_count": 18,
   "metadata": {},
   "outputs": [
    {
     "data": {
      "text/plain": [
       "<matplotlib.axes._subplots.AxesSubplot at 0x7fdeaf1beb90>"
      ]
     },
     "execution_count": 18,
     "metadata": {},
     "output_type": "execute_result"
    },
    {
     "data": {
      "image/png": "[encoded data removed]",
      "text/plain": [
       "<Figure size 1296x720 with 1 Axes>"
      ]
     },
     "metadata": {
      "needs_background": "light"
     },
     "output_type": "display_data"
    }
   ],
   "source": [
    "esgoto_energia = final[['UF', \n",
    "                'IN_ESGOTO_EXISTENTE', \n",
    "                'IN_ENERGIA_EXISTENTE']].groupby('UF') \\\n",
    "            .agg(lambda x: x.mean())\n",
    "esgoto_energia.plot(kind='bar', figsize=(18,10))"
   ]
  },
  {
   "cell_type": "code",
   "execution_count": 19,
   "metadata": {},
   "outputs": [
    {
     "data": {
      "text/plain": [
       "<matplotlib.axes._subplots.AxesSubplot at 0x7fdeaf43add0>"
      ]
     },
     "execution_count": 19,
     "metadata": {},
     "output_type": "execute_result"
    },
    {
     "data": {
      "image/png": "[encoded data removed]",
      "text/plain": [
       "<Figure size 1296x720 with 1 Axes>"
      ]
     },
     "metadata": {
      "needs_background": "light"
     },
     "output_type": "display_data"
    }
   ],
   "source": [
    "alimentacao = final[['UF', 'IN_ALIMENTACAO', 'IN_REFEITORIO']].groupby('UF') \\\n",
    "            .agg(lambda x: x.mean())\n",
    "alimentacao.plot(kind='bar', figsize=(18,10))"
   ]
  },
  {
   "cell_type": "code",
   "execution_count": 20,
   "metadata": {},
   "outputs": [
    {
     "data": {
      "text/plain": [
       "<matplotlib.axes._subplots.AxesSubplot at 0x7fdeaf2eca10>"
      ]
     },
     "execution_count": 20,
     "metadata": {},
     "output_type": "execute_result"
    },
    {
     "data": {
      "image/png": "[encoded data removed]",
      "text/plain": [
       "<Figure size 1440x720 with 1 Axes>"
      ]
     },
     "metadata": {
      "needs_background": "light"
     },
     "output_type": "display_data"
    }
   ],
   "source": [
    "df_p_1 = final[['UF', 'IN_BANHEIRO', 'IN_AUDITORIO']].groupby('UF') \\\n",
    "            .agg(lambda x: x.mean())\n",
    "df_p_1.plot(kind='bar', figsize=(20,10))"
   ]
  },
  {
   "cell_type": "code",
   "execution_count": 21,
   "metadata": {},
   "outputs": [
    {
     "data": {
      "text/plain": [
       "<matplotlib.axes._subplots.AxesSubplot at 0x7fdeaeb21110>"
      ]
     },
     "execution_count": 21,
     "metadata": {},
     "output_type": "execute_result"
    },
    {
     "data": {
      "image/png": "[encoded data removed]",
      "text/plain": [
       "<Figure size 1296x720 with 1 Axes>"
      ]
     },
     "metadata": {
      "needs_background": "light"
     },
     "output_type": "display_data"
    }
   ],
   "source": [
    "informatica = final[['UF', 'IN_COMPUTADOR', 'IN_INTERNET', 'IN_BANDA_LARGA']].groupby('UF') \\\n",
    "            .agg(lambda x: x.mean())\n",
    "informatica.plot(kind='bar', figsize=(18,10))"
   ]
  },
  {
   "cell_type": "code",
   "execution_count": 22,
   "metadata": {},
   "outputs": [
    {
     "data": {
      "text/plain": [
       "<matplotlib.axes._subplots.AxesSubplot at 0x7fdeaeddf290>"
      ]
     },
     "execution_count": 22,
     "metadata": {},
     "output_type": "execute_result"
    },
    {
     "data": {
      "image/png": "[encoded data removed]",
      "text/plain": [
       "<Figure size 1296x720 with 1 Axes>"
      ]
     },
     "metadata": {
      "needs_background": "light"
     },
     "output_type": "display_data"
    }
   ],
   "source": [
    "labs = final[['UF', 'IN_LABORATORIO_CIENCIAS', 'IN_LABORATORIO_INFORMATICA']].groupby('UF') \\\n",
    "            .agg(lambda x: x.mean())\n",
    "labs.plot(kind='bar', figsize=(18,10))"
   ]
  },
  {
   "cell_type": "code",
   "execution_count": 23,
   "metadata": {},
   "outputs": [
    {
     "data": {
      "text/plain": [
       "<matplotlib.axes._subplots.AxesSubplot at 0x7fdeaeca0290>"
      ]
     },
     "execution_count": 23,
     "metadata": {},
     "output_type": "execute_result"
    },
    {
     "data": {
      "image/png": "[encoded data removed]",
      "text/plain": [
       "<Figure size 1296x720 with 1 Axes>"
      ]
     },
     "metadata": {
      "needs_background": "light"
     },
     "output_type": "display_data"
    }
   ],
   "source": [
    "biblio = final[['UF', 'IN_BIBLIOTECA_SALA_LEITURA']].groupby('UF') \\\n",
    "            .agg(lambda x: x.mean())\n",
    "biblio.plot(kind='bar', figsize=(18,10))"
   ]
  },
  {
   "cell_type": "code",
   "execution_count": 24,
   "metadata": {},
   "outputs": [
    {
     "data": {
      "text/plain": [
       "<matplotlib.axes._subplots.AxesSubplot at 0x7fdeaeb8cbd0>"
      ]
     },
     "execution_count": 24,
     "metadata": {},
     "output_type": "execute_result"
    },
    {
     "data": {
      "image/png": "[encoded data removed]",
      "text/plain": [
       "<Figure size 1440x720 with 1 Axes>"
      ]
     },
     "metadata": {
      "needs_background": "light"
     },
     "output_type": "display_data"
    }
   ],
   "source": [
    "area = final[['UF', 'IN_QUADRA_ESPORTES', 'IN_PATIO', 'IN_AREA_VERDE']].groupby('UF') \\\n",
    "            .agg(lambda x: x.mean())\n",
    "area.plot(kind='bar', figsize=(20,10))"
   ]
  },
  {
   "cell_type": "code",
   "execution_count": 36,
   "metadata": {},
   "outputs": [
    {
     "data": {
      "text/plain": [
       "<matplotlib.axes._subplots.AxesSubplot at 0x7fdeae532f10>"
      ]
     },
     "execution_count": 36,
     "metadata": {},
     "output_type": "execute_result"
    },
    {
     "data": {
      "image/png": "[encoded data removed]",
      "text/plain": [
       "<Figure size 1296x720 with 1 Axes>"
      ]
     },
     "metadata": {
      "needs_background": "light"
     },
     "output_type": "display_data"
    }
   ],
   "source": [
    "ideb = final[['UF', 'NOTA_IDEB']].groupby('UF').mean()\n",
    "ideb.plot(kind='bar', figsize=(18,10))"
   ]
  },
  {
   "cell_type": "code",
   "execution_count": 38,
   "metadata": {},
   "outputs": [
    {
     "data": {
      "text/plain": [
       "<matplotlib.axes._subplots.AxesSubplot at 0x7fdeae418990>"
      ]
     },
     "execution_count": 38,
     "metadata": {},
     "output_type": "execute_result"
    },
    {
     "data": {
      "image/png": "[encoded data removed]",
      "text/plain": [
       "<Figure size 1296x720 with 1 Axes>"
      ]
     },
     "metadata": {
      "needs_background": "light"
     },
     "output_type": "display_data"
    }
   ],
   "source": [
    "ideb_regiao = final[['DS_REGIAO', 'NOTA_IDEB']].groupby('DS_REGIAO').mean()\n",
    "ideb_regiao.sort_values(by='NOTA_IDEB').plot(kind='bar', figsize=(18,10))"
   ]
  },
  {
   "cell_type": "code",
   "execution_count": 29,
   "metadata": {},
   "outputs": [
    {
     "data": {
      "text/plain": [
       "<matplotlib.axes._subplots.AxesSubplot at 0x7fdeb1fb43d0>"
      ]
     },
     "execution_count": 29,
     "metadata": {},
     "output_type": "execute_result"
    },
    {
     "data": {
      "image/png": "[encoded data removed]",
      "text/plain": [
       "<Figure size 1296x720 with 1 Axes>"
      ]
     },
     "metadata": {
      "needs_background": "light"
     },
     "output_type": "display_data"
    }
   ],
   "source": [
    "media_salarial = final[['UF', 'VL_TOTAL']].groupby('UF').mean()\n",
    "media_salarial.plot(kind='bar', figsize=(18,10))"
   ]
  },
  {
   "cell_type": "code",
   "execution_count": 30,
   "metadata": {},
   "outputs": [
    {
     "data": {
      "text/plain": [
       "<matplotlib.axes._subplots.AxesSubplot at 0x7fdeae799210>"
      ]
     },
     "execution_count": 30,
     "metadata": {},
     "output_type": "execute_result"
    },
    {
     "data": {
      "image/png": "[encoded data removed]",
      "text/plain": [
       "<Figure size 1296x720 with 1 Axes>"
      ]
     },
     "metadata": {
      "needs_background": "light"
     },
     "output_type": "display_data"
    }
   ],
   "source": [
    "invest_ed_cidadao = final[['UF', 'VL_DESPESA_PAG_ED_CID']].groupby('UF').mean()\n",
    "invest_ed_cidadao.plot(kind='bar', figsize=(18,10))"
   ]
  },
  {
   "cell_type": "code",
   "execution_count": 31,
   "metadata": {},
   "outputs": [
    {
     "data": {
      "text/plain": [
       "<matplotlib.axes._subplots.AxesSubplot at 0x7fdeae642a90>"
      ]
     },
     "execution_count": 31,
     "metadata": {},
     "output_type": "execute_result"
    },
    {
     "data": {
      "image/png": "[encoded data removed]",
      "text/plain": [
       "<Figure size 1296x720 with 1 Axes>"
      ]
     },
     "metadata": {
      "needs_background": "light"
     },
     "output_type": "display_data"
    }
   ],
   "source": [
    "proporcinal_invest_ed = final[['UF', 'PROP_EDU_INV']].groupby('UF').mean()\n",
    "proporcinal_invest_ed.plot(kind='bar', figsize=(18,10))"
   ]
  },
  {
   "cell_type": "code",
   "execution_count": 32,
   "metadata": {},
   "outputs": [
    {
     "data": {
      "text/html": [
       "<div>\n",
       "<style scoped>\n",
       "    .dataframe tbody tr th:only-of-type {\n",
       "        vertical-align: middle;\n",
       "    }\n",
       "\n",
       "    .dataframe tbody tr th {\n",
       "        vertical-align: top;\n",
       "    }\n",
       "\n",
       "    .dataframe thead th {\n",
       "        text-align: right;\n",
       "    }\n",
       "</style>\n",
       "<table border=\"1\" class=\"dataframe\">\n",
       "  <thead>\n",
       "    <tr style=\"text-align: right;\">\n",
       "      <th></th>\n",
       "      <th>UF</th>\n",
       "      <th>NOTA_IDEB</th>\n",
       "    </tr>\n",
       "  </thead>\n",
       "  <tbody>\n",
       "    <tr>\n",
       "      <th>0</th>\n",
       "      <td>AC</td>\n",
       "      <td>3.600000</td>\n",
       "    </tr>\n",
       "    <tr>\n",
       "      <th>1</th>\n",
       "      <td>AL</td>\n",
       "      <td>3.236264</td>\n",
       "    </tr>\n",
       "    <tr>\n",
       "      <th>2</th>\n",
       "      <td>AM</td>\n",
       "      <td>3.028070</td>\n",
       "    </tr>\n",
       "    <tr>\n",
       "      <th>3</th>\n",
       "      <td>AP</td>\n",
       "      <td>2.628571</td>\n",
       "    </tr>\n",
       "    <tr>\n",
       "      <th>4</th>\n",
       "      <td>BA</td>\n",
       "      <td>2.801018</td>\n",
       "    </tr>\n",
       "    <tr>\n",
       "      <th>5</th>\n",
       "      <td>CE</td>\n",
       "      <td>3.906818</td>\n",
       "    </tr>\n",
       "    <tr>\n",
       "      <th>6</th>\n",
       "      <td>ES</td>\n",
       "      <td>4.346753</td>\n",
       "    </tr>\n",
       "    <tr>\n",
       "      <th>7</th>\n",
       "      <td>GO</td>\n",
       "      <td>4.274000</td>\n",
       "    </tr>\n",
       "    <tr>\n",
       "      <th>8</th>\n",
       "      <td>MA</td>\n",
       "      <td>3.277401</td>\n",
       "    </tr>\n",
       "    <tr>\n",
       "      <th>9</th>\n",
       "      <td>MG</td>\n",
       "      <td>3.772749</td>\n",
       "    </tr>\n",
       "    <tr>\n",
       "      <th>10</th>\n",
       "      <td>MS</td>\n",
       "      <td>3.494737</td>\n",
       "    </tr>\n",
       "    <tr>\n",
       "      <th>11</th>\n",
       "      <td>MT</td>\n",
       "      <td>3.173554</td>\n",
       "    </tr>\n",
       "    <tr>\n",
       "      <th>12</th>\n",
       "      <td>PA</td>\n",
       "      <td>2.635088</td>\n",
       "    </tr>\n",
       "    <tr>\n",
       "      <th>13</th>\n",
       "      <td>PB</td>\n",
       "      <td>3.165741</td>\n",
       "    </tr>\n",
       "    <tr>\n",
       "      <th>14</th>\n",
       "      <td>PE</td>\n",
       "      <td>4.069101</td>\n",
       "    </tr>\n",
       "    <tr>\n",
       "      <th>15</th>\n",
       "      <td>PI</td>\n",
       "      <td>3.265517</td>\n",
       "    </tr>\n",
       "    <tr>\n",
       "      <th>16</th>\n",
       "      <td>PR</td>\n",
       "      <td>3.567733</td>\n",
       "    </tr>\n",
       "    <tr>\n",
       "      <th>17</th>\n",
       "      <td>RJ</td>\n",
       "      <td>3.853571</td>\n",
       "    </tr>\n",
       "    <tr>\n",
       "      <th>18</th>\n",
       "      <td>RN</td>\n",
       "      <td>2.891912</td>\n",
       "    </tr>\n",
       "    <tr>\n",
       "      <th>19</th>\n",
       "      <td>RO</td>\n",
       "      <td>3.864706</td>\n",
       "    </tr>\n",
       "    <tr>\n",
       "      <th>20</th>\n",
       "      <td>RR</td>\n",
       "      <td>3.190000</td>\n",
       "    </tr>\n",
       "    <tr>\n",
       "      <th>21</th>\n",
       "      <td>RS</td>\n",
       "      <td>3.697630</td>\n",
       "    </tr>\n",
       "    <tr>\n",
       "      <th>22</th>\n",
       "      <td>SC</td>\n",
       "      <td>3.604569</td>\n",
       "    </tr>\n",
       "    <tr>\n",
       "      <th>23</th>\n",
       "      <td>SE</td>\n",
       "      <td>3.045833</td>\n",
       "    </tr>\n",
       "    <tr>\n",
       "      <th>24</th>\n",
       "      <td>SP</td>\n",
       "      <td>4.046571</td>\n",
       "    </tr>\n",
       "    <tr>\n",
       "      <th>25</th>\n",
       "      <td>TO</td>\n",
       "      <td>3.556410</td>\n",
       "    </tr>\n",
       "  </tbody>\n",
       "</table>\n",
       "</div>"
      ],
      "text/plain": [
       "    UF  NOTA_IDEB\n",
       "0   AC   3.600000\n",
       "1   AL   3.236264\n",
       "2   AM   3.028070\n",
       "3   AP   2.628571\n",
       "4   BA   2.801018\n",
       "5   CE   3.906818\n",
       "6   ES   4.346753\n",
       "7   GO   4.274000\n",
       "8   MA   3.277401\n",
       "9   MG   3.772749\n",
       "10  MS   3.494737\n",
       "11  MT   3.173554\n",
       "12  PA   2.635088\n",
       "13  PB   3.165741\n",
       "14  PE   4.069101\n",
       "15  PI   3.265517\n",
       "16  PR   3.567733\n",
       "17  RJ   3.853571\n",
       "18  RN   2.891912\n",
       "19  RO   3.864706\n",
       "20  RR   3.190000\n",
       "21  RS   3.697630\n",
       "22  SC   3.604569\n",
       "23  SE   3.045833\n",
       "24  SP   4.046571\n",
       "25  TO   3.556410"
      ]
     },
     "execution_count": 32,
     "metadata": {},
     "output_type": "execute_result"
    }
   ],
   "source": [
    "df_n = final[['UF', 'NOTA_IDEB']].groupby(['UF'], as_index=False).mean()\n",
    "df_n"
   ]
  },
  {
   "cell_type": "code",
   "execution_count": 33,
   "metadata": {},
   "outputs": [
    {
     "data": {
      "text/plain": [
       "NOTA_IDEB    3.46132\n",
       "dtype: float64"
      ]
     },
     "execution_count": 33,
     "metadata": {},
     "output_type": "execute_result"
    }
   ],
   "source": [
    "df_n[['NOTA_IDEB']].mean()"
   ]
  },
  {
   "cell_type": "code",
   "execution_count": 34,
   "metadata": {},
   "outputs": [
    {
     "data": {
      "text/plain": [
       "NOTA_IDEB    3.5\n",
       "dtype: float64"
      ]
     },
     "execution_count": 34,
     "metadata": {},
     "output_type": "execute_result"
    }
   ],
   "source": [
    "df_n[['NOTA_IDEB']].mean().round(1)"
   ]
  },
  {
   "cell_type": "code",
   "execution_count": 68,
   "metadata": {},
   "outputs": [
    {
     "data": {
      "text/plain": [
       "<matplotlib.axes._subplots.AxesSubplot at 0x7ff587230690>"
      ]
     },
     "execution_count": 68,
     "metadata": {},
     "output_type": "execute_result"
    },
    {
     "data": {
      "image/png": "[encoded data removed]",
      "text/plain": [
       "<Figure size 1296x720 with 1 Axes>"
      ]
     },
     "metadata": {
      "needs_background": "light"
     },
     "output_type": "display_data"
    }
   ],
   "source": [
    "ideb_maior = final[\n",
    "                    [\n",
    "                    'IN_BIBLIOTECA_SALA_LEITURA', \n",
    "                    'IN_COMPUTADOR', \n",
    "                    'IN_INTERNET', \n",
    "                    'IN_BANDA_LARGA',\n",
    "                    'IN_LABORATORIO_CIENCIAS', \n",
    "                    'IN_LABORATORIO_INFORMATICA', \n",
    "                    'IN_QUADRA_ESPORTES', \n",
    "                    'IN_AREA_VERDE', \n",
    "                    'IN_DEPENDENCIAS_PNE',\n",
    "                    'IN_04_NIVEL_SUPERIOR_COMPLETO', \n",
    "                    'IN_05_POS_GRADUACAO',\n",
    "                    'IN_06_MESTRADO'\n",
    "                    ]\n",
    "                ] \\\n",
    "        [final['NOTA_IDEB'] > 4].mean()\n",
    "\n",
    "ideb_maior.plot(kind='bar', figsize=(18,10))"
   ]
  },
  {
   "cell_type": "code",
   "execution_count": 67,
   "metadata": {},
   "outputs": [
    {
     "data": {
      "text/plain": [
       "<matplotlib.axes._subplots.AxesSubplot at 0x7ff58734aed0>"
      ]
     },
     "execution_count": 67,
     "metadata": {},
     "output_type": "execute_result"
    },
    {
     "data": {
      "image/png": "[encoded data removed]",
      "text/plain": [
       "<Figure size 1296x720 with 1 Axes>"
      ]
     },
     "metadata": {
      "needs_background": "light"
     },
     "output_type": "display_data"
    }
   ],
   "source": [
    "ideb_menor = final[\n",
    "                    [\n",
    "                    'IN_BIBLIOTECA_SALA_LEITURA', \n",
    "                    'IN_COMPUTADOR', \n",
    "                    'IN_INTERNET', \n",
    "                    'IN_BANDA_LARGA',\n",
    "                    'IN_LABORATORIO_CIENCIAS', \n",
    "                    'IN_LABORATORIO_INFORMATICA', \n",
    "                    'IN_QUADRA_ESPORTES', \n",
    "                    'IN_AREA_VERDE', \n",
    "                    'IN_DEPENDENCIAS_PNE',\n",
    "                    'IN_04_NIVEL_SUPERIOR_COMPLETO', \n",
    "                    'IN_05_POS_GRADUACAO',\n",
    "                    'IN_06_MESTRADO'\n",
    "                    ]\n",
    "                ] \\\n",
    "        [final['NOTA_IDEB'] < 3].mean()\n",
    "\n",
    "ideb_menor.plot(kind='bar', figsize=(18,10))"
   ]
  },
  {
   "cell_type": "code",
   "execution_count": 74,
   "metadata": {},
   "outputs": [
    {
     "data": {
      "text/plain": [
       "<matplotlib.axes._subplots.AxesSubplot at 0x7ff5850acbd0>"
      ]
     },
     "execution_count": 74,
     "metadata": {},
     "output_type": "execute_result"
    },
    {
     "data": {
      "image/png": "[encoded data removed]",
      "text/plain": [
       "<Figure size 1296x720 with 1 Axes>"
      ]
     },
     "metadata": {
      "needs_background": "light"
     },
     "output_type": "display_data"
    }
   ],
   "source": [
    "melhor_ideb = final[\n",
    "        [\n",
    "            'IN_PATIO',\n",
    "            'IN_BIBLIOTECA_SALA_LEITURA',\n",
    "            'IN_COMPUTADOR', \n",
    "            'IN_INTERNET',\n",
    "            'IN_BANDA_LARGA', \n",
    "            'IN_LABORATORIO_CIENCIAS', \n",
    "            'IN_LABORATORIO_INFORMATICA',\n",
    "            'IN_QUADRA_ESPORTES',\n",
    "            'IN_AREA_VERDE',\n",
    "            'IN_DEPENDENCIAS_PNE',\n",
    "            'IN_LIXO_RECICLA'\n",
    "        ]\n",
    "    ][(final['NOTA_IDEB'] > 5)].mean()\n",
    "\n",
    "melhor_ideb.plot(kind='bar', figsize=(18,10))"
   ]
  },
  {
   "cell_type": "code",
   "execution_count": 77,
   "metadata": {},
   "outputs": [
    {
     "data": {
      "text/plain": [
       "<matplotlib.axes._subplots.AxesSubplot at 0x7ff585242fd0>"
      ]
     },
     "execution_count": 77,
     "metadata": {},
     "output_type": "execute_result"
    },
    {
     "data": {
      "image/png": "[encoded data removed]",
      "text/plain": [
       "<Figure size 1296x720 with 1 Axes>"
      ]
     },
     "metadata": {
      "needs_background": "light"
     },
     "output_type": "display_data"
    }
   ],
   "source": [
    "melhor_ideb_media_salarial = final[\n",
    "        [\n",
    "            'UF',\n",
    "            'VL_TOTAL'\n",
    "        ]\n",
    "    ][(final['NOTA_IDEB'] > 5)].groupby('UF').mean()\n",
    "\n",
    "melhor_ideb_media_salarial.plot(kind='bar', figsize=(18,10))"
   ]
  },
  {
   "cell_type": "code",
   "execution_count": 78,
   "metadata": {},
   "outputs": [
    {
     "data": {
      "text/plain": [
       "<matplotlib.axes._subplots.AxesSubplot at 0x7ff58501b090>"
      ]
     },
     "execution_count": 78,
     "metadata": {},
     "output_type": "execute_result"
    },
    {
     "data": {
      "image/png": "[encoded data removed]",
      "text/plain": [
       "<Figure size 1296x720 with 1 Axes>"
      ]
     },
     "metadata": {
      "needs_background": "light"
     },
     "output_type": "display_data"
    }
   ],
   "source": [
    "melhor_ideb_invest_cid = final[\n",
    "        [\n",
    "            'UF',\n",
    "            'VL_DESPESA_PAG_ED_CID'\n",
    "        ]\n",
    "    ][(final['NOTA_IDEB'] > 5)].groupby('UF').mean()\n",
    "\n",
    "melhor_ideb_invest_cid.plot(kind='bar', figsize=(18,10))"
   ]
  },
  {
   "cell_type": "code",
   "execution_count": 68,
   "metadata": {},
   "outputs": [],
   "source": [
    "from sklearn.preprocessing import MinMaxScaler\n",
    "scaler = MinMaxScaler()"
   ]
  },
  {
   "cell_type": "code",
   "execution_count": 69,
   "metadata": {},
   "outputs": [],
   "source": [
    "final_df = final[['CO_MUNICIPIO', 'CO_UF', \n",
    "             'IN_BIBLIOTECA_SALA_LEITURA', 'IN_COMPUTADOR', \n",
    "             'IN_INTERNET', 'IN_BANDA_LARGA', \n",
    "             'IN_LABORATORIO_CIENCIAS', 'IN_LABORATORIO_INFORMATICA',\n",
    "             'IN_QUADRA_ESPORTES',\n",
    "             'IN_04_NIVEL_SUPERIOR_COMPLETO', 'IN_05_POS_GRADUACAO',\n",
    "             'IN_06_MESTRADO', 'VL_TOTAL', \n",
    "             'VL_DESPESA_PAG_ED_CID', 'NOTA_IDEB']]"
   ]
  },
  {
   "cell_type": "code",
   "execution_count": 70,
   "metadata": {},
   "outputs": [
    {
     "name": "stderr",
     "output_type": "stream",
     "text": [
      "/home/matteus-paula/.local/lib/python3.7/site-packages/ipykernel_launcher.py:3: SettingWithCopyWarning: \n",
      "A value is trying to be set on a copy of a slice from a DataFrame.\n",
      "Try using .loc[row_indexer,col_indexer] = value instead\n",
      "\n",
      "See the caveats in the documentation: https://pandas.pydata.org/pandas-docs/stable/user_guide/indexing.html#returning-a-view-versus-a-copy\n",
      "  This is separate from the ipykernel package so we can avoid doing imports until\n",
      "/home/matteus-paula/.local/lib/python3.7/site-packages/pandas/core/indexing.py:966: SettingWithCopyWarning: \n",
      "A value is trying to be set on a copy of a slice from a DataFrame.\n",
      "Try using .loc[row_indexer,col_indexer] = value instead\n",
      "\n",
      "See the caveats in the documentation: https://pandas.pydata.org/pandas-docs/stable/user_guide/indexing.html#returning-a-view-versus-a-copy\n",
      "  self.obj[item] = s\n"
     ]
    }
   ],
   "source": [
    "final_df[['VL_TOTAL', \n",
    "       'VL_DESPESA_PAG_ED_CID']] = scaler.fit_transform(final_df[['VL_TOTAL', \n",
    "                                                           'VL_DESPESA_PAG_ED_CID']])"
   ]
  },
  {
   "cell_type": "code",
   "execution_count": 71,
   "metadata": {},
   "outputs": [
    {
     "data": {
      "text/html": [
       "<div>\n",
       "<style scoped>\n",
       "    .dataframe tbody tr th:only-of-type {\n",
       "        vertical-align: middle;\n",
       "    }\n",
       "\n",
       "    .dataframe tbody tr th {\n",
       "        vertical-align: top;\n",
       "    }\n",
       "\n",
       "    .dataframe thead th {\n",
       "        text-align: right;\n",
       "    }\n",
       "</style>\n",
       "<table border=\"1\" class=\"dataframe\">\n",
       "  <thead>\n",
       "    <tr style=\"text-align: right;\">\n",
       "      <th></th>\n",
       "      <th>CO_MUNICIPIO</th>\n",
       "      <th>CO_UF</th>\n",
       "      <th>IN_BIBLIOTECA_SALA_LEITURA</th>\n",
       "      <th>IN_COMPUTADOR</th>\n",
       "      <th>IN_INTERNET</th>\n",
       "      <th>IN_BANDA_LARGA</th>\n",
       "      <th>IN_LABORATORIO_CIENCIAS</th>\n",
       "      <th>IN_LABORATORIO_INFORMATICA</th>\n",
       "      <th>IN_QUADRA_ESPORTES</th>\n",
       "      <th>IN_04_NIVEL_SUPERIOR_COMPLETO</th>\n",
       "      <th>IN_05_POS_GRADUACAO</th>\n",
       "      <th>IN_06_MESTRADO</th>\n",
       "      <th>VL_TOTAL</th>\n",
       "      <th>VL_DESPESA_PAG_ED_CID</th>\n",
       "      <th>NOTA_IDEB</th>\n",
       "    </tr>\n",
       "  </thead>\n",
       "  <tbody>\n",
       "    <tr>\n",
       "      <th>0</th>\n",
       "      <td>1100015</td>\n",
       "      <td>11</td>\n",
       "      <td>26.47</td>\n",
       "      <td>52.94</td>\n",
       "      <td>44.12</td>\n",
       "      <td>23.53</td>\n",
       "      <td>5.88</td>\n",
       "      <td>14.71</td>\n",
       "      <td>41.18</td>\n",
       "      <td>92.51</td>\n",
       "      <td>55.18</td>\n",
       "      <td>3.14</td>\n",
       "      <td>0.231376</td>\n",
       "      <td>0.122154</td>\n",
       "      <td>4.35</td>\n",
       "    </tr>\n",
       "    <tr>\n",
       "      <th>1</th>\n",
       "      <td>1100023</td>\n",
       "      <td>11</td>\n",
       "      <td>68.42</td>\n",
       "      <td>100.00</td>\n",
       "      <td>89.47</td>\n",
       "      <td>65.79</td>\n",
       "      <td>18.42</td>\n",
       "      <td>73.68</td>\n",
       "      <td>68.42</td>\n",
       "      <td>96.25</td>\n",
       "      <td>61.95</td>\n",
       "      <td>5.67</td>\n",
       "      <td>0.782942</td>\n",
       "      <td>0.108801</td>\n",
       "      <td>4.35</td>\n",
       "    </tr>\n",
       "    <tr>\n",
       "      <th>2</th>\n",
       "      <td>1100031</td>\n",
       "      <td>11</td>\n",
       "      <td>25.00</td>\n",
       "      <td>100.00</td>\n",
       "      <td>100.00</td>\n",
       "      <td>50.00</td>\n",
       "      <td>0.00</td>\n",
       "      <td>25.00</td>\n",
       "      <td>50.00</td>\n",
       "      <td>99.43</td>\n",
       "      <td>53.28</td>\n",
       "      <td>0.00</td>\n",
       "      <td>0.295588</td>\n",
       "      <td>0.160185</td>\n",
       "      <td>4.40</td>\n",
       "    </tr>\n",
       "    <tr>\n",
       "      <th>3</th>\n",
       "      <td>1100049</td>\n",
       "      <td>11</td>\n",
       "      <td>40.82</td>\n",
       "      <td>97.96</td>\n",
       "      <td>63.27</td>\n",
       "      <td>57.14</td>\n",
       "      <td>14.29</td>\n",
       "      <td>36.73</td>\n",
       "      <td>44.90</td>\n",
       "      <td>93.42</td>\n",
       "      <td>63.02</td>\n",
       "      <td>2.79</td>\n",
       "      <td>0.665899</td>\n",
       "      <td>0.073729</td>\n",
       "      <td>4.50</td>\n",
       "    </tr>\n",
       "    <tr>\n",
       "      <th>4</th>\n",
       "      <td>1100056</td>\n",
       "      <td>11</td>\n",
       "      <td>28.57</td>\n",
       "      <td>100.00</td>\n",
       "      <td>100.00</td>\n",
       "      <td>100.00</td>\n",
       "      <td>7.14</td>\n",
       "      <td>28.57</td>\n",
       "      <td>57.14</td>\n",
       "      <td>98.10</td>\n",
       "      <td>85.28</td>\n",
       "      <td>0.00</td>\n",
       "      <td>0.718036</td>\n",
       "      <td>0.104421</td>\n",
       "      <td>4.55</td>\n",
       "    </tr>\n",
       "  </tbody>\n",
       "</table>\n",
       "</div>"
      ],
      "text/plain": [
       "   CO_MUNICIPIO  CO_UF  IN_BIBLIOTECA_SALA_LEITURA  IN_COMPUTADOR  \\\n",
       "0       1100015     11                       26.47          52.94   \n",
       "1       1100023     11                       68.42         100.00   \n",
       "2       1100031     11                       25.00         100.00   \n",
       "3       1100049     11                       40.82          97.96   \n",
       "4       1100056     11                       28.57         100.00   \n",
       "\n",
       "   IN_INTERNET  IN_BANDA_LARGA  IN_LABORATORIO_CIENCIAS  \\\n",
       "0        44.12           23.53                     5.88   \n",
       "1        89.47           65.79                    18.42   \n",
       "2       100.00           50.00                     0.00   \n",
       "3        63.27           57.14                    14.29   \n",
       "4       100.00          100.00                     7.14   \n",
       "\n",
       "   IN_LABORATORIO_INFORMATICA  IN_QUADRA_ESPORTES  \\\n",
       "0                       14.71               41.18   \n",
       "1                       73.68               68.42   \n",
       "2                       25.00               50.00   \n",
       "3                       36.73               44.90   \n",
       "4                       28.57               57.14   \n",
       "\n",
       "   IN_04_NIVEL_SUPERIOR_COMPLETO  IN_05_POS_GRADUACAO  IN_06_MESTRADO  \\\n",
       "0                          92.51                55.18            3.14   \n",
       "1                          96.25                61.95            5.67   \n",
       "2                          99.43                53.28            0.00   \n",
       "3                          93.42                63.02            2.79   \n",
       "4                          98.10                85.28            0.00   \n",
       "\n",
       "   VL_TOTAL  VL_DESPESA_PAG_ED_CID  NOTA_IDEB  \n",
       "0  0.231376               0.122154       4.35  \n",
       "1  0.782942               0.108801       4.35  \n",
       "2  0.295588               0.160185       4.40  \n",
       "3  0.665899               0.073729       4.50  \n",
       "4  0.718036               0.104421       4.55  "
      ]
     },
     "execution_count": 71,
     "metadata": {},
     "output_type": "execute_result"
    }
   ],
   "source": [
    "final_df.head()"
   ]
  },
  {
   "cell_type": "code",
   "execution_count": 72,
   "metadata": {},
   "outputs": [
    {
     "data": {
      "text/plain": [
       "15"
      ]
     },
     "execution_count": 72,
     "metadata": {},
     "output_type": "execute_result"
    }
   ],
   "source": [
    "len(final_df.columns)"
   ]
  },
  {
   "cell_type": "code",
   "execution_count": 86,
   "metadata": {},
   "outputs": [],
   "source": [
    "X = final_df.iloc[:, 2:14].values"
   ]
  },
  {
   "cell_type": "code",
   "execution_count": 87,
   "metadata": {},
   "outputs": [],
   "source": [
    "from sklearn.cluster import KMeans\n",
    "\n",
    "wcss=[]\n",
    "\n",
    "for i in range(1,11):\n",
    "    kmeans = KMeans(n_clusters= i, init='k-means++', random_state=0)\n",
    "    kmeans.fit(X)\n",
    "    wcss.append(kmeans.inertia_)"
   ]
  },
  {
   "cell_type": "code",
   "execution_count": 88,
   "metadata": {},
   "outputs": [
    {
     "data": {
      "image/png": "[encoded data removed]",
      "text/plain": [
       "<Figure size 432x288 with 1 Axes>"
      ]
     },
     "metadata": {
      "needs_background": "light"
     },
     "output_type": "display_data"
    }
   ],
   "source": [
    "import matplotlib.pyplot as plt\n",
    "\n",
    "plt.plot(range(1,11), wcss)\n",
    "plt.title('The Elbow Method')\n",
    "plt.xlabel('no of clusters')\n",
    "plt.ylabel('wcss')\n",
    "plt.show()"
   ]
  },
  {
   "cell_type": "code",
   "execution_count": 89,
   "metadata": {},
   "outputs": [],
   "source": [
    "kmeansmodel = KMeans(n_clusters = 3, init='k-means++', random_state=0)\n",
    "y_kmeans = kmeansmodel.fit_predict(X)\n",
    "pca_data = pd.DataFrame(y_kmeans)\n",
    "pca_data.columns = ['labels']"
   ]
  },
  {
   "cell_type": "code",
   "execution_count": 90,
   "metadata": {},
   "outputs": [
    {
     "name": "stderr",
     "output_type": "stream",
     "text": [
      "/home/matteus-paula/.local/lib/python3.7/site-packages/ipykernel_launcher.py:1: SettingWithCopyWarning: \n",
      "A value is trying to be set on a copy of a slice from a DataFrame.\n",
      "Try using .loc[row_indexer,col_indexer] = value instead\n",
      "\n",
      "See the caveats in the documentation: https://pandas.pydata.org/pandas-docs/stable/user_guide/indexing.html#returning-a-view-versus-a-copy\n",
      "  \"\"\"Entry point for launching an IPython kernel.\n"
     ]
    }
   ],
   "source": [
    "final_df['labels'] = pca_data['labels']"
   ]
  },
  {
   "cell_type": "code",
   "execution_count": 120,
   "metadata": {},
   "outputs": [
    {
     "data": {
      "text/plain": [
       "CO_MUNICIPIO                     2182\n",
       "CO_UF                            2182\n",
       "IN_BIBLIOTECA_SALA_LEITURA       2182\n",
       "IN_COMPUTADOR                    2182\n",
       "IN_INTERNET                      2182\n",
       "IN_BANDA_LARGA                   2182\n",
       "IN_LABORATORIO_CIENCIAS          2182\n",
       "IN_LABORATORIO_INFORMATICA       2182\n",
       "IN_QUADRA_ESPORTES               2182\n",
       "IN_04_NIVEL_SUPERIOR_COMPLETO    2182\n",
       "IN_05_POS_GRADUACAO              2182\n",
       "IN_06_MESTRADO                   2182\n",
       "VL_TOTAL                         2182\n",
       "VL_DESPESA_PAG_ED_CID            2182\n",
       "NOTA_IDEB                        2182\n",
       "labels                           2182\n",
       "dtype: int64"
      ]
     },
     "execution_count": 120,
     "metadata": {},
     "output_type": "execute_result"
    }
   ],
   "source": [
    "#final_df[final_df['NOTA_IDEB'] < 3].groupby('labels').count()\n",
    "\n",
    "final_df[(final_df['labels'] == 1) & (final_df['NOTA_IDEB'] > 3)].count()"
   ]
  },
  {
   "cell_type": "code",
   "execution_count": null,
   "metadata": {},
   "outputs": [],
   "source": []
  }
 ],
 "metadata": {
  "kernelspec": {
   "display_name": "Python 3",
   "language": "python",
   "name": "python3"
  },
  "language_info": {
   "codemirror_mode": {
    "name": "ipython",
    "version": 3
   },
   "file_extension": ".py",
   "mimetype": "text/x-python",
   "name": "python",
   "nbconvert_exporter": "python",
   "pygments_lexer": "ipython3",
   "version": "3.7.5"
  }
 },
 "nbformat": 4,
 "nbformat_minor": 2
}
