{
 "cells": [
  {
   "cell_type": "code",
   "execution_count": 2,
   "metadata": {},
   "outputs": [],
   "source": [
    "import pandas as pd\n",
    "import matplotlib.pyplot as plt\n",
    "from sklearn.preprocessing import MinMaxScaler"
   ]
  },
  {
   "cell_type": "code",
   "execution_count": 3,
   "metadata": {},
   "outputs": [],
   "source": [
    "diretorio_datasets = \"/home/matteus-paula/Documents/dados/dados_tcc/\""
   ]
  },
  {
   "cell_type": "code",
   "execution_count": 4,
   "metadata": {},
   "outputs": [],
   "source": [
    "municipios = pd.read_csv(f'{diretorio_datasets}municipio/municipio.csv', delimiter=\";\")"
   ]
  },
  {
   "cell_type": "code",
   "execution_count": 5,
   "metadata": {},
   "outputs": [],
   "source": [
    "investimento = pd.read_csv(f'{diretorio_datasets}investimento/investimento_municipio.csv', delimiter=\";\")"
   ]
  },
  {
   "cell_type": "code",
   "execution_count": 6,
   "metadata": {},
   "outputs": [],
   "source": [
    "ideb = pd.read_csv(f'{diretorio_datasets}ideb/ideb_final.csv', delimiter=\";\")"
   ]
  },
  {
   "cell_type": "code",
   "execution_count": 7,
   "metadata": {},
   "outputs": [],
   "source": [
    "inep_escolas = pd.read_csv(f'{diretorio_datasets}inep/escolas_set.csv', delimiter=\";\")"
   ]
  },
  {
   "cell_type": "code",
   "execution_count": 8,
   "metadata": {},
   "outputs": [],
   "source": [
    "escolaridade_docentes = pd.read_csv(f'{diretorio_datasets}inep/docentes/docentes.csv', delimiter=\";\")"
   ]
  },
  {
   "cell_type": "markdown",
   "metadata": {},
   "source": [
    "<br>"
   ]
  },
  {
   "cell_type": "code",
   "execution_count": 10,
   "metadata": {},
   "outputs": [
    {
     "data": {
      "text/html": [
       "<div>\n",
       "<style scoped>\n",
       "    .dataframe tbody tr th:only-of-type {\n",
       "        vertical-align: middle;\n",
       "    }\n",
       "\n",
       "    .dataframe tbody tr th {\n",
       "        vertical-align: top;\n",
       "    }\n",
       "\n",
       "    .dataframe thead th {\n",
       "        text-align: right;\n",
       "    }\n",
       "</style>\n",
       "<table border=\"1\" class=\"dataframe\">\n",
       "  <thead>\n",
       "    <tr style=\"text-align: right;\">\n",
       "      <th></th>\n",
       "      <th>CO_MUNICIPIO</th>\n",
       "      <th>CO_UF</th>\n",
       "      <th>IN_AGUA_EXISTENTE</th>\n",
       "      <th>IN_AGUA_FILTRADA</th>\n",
       "      <th>IN_ESGOTO_EXISTENTE</th>\n",
       "      <th>IN_BIBLIOTECA_SALA_LEITURA</th>\n",
       "      <th>IN_BANHEIRO</th>\n",
       "      <th>IN_REFEITORIO</th>\n",
       "      <th>IN_AUDITORIO</th>\n",
       "      <th>IN_COMPUTADOR</th>\n",
       "      <th>...</th>\n",
       "      <th>IN_TP_ATIVIDADE_COMPLEMENTAR</th>\n",
       "      <th>DS_REGIAO</th>\n",
       "      <th>IN_NECESSIDADE_ESPECIAL</th>\n",
       "      <th>IN_01_FUNDAMENTAL_COMPLETO</th>\n",
       "      <th>IN_02_ENSINO_MEDIO_COMPLETO</th>\n",
       "      <th>IN_03_NIVEL_SUPERIOR_CURSANDO</th>\n",
       "      <th>IN_04_NIVEL_SUPERIOR_COMPLETO</th>\n",
       "      <th>IN_05_POS_GRADUACAO</th>\n",
       "      <th>IN_06_MESTRADO</th>\n",
       "      <th>IN_07_DOUTORADO</th>\n",
       "    </tr>\n",
       "  </thead>\n",
       "  <tbody>\n",
       "    <tr>\n",
       "      <th>0</th>\n",
       "      <td>1100015</td>\n",
       "      <td>11</td>\n",
       "      <td>100.0</td>\n",
       "      <td>100.0</td>\n",
       "      <td>100.0</td>\n",
       "      <td>50.00</td>\n",
       "      <td>100.0</td>\n",
       "      <td>50.00</td>\n",
       "      <td>0.00</td>\n",
       "      <td>50.0</td>\n",
       "      <td>...</td>\n",
       "      <td>0.00</td>\n",
       "      <td>NORTE</td>\n",
       "      <td>2.57</td>\n",
       "      <td>100.0</td>\n",
       "      <td>100.00</td>\n",
       "      <td>0.40</td>\n",
       "      <td>99.60</td>\n",
       "      <td>57.71</td>\n",
       "      <td>8.89</td>\n",
       "      <td>2.37</td>\n",
       "    </tr>\n",
       "    <tr>\n",
       "      <th>1</th>\n",
       "      <td>1100023</td>\n",
       "      <td>11</td>\n",
       "      <td>100.0</td>\n",
       "      <td>100.0</td>\n",
       "      <td>100.0</td>\n",
       "      <td>100.00</td>\n",
       "      <td>100.0</td>\n",
       "      <td>100.00</td>\n",
       "      <td>62.50</td>\n",
       "      <td>100.0</td>\n",
       "      <td>...</td>\n",
       "      <td>25.00</td>\n",
       "      <td>NORTE</td>\n",
       "      <td>1.82</td>\n",
       "      <td>100.0</td>\n",
       "      <td>99.83</td>\n",
       "      <td>0.80</td>\n",
       "      <td>98.58</td>\n",
       "      <td>61.26</td>\n",
       "      <td>12.17</td>\n",
       "      <td>2.16</td>\n",
       "    </tr>\n",
       "    <tr>\n",
       "      <th>2</th>\n",
       "      <td>1100031</td>\n",
       "      <td>11</td>\n",
       "      <td>100.0</td>\n",
       "      <td>100.0</td>\n",
       "      <td>100.0</td>\n",
       "      <td>50.00</td>\n",
       "      <td>100.0</td>\n",
       "      <td>100.00</td>\n",
       "      <td>0.00</td>\n",
       "      <td>100.0</td>\n",
       "      <td>...</td>\n",
       "      <td>50.00</td>\n",
       "      <td>NORTE</td>\n",
       "      <td>0.00</td>\n",
       "      <td>100.0</td>\n",
       "      <td>100.00</td>\n",
       "      <td>0.00</td>\n",
       "      <td>100.00</td>\n",
       "      <td>49.06</td>\n",
       "      <td>0.00</td>\n",
       "      <td>0.00</td>\n",
       "    </tr>\n",
       "    <tr>\n",
       "      <th>3</th>\n",
       "      <td>1100049</td>\n",
       "      <td>11</td>\n",
       "      <td>100.0</td>\n",
       "      <td>100.0</td>\n",
       "      <td>100.0</td>\n",
       "      <td>58.33</td>\n",
       "      <td>100.0</td>\n",
       "      <td>33.33</td>\n",
       "      <td>16.67</td>\n",
       "      <td>100.0</td>\n",
       "      <td>...</td>\n",
       "      <td>8.33</td>\n",
       "      <td>NORTE</td>\n",
       "      <td>0.00</td>\n",
       "      <td>100.0</td>\n",
       "      <td>100.00</td>\n",
       "      <td>2.77</td>\n",
       "      <td>96.78</td>\n",
       "      <td>58.85</td>\n",
       "      <td>6.67</td>\n",
       "      <td>2.02</td>\n",
       "    </tr>\n",
       "    <tr>\n",
       "      <th>4</th>\n",
       "      <td>1100056</td>\n",
       "      <td>11</td>\n",
       "      <td>100.0</td>\n",
       "      <td>100.0</td>\n",
       "      <td>100.0</td>\n",
       "      <td>100.00</td>\n",
       "      <td>100.0</td>\n",
       "      <td>0.00</td>\n",
       "      <td>100.00</td>\n",
       "      <td>100.0</td>\n",
       "      <td>...</td>\n",
       "      <td>0.00</td>\n",
       "      <td>NORTE</td>\n",
       "      <td>0.00</td>\n",
       "      <td>100.0</td>\n",
       "      <td>100.00</td>\n",
       "      <td>0.00</td>\n",
       "      <td>100.00</td>\n",
       "      <td>83.56</td>\n",
       "      <td>0.00</td>\n",
       "      <td>0.00</td>\n",
       "    </tr>\n",
       "  </tbody>\n",
       "</table>\n",
       "<p>5 rows × 32 columns</p>\n",
       "</div>"
      ],
      "text/plain": [
       "   CO_MUNICIPIO  CO_UF  IN_AGUA_EXISTENTE  IN_AGUA_FILTRADA  \\\n",
       "0       1100015     11              100.0             100.0   \n",
       "1       1100023     11              100.0             100.0   \n",
       "2       1100031     11              100.0             100.0   \n",
       "3       1100049     11              100.0             100.0   \n",
       "4       1100056     11              100.0             100.0   \n",
       "\n",
       "   IN_ESGOTO_EXISTENTE  IN_BIBLIOTECA_SALA_LEITURA  IN_BANHEIRO  \\\n",
       "0                100.0                       50.00        100.0   \n",
       "1                100.0                      100.00        100.0   \n",
       "2                100.0                       50.00        100.0   \n",
       "3                100.0                       58.33        100.0   \n",
       "4                100.0                      100.00        100.0   \n",
       "\n",
       "   IN_REFEITORIO  IN_AUDITORIO  IN_COMPUTADOR  ...  \\\n",
       "0          50.00          0.00           50.0  ...   \n",
       "1         100.00         62.50          100.0  ...   \n",
       "2         100.00          0.00          100.0  ...   \n",
       "3          33.33         16.67          100.0  ...   \n",
       "4           0.00        100.00          100.0  ...   \n",
       "\n",
       "   IN_TP_ATIVIDADE_COMPLEMENTAR  DS_REGIAO  IN_NECESSIDADE_ESPECIAL  \\\n",
       "0                          0.00      NORTE                     2.57   \n",
       "1                         25.00      NORTE                     1.82   \n",
       "2                         50.00      NORTE                     0.00   \n",
       "3                          8.33      NORTE                     0.00   \n",
       "4                          0.00      NORTE                     0.00   \n",
       "\n",
       "   IN_01_FUNDAMENTAL_COMPLETO  IN_02_ENSINO_MEDIO_COMPLETO  \\\n",
       "0                       100.0                       100.00   \n",
       "1                       100.0                        99.83   \n",
       "2                       100.0                       100.00   \n",
       "3                       100.0                       100.00   \n",
       "4                       100.0                       100.00   \n",
       "\n",
       "   IN_03_NIVEL_SUPERIOR_CURSANDO  IN_04_NIVEL_SUPERIOR_COMPLETO  \\\n",
       "0                           0.40                          99.60   \n",
       "1                           0.80                          98.58   \n",
       "2                           0.00                         100.00   \n",
       "3                           2.77                          96.78   \n",
       "4                           0.00                         100.00   \n",
       "\n",
       "   IN_05_POS_GRADUACAO  IN_06_MESTRADO  IN_07_DOUTORADO  \n",
       "0                57.71            8.89             2.37  \n",
       "1                61.26           12.17             2.16  \n",
       "2                49.06            0.00             0.00  \n",
       "3                58.85            6.67             2.02  \n",
       "4                83.56            0.00             0.00  \n",
       "\n",
       "[5 rows x 32 columns]"
      ]
     },
     "execution_count": 10,
     "metadata": {},
     "output_type": "execute_result"
    }
   ],
   "source": [
    "all_escolas = pd.merge(inep_escolas, escolaridade_docentes, on='CO_MUNICIPIO', how='inner')\n",
    "all_escolas.head()"
   ]
  },
  {
   "cell_type": "code",
   "execution_count": 11,
   "metadata": {},
   "outputs": [
    {
     "data": {
      "text/html": [
       "<div>\n",
       "<style scoped>\n",
       "    .dataframe tbody tr th:only-of-type {\n",
       "        vertical-align: middle;\n",
       "    }\n",
       "\n",
       "    .dataframe tbody tr th {\n",
       "        vertical-align: top;\n",
       "    }\n",
       "\n",
       "    .dataframe thead th {\n",
       "        text-align: right;\n",
       "    }\n",
       "</style>\n",
       "<table border=\"1\" class=\"dataframe\">\n",
       "  <thead>\n",
       "    <tr style=\"text-align: right;\">\n",
       "      <th></th>\n",
       "      <th>CO_MUNICIPIO</th>\n",
       "      <th>CO_UF</th>\n",
       "      <th>IN_AGUA_EXISTENTE</th>\n",
       "      <th>IN_AGUA_FILTRADA</th>\n",
       "      <th>IN_ESGOTO_EXISTENTE</th>\n",
       "      <th>IN_BIBLIOTECA_SALA_LEITURA</th>\n",
       "      <th>IN_BANHEIRO</th>\n",
       "      <th>IN_REFEITORIO</th>\n",
       "      <th>IN_AUDITORIO</th>\n",
       "      <th>IN_COMPUTADOR</th>\n",
       "      <th>...</th>\n",
       "      <th>IN_02_ENSINO_MEDIO_COMPLETO</th>\n",
       "      <th>IN_03_NIVEL_SUPERIOR_CURSANDO</th>\n",
       "      <th>IN_04_NIVEL_SUPERIOR_COMPLETO</th>\n",
       "      <th>IN_05_POS_GRADUACAO</th>\n",
       "      <th>IN_06_MESTRADO</th>\n",
       "      <th>IN_07_DOUTORADO</th>\n",
       "      <th>SIGLA_UF</th>\n",
       "      <th>NO_MUNICIPIO</th>\n",
       "      <th>REDE</th>\n",
       "      <th>NOTA_IDEB</th>\n",
       "    </tr>\n",
       "  </thead>\n",
       "  <tbody>\n",
       "    <tr>\n",
       "      <th>0</th>\n",
       "      <td>1100015</td>\n",
       "      <td>11</td>\n",
       "      <td>100.0</td>\n",
       "      <td>100.0</td>\n",
       "      <td>100.0</td>\n",
       "      <td>50.00</td>\n",
       "      <td>100.0</td>\n",
       "      <td>50.00</td>\n",
       "      <td>0.00</td>\n",
       "      <td>50.0</td>\n",
       "      <td>...</td>\n",
       "      <td>100.00</td>\n",
       "      <td>0.40</td>\n",
       "      <td>99.60</td>\n",
       "      <td>57.71</td>\n",
       "      <td>8.89</td>\n",
       "      <td>2.37</td>\n",
       "      <td>RO</td>\n",
       "      <td>Alta Floresta D'Oeste</td>\n",
       "      <td>Pública</td>\n",
       "      <td>3.9</td>\n",
       "    </tr>\n",
       "    <tr>\n",
       "      <th>1</th>\n",
       "      <td>1100023</td>\n",
       "      <td>11</td>\n",
       "      <td>100.0</td>\n",
       "      <td>100.0</td>\n",
       "      <td>100.0</td>\n",
       "      <td>100.00</td>\n",
       "      <td>100.0</td>\n",
       "      <td>100.00</td>\n",
       "      <td>62.50</td>\n",
       "      <td>100.0</td>\n",
       "      <td>...</td>\n",
       "      <td>99.83</td>\n",
       "      <td>0.80</td>\n",
       "      <td>98.58</td>\n",
       "      <td>61.26</td>\n",
       "      <td>12.17</td>\n",
       "      <td>2.16</td>\n",
       "      <td>RO</td>\n",
       "      <td>Ariquemes</td>\n",
       "      <td>Pública</td>\n",
       "      <td>3.8</td>\n",
       "    </tr>\n",
       "    <tr>\n",
       "      <th>2</th>\n",
       "      <td>1100031</td>\n",
       "      <td>11</td>\n",
       "      <td>100.0</td>\n",
       "      <td>100.0</td>\n",
       "      <td>100.0</td>\n",
       "      <td>50.00</td>\n",
       "      <td>100.0</td>\n",
       "      <td>100.00</td>\n",
       "      <td>0.00</td>\n",
       "      <td>100.0</td>\n",
       "      <td>...</td>\n",
       "      <td>100.00</td>\n",
       "      <td>0.00</td>\n",
       "      <td>100.00</td>\n",
       "      <td>49.06</td>\n",
       "      <td>0.00</td>\n",
       "      <td>0.00</td>\n",
       "      <td>RO</td>\n",
       "      <td>Cabixi</td>\n",
       "      <td>Pública</td>\n",
       "      <td>3.7</td>\n",
       "    </tr>\n",
       "    <tr>\n",
       "      <th>3</th>\n",
       "      <td>1100049</td>\n",
       "      <td>11</td>\n",
       "      <td>100.0</td>\n",
       "      <td>100.0</td>\n",
       "      <td>100.0</td>\n",
       "      <td>58.33</td>\n",
       "      <td>100.0</td>\n",
       "      <td>33.33</td>\n",
       "      <td>16.67</td>\n",
       "      <td>100.0</td>\n",
       "      <td>...</td>\n",
       "      <td>100.00</td>\n",
       "      <td>2.77</td>\n",
       "      <td>96.78</td>\n",
       "      <td>58.85</td>\n",
       "      <td>6.67</td>\n",
       "      <td>2.02</td>\n",
       "      <td>RO</td>\n",
       "      <td>Cacoal</td>\n",
       "      <td>Pública</td>\n",
       "      <td>3.9</td>\n",
       "    </tr>\n",
       "    <tr>\n",
       "      <th>4</th>\n",
       "      <td>1100056</td>\n",
       "      <td>11</td>\n",
       "      <td>100.0</td>\n",
       "      <td>100.0</td>\n",
       "      <td>100.0</td>\n",
       "      <td>100.00</td>\n",
       "      <td>100.0</td>\n",
       "      <td>0.00</td>\n",
       "      <td>100.00</td>\n",
       "      <td>100.0</td>\n",
       "      <td>...</td>\n",
       "      <td>100.00</td>\n",
       "      <td>0.00</td>\n",
       "      <td>100.00</td>\n",
       "      <td>83.56</td>\n",
       "      <td>0.00</td>\n",
       "      <td>0.00</td>\n",
       "      <td>RO</td>\n",
       "      <td>Cerejeiras</td>\n",
       "      <td>Pública</td>\n",
       "      <td>3.8</td>\n",
       "    </tr>\n",
       "  </tbody>\n",
       "</table>\n",
       "<p>5 rows × 36 columns</p>\n",
       "</div>"
      ],
      "text/plain": [
       "   CO_MUNICIPIO  CO_UF  IN_AGUA_EXISTENTE  IN_AGUA_FILTRADA  \\\n",
       "0       1100015     11              100.0             100.0   \n",
       "1       1100023     11              100.0             100.0   \n",
       "2       1100031     11              100.0             100.0   \n",
       "3       1100049     11              100.0             100.0   \n",
       "4       1100056     11              100.0             100.0   \n",
       "\n",
       "   IN_ESGOTO_EXISTENTE  IN_BIBLIOTECA_SALA_LEITURA  IN_BANHEIRO  \\\n",
       "0                100.0                       50.00        100.0   \n",
       "1                100.0                      100.00        100.0   \n",
       "2                100.0                       50.00        100.0   \n",
       "3                100.0                       58.33        100.0   \n",
       "4                100.0                      100.00        100.0   \n",
       "\n",
       "   IN_REFEITORIO  IN_AUDITORIO  IN_COMPUTADOR  ...  \\\n",
       "0          50.00          0.00           50.0  ...   \n",
       "1         100.00         62.50          100.0  ...   \n",
       "2         100.00          0.00          100.0  ...   \n",
       "3          33.33         16.67          100.0  ...   \n",
       "4           0.00        100.00          100.0  ...   \n",
       "\n",
       "   IN_02_ENSINO_MEDIO_COMPLETO  IN_03_NIVEL_SUPERIOR_CURSANDO  \\\n",
       "0                       100.00                           0.40   \n",
       "1                        99.83                           0.80   \n",
       "2                       100.00                           0.00   \n",
       "3                       100.00                           2.77   \n",
       "4                       100.00                           0.00   \n",
       "\n",
       "   IN_04_NIVEL_SUPERIOR_COMPLETO  IN_05_POS_GRADUACAO  IN_06_MESTRADO  \\\n",
       "0                          99.60                57.71            8.89   \n",
       "1                          98.58                61.26           12.17   \n",
       "2                         100.00                49.06            0.00   \n",
       "3                          96.78                58.85            6.67   \n",
       "4                         100.00                83.56            0.00   \n",
       "\n",
       "   IN_07_DOUTORADO  SIGLA_UF           NO_MUNICIPIO     REDE  NOTA_IDEB  \n",
       "0             2.37        RO  Alta Floresta D'Oeste  Pública        3.9  \n",
       "1             2.16        RO              Ariquemes  Pública        3.8  \n",
       "2             0.00        RO                 Cabixi  Pública        3.7  \n",
       "3             2.02        RO                 Cacoal  Pública        3.9  \n",
       "4             0.00        RO             Cerejeiras  Pública        3.8  \n",
       "\n",
       "[5 rows x 36 columns]"
      ]
     },
     "execution_count": 11,
     "metadata": {},
     "output_type": "execute_result"
    }
   ],
   "source": [
    "all_escolas = pd.merge(all_escolas, ideb, on='CO_MUNICIPIO', how='inner')\n",
    "all_escolas.head()"
   ]
  },
  {
   "cell_type": "code",
   "execution_count": 12,
   "metadata": {},
   "outputs": [
    {
     "data": {
      "text/html": [
       "<div>\n",
       "<style scoped>\n",
       "    .dataframe tbody tr th:only-of-type {\n",
       "        vertical-align: middle;\n",
       "    }\n",
       "\n",
       "    .dataframe tbody tr th {\n",
       "        vertical-align: top;\n",
       "    }\n",
       "\n",
       "    .dataframe thead th {\n",
       "        text-align: right;\n",
       "    }\n",
       "</style>\n",
       "<table border=\"1\" class=\"dataframe\">\n",
       "  <thead>\n",
       "    <tr style=\"text-align: right;\">\n",
       "      <th></th>\n",
       "      <th>CO_MUNICIPIO</th>\n",
       "      <th>CO_UF</th>\n",
       "      <th>IN_AGUA_EXISTENTE</th>\n",
       "      <th>IN_AGUA_FILTRADA</th>\n",
       "      <th>IN_ESGOTO_EXISTENTE</th>\n",
       "      <th>IN_BIBLIOTECA_SALA_LEITURA</th>\n",
       "      <th>IN_BANHEIRO</th>\n",
       "      <th>IN_REFEITORIO</th>\n",
       "      <th>IN_AUDITORIO</th>\n",
       "      <th>IN_COMPUTADOR</th>\n",
       "      <th>...</th>\n",
       "      <th>IN_06_MESTRADO</th>\n",
       "      <th>IN_07_DOUTORADO</th>\n",
       "      <th>SIGLA_UF</th>\n",
       "      <th>NO_MUNICIPIO</th>\n",
       "      <th>REDE</th>\n",
       "      <th>NOTA_IDEB</th>\n",
       "      <th>UF</th>\n",
       "      <th>NM_MUNICIPIO</th>\n",
       "      <th>NUM_POPULACAO</th>\n",
       "      <th>CO_MUNICIPIO_IBGE</th>\n",
       "    </tr>\n",
       "  </thead>\n",
       "  <tbody>\n",
       "    <tr>\n",
       "      <th>0</th>\n",
       "      <td>1100015</td>\n",
       "      <td>11</td>\n",
       "      <td>100.0</td>\n",
       "      <td>100.0</td>\n",
       "      <td>100.0</td>\n",
       "      <td>50.00</td>\n",
       "      <td>100.0</td>\n",
       "      <td>50.00</td>\n",
       "      <td>0.00</td>\n",
       "      <td>50.0</td>\n",
       "      <td>...</td>\n",
       "      <td>8.89</td>\n",
       "      <td>2.37</td>\n",
       "      <td>RO</td>\n",
       "      <td>Alta Floresta D'Oeste</td>\n",
       "      <td>Pública</td>\n",
       "      <td>3.9</td>\n",
       "      <td>RO</td>\n",
       "      <td>Alta Floresta D'Oeste</td>\n",
       "      <td>25437</td>\n",
       "      <td>110001</td>\n",
       "    </tr>\n",
       "    <tr>\n",
       "      <th>1</th>\n",
       "      <td>1100023</td>\n",
       "      <td>11</td>\n",
       "      <td>100.0</td>\n",
       "      <td>100.0</td>\n",
       "      <td>100.0</td>\n",
       "      <td>100.00</td>\n",
       "      <td>100.0</td>\n",
       "      <td>100.00</td>\n",
       "      <td>62.50</td>\n",
       "      <td>100.0</td>\n",
       "      <td>...</td>\n",
       "      <td>12.17</td>\n",
       "      <td>2.16</td>\n",
       "      <td>RO</td>\n",
       "      <td>Ariquemes</td>\n",
       "      <td>Pública</td>\n",
       "      <td>3.8</td>\n",
       "      <td>RO</td>\n",
       "      <td>Ariquemes</td>\n",
       "      <td>107345</td>\n",
       "      <td>110002</td>\n",
       "    </tr>\n",
       "    <tr>\n",
       "      <th>2</th>\n",
       "      <td>1100031</td>\n",
       "      <td>11</td>\n",
       "      <td>100.0</td>\n",
       "      <td>100.0</td>\n",
       "      <td>100.0</td>\n",
       "      <td>50.00</td>\n",
       "      <td>100.0</td>\n",
       "      <td>100.00</td>\n",
       "      <td>0.00</td>\n",
       "      <td>100.0</td>\n",
       "      <td>...</td>\n",
       "      <td>0.00</td>\n",
       "      <td>0.00</td>\n",
       "      <td>RO</td>\n",
       "      <td>Cabixi</td>\n",
       "      <td>Pública</td>\n",
       "      <td>3.7</td>\n",
       "      <td>RO</td>\n",
       "      <td>Cabixi</td>\n",
       "      <td>6224</td>\n",
       "      <td>110003</td>\n",
       "    </tr>\n",
       "    <tr>\n",
       "      <th>3</th>\n",
       "      <td>1100049</td>\n",
       "      <td>11</td>\n",
       "      <td>100.0</td>\n",
       "      <td>100.0</td>\n",
       "      <td>100.0</td>\n",
       "      <td>58.33</td>\n",
       "      <td>100.0</td>\n",
       "      <td>33.33</td>\n",
       "      <td>16.67</td>\n",
       "      <td>100.0</td>\n",
       "      <td>...</td>\n",
       "      <td>6.67</td>\n",
       "      <td>2.02</td>\n",
       "      <td>RO</td>\n",
       "      <td>Cacoal</td>\n",
       "      <td>Pública</td>\n",
       "      <td>3.9</td>\n",
       "      <td>RO</td>\n",
       "      <td>Cacoal</td>\n",
       "      <td>88507</td>\n",
       "      <td>110004</td>\n",
       "    </tr>\n",
       "    <tr>\n",
       "      <th>4</th>\n",
       "      <td>1100056</td>\n",
       "      <td>11</td>\n",
       "      <td>100.0</td>\n",
       "      <td>100.0</td>\n",
       "      <td>100.0</td>\n",
       "      <td>100.00</td>\n",
       "      <td>100.0</td>\n",
       "      <td>0.00</td>\n",
       "      <td>100.00</td>\n",
       "      <td>100.0</td>\n",
       "      <td>...</td>\n",
       "      <td>0.00</td>\n",
       "      <td>0.00</td>\n",
       "      <td>RO</td>\n",
       "      <td>Cerejeiras</td>\n",
       "      <td>Pública</td>\n",
       "      <td>3.8</td>\n",
       "      <td>RO</td>\n",
       "      <td>Cerejeiras</td>\n",
       "      <td>17934</td>\n",
       "      <td>110005</td>\n",
       "    </tr>\n",
       "  </tbody>\n",
       "</table>\n",
       "<p>5 rows × 40 columns</p>\n",
       "</div>"
      ],
      "text/plain": [
       "   CO_MUNICIPIO  CO_UF  IN_AGUA_EXISTENTE  IN_AGUA_FILTRADA  \\\n",
       "0       1100015     11              100.0             100.0   \n",
       "1       1100023     11              100.0             100.0   \n",
       "2       1100031     11              100.0             100.0   \n",
       "3       1100049     11              100.0             100.0   \n",
       "4       1100056     11              100.0             100.0   \n",
       "\n",
       "   IN_ESGOTO_EXISTENTE  IN_BIBLIOTECA_SALA_LEITURA  IN_BANHEIRO  \\\n",
       "0                100.0                       50.00        100.0   \n",
       "1                100.0                      100.00        100.0   \n",
       "2                100.0                       50.00        100.0   \n",
       "3                100.0                       58.33        100.0   \n",
       "4                100.0                      100.00        100.0   \n",
       "\n",
       "   IN_REFEITORIO  IN_AUDITORIO  IN_COMPUTADOR  ...  IN_06_MESTRADO  \\\n",
       "0          50.00          0.00           50.0  ...            8.89   \n",
       "1         100.00         62.50          100.0  ...           12.17   \n",
       "2         100.00          0.00          100.0  ...            0.00   \n",
       "3          33.33         16.67          100.0  ...            6.67   \n",
       "4           0.00        100.00          100.0  ...            0.00   \n",
       "\n",
       "   IN_07_DOUTORADO  SIGLA_UF           NO_MUNICIPIO     REDE  NOTA_IDEB  UF  \\\n",
       "0             2.37        RO  Alta Floresta D'Oeste  Pública        3.9  RO   \n",
       "1             2.16        RO              Ariquemes  Pública        3.8  RO   \n",
       "2             0.00        RO                 Cabixi  Pública        3.7  RO   \n",
       "3             2.02        RO                 Cacoal  Pública        3.9  RO   \n",
       "4             0.00        RO             Cerejeiras  Pública        3.8  RO   \n",
       "\n",
       "            NM_MUNICIPIO  NUM_POPULACAO  CO_MUNICIPIO_IBGE  \n",
       "0  Alta Floresta D'Oeste          25437             110001  \n",
       "1              Ariquemes         107345             110002  \n",
       "2                 Cabixi           6224             110003  \n",
       "3                 Cacoal          88507             110004  \n",
       "4             Cerejeiras          17934             110005  \n",
       "\n",
       "[5 rows x 40 columns]"
      ]
     },
     "execution_count": 12,
     "metadata": {},
     "output_type": "execute_result"
    }
   ],
   "source": [
    "all_escolas_mun = pd.merge(all_escolas, municipios, on='CO_MUNICIPIO', how='inner')\n",
    "all_escolas_mun.head()"
   ]
  },
  {
   "cell_type": "code",
   "execution_count": 13,
   "metadata": {
    "scrolled": true
   },
   "outputs": [
    {
     "data": {
      "text/html": [
       "<div>\n",
       "<style scoped>\n",
       "    .dataframe tbody tr th:only-of-type {\n",
       "        vertical-align: middle;\n",
       "    }\n",
       "\n",
       "    .dataframe tbody tr th {\n",
       "        vertical-align: top;\n",
       "    }\n",
       "\n",
       "    .dataframe thead th {\n",
       "        text-align: right;\n",
       "    }\n",
       "</style>\n",
       "<table border=\"1\" class=\"dataframe\">\n",
       "  <thead>\n",
       "    <tr style=\"text-align: right;\">\n",
       "      <th></th>\n",
       "      <th>CO_MUNICIPIO</th>\n",
       "      <th>CO_UF</th>\n",
       "      <th>IN_AGUA_EXISTENTE</th>\n",
       "      <th>IN_AGUA_FILTRADA</th>\n",
       "      <th>IN_ESGOTO_EXISTENTE</th>\n",
       "      <th>IN_BIBLIOTECA_SALA_LEITURA</th>\n",
       "      <th>IN_BANHEIRO</th>\n",
       "      <th>IN_REFEITORIO</th>\n",
       "      <th>IN_AUDITORIO</th>\n",
       "      <th>IN_COMPUTADOR</th>\n",
       "      <th>...</th>\n",
       "      <th>NM_MUNICIPIO</th>\n",
       "      <th>NUM_POPULACAO</th>\n",
       "      <th>CO_MUNICIPIO_IBGE</th>\n",
       "      <th>VL_RECEITA_REALIZADA</th>\n",
       "      <th>VL_RECEITA_ORCADA</th>\n",
       "      <th>VL_DOTACAO_ATUALIZADA_EDUCACAO</th>\n",
       "      <th>VL_DESPESA_EMPENHADA_EDUCACAO</th>\n",
       "      <th>VL_DESPESA_LIQUIDADA_EDUCACAO</th>\n",
       "      <th>VL_DESPESA_PAGA_EDUCACAO</th>\n",
       "      <th>VL_DESPESA_ORCADA_EDUCACAO</th>\n",
       "    </tr>\n",
       "  </thead>\n",
       "  <tbody>\n",
       "    <tr>\n",
       "      <th>0</th>\n",
       "      <td>1100015</td>\n",
       "      <td>11</td>\n",
       "      <td>100.0</td>\n",
       "      <td>100.0</td>\n",
       "      <td>100.0</td>\n",
       "      <td>50.00</td>\n",
       "      <td>100.0</td>\n",
       "      <td>50.00</td>\n",
       "      <td>0.00</td>\n",
       "      <td>50.0</td>\n",
       "      <td>...</td>\n",
       "      <td>Alta Floresta D'Oeste</td>\n",
       "      <td>25437</td>\n",
       "      <td>110001</td>\n",
       "      <td>5.566505e+07</td>\n",
       "      <td>5.460927e+07</td>\n",
       "      <td>19576737.81</td>\n",
       "      <td>19143909.03</td>\n",
       "      <td>18270050.25</td>\n",
       "      <td>17848851.98</td>\n",
       "      <td>17414670.64</td>\n",
       "    </tr>\n",
       "    <tr>\n",
       "      <th>1</th>\n",
       "      <td>1100023</td>\n",
       "      <td>11</td>\n",
       "      <td>100.0</td>\n",
       "      <td>100.0</td>\n",
       "      <td>100.0</td>\n",
       "      <td>100.00</td>\n",
       "      <td>100.0</td>\n",
       "      <td>100.00</td>\n",
       "      <td>62.50</td>\n",
       "      <td>100.0</td>\n",
       "      <td>...</td>\n",
       "      <td>Ariquemes</td>\n",
       "      <td>107345</td>\n",
       "      <td>110002</td>\n",
       "      <td>2.199496e+08</td>\n",
       "      <td>2.410261e+08</td>\n",
       "      <td>82759070.60</td>\n",
       "      <td>70205925.76</td>\n",
       "      <td>69849241.57</td>\n",
       "      <td>68941222.90</td>\n",
       "      <td>65925282.00</td>\n",
       "    </tr>\n",
       "    <tr>\n",
       "      <th>2</th>\n",
       "      <td>1100031</td>\n",
       "      <td>11</td>\n",
       "      <td>100.0</td>\n",
       "      <td>100.0</td>\n",
       "      <td>100.0</td>\n",
       "      <td>50.00</td>\n",
       "      <td>100.0</td>\n",
       "      <td>100.00</td>\n",
       "      <td>0.00</td>\n",
       "      <td>100.0</td>\n",
       "      <td>...</td>\n",
       "      <td>Cabixi</td>\n",
       "      <td>6224</td>\n",
       "      <td>110003</td>\n",
       "      <td>1.875777e+07</td>\n",
       "      <td>2.245000e+07</td>\n",
       "      <td>8265033.51</td>\n",
       "      <td>5642689.96</td>\n",
       "      <td>5597949.37</td>\n",
       "      <td>5421175.39</td>\n",
       "      <td>6448000.00</td>\n",
       "    </tr>\n",
       "    <tr>\n",
       "      <th>3</th>\n",
       "      <td>1100049</td>\n",
       "      <td>11</td>\n",
       "      <td>100.0</td>\n",
       "      <td>100.0</td>\n",
       "      <td>100.0</td>\n",
       "      <td>58.33</td>\n",
       "      <td>100.0</td>\n",
       "      <td>33.33</td>\n",
       "      <td>16.67</td>\n",
       "      <td>100.0</td>\n",
       "      <td>...</td>\n",
       "      <td>Cacoal</td>\n",
       "      <td>88507</td>\n",
       "      <td>110004</td>\n",
       "      <td>1.660485e+08</td>\n",
       "      <td>1.960090e+08</td>\n",
       "      <td>49507892.84</td>\n",
       "      <td>43131489.93</td>\n",
       "      <td>43034558.76</td>\n",
       "      <td>43023572.89</td>\n",
       "      <td>47990000.00</td>\n",
       "    </tr>\n",
       "    <tr>\n",
       "      <th>4</th>\n",
       "      <td>1100056</td>\n",
       "      <td>11</td>\n",
       "      <td>100.0</td>\n",
       "      <td>100.0</td>\n",
       "      <td>100.0</td>\n",
       "      <td>100.00</td>\n",
       "      <td>100.0</td>\n",
       "      <td>0.00</td>\n",
       "      <td>100.00</td>\n",
       "      <td>100.0</td>\n",
       "      <td>...</td>\n",
       "      <td>Cerejeiras</td>\n",
       "      <td>17934</td>\n",
       "      <td>110005</td>\n",
       "      <td>4.284447e+07</td>\n",
       "      <td>4.643137e+07</td>\n",
       "      <td>11673292.32</td>\n",
       "      <td>11248803.38</td>\n",
       "      <td>11206994.51</td>\n",
       "      <td>11168253.80</td>\n",
       "      <td>12189580.76</td>\n",
       "    </tr>\n",
       "  </tbody>\n",
       "</table>\n",
       "<p>5 rows × 47 columns</p>\n",
       "</div>"
      ],
      "text/plain": [
       "   CO_MUNICIPIO  CO_UF  IN_AGUA_EXISTENTE  IN_AGUA_FILTRADA  \\\n",
       "0       1100015     11              100.0             100.0   \n",
       "1       1100023     11              100.0             100.0   \n",
       "2       1100031     11              100.0             100.0   \n",
       "3       1100049     11              100.0             100.0   \n",
       "4       1100056     11              100.0             100.0   \n",
       "\n",
       "   IN_ESGOTO_EXISTENTE  IN_BIBLIOTECA_SALA_LEITURA  IN_BANHEIRO  \\\n",
       "0                100.0                       50.00        100.0   \n",
       "1                100.0                      100.00        100.0   \n",
       "2                100.0                       50.00        100.0   \n",
       "3                100.0                       58.33        100.0   \n",
       "4                100.0                      100.00        100.0   \n",
       "\n",
       "   IN_REFEITORIO  IN_AUDITORIO  IN_COMPUTADOR  ...           NM_MUNICIPIO  \\\n",
       "0          50.00          0.00           50.0  ...  Alta Floresta D'Oeste   \n",
       "1         100.00         62.50          100.0  ...              Ariquemes   \n",
       "2         100.00          0.00          100.0  ...                 Cabixi   \n",
       "3          33.33         16.67          100.0  ...                 Cacoal   \n",
       "4           0.00        100.00          100.0  ...             Cerejeiras   \n",
       "\n",
       "   NUM_POPULACAO  CO_MUNICIPIO_IBGE  VL_RECEITA_REALIZADA  VL_RECEITA_ORCADA  \\\n",
       "0          25437             110001          5.566505e+07       5.460927e+07   \n",
       "1         107345             110002          2.199496e+08       2.410261e+08   \n",
       "2           6224             110003          1.875777e+07       2.245000e+07   \n",
       "3          88507             110004          1.660485e+08       1.960090e+08   \n",
       "4          17934             110005          4.284447e+07       4.643137e+07   \n",
       "\n",
       "   VL_DOTACAO_ATUALIZADA_EDUCACAO  VL_DESPESA_EMPENHADA_EDUCACAO  \\\n",
       "0                     19576737.81                    19143909.03   \n",
       "1                     82759070.60                    70205925.76   \n",
       "2                      8265033.51                     5642689.96   \n",
       "3                     49507892.84                    43131489.93   \n",
       "4                     11673292.32                    11248803.38   \n",
       "\n",
       "   VL_DESPESA_LIQUIDADA_EDUCACAO  VL_DESPESA_PAGA_EDUCACAO  \\\n",
       "0                    18270050.25               17848851.98   \n",
       "1                    69849241.57               68941222.90   \n",
       "2                     5597949.37                5421175.39   \n",
       "3                    43034558.76               43023572.89   \n",
       "4                    11206994.51               11168253.80   \n",
       "\n",
       "   VL_DESPESA_ORCADA_EDUCACAO  \n",
       "0                 17414670.64  \n",
       "1                 65925282.00  \n",
       "2                  6448000.00  \n",
       "3                 47990000.00  \n",
       "4                 12189580.76  \n",
       "\n",
       "[5 rows x 47 columns]"
      ]
     },
     "execution_count": 13,
     "metadata": {},
     "output_type": "execute_result"
    }
   ],
   "source": [
    "final = pd.merge(all_escolas_mun, investimento, on=\"CO_MUNICIPIO_IBGE\", how='inner')\n",
    "final.head()"
   ]
  },
  {
   "cell_type": "code",
   "execution_count": 14,
   "metadata": {},
   "outputs": [],
   "source": [
    "final['VL_DESPESA_PAG_ED_CID'] = round(final['VL_DESPESA_PAGA_EDUCACAO'] / final['NUM_POPULACAO'], 2)\n",
    "final['VL_RECEITA_CID'] = round(final['VL_RECEITA_REALIZADA'] / final['NUM_POPULACAO'], 2)"
   ]
  },
  {
   "cell_type": "code",
   "execution_count": 15,
   "metadata": {},
   "outputs": [
    {
     "data": {
      "text/html": [
       "<div>\n",
       "<style scoped>\n",
       "    .dataframe tbody tr th:only-of-type {\n",
       "        vertical-align: middle;\n",
       "    }\n",
       "\n",
       "    .dataframe tbody tr th {\n",
       "        vertical-align: top;\n",
       "    }\n",
       "\n",
       "    .dataframe thead th {\n",
       "        text-align: right;\n",
       "    }\n",
       "</style>\n",
       "<table border=\"1\" class=\"dataframe\">\n",
       "  <thead>\n",
       "    <tr style=\"text-align: right;\">\n",
       "      <th></th>\n",
       "      <th>CO_MUNICIPIO</th>\n",
       "      <th>CO_UF</th>\n",
       "      <th>IN_AGUA_EXISTENTE</th>\n",
       "      <th>IN_AGUA_FILTRADA</th>\n",
       "      <th>IN_ESGOTO_EXISTENTE</th>\n",
       "      <th>IN_BIBLIOTECA_SALA_LEITURA</th>\n",
       "      <th>IN_BANHEIRO</th>\n",
       "      <th>IN_REFEITORIO</th>\n",
       "      <th>IN_AUDITORIO</th>\n",
       "      <th>IN_COMPUTADOR</th>\n",
       "      <th>...</th>\n",
       "      <th>CO_MUNICIPIO_IBGE</th>\n",
       "      <th>VL_RECEITA_REALIZADA</th>\n",
       "      <th>VL_RECEITA_ORCADA</th>\n",
       "      <th>VL_DOTACAO_ATUALIZADA_EDUCACAO</th>\n",
       "      <th>VL_DESPESA_EMPENHADA_EDUCACAO</th>\n",
       "      <th>VL_DESPESA_LIQUIDADA_EDUCACAO</th>\n",
       "      <th>VL_DESPESA_PAGA_EDUCACAO</th>\n",
       "      <th>VL_DESPESA_ORCADA_EDUCACAO</th>\n",
       "      <th>VL_DESPESA_PAG_ED_CID</th>\n",
       "      <th>VL_RECEITA_CID</th>\n",
       "    </tr>\n",
       "  </thead>\n",
       "  <tbody>\n",
       "    <tr>\n",
       "      <th>0</th>\n",
       "      <td>1100015</td>\n",
       "      <td>11</td>\n",
       "      <td>100.0</td>\n",
       "      <td>100.0</td>\n",
       "      <td>100.0</td>\n",
       "      <td>50.00</td>\n",
       "      <td>100.0</td>\n",
       "      <td>50.00</td>\n",
       "      <td>0.00</td>\n",
       "      <td>50.0</td>\n",
       "      <td>...</td>\n",
       "      <td>110001</td>\n",
       "      <td>5.566505e+07</td>\n",
       "      <td>5.460927e+07</td>\n",
       "      <td>19576737.81</td>\n",
       "      <td>19143909.03</td>\n",
       "      <td>18270050.25</td>\n",
       "      <td>17848851.98</td>\n",
       "      <td>17414670.64</td>\n",
       "      <td>701.69</td>\n",
       "      <td>2188.35</td>\n",
       "    </tr>\n",
       "    <tr>\n",
       "      <th>1</th>\n",
       "      <td>1100023</td>\n",
       "      <td>11</td>\n",
       "      <td>100.0</td>\n",
       "      <td>100.0</td>\n",
       "      <td>100.0</td>\n",
       "      <td>100.00</td>\n",
       "      <td>100.0</td>\n",
       "      <td>100.00</td>\n",
       "      <td>62.50</td>\n",
       "      <td>100.0</td>\n",
       "      <td>...</td>\n",
       "      <td>110002</td>\n",
       "      <td>2.199496e+08</td>\n",
       "      <td>2.410261e+08</td>\n",
       "      <td>82759070.60</td>\n",
       "      <td>70205925.76</td>\n",
       "      <td>69849241.57</td>\n",
       "      <td>68941222.90</td>\n",
       "      <td>65925282.00</td>\n",
       "      <td>642.24</td>\n",
       "      <td>2049.00</td>\n",
       "    </tr>\n",
       "    <tr>\n",
       "      <th>2</th>\n",
       "      <td>1100031</td>\n",
       "      <td>11</td>\n",
       "      <td>100.0</td>\n",
       "      <td>100.0</td>\n",
       "      <td>100.0</td>\n",
       "      <td>50.00</td>\n",
       "      <td>100.0</td>\n",
       "      <td>100.00</td>\n",
       "      <td>0.00</td>\n",
       "      <td>100.0</td>\n",
       "      <td>...</td>\n",
       "      <td>110003</td>\n",
       "      <td>1.875777e+07</td>\n",
       "      <td>2.245000e+07</td>\n",
       "      <td>8265033.51</td>\n",
       "      <td>5642689.96</td>\n",
       "      <td>5597949.37</td>\n",
       "      <td>5421175.39</td>\n",
       "      <td>6448000.00</td>\n",
       "      <td>871.01</td>\n",
       "      <td>3013.78</td>\n",
       "    </tr>\n",
       "    <tr>\n",
       "      <th>3</th>\n",
       "      <td>1100049</td>\n",
       "      <td>11</td>\n",
       "      <td>100.0</td>\n",
       "      <td>100.0</td>\n",
       "      <td>100.0</td>\n",
       "      <td>58.33</td>\n",
       "      <td>100.0</td>\n",
       "      <td>33.33</td>\n",
       "      <td>16.67</td>\n",
       "      <td>100.0</td>\n",
       "      <td>...</td>\n",
       "      <td>110004</td>\n",
       "      <td>1.660485e+08</td>\n",
       "      <td>1.960090e+08</td>\n",
       "      <td>49507892.84</td>\n",
       "      <td>43131489.93</td>\n",
       "      <td>43034558.76</td>\n",
       "      <td>43023572.89</td>\n",
       "      <td>47990000.00</td>\n",
       "      <td>486.10</td>\n",
       "      <td>1876.11</td>\n",
       "    </tr>\n",
       "    <tr>\n",
       "      <th>4</th>\n",
       "      <td>1100056</td>\n",
       "      <td>11</td>\n",
       "      <td>100.0</td>\n",
       "      <td>100.0</td>\n",
       "      <td>100.0</td>\n",
       "      <td>100.00</td>\n",
       "      <td>100.0</td>\n",
       "      <td>0.00</td>\n",
       "      <td>100.00</td>\n",
       "      <td>100.0</td>\n",
       "      <td>...</td>\n",
       "      <td>110005</td>\n",
       "      <td>4.284447e+07</td>\n",
       "      <td>4.643137e+07</td>\n",
       "      <td>11673292.32</td>\n",
       "      <td>11248803.38</td>\n",
       "      <td>11206994.51</td>\n",
       "      <td>11168253.80</td>\n",
       "      <td>12189580.76</td>\n",
       "      <td>622.74</td>\n",
       "      <td>2389.01</td>\n",
       "    </tr>\n",
       "  </tbody>\n",
       "</table>\n",
       "<p>5 rows × 49 columns</p>\n",
       "</div>"
      ],
      "text/plain": [
       "   CO_MUNICIPIO  CO_UF  IN_AGUA_EXISTENTE  IN_AGUA_FILTRADA  \\\n",
       "0       1100015     11              100.0             100.0   \n",
       "1       1100023     11              100.0             100.0   \n",
       "2       1100031     11              100.0             100.0   \n",
       "3       1100049     11              100.0             100.0   \n",
       "4       1100056     11              100.0             100.0   \n",
       "\n",
       "   IN_ESGOTO_EXISTENTE  IN_BIBLIOTECA_SALA_LEITURA  IN_BANHEIRO  \\\n",
       "0                100.0                       50.00        100.0   \n",
       "1                100.0                      100.00        100.0   \n",
       "2                100.0                       50.00        100.0   \n",
       "3                100.0                       58.33        100.0   \n",
       "4                100.0                      100.00        100.0   \n",
       "\n",
       "   IN_REFEITORIO  IN_AUDITORIO  IN_COMPUTADOR  ...  CO_MUNICIPIO_IBGE  \\\n",
       "0          50.00          0.00           50.0  ...             110001   \n",
       "1         100.00         62.50          100.0  ...             110002   \n",
       "2         100.00          0.00          100.0  ...             110003   \n",
       "3          33.33         16.67          100.0  ...             110004   \n",
       "4           0.00        100.00          100.0  ...             110005   \n",
       "\n",
       "   VL_RECEITA_REALIZADA  VL_RECEITA_ORCADA  VL_DOTACAO_ATUALIZADA_EDUCACAO  \\\n",
       "0          5.566505e+07       5.460927e+07                     19576737.81   \n",
       "1          2.199496e+08       2.410261e+08                     82759070.60   \n",
       "2          1.875777e+07       2.245000e+07                      8265033.51   \n",
       "3          1.660485e+08       1.960090e+08                     49507892.84   \n",
       "4          4.284447e+07       4.643137e+07                     11673292.32   \n",
       "\n",
       "   VL_DESPESA_EMPENHADA_EDUCACAO  VL_DESPESA_LIQUIDADA_EDUCACAO  \\\n",
       "0                    19143909.03                    18270050.25   \n",
       "1                    70205925.76                    69849241.57   \n",
       "2                     5642689.96                     5597949.37   \n",
       "3                    43131489.93                    43034558.76   \n",
       "4                    11248803.38                    11206994.51   \n",
       "\n",
       "   VL_DESPESA_PAGA_EDUCACAO  VL_DESPESA_ORCADA_EDUCACAO  \\\n",
       "0               17848851.98                 17414670.64   \n",
       "1               68941222.90                 65925282.00   \n",
       "2                5421175.39                  6448000.00   \n",
       "3               43023572.89                 47990000.00   \n",
       "4               11168253.80                 12189580.76   \n",
       "\n",
       "   VL_DESPESA_PAG_ED_CID  VL_RECEITA_CID  \n",
       "0                 701.69         2188.35  \n",
       "1                 642.24         2049.00  \n",
       "2                 871.01         3013.78  \n",
       "3                 486.10         1876.11  \n",
       "4                 622.74         2389.01  \n",
       "\n",
       "[5 rows x 49 columns]"
      ]
     },
     "execution_count": 15,
     "metadata": {},
     "output_type": "execute_result"
    }
   ],
   "source": [
    "final.head()"
   ]
  },
  {
   "cell_type": "code",
   "execution_count": 16,
   "metadata": {},
   "outputs": [
    {
     "name": "stdout",
     "output_type": "stream",
     "text": [
      "<class 'pandas.core.frame.DataFrame'>\n",
      "Int64Index: 5233 entries, 0 to 5232\n",
      "Data columns (total 49 columns):\n",
      " #   Column                          Non-Null Count  Dtype  \n",
      "---  ------                          --------------  -----  \n",
      " 0   CO_MUNICIPIO                    5233 non-null   int64  \n",
      " 1   CO_UF                           5233 non-null   int64  \n",
      " 2   IN_AGUA_EXISTENTE               5233 non-null   float64\n",
      " 3   IN_AGUA_FILTRADA                5233 non-null   float64\n",
      " 4   IN_ESGOTO_EXISTENTE             5233 non-null   float64\n",
      " 5   IN_BIBLIOTECA_SALA_LEITURA      5233 non-null   float64\n",
      " 6   IN_BANHEIRO                     5233 non-null   float64\n",
      " 7   IN_REFEITORIO                   5233 non-null   float64\n",
      " 8   IN_AUDITORIO                    5233 non-null   float64\n",
      " 9   IN_COMPUTADOR                   5233 non-null   float64\n",
      " 10  IN_INTERNET                     5233 non-null   float64\n",
      " 11  IN_BANDA_LARGA                  5233 non-null   float64\n",
      " 12  IN_ALIMENTACAO                  5233 non-null   float64\n",
      " 13  IN_PATIO                        5233 non-null   float64\n",
      " 14  IN_AREA_VERDE                   5233 non-null   float64\n",
      " 15  IN_LABORATORIO_CIENCIAS         5233 non-null   float64\n",
      " 16  IN_LABORATORIO_INFORMATICA      5233 non-null   float64\n",
      " 17  IN_ENERGIA_EXISTENTE            5233 non-null   float64\n",
      " 18  IN_LIXO_RECICLA                 5233 non-null   float64\n",
      " 19  IN_QUADRA_ESPORTES              5233 non-null   float64\n",
      " 20  IN_TP_AEE                       5233 non-null   float64\n",
      " 21  IN_DEPENDENCIAS_PNE             5233 non-null   float64\n",
      " 22  IN_TP_ATIVIDADE_COMPLEMENTAR    5233 non-null   float64\n",
      " 23  DS_REGIAO                       5233 non-null   object \n",
      " 24  IN_NECESSIDADE_ESPECIAL         5233 non-null   float64\n",
      " 25  IN_01_FUNDAMENTAL_COMPLETO      5233 non-null   float64\n",
      " 26  IN_02_ENSINO_MEDIO_COMPLETO     5233 non-null   float64\n",
      " 27  IN_03_NIVEL_SUPERIOR_CURSANDO   5233 non-null   float64\n",
      " 28  IN_04_NIVEL_SUPERIOR_COMPLETO   5233 non-null   float64\n",
      " 29  IN_05_POS_GRADUACAO             5233 non-null   float64\n",
      " 30  IN_06_MESTRADO                  5233 non-null   float64\n",
      " 31  IN_07_DOUTORADO                 5233 non-null   float64\n",
      " 32  SIGLA_UF                        5233 non-null   object \n",
      " 33  NO_MUNICIPIO                    5233 non-null   object \n",
      " 34  REDE                            5233 non-null   object \n",
      " 35  NOTA_IDEB                       5233 non-null   float64\n",
      " 36  UF                              5233 non-null   object \n",
      " 37  NM_MUNICIPIO                    5233 non-null   object \n",
      " 38  NUM_POPULACAO                   5233 non-null   int64  \n",
      " 39  CO_MUNICIPIO_IBGE               5233 non-null   int64  \n",
      " 40  VL_RECEITA_REALIZADA            5233 non-null   float64\n",
      " 41  VL_RECEITA_ORCADA               5233 non-null   float64\n",
      " 42  VL_DOTACAO_ATUALIZADA_EDUCACAO  5233 non-null   float64\n",
      " 43  VL_DESPESA_EMPENHADA_EDUCACAO   5233 non-null   float64\n",
      " 44  VL_DESPESA_LIQUIDADA_EDUCACAO   5233 non-null   float64\n",
      " 45  VL_DESPESA_PAGA_EDUCACAO        5233 non-null   float64\n",
      " 46  VL_DESPESA_ORCADA_EDUCACAO      5233 non-null   float64\n",
      " 47  VL_DESPESA_PAG_ED_CID           5233 non-null   float64\n",
      " 48  VL_RECEITA_CID                  5233 non-null   float64\n",
      "dtypes: float64(39), int64(4), object(6)\n",
      "memory usage: 2.0+ MB\n"
     ]
    }
   ],
   "source": [
    "final.info()"
   ]
  },
  {
   "cell_type": "code",
   "execution_count": null,
   "metadata": {},
   "outputs": [],
   "source": [
    "final.to_csv(f'{path_dataset_final}/final.csv', sep=';', encoding='utf-8', index=False)"
   ]
  },
  {
   "cell_type": "code",
   "execution_count": 23,
   "metadata": {
    "scrolled": false
   },
   "outputs": [
    {
     "data": {
      "text/plain": [
       "<matplotlib.axes._subplots.AxesSubplot at 0x7f3da7e6ce10>"
      ]
     },
     "execution_count": 23,
     "metadata": {},
     "output_type": "execute_result"
    },
    {
     "data": {
      "image/png": "[encoded data removed]",
      "text/plain": [
       "<Figure size 1296x720 with 1 Axes>"
      ]
     },
     "metadata": {},
     "output_type": "display_data"
    }
   ],
   "source": [
    "agua = final[\n",
    "                [\n",
    "                    'UF', \n",
    "                    'IN_AGUA_EXISTENTE',\n",
    "                    'IN_AGUA_FILTRADA'\n",
    "                ]\n",
    "            ].groupby('UF') \\\n",
    "            .agg(lambda x: x.mean())\n",
    "plt.style.use('seaborn-whitegrid')\n",
    "agua.plot(kind='bar', figsize=(18,10), color='yg')"
   ]
  },
  {
   "cell_type": "code",
   "execution_count": 24,
   "metadata": {},
   "outputs": [
    {
     "name": "stdout",
     "output_type": "stream",
     "text": [
      "Indice de correlação Agua existente 0.06465096836687469\n",
      "Indice de correlação Agua filtrada 0.05961528318698601\n"
     ]
    }
   ],
   "source": [
    "print('Indice de correlação Agua existente ' + str(final['NOTA_IDEB'].corr(final['IN_AGUA_EXISTENTE'])))\n",
    "print('Indice de correlação Agua filtrada ' + str(final['NOTA_IDEB'].corr(final['IN_AGUA_FILTRADA'])))"
   ]
  },
  {
   "cell_type": "markdown",
   "metadata": {},
   "source": [
    "<br>"
   ]
  },
  {
   "cell_type": "code",
   "execution_count": 25,
   "metadata": {},
   "outputs": [
    {
     "data": {
      "text/plain": [
       "<matplotlib.axes._subplots.AxesSubplot at 0x7f3da7a89f10>"
      ]
     },
     "execution_count": 25,
     "metadata": {},
     "output_type": "execute_result"
    },
    {
     "data": {
      "image/png": "[encoded data removed]",
      "text/plain": [
       "<Figure size 1296x720 with 1 Axes>"
      ]
     },
     "metadata": {},
     "output_type": "display_data"
    }
   ],
   "source": [
    "esgoto_energia = final[['UF', \n",
    "                'IN_ESGOTO_EXISTENTE', \n",
    "                'IN_ENERGIA_EXISTENTE']].groupby('UF') \\\n",
    "            .agg(lambda x: x.mean())\n",
    "esgoto_energia.plot(kind='bar', figsize=(18,10), color='gc')"
   ]
  },
  {
   "cell_type": "code",
   "execution_count": 26,
   "metadata": {},
   "outputs": [
    {
     "name": "stdout",
     "output_type": "stream",
     "text": [
      "Indice de correlação Esgoto existente: 0.03631656615049439\n",
      "Indice de correlação Energia existente: 0.026228462918868312\n"
     ]
    }
   ],
   "source": [
    "print('Indice de correlação Esgoto existente: ' + str(final['NOTA_IDEB'].corr(final['IN_ESGOTO_EXISTENTE'])))\n",
    "print('Indice de correlação Energia existente: ' + str(final['NOTA_IDEB'].corr(final['IN_ENERGIA_EXISTENTE'])))"
   ]
  },
  {
   "cell_type": "markdown",
   "metadata": {},
   "source": [
    "<br>"
   ]
  },
  {
   "cell_type": "code",
   "execution_count": 27,
   "metadata": {
    "scrolled": false
   },
   "outputs": [
    {
     "data": {
      "text/plain": [
       "<matplotlib.axes._subplots.AxesSubplot at 0x7f3da7a28890>"
      ]
     },
     "execution_count": 27,
     "metadata": {},
     "output_type": "execute_result"
    },
    {
     "data": {
      "image/png": "[encoded data removed]",
      "text/plain": [
       "<Figure size 1296x720 with 1 Axes>"
      ]
     },
     "metadata": {},
     "output_type": "display_data"
    }
   ],
   "source": [
    "alimentacao = final[['UF', 'IN_ALIMENTACAO', 'IN_REFEITORIO']].groupby('UF') \\\n",
    "            .agg(lambda x: x.mean())\n",
    "alimentacao.plot(kind='bar', figsize=(18,10), color='cb')"
   ]
  },
  {
   "cell_type": "code",
   "execution_count": 28,
   "metadata": {},
   "outputs": [
    {
     "name": "stdout",
     "output_type": "stream",
     "text": [
      "Indice de correlação Alimentação existente: 0.02234471417605372\n",
      "Indice de correlação Refeitorio existente: 0.16023427643932497\n"
     ]
    }
   ],
   "source": [
    "print('Indice de correlação Alimentação existente: ' + str(final['NOTA_IDEB'].corr(final['IN_ALIMENTACAO'])))\n",
    "print('Indice de correlação Refeitorio existente: ' + str(final['NOTA_IDEB'].corr(final['IN_REFEITORIO'])))"
   ]
  },
  {
   "cell_type": "markdown",
   "metadata": {},
   "source": [
    "<br>"
   ]
  },
  {
   "cell_type": "code",
   "execution_count": 30,
   "metadata": {},
   "outputs": [
    {
     "data": {
      "text/plain": [
       "<matplotlib.axes._subplots.AxesSubplot at 0x7f3da5142c10>"
      ]
     },
     "execution_count": 30,
     "metadata": {},
     "output_type": "execute_result"
    },
    {
     "data": {
      "image/png": "[encoded data removed]",
      "text/plain": [
       "<Figure size 1296x720 with 1 Axes>"
      ]
     },
     "metadata": {},
     "output_type": "display_data"
    }
   ],
   "source": [
    "banheiro_audit = final[['UF', 'IN_BANHEIRO', 'IN_AUDITORIO']].groupby('UF') \\\n",
    "            .agg(lambda x: x.mean())\n",
    "banheiro_audit.plot(kind='bar', figsize=(18,10), color=[\"#2ca02c\", \"#ff7f0e\"])"
   ]
  },
  {
   "cell_type": "code",
   "execution_count": 32,
   "metadata": {},
   "outputs": [
    {
     "name": "stdout",
     "output_type": "stream",
     "text": [
      "Indice de correlação banheiro existente: -0.09992511734666161\n",
      "Indice de correlação auditorio existente: 0.0872345294570081\n"
     ]
    }
   ],
   "source": [
    "print('Indice de correlação banheiro existente: ' + str(final['NOTA_IDEB'].corr(final['IN_BANHEIRO'])))\n",
    "print('Indice de correlação auditorio existente: ' + str(final['NOTA_IDEB'].corr(final['IN_AUDITORIO'])))"
   ]
  },
  {
   "cell_type": "markdown",
   "metadata": {},
   "source": [
    "<br>"
   ]
  },
  {
   "cell_type": "code",
   "execution_count": 34,
   "metadata": {},
   "outputs": [
    {
     "data": {
      "text/plain": [
       "<matplotlib.axes._subplots.AxesSubplot at 0x7f3da4c29f90>"
      ]
     },
     "execution_count": 34,
     "metadata": {},
     "output_type": "execute_result"
    },
    {
     "data": {
      "image/png": "[encoded data removed]",
      "text/plain": [
       "<Figure size 1296x720 with 1 Axes>"
      ]
     },
     "metadata": {},
     "output_type": "display_data"
    }
   ],
   "source": [
    "informatica = final[['UF', 'IN_COMPUTADOR', 'IN_INTERNET', 'IN_BANDA_LARGA']].groupby('UF') \\\n",
    "            .agg(lambda x: x.mean())\n",
    "informatica.plot(kind='bar', figsize=(18,10), color=[\"#bcbd22\", \"#17becf\", \"#8c564b\"])"
   ]
  },
  {
   "cell_type": "code",
   "execution_count": 36,
   "metadata": {},
   "outputs": [
    {
     "name": "stdout",
     "output_type": "stream",
     "text": [
      "Indice de correlação computador existente: 0.049029318465761765\n",
      "Indice de correlação internet existente: 0.16518284332754624\n",
      "Indice de correlação banda larga existente: 0.1640056168960524\n"
     ]
    }
   ],
   "source": [
    "print('Indice de correlação computador existente: ' \\\n",
    "      + str(final['NOTA_IDEB'].corr(final['IN_COMPUTADOR'])))\n",
    "print('Indice de correlação internet existente: ' \\\n",
    "      + str(final['NOTA_IDEB'].corr(final['IN_INTERNET'])))\n",
    "print('Indice de correlação banda larga existente: ' \\\n",
    "      + str(final['NOTA_IDEB'].corr(final['IN_BANDA_LARGA'])))"
   ]
  },
  {
   "cell_type": "markdown",
   "metadata": {},
   "source": [
    "<br>"
   ]
  },
  {
   "cell_type": "code",
   "execution_count": 37,
   "metadata": {},
   "outputs": [
    {
     "data": {
      "text/plain": [
       "<matplotlib.axes._subplots.AxesSubplot at 0x7f3da4a99750>"
      ]
     },
     "execution_count": 37,
     "metadata": {},
     "output_type": "execute_result"
    },
    {
     "data": {
      "image/png": "[encoded data removed]",
      "text/plain": [
       "<Figure size 1296x720 with 1 Axes>"
      ]
     },
     "metadata": {},
     "output_type": "display_data"
    }
   ],
   "source": [
    "labs = final[['UF', 'IN_LABORATORIO_CIENCIAS', 'IN_LABORATORIO_INFORMATICA']].groupby('UF') \\\n",
    "            .agg(lambda x: x.mean())\n",
    "labs.plot(kind='bar', figsize=(18,10), color=['#1f77b4', '#bcbd22'])"
   ]
  },
  {
   "cell_type": "code",
   "execution_count": 39,
   "metadata": {},
   "outputs": [
    {
     "name": "stdout",
     "output_type": "stream",
     "text": [
      "Indice de correlação laboratorio ciencias existente: 0.07764268426442661\n",
      "Indice de correlação laboratorio informatica existente: 0.21909630433519095\n"
     ]
    }
   ],
   "source": [
    "print('Indice de correlação laboratorio ciencias existente: ' \\\n",
    "      + str(final['NOTA_IDEB'].corr(final['IN_LABORATORIO_CIENCIAS'])))\n",
    "print('Indice de correlação laboratorio informatica existente: ' \\\n",
    "      + str(final['NOTA_IDEB'].corr(final['IN_LABORATORIO_INFORMATICA'])))"
   ]
  },
  {
   "cell_type": "markdown",
   "metadata": {},
   "source": [
    "<br>"
   ]
  },
  {
   "cell_type": "code",
   "execution_count": 40,
   "metadata": {},
   "outputs": [
    {
     "data": {
      "image/png": "[encoded data removed]",
      "text/plain": [
       "<Figure size 1296x720 with 1 Axes>"
      ]
     },
     "metadata": {},
     "output_type": "display_data"
    }
   ],
   "source": [
    "my_colors = 'y'\n",
    "\n",
    "biblio = final[['UF', 'IN_BIBLIOTECA_SALA_LEITURA']].groupby('UF') \\\n",
    "            .agg(lambda x: x.mean())\n",
    "ax = biblio.plot(kind='bar', figsize=(18,10), color=my_colors)\n",
    "\n",
    "for p in ax.patches:\n",
    "    ax.annotate(str(round(p.get_height(),2)), (p.get_x(), p.get_height()))"
   ]
  },
  {
   "cell_type": "code",
   "execution_count": 41,
   "metadata": {},
   "outputs": [
    {
     "name": "stdout",
     "output_type": "stream",
     "text": [
      "Indice de correlação biblioteca/sala de leitura existente: 0.22167586174931173\n"
     ]
    }
   ],
   "source": [
    "print('Indice de correlação biblioteca/sala de leitura existente: ' \\\n",
    "      + str(final['NOTA_IDEB'].corr(final['IN_BIBLIOTECA_SALA_LEITURA'])))"
   ]
  },
  {
   "cell_type": "markdown",
   "metadata": {},
   "source": [
    "<br>"
   ]
  },
  {
   "cell_type": "code",
   "execution_count": 42,
   "metadata": {},
   "outputs": [
    {
     "data": {
      "text/plain": [
       "<matplotlib.axes._subplots.AxesSubplot at 0x7f3da47f9810>"
      ]
     },
     "execution_count": 42,
     "metadata": {},
     "output_type": "execute_result"
    },
    {
     "data": {
      "image/png": "[encoded data removed]",
      "text/plain": [
       "<Figure size 1296x720 with 1 Axes>"
      ]
     },
     "metadata": {},
     "output_type": "display_data"
    }
   ],
   "source": [
    "area = final[['UF', 'IN_QUADRA_ESPORTES', 'IN_PATIO', 'IN_AREA_VERDE']].groupby('UF') \\\n",
    "            .agg(lambda x: x.mean())\n",
    "area.plot(kind='bar', figsize=(18,10), color=[\"#1f77b4\", \"#ffbb78\", \"#bcbd22\"])"
   ]
  },
  {
   "cell_type": "code",
   "execution_count": 43,
   "metadata": {},
   "outputs": [
    {
     "name": "stdout",
     "output_type": "stream",
     "text": [
      "Indice de correlação quadra de esportes existente: 0.23387244956612505\n",
      "Indice de correlação patio existente: 0.23381624572699428\n",
      "Indice de correlação area verde existente: 0.1605554677390383\n"
     ]
    }
   ],
   "source": [
    "print('Indice de correlação quadra de esportes existente: ' \\\n",
    "      + str(final['NOTA_IDEB'].corr(final['IN_QUADRA_ESPORTES'])))\n",
    "print('Indice de correlação patio existente: ' \\\n",
    "      + str(final['NOTA_IDEB'].corr(final['IN_PATIO'])))\n",
    "print('Indice de correlação area verde existente: ' \\\n",
    "      + str(final['NOTA_IDEB'].corr(final['IN_AREA_VERDE'])))"
   ]
  },
  {
   "cell_type": "markdown",
   "metadata": {},
   "source": [
    "<br>"
   ]
  },
  {
   "cell_type": "code",
   "execution_count": 46,
   "metadata": {},
   "outputs": [
    {
     "data": {
      "image/png": "[encoded data removed]",
      "text/plain": [
       "<Figure size 1296x720 with 1 Axes>"
      ]
     },
     "metadata": {},
     "output_type": "display_data"
    }
   ],
   "source": [
    "dependencias_lixo = final[['UF', 'IN_LIXO_RECICLA', 'IN_DEPENDENCIAS_PNE']].groupby('UF') \\\n",
    "            .agg(lambda x: x.mean())\n",
    "ax = dependencias_lixo.plot(kind='bar', figsize=(18,10), color=['#9ecae1', '#c6dbef'])\n",
    "# for p in ax.patches:\n",
    "#     ax.annotate(str(round(p.get_height(),2)), (p.get_x(), p.get_height()))"
   ]
  },
  {
   "cell_type": "code",
   "execution_count": 48,
   "metadata": {},
   "outputs": [
    {
     "name": "stdout",
     "output_type": "stream",
     "text": [
      "Indice de correlação lixo recicla existente: 0.10888619949731321\n",
      "Indice de correlação dependencias para deficientes existente: 0.09641788409776321\n"
     ]
    }
   ],
   "source": [
    "print('Indice de correlação lixo recicla existente: ' \\\n",
    "      + str(final['NOTA_IDEB'].corr(final['IN_LIXO_RECICLA'])))\n",
    "print('Indice de correlação dependencias para deficientes existente: ' \\\n",
    "      + str(final['NOTA_IDEB'].corr(final['IN_DEPENDENCIAS_PNE'])))"
   ]
  },
  {
   "cell_type": "markdown",
   "metadata": {},
   "source": [
    "<br>"
   ]
  },
  {
   "cell_type": "code",
   "execution_count": 49,
   "metadata": {},
   "outputs": [
    {
     "data": {
      "text/plain": [
       "<matplotlib.axes._subplots.AxesSubplot at 0x7f3da431b990>"
      ]
     },
     "execution_count": 49,
     "metadata": {},
     "output_type": "execute_result"
    },
    {
     "data": {
      "image/png": "[encoded data removed]",
      "text/plain": [
       "<Figure size 1296x720 with 1 Axes>"
      ]
     },
     "metadata": {},
     "output_type": "display_data"
    }
   ],
   "source": [
    "atividades = final[['UF', 'IN_TP_ATIVIDADE_COMPLEMENTAR', 'IN_TP_AEE']].groupby('UF') \\\n",
    "            .agg(lambda x: x.mean())\n",
    "atividades.plot(kind='bar', figsize=(18,10), color=['#d6616b', '#ad494a'])"
   ]
  },
  {
   "cell_type": "code",
   "execution_count": 50,
   "metadata": {},
   "outputs": [
    {
     "name": "stdout",
     "output_type": "stream",
     "text": [
      "Indice de correlação atividades complementar existente: 0.09612021605164477\n",
      "Indice de correlação Atendimento Educacional Especializado existente: 0.16170354516159807\n"
     ]
    }
   ],
   "source": [
    "print('Indice de correlação atividades complementar existente: ' \\\n",
    "      + str(final['NOTA_IDEB'].corr(final['IN_TP_ATIVIDADE_COMPLEMENTAR'])))\n",
    "print('Indice de correlação Atendimento Educacional Especializado existente: ' \\\n",
    "      + str(final['NOTA_IDEB'].corr(final['IN_TP_AEE'])))"
   ]
  },
  {
   "cell_type": "markdown",
   "metadata": {},
   "source": [
    "<br>"
   ]
  },
  {
   "cell_type": "code",
   "execution_count": 53,
   "metadata": {},
   "outputs": [
    {
     "data": {
      "image/png": "[encoded data removed]",
      "text/plain": [
       "<Figure size 1296x720 with 1 Axes>"
      ]
     },
     "metadata": {},
     "output_type": "display_data"
    }
   ],
   "source": [
    "escolaridade_docentes = final[['UF', \n",
    "                    'IN_04_NIVEL_SUPERIOR_COMPLETO', \n",
    "                    'IN_05_POS_GRADUACAO'\n",
    "                   ]].groupby('UF') \\\n",
    "            .agg(lambda x: x.mean())\n",
    "ax = escolaridade_docentes.plot(kind='bar', figsize=(18,10), color=['#e6550d', '#fd8d3c'])\n",
    "# for p in ax.patches:\n",
    "#     ax.annotate(str(round(p.get_height(),2)), (p.get_x(), p.get_height()))"
   ]
  },
  {
   "cell_type": "code",
   "execution_count": 54,
   "metadata": {},
   "outputs": [
    {
     "name": "stdout",
     "output_type": "stream",
     "text": [
      "Indice de correlação nivel superior: 0.055309638281018196\n",
      "Indice de correlação pos graduação: -0.10441275463237798\n"
     ]
    }
   ],
   "source": [
    "print('Indice de correlação nivel superior: ' \\\n",
    "      + str(final['NOTA_IDEB'].corr(final['IN_04_NIVEL_SUPERIOR_COMPLETO'])))\n",
    "print('Indice de correlação pos graduação: ' \\\n",
    "      + str(final['NOTA_IDEB'].corr(final['IN_05_POS_GRADUACAO'])))"
   ]
  },
  {
   "cell_type": "markdown",
   "metadata": {},
   "source": [
    "<br>"
   ]
  },
  {
   "cell_type": "code",
   "execution_count": 55,
   "metadata": {},
   "outputs": [
    {
     "data": {
      "text/plain": [
       "<matplotlib.axes._subplots.AxesSubplot at 0x7f3da4308f50>"
      ]
     },
     "execution_count": 55,
     "metadata": {},
     "output_type": "execute_result"
    },
    {
     "data": {
      "image/png": "[encoded data removed]",
      "text/plain": [
       "<Figure size 1296x720 with 1 Axes>"
      ]
     },
     "metadata": {},
     "output_type": "display_data"
    }
   ],
   "source": [
    "escolaridade_docentes = final[['UF', \n",
    "                    'IN_06_MESTRADO',\n",
    "                    'IN_07_DOUTORADO'\n",
    "                   ]].groupby('UF') \\\n",
    "            .agg(lambda x: x.mean())\n",
    "escolaridade_docentes.plot(kind='bar', figsize=(18,10), color=['#ad494a', '#d6616b'])"
   ]
  },
  {
   "cell_type": "code",
   "execution_count": 56,
   "metadata": {},
   "outputs": [
    {
     "name": "stdout",
     "output_type": "stream",
     "text": [
      "Indice de correlação mestrado: -0.0015762129973252322\n",
      "Indice de correlação doutorado: 0.06846999375331222\n"
     ]
    }
   ],
   "source": [
    "print('Indice de correlação mestrado: ' \\\n",
    "      + str(final['NOTA_IDEB'].corr(final['IN_06_MESTRADO'])))\n",
    "print('Indice de correlação doutorado: ' \\\n",
    "      + str(final['NOTA_IDEB'].corr(final['IN_07_DOUTORADO'])))"
   ]
  },
  {
   "cell_type": "markdown",
   "metadata": {},
   "source": [
    "<br>"
   ]
  },
  {
   "cell_type": "code",
   "execution_count": 57,
   "metadata": {},
   "outputs": [
    {
     "data": {
      "image/png": "[encoded data removed]",
      "text/plain": [
       "<Figure size 1296x720 with 1 Axes>"
      ]
     },
     "metadata": {},
     "output_type": "display_data"
    }
   ],
   "source": [
    "invest_ed_cidadao = final[['UF', 'VL_DESPESA_PAG_ED_CID']].groupby('UF').mean()\n",
    "ax = invest_ed_cidadao.plot(kind='bar', figsize=(18,10), color='#c49c94')\n",
    "\n",
    "for p in ax.patches:\n",
    "    ax.annotate(str(round(p.get_height(),2)), (p.get_x(), p.get_height()))"
   ]
  },
  {
   "cell_type": "code",
   "execution_count": 59,
   "metadata": {},
   "outputs": [
    {
     "name": "stdout",
     "output_type": "stream",
     "text": [
      "Indice de correlação despesas pagas educação por cidadão: -0.041544992265632685\n"
     ]
    }
   ],
   "source": [
    "print('Indice de correlação despesas pagas educação por cidadão: ' \\\n",
    "      + str(final['NOTA_IDEB'].corr(final['VL_DESPESA_PAG_ED_CID'])))"
   ]
  },
  {
   "cell_type": "markdown",
   "metadata": {},
   "source": [
    "<br>"
   ]
  },
  {
   "cell_type": "code",
   "execution_count": 60,
   "metadata": {},
   "outputs": [
    {
     "data": {
      "image/png": "[encoded data removed]",
      "text/plain": [
       "<Figure size 1296x720 with 1 Axes>"
      ]
     },
     "metadata": {},
     "output_type": "display_data"
    }
   ],
   "source": [
    "receita_ed_cidadao = final[['UF', 'VL_RECEITA_CID']].groupby('UF').mean()\n",
    "ax = receita_ed_cidadao.plot(kind='bar', figsize=(18,10), color='#bd9e39')\n",
    "\n",
    "for p in ax.patches:\n",
    "    ax.annotate(str(round(p.get_height(),2)), (p.get_x(), p.get_height()))"
   ]
  },
  {
   "cell_type": "code",
   "execution_count": 56,
   "metadata": {},
   "outputs": [
    {
     "data": {
      "image/png": "[encoded data removed]",
      "text/plain": [
       "<Figure size 1296x720 with 1 Axes>"
      ]
     },
     "metadata": {
      "needs_background": "light"
     },
     "output_type": "display_data"
    }
   ],
   "source": [
    "scaler = MinMaxScaler()\n",
    "\n",
    "receita_cidadao = final[['UF', 'VL_RECEITA_CID', 'NOTA_IDEB']]\n",
    "\n",
    "receita_cidadao = receita_cidadao[['UF', 'VL_RECEITA_CID', 'NOTA_IDEB']].groupby('UF').mean()\n",
    "receita_cidadao[['VL_RECEITA_CID', 'NOTA_IDEB']] = scaler. \\\n",
    "    fit_transform(receita_cidadao[['VL_RECEITA_CID', 'NOTA_IDEB']])\n",
    "\n",
    "ax = receita_cidadao.plot(kind='bar', figsize=(18,10))\n",
    "\n",
    "for p in ax.patches:\n",
    "    ax.annotate(str(round(p.get_height(),2)), (p.get_x(), p.get_height()))"
   ]
  },
  {
   "cell_type": "code",
   "execution_count": 65,
   "metadata": {},
   "outputs": [
    {
     "name": "stdout",
     "output_type": "stream",
     "text": [
      "Indice de correlação das receitas educacionais por cidadão: 0.22114404403636076\n"
     ]
    }
   ],
   "source": [
    "print('Indice de correlação das receitas educacionais por cidadão: ' \\\n",
    "      +str(final['NOTA_IDEB'].corr(final['VL_RECEITA_CID'])))"
   ]
  },
  {
   "cell_type": "markdown",
   "metadata": {},
   "source": [
    "<br>"
   ]
  },
  {
   "cell_type": "code",
   "execution_count": 66,
   "metadata": {},
   "outputs": [
    {
     "data": {
      "image/png": "[encoded data removed]",
      "text/plain": [
       "<Figure size 1296x720 with 1 Axes>"
      ]
     },
     "metadata": {},
     "output_type": "display_data"
    }
   ],
   "source": [
    "ideb = final[['UF', 'NOTA_IDEB']].groupby('UF').mean()\n",
    "ax = ideb.plot(kind='bar', figsize=(18,10), color=\"#fdae6b\")\n",
    "\n",
    "for p in ax.patches:\n",
    "    ax.annotate(str(round(p.get_height(),2)), (p.get_x(), p.get_height()))"
   ]
  },
  {
   "cell_type": "code",
   "execution_count": 67,
   "metadata": {},
   "outputs": [
    {
     "data": {
      "image/png": "[encoded data removed]",
      "text/plain": [
       "<Figure size 1296x720 with 1 Axes>"
      ]
     },
     "metadata": {},
     "output_type": "display_data"
    }
   ],
   "source": [
    "ideb_regiao = final[['DS_REGIAO', 'NOTA_IDEB']].groupby('DS_REGIAO').mean()\n",
    "ax = ideb_regiao.sort_values(by='NOTA_IDEB').plot(kind='bar', figsize=(18,10), color=\"#c7c7c7\")\n",
    "\n",
    "for p in ax.patches:\n",
    "    ax.annotate(str(round(p.get_height(),2)), (p.get_x(), p.get_height()))"
   ]
  },
  {
   "cell_type": "code",
   "execution_count": 19,
   "metadata": {},
   "outputs": [
    {
     "data": {
      "text/html": [
       "<div>\n",
       "<style scoped>\n",
       "    .dataframe tbody tr th:only-of-type {\n",
       "        vertical-align: middle;\n",
       "    }\n",
       "\n",
       "    .dataframe tbody tr th {\n",
       "        vertical-align: top;\n",
       "    }\n",
       "\n",
       "    .dataframe thead th {\n",
       "        text-align: right;\n",
       "    }\n",
       "</style>\n",
       "<table border=\"1\" class=\"dataframe\">\n",
       "  <thead>\n",
       "    <tr style=\"text-align: right;\">\n",
       "      <th></th>\n",
       "      <th>UF</th>\n",
       "      <th>NM_MUNICIPIO</th>\n",
       "      <th>NOTA_IDEB</th>\n",
       "      <th>IN_BIBLIOTECA_SALA_LEITURA</th>\n",
       "      <th>IN_COMPUTADOR</th>\n",
       "      <th>IN_INTERNET</th>\n",
       "      <th>IN_BANDA_LARGA</th>\n",
       "      <th>IN_LABORATORIO_CIENCIAS</th>\n",
       "      <th>IN_LABORATORIO_INFORMATICA</th>\n",
       "      <th>IN_QUADRA_ESPORTES</th>\n",
       "      <th>IN_AREA_VERDE</th>\n",
       "      <th>IN_DEPENDENCIAS_PNE</th>\n",
       "      <th>IN_LIXO_RECICLA</th>\n",
       "      <th>IN_04_NIVEL_SUPERIOR_COMPLETO</th>\n",
       "      <th>IN_05_POS_GRADUACAO</th>\n",
       "      <th>IN_06_MESTRADO</th>\n",
       "      <th>IN_07_DOUTORADO</th>\n",
       "      <th>VL_DESPESA_PAG_ED_CID</th>\n",
       "      <th>VL_RECEITA_CID</th>\n",
       "    </tr>\n",
       "  </thead>\n",
       "  <tbody>\n",
       "    <tr>\n",
       "      <th>4475</th>\n",
       "      <td>RS</td>\n",
       "      <td>Dois Lajeados</td>\n",
       "      <td>5.7</td>\n",
       "      <td>100.0</td>\n",
       "      <td>100.0</td>\n",
       "      <td>100.0</td>\n",
       "      <td>100.0</td>\n",
       "      <td>100.0</td>\n",
       "      <td>100.0</td>\n",
       "      <td>100.0</td>\n",
       "      <td>100.0</td>\n",
       "      <td>100.0</td>\n",
       "      <td>0.0</td>\n",
       "      <td>100.00</td>\n",
       "      <td>72.22</td>\n",
       "      <td>0.00</td>\n",
       "      <td>0.0</td>\n",
       "      <td>900.19</td>\n",
       "      <td>4882.51</td>\n",
       "    </tr>\n",
       "    <tr>\n",
       "      <th>3668</th>\n",
       "      <td>SP</td>\n",
       "      <td>Santa Salete</td>\n",
       "      <td>5.6</td>\n",
       "      <td>100.0</td>\n",
       "      <td>100.0</td>\n",
       "      <td>100.0</td>\n",
       "      <td>100.0</td>\n",
       "      <td>0.0</td>\n",
       "      <td>100.0</td>\n",
       "      <td>100.0</td>\n",
       "      <td>0.0</td>\n",
       "      <td>0.0</td>\n",
       "      <td>0.0</td>\n",
       "      <td>100.00</td>\n",
       "      <td>45.71</td>\n",
       "      <td>0.00</td>\n",
       "      <td>0.0</td>\n",
       "      <td>1903.53</td>\n",
       "      <td>8360.06</td>\n",
       "    </tr>\n",
       "    <tr>\n",
       "      <th>4703</th>\n",
       "      <td>RS</td>\n",
       "      <td>São José do Inhacorá</td>\n",
       "      <td>5.6</td>\n",
       "      <td>100.0</td>\n",
       "      <td>100.0</td>\n",
       "      <td>100.0</td>\n",
       "      <td>0.0</td>\n",
       "      <td>100.0</td>\n",
       "      <td>100.0</td>\n",
       "      <td>100.0</td>\n",
       "      <td>100.0</td>\n",
       "      <td>100.0</td>\n",
       "      <td>0.0</td>\n",
       "      <td>100.00</td>\n",
       "      <td>86.67</td>\n",
       "      <td>0.00</td>\n",
       "      <td>0.0</td>\n",
       "      <td>1320.62</td>\n",
       "      <td>7910.70</td>\n",
       "    </tr>\n",
       "    <tr>\n",
       "      <th>5056</th>\n",
       "      <td>GO</td>\n",
       "      <td>Córrego do Ouro</td>\n",
       "      <td>5.5</td>\n",
       "      <td>100.0</td>\n",
       "      <td>100.0</td>\n",
       "      <td>100.0</td>\n",
       "      <td>100.0</td>\n",
       "      <td>0.0</td>\n",
       "      <td>100.0</td>\n",
       "      <td>100.0</td>\n",
       "      <td>0.0</td>\n",
       "      <td>100.0</td>\n",
       "      <td>0.0</td>\n",
       "      <td>100.00</td>\n",
       "      <td>55.56</td>\n",
       "      <td>0.00</td>\n",
       "      <td>0.0</td>\n",
       "      <td>867.08</td>\n",
       "      <td>5124.94</td>\n",
       "    </tr>\n",
       "    <tr>\n",
       "      <th>2425</th>\n",
       "      <td>MG</td>\n",
       "      <td>Florestal</td>\n",
       "      <td>5.5</td>\n",
       "      <td>100.0</td>\n",
       "      <td>100.0</td>\n",
       "      <td>100.0</td>\n",
       "      <td>100.0</td>\n",
       "      <td>50.0</td>\n",
       "      <td>100.0</td>\n",
       "      <td>100.0</td>\n",
       "      <td>100.0</td>\n",
       "      <td>100.0</td>\n",
       "      <td>50.0</td>\n",
       "      <td>98.97</td>\n",
       "      <td>34.83</td>\n",
       "      <td>24.14</td>\n",
       "      <td>6.9</td>\n",
       "      <td>556.32</td>\n",
       "      <td>2562.03</td>\n",
       "    </tr>\n",
       "  </tbody>\n",
       "</table>\n",
       "</div>"
      ],
      "text/plain": [
       "      UF          NM_MUNICIPIO  NOTA_IDEB  IN_BIBLIOTECA_SALA_LEITURA  \\\n",
       "4475  RS         Dois Lajeados        5.7                       100.0   \n",
       "3668  SP          Santa Salete        5.6                       100.0   \n",
       "4703  RS  São José do Inhacorá        5.6                       100.0   \n",
       "5056  GO       Córrego do Ouro        5.5                       100.0   \n",
       "2425  MG             Florestal        5.5                       100.0   \n",
       "\n",
       "      IN_COMPUTADOR  IN_INTERNET  IN_BANDA_LARGA  IN_LABORATORIO_CIENCIAS  \\\n",
       "4475          100.0        100.0           100.0                    100.0   \n",
       "3668          100.0        100.0           100.0                      0.0   \n",
       "4703          100.0        100.0             0.0                    100.0   \n",
       "5056          100.0        100.0           100.0                      0.0   \n",
       "2425          100.0        100.0           100.0                     50.0   \n",
       "\n",
       "      IN_LABORATORIO_INFORMATICA  IN_QUADRA_ESPORTES  IN_AREA_VERDE  \\\n",
       "4475                       100.0               100.0          100.0   \n",
       "3668                       100.0               100.0            0.0   \n",
       "4703                       100.0               100.0          100.0   \n",
       "5056                       100.0               100.0            0.0   \n",
       "2425                       100.0               100.0          100.0   \n",
       "\n",
       "      IN_DEPENDENCIAS_PNE  IN_LIXO_RECICLA  IN_04_NIVEL_SUPERIOR_COMPLETO  \\\n",
       "4475                100.0              0.0                         100.00   \n",
       "3668                  0.0              0.0                         100.00   \n",
       "4703                100.0              0.0                         100.00   \n",
       "5056                100.0              0.0                         100.00   \n",
       "2425                100.0             50.0                          98.97   \n",
       "\n",
       "      IN_05_POS_GRADUACAO  IN_06_MESTRADO  IN_07_DOUTORADO  \\\n",
       "4475                72.22            0.00              0.0   \n",
       "3668                45.71            0.00              0.0   \n",
       "4703                86.67            0.00              0.0   \n",
       "5056                55.56            0.00              0.0   \n",
       "2425                34.83           24.14              6.9   \n",
       "\n",
       "      VL_DESPESA_PAG_ED_CID  VL_RECEITA_CID  \n",
       "4475                 900.19         4882.51  \n",
       "3668                1903.53         8360.06  \n",
       "4703                1320.62         7910.70  \n",
       "5056                 867.08         5124.94  \n",
       "2425                 556.32         2562.03  "
      ]
     },
     "execution_count": 19,
     "metadata": {},
     "output_type": "execute_result"
    }
   ],
   "source": [
    "final[\n",
    "        [\n",
    "         'UF',\n",
    "         'NM_MUNICIPIO', \n",
    "         'NOTA_IDEB',\n",
    "         'IN_BIBLIOTECA_SALA_LEITURA', \n",
    "         'IN_COMPUTADOR', \n",
    "         'IN_INTERNET', \n",
    "         'IN_BANDA_LARGA',\n",
    "         'IN_LABORATORIO_CIENCIAS', \n",
    "         'IN_LABORATORIO_INFORMATICA', \n",
    "         'IN_QUADRA_ESPORTES', \n",
    "         'IN_AREA_VERDE', \n",
    "         'IN_DEPENDENCIAS_PNE',\n",
    "         'IN_LIXO_RECICLA',\n",
    "         'IN_04_NIVEL_SUPERIOR_COMPLETO', \n",
    "         'IN_05_POS_GRADUACAO',\n",
    "         'IN_06_MESTRADO',\n",
    "         'IN_07_DOUTORADO',\n",
    "         'VL_DESPESA_PAG_ED_CID', \n",
    "         'VL_RECEITA_CID'\n",
    "        ]\n",
    "    ] \\\n",
    "    [final['NOTA_IDEB'] > 5].sort_values(by=['NOTA_IDEB'], ascending=False).head()"
   ]
  },
  {
   "cell_type": "code",
   "execution_count": 21,
   "metadata": {},
   "outputs": [
    {
     "data": {
      "text/html": [
       "<div>\n",
       "<style scoped>\n",
       "    .dataframe tbody tr th:only-of-type {\n",
       "        vertical-align: middle;\n",
       "    }\n",
       "\n",
       "    .dataframe tbody tr th {\n",
       "        vertical-align: top;\n",
       "    }\n",
       "\n",
       "    .dataframe thead th {\n",
       "        text-align: right;\n",
       "    }\n",
       "</style>\n",
       "<table border=\"1\" class=\"dataframe\">\n",
       "  <thead>\n",
       "    <tr style=\"text-align: right;\">\n",
       "      <th></th>\n",
       "      <th>UF</th>\n",
       "      <th>NM_MUNICIPIO</th>\n",
       "      <th>NOTA_IDEB</th>\n",
       "      <th>IN_BIBLIOTECA_SALA_LEITURA</th>\n",
       "      <th>IN_COMPUTADOR</th>\n",
       "      <th>IN_INTERNET</th>\n",
       "      <th>IN_BANDA_LARGA</th>\n",
       "      <th>IN_LABORATORIO_CIENCIAS</th>\n",
       "      <th>IN_LABORATORIO_INFORMATICA</th>\n",
       "      <th>IN_QUADRA_ESPORTES</th>\n",
       "      <th>IN_AREA_VERDE</th>\n",
       "      <th>IN_DEPENDENCIAS_PNE</th>\n",
       "      <th>IN_LIXO_RECICLA</th>\n",
       "      <th>IN_04_NIVEL_SUPERIOR_COMPLETO</th>\n",
       "      <th>IN_05_POS_GRADUACAO</th>\n",
       "      <th>IN_06_MESTRADO</th>\n",
       "      <th>IN_07_DOUTORADO</th>\n",
       "      <th>VL_DESPESA_PAG_ED_CID</th>\n",
       "      <th>VL_RECEITA_CID</th>\n",
       "    </tr>\n",
       "  </thead>\n",
       "  <tbody>\n",
       "    <tr>\n",
       "      <th>2052</th>\n",
       "      <td>BA</td>\n",
       "      <td>Riachão do Jacuípe</td>\n",
       "      <td>1.5</td>\n",
       "      <td>100.0</td>\n",
       "      <td>100.0</td>\n",
       "      <td>100.0</td>\n",
       "      <td>66.67</td>\n",
       "      <td>16.67</td>\n",
       "      <td>100.0</td>\n",
       "      <td>50.0</td>\n",
       "      <td>0.0</td>\n",
       "      <td>66.67</td>\n",
       "      <td>0.0</td>\n",
       "      <td>94.48</td>\n",
       "      <td>83.64</td>\n",
       "      <td>4.09</td>\n",
       "      <td>1.02</td>\n",
       "      <td>522.66</td>\n",
       "      <td>1582.69</td>\n",
       "    </tr>\n",
       "    <tr>\n",
       "      <th>220</th>\n",
       "      <td>PA</td>\n",
       "      <td>Pau D'Arco</td>\n",
       "      <td>1.5</td>\n",
       "      <td>0.0</td>\n",
       "      <td>100.0</td>\n",
       "      <td>100.0</td>\n",
       "      <td>100.00</td>\n",
       "      <td>0.00</td>\n",
       "      <td>0.0</td>\n",
       "      <td>0.0</td>\n",
       "      <td>0.0</td>\n",
       "      <td>0.00</td>\n",
       "      <td>0.0</td>\n",
       "      <td>100.00</td>\n",
       "      <td>21.25</td>\n",
       "      <td>0.00</td>\n",
       "      <td>0.00</td>\n",
       "      <td>1697.91</td>\n",
       "      <td>3941.24</td>\n",
       "    </tr>\n",
       "    <tr>\n",
       "      <th>1758</th>\n",
       "      <td>BA</td>\n",
       "      <td>Aramari</td>\n",
       "      <td>1.5</td>\n",
       "      <td>0.0</td>\n",
       "      <td>100.0</td>\n",
       "      <td>100.0</td>\n",
       "      <td>100.00</td>\n",
       "      <td>0.00</td>\n",
       "      <td>0.0</td>\n",
       "      <td>0.0</td>\n",
       "      <td>0.0</td>\n",
       "      <td>0.00</td>\n",
       "      <td>0.0</td>\n",
       "      <td>100.00</td>\n",
       "      <td>71.93</td>\n",
       "      <td>0.00</td>\n",
       "      <td>0.00</td>\n",
       "      <td>643.43</td>\n",
       "      <td>1795.87</td>\n",
       "    </tr>\n",
       "    <tr>\n",
       "      <th>1106</th>\n",
       "      <td>RN</td>\n",
       "      <td>Paraú</td>\n",
       "      <td>1.7</td>\n",
       "      <td>100.0</td>\n",
       "      <td>100.0</td>\n",
       "      <td>100.0</td>\n",
       "      <td>0.00</td>\n",
       "      <td>0.00</td>\n",
       "      <td>100.0</td>\n",
       "      <td>0.0</td>\n",
       "      <td>0.0</td>\n",
       "      <td>0.00</td>\n",
       "      <td>0.0</td>\n",
       "      <td>100.00</td>\n",
       "      <td>28.57</td>\n",
       "      <td>0.00</td>\n",
       "      <td>0.00</td>\n",
       "      <td>1167.95</td>\n",
       "      <td>3349.91</td>\n",
       "    </tr>\n",
       "    <tr>\n",
       "      <th>1120</th>\n",
       "      <td>RN</td>\n",
       "      <td>Porto do Mangue</td>\n",
       "      <td>1.7</td>\n",
       "      <td>100.0</td>\n",
       "      <td>100.0</td>\n",
       "      <td>100.0</td>\n",
       "      <td>100.00</td>\n",
       "      <td>0.00</td>\n",
       "      <td>100.0</td>\n",
       "      <td>100.0</td>\n",
       "      <td>0.0</td>\n",
       "      <td>0.00</td>\n",
       "      <td>0.0</td>\n",
       "      <td>88.00</td>\n",
       "      <td>36.00</td>\n",
       "      <td>0.00</td>\n",
       "      <td>0.00</td>\n",
       "      <td>839.20</td>\n",
       "      <td>3542.19</td>\n",
       "    </tr>\n",
       "  </tbody>\n",
       "</table>\n",
       "</div>"
      ],
      "text/plain": [
       "      UF        NM_MUNICIPIO  NOTA_IDEB  IN_BIBLIOTECA_SALA_LEITURA  \\\n",
       "2052  BA  Riachão do Jacuípe        1.5                       100.0   \n",
       "220   PA          Pau D'Arco        1.5                         0.0   \n",
       "1758  BA             Aramari        1.5                         0.0   \n",
       "1106  RN               Paraú        1.7                       100.0   \n",
       "1120  RN     Porto do Mangue        1.7                       100.0   \n",
       "\n",
       "      IN_COMPUTADOR  IN_INTERNET  IN_BANDA_LARGA  IN_LABORATORIO_CIENCIAS  \\\n",
       "2052          100.0        100.0           66.67                    16.67   \n",
       "220           100.0        100.0          100.00                     0.00   \n",
       "1758          100.0        100.0          100.00                     0.00   \n",
       "1106          100.0        100.0            0.00                     0.00   \n",
       "1120          100.0        100.0          100.00                     0.00   \n",
       "\n",
       "      IN_LABORATORIO_INFORMATICA  IN_QUADRA_ESPORTES  IN_AREA_VERDE  \\\n",
       "2052                       100.0                50.0            0.0   \n",
       "220                          0.0                 0.0            0.0   \n",
       "1758                         0.0                 0.0            0.0   \n",
       "1106                       100.0                 0.0            0.0   \n",
       "1120                       100.0               100.0            0.0   \n",
       "\n",
       "      IN_DEPENDENCIAS_PNE  IN_LIXO_RECICLA  IN_04_NIVEL_SUPERIOR_COMPLETO  \\\n",
       "2052                66.67              0.0                          94.48   \n",
       "220                  0.00              0.0                         100.00   \n",
       "1758                 0.00              0.0                         100.00   \n",
       "1106                 0.00              0.0                         100.00   \n",
       "1120                 0.00              0.0                          88.00   \n",
       "\n",
       "      IN_05_POS_GRADUACAO  IN_06_MESTRADO  IN_07_DOUTORADO  \\\n",
       "2052                83.64            4.09             1.02   \n",
       "220                 21.25            0.00             0.00   \n",
       "1758                71.93            0.00             0.00   \n",
       "1106                28.57            0.00             0.00   \n",
       "1120                36.00            0.00             0.00   \n",
       "\n",
       "      VL_DESPESA_PAG_ED_CID  VL_RECEITA_CID  \n",
       "2052                 522.66         1582.69  \n",
       "220                 1697.91         3941.24  \n",
       "1758                 643.43         1795.87  \n",
       "1106                1167.95         3349.91  \n",
       "1120                 839.20         3542.19  "
      ]
     },
     "execution_count": 21,
     "metadata": {},
     "output_type": "execute_result"
    }
   ],
   "source": [
    "final[\n",
    "        [\n",
    "         'UF',\n",
    "         'NM_MUNICIPIO', \n",
    "         'NOTA_IDEB',\n",
    "         'IN_BIBLIOTECA_SALA_LEITURA', \n",
    "         'IN_COMPUTADOR', \n",
    "         'IN_INTERNET', \n",
    "         'IN_BANDA_LARGA',\n",
    "         'IN_LABORATORIO_CIENCIAS', \n",
    "         'IN_LABORATORIO_INFORMATICA', \n",
    "         'IN_QUADRA_ESPORTES', \n",
    "         'IN_AREA_VERDE', \n",
    "         'IN_DEPENDENCIAS_PNE',\n",
    "         'IN_LIXO_RECICLA',\n",
    "         'IN_04_NIVEL_SUPERIOR_COMPLETO', \n",
    "         'IN_05_POS_GRADUACAO',\n",
    "         'IN_06_MESTRADO',\n",
    "         'IN_07_DOUTORADO',\n",
    "         'VL_DESPESA_PAG_ED_CID', \n",
    "         'VL_RECEITA_CID'\n",
    "        ]\n",
    "    ] \\\n",
    "    [final['NOTA_IDEB'] < 3].sort_values(by=['NOTA_IDEB']).head()"
   ]
  },
  {
   "cell_type": "code",
   "execution_count": 31,
   "metadata": {},
   "outputs": [
    {
     "data": {
      "text/html": [
       "<div>\n",
       "<style scoped>\n",
       "    .dataframe tbody tr th:only-of-type {\n",
       "        vertical-align: middle;\n",
       "    }\n",
       "\n",
       "    .dataframe tbody tr th {\n",
       "        vertical-align: top;\n",
       "    }\n",
       "\n",
       "    .dataframe thead th {\n",
       "        text-align: right;\n",
       "    }\n",
       "</style>\n",
       "<table border=\"1\" class=\"dataframe\">\n",
       "  <thead>\n",
       "    <tr style=\"text-align: right;\">\n",
       "      <th></th>\n",
       "      <th>UF</th>\n",
       "      <th>NOTA_IDEB</th>\n",
       "    </tr>\n",
       "  </thead>\n",
       "  <tbody>\n",
       "    <tr>\n",
       "      <th>6</th>\n",
       "      <td>ES</td>\n",
       "      <td>4.346753</td>\n",
       "    </tr>\n",
       "    <tr>\n",
       "      <th>7</th>\n",
       "      <td>GO</td>\n",
       "      <td>4.244262</td>\n",
       "    </tr>\n",
       "    <tr>\n",
       "      <th>14</th>\n",
       "      <td>PE</td>\n",
       "      <td>4.067222</td>\n",
       "    </tr>\n",
       "    <tr>\n",
       "      <th>24</th>\n",
       "      <td>SP</td>\n",
       "      <td>4.043918</td>\n",
       "    </tr>\n",
       "    <tr>\n",
       "      <th>5</th>\n",
       "      <td>CE</td>\n",
       "      <td>3.905435</td>\n",
       "    </tr>\n",
       "    <tr>\n",
       "      <th>19</th>\n",
       "      <td>RO</td>\n",
       "      <td>3.864706</td>\n",
       "    </tr>\n",
       "    <tr>\n",
       "      <th>17</th>\n",
       "      <td>RJ</td>\n",
       "      <td>3.848235</td>\n",
       "    </tr>\n",
       "    <tr>\n",
       "      <th>9</th>\n",
       "      <td>MG</td>\n",
       "      <td>3.772533</td>\n",
       "    </tr>\n",
       "    <tr>\n",
       "      <th>21</th>\n",
       "      <td>RS</td>\n",
       "      <td>3.695059</td>\n",
       "    </tr>\n",
       "    <tr>\n",
       "      <th>22</th>\n",
       "      <td>SC</td>\n",
       "      <td>3.600495</td>\n",
       "    </tr>\n",
       "    <tr>\n",
       "      <th>0</th>\n",
       "      <td>AC</td>\n",
       "      <td>3.600000</td>\n",
       "    </tr>\n",
       "    <tr>\n",
       "      <th>25</th>\n",
       "      <td>TO</td>\n",
       "      <td>3.568613</td>\n",
       "    </tr>\n",
       "    <tr>\n",
       "      <th>16</th>\n",
       "      <td>PR</td>\n",
       "      <td>3.566579</td>\n",
       "    </tr>\n",
       "    <tr>\n",
       "      <th>10</th>\n",
       "      <td>MS</td>\n",
       "      <td>3.500000</td>\n",
       "    </tr>\n",
       "    <tr>\n",
       "      <th>15</th>\n",
       "      <td>PI</td>\n",
       "      <td>3.254327</td>\n",
       "    </tr>\n",
       "    <tr>\n",
       "      <th>8</th>\n",
       "      <td>MA</td>\n",
       "      <td>3.250000</td>\n",
       "    </tr>\n",
       "    <tr>\n",
       "      <th>1</th>\n",
       "      <td>AL</td>\n",
       "      <td>3.233684</td>\n",
       "    </tr>\n",
       "    <tr>\n",
       "      <th>20</th>\n",
       "      <td>RR</td>\n",
       "      <td>3.190000</td>\n",
       "    </tr>\n",
       "    <tr>\n",
       "      <th>11</th>\n",
       "      <td>MT</td>\n",
       "      <td>3.171200</td>\n",
       "    </tr>\n",
       "    <tr>\n",
       "      <th>13</th>\n",
       "      <td>PB</td>\n",
       "      <td>3.165741</td>\n",
       "    </tr>\n",
       "    <tr>\n",
       "      <th>23</th>\n",
       "      <td>SE</td>\n",
       "      <td>3.047945</td>\n",
       "    </tr>\n",
       "    <tr>\n",
       "      <th>2</th>\n",
       "      <td>AM</td>\n",
       "      <td>3.027869</td>\n",
       "    </tr>\n",
       "    <tr>\n",
       "      <th>18</th>\n",
       "      <td>RN</td>\n",
       "      <td>2.902113</td>\n",
       "    </tr>\n",
       "    <tr>\n",
       "      <th>4</th>\n",
       "      <td>BA</td>\n",
       "      <td>2.795631</td>\n",
       "    </tr>\n",
       "    <tr>\n",
       "      <th>12</th>\n",
       "      <td>PA</td>\n",
       "      <td>2.639535</td>\n",
       "    </tr>\n",
       "    <tr>\n",
       "      <th>3</th>\n",
       "      <td>AP</td>\n",
       "      <td>2.628571</td>\n",
       "    </tr>\n",
       "  </tbody>\n",
       "</table>\n",
       "</div>"
      ],
      "text/plain": [
       "    UF  NOTA_IDEB\n",
       "6   ES   4.346753\n",
       "7   GO   4.244262\n",
       "14  PE   4.067222\n",
       "24  SP   4.043918\n",
       "5   CE   3.905435\n",
       "19  RO   3.864706\n",
       "17  RJ   3.848235\n",
       "9   MG   3.772533\n",
       "21  RS   3.695059\n",
       "22  SC   3.600495\n",
       "0   AC   3.600000\n",
       "25  TO   3.568613\n",
       "16  PR   3.566579\n",
       "10  MS   3.500000\n",
       "15  PI   3.254327\n",
       "8   MA   3.250000\n",
       "1   AL   3.233684\n",
       "20  RR   3.190000\n",
       "11  MT   3.171200\n",
       "13  PB   3.165741\n",
       "23  SE   3.047945\n",
       "2   AM   3.027869\n",
       "18  RN   2.902113\n",
       "4   BA   2.795631\n",
       "12  PA   2.639535\n",
       "3   AP   2.628571"
      ]
     },
     "execution_count": 31,
     "metadata": {},
     "output_type": "execute_result"
    }
   ],
   "source": [
    "df_n = final[['UF', 'NOTA_IDEB']].groupby(['UF'], as_index=False).mean()\n",
    "df_n.sort_values(by=['NOTA_IDEB'], ascending=False)"
   ]
  },
  {
   "cell_type": "code",
   "execution_count": 27,
   "metadata": {},
   "outputs": [
    {
     "data": {
      "text/html": [
       "<div>\n",
       "<style scoped>\n",
       "    .dataframe tbody tr th:only-of-type {\n",
       "        vertical-align: middle;\n",
       "    }\n",
       "\n",
       "    .dataframe tbody tr th {\n",
       "        vertical-align: top;\n",
       "    }\n",
       "\n",
       "    .dataframe thead th {\n",
       "        text-align: right;\n",
       "    }\n",
       "</style>\n",
       "<table border=\"1\" class=\"dataframe\">\n",
       "  <thead>\n",
       "    <tr style=\"text-align: right;\">\n",
       "      <th></th>\n",
       "      <th>UF</th>\n",
       "      <th>NOTA_IDEB</th>\n",
       "    </tr>\n",
       "  </thead>\n",
       "  <tbody>\n",
       "    <tr>\n",
       "      <th>3</th>\n",
       "      <td>AP</td>\n",
       "      <td>2.903333</td>\n",
       "    </tr>\n",
       "    <tr>\n",
       "      <th>12</th>\n",
       "      <td>PA</td>\n",
       "      <td>3.056296</td>\n",
       "    </tr>\n",
       "    <tr>\n",
       "      <th>4</th>\n",
       "      <td>BA</td>\n",
       "      <td>3.104077</td>\n",
       "    </tr>\n",
       "    <tr>\n",
       "      <th>23</th>\n",
       "      <td>SE</td>\n",
       "      <td>3.180000</td>\n",
       "    </tr>\n",
       "    <tr>\n",
       "      <th>18</th>\n",
       "      <td>RN</td>\n",
       "      <td>3.195370</td>\n",
       "    </tr>\n",
       "    <tr>\n",
       "      <th>8</th>\n",
       "      <td>MA</td>\n",
       "      <td>3.409813</td>\n",
       "    </tr>\n",
       "    <tr>\n",
       "      <th>13</th>\n",
       "      <td>PB</td>\n",
       "      <td>3.410274</td>\n",
       "    </tr>\n",
       "    <tr>\n",
       "      <th>20</th>\n",
       "      <td>RR</td>\n",
       "      <td>3.493333</td>\n",
       "    </tr>\n",
       "    <tr>\n",
       "      <th>2</th>\n",
       "      <td>AM</td>\n",
       "      <td>3.536066</td>\n",
       "    </tr>\n",
       "    <tr>\n",
       "      <th>1</th>\n",
       "      <td>AL</td>\n",
       "      <td>3.546875</td>\n",
       "    </tr>\n",
       "    <tr>\n",
       "      <th>15</th>\n",
       "      <td>PI</td>\n",
       "      <td>3.604167</td>\n",
       "    </tr>\n",
       "    <tr>\n",
       "      <th>25</th>\n",
       "      <td>TO</td>\n",
       "      <td>3.895985</td>\n",
       "    </tr>\n",
       "    <tr>\n",
       "      <th>11</th>\n",
       "      <td>MT</td>\n",
       "      <td>3.945652</td>\n",
       "    </tr>\n",
       "  </tbody>\n",
       "</table>\n",
       "</div>"
      ],
      "text/plain": [
       "    UF  NOTA_IDEB\n",
       "3   AP   2.903333\n",
       "12  PA   3.056296\n",
       "4   BA   3.104077\n",
       "23  SE   3.180000\n",
       "18  RN   3.195370\n",
       "8   MA   3.409813\n",
       "13  PB   3.410274\n",
       "20  RR   3.493333\n",
       "2   AM   3.536066\n",
       "1   AL   3.546875\n",
       "15  PI   3.604167\n",
       "25  TO   3.895985\n",
       "11  MT   3.945652"
      ]
     },
     "execution_count": 27,
     "metadata": {},
     "output_type": "execute_result"
    }
   ],
   "source": [
    "df_n = final[['UF', 'NOTA_IDEB']].groupby(['UF'], as_index=False).mean()\n",
    "df_n[df_n['NOTA_IDEB'] < 4].sort_values(by=['NOTA_IDEB'])"
   ]
  },
  {
   "cell_type": "code",
   "execution_count": 68,
   "metadata": {},
   "outputs": [
    {
     "data": {
      "text/plain": [
       "NOTA_IDEB    3.458863\n",
       "dtype: float64"
      ]
     },
     "execution_count": 68,
     "metadata": {},
     "output_type": "execute_result"
    }
   ],
   "source": [
    "df_n[['NOTA_IDEB']].mean()"
   ]
  },
  {
   "cell_type": "code",
   "execution_count": 69,
   "metadata": {},
   "outputs": [
    {
     "data": {
      "text/plain": [
       "NOTA_IDEB    3.5\n",
       "dtype: float64"
      ]
     },
     "execution_count": 69,
     "metadata": {},
     "output_type": "execute_result"
    }
   ],
   "source": [
    "df_n[['NOTA_IDEB']].mean().round(1)"
   ]
  },
  {
   "cell_type": "code",
   "execution_count": 30,
   "metadata": {},
   "outputs": [
    {
     "data": {
      "image/png": "[encoded data removed]",
      "text/plain": [
       "<Figure size 1296x720 with 1 Axes>"
      ]
     },
     "metadata": {
      "needs_background": "light"
     },
     "output_type": "display_data"
    }
   ],
   "source": [
    "ideb_brasil = final[\n",
    "                    [\n",
    "                    'IN_BIBLIOTECA_SALA_LEITURA', \n",
    "                    'IN_COMPUTADOR', \n",
    "                    'IN_INTERNET',\n",
    "                    'IN_AGUA_FILTRADA',\n",
    "                    'IN_BANDA_LARGA',\n",
    "                    'IN_LABORATORIO_CIENCIAS', \n",
    "                    'IN_LABORATORIO_INFORMATICA', \n",
    "                    'IN_QUADRA_ESPORTES', \n",
    "                    'IN_AREA_VERDE', \n",
    "                    'IN_DEPENDENCIAS_PNE',\n",
    "                    'IN_LIXO_RECICLA',\n",
    "                    'IN_BANHEIRO', \n",
    "                    'IN_AUDITORIO',\n",
    "                    'IN_TP_ATIVIDADE_COMPLEMENTAR', \n",
    "                    'IN_TP_AEE',\n",
    "                    'IN_PATIO',\n",
    "                    'IN_REFEITORIO',\n",
    "                    'IN_ALIMENTACAO',\n",
    "                    'IN_04_NIVEL_SUPERIOR_COMPLETO', \n",
    "                    'IN_05_POS_GRADUACAO',\n",
    "                    'IN_06_MESTRADO',\n",
    "                    'IN_07_DOUTORADO'\n",
    "                    ]\n",
    "                ].mean().sort_values(ascending=False)\n",
    "\n",
    "ax = ideb_brasil.plot(kind='bar', figsize=(18,10), color='#6baed6')\n",
    "\n",
    "for p in ax.patches:\n",
    "    ax.annotate(str(round(p.get_height(),2)), (p.get_x(), p.get_height()))"
   ]
  },
  {
   "cell_type": "code",
   "execution_count": 71,
   "metadata": {},
   "outputs": [
    {
     "data": {
      "image/png": "[encoded data removed]",
      "text/plain": [
       "<Figure size 1296x720 with 1 Axes>"
      ]
     },
     "metadata": {
      "needs_background": "light"
     },
     "output_type": "display_data"
    }
   ],
   "source": [
    "vl_receita = final[['VL_RECEITA_CID']][final['NOTA_IDEB'] > 4].mean()\n",
    "\n",
    "ax = vl_receita.plot(kind='bar', figsize=(18,10))\n",
    "\n",
    "for p in ax.patches:\n",
    "    ax.annotate(str(round(p.get_height(),2)), (p.get_x(), p.get_height()))"
   ]
  },
  {
   "cell_type": "code",
   "execution_count": 72,
   "metadata": {},
   "outputs": [
    {
     "data": {
      "image/png": "[encoded data removed]",
      "text/plain": [
       "<Figure size 1296x720 with 1 Axes>"
      ]
     },
     "metadata": {
      "needs_background": "light"
     },
     "output_type": "display_data"
    }
   ],
   "source": [
    "vl_receita = final[['VL_RECEITA_CID']][final['NOTA_IDEB'] <= 4].mean()\n",
    "\n",
    "ax = vl_receita.plot(kind='bar', figsize=(18,10))\n",
    "\n",
    "for p in ax.patches:\n",
    "    ax.annotate(str(round(p.get_height(),2)), (p.get_x(), p.get_height()))"
   ]
  },
  {
   "cell_type": "code",
   "execution_count": 25,
   "metadata": {},
   "outputs": [
    {
     "data": {
      "image/png": "[encoded data removed]",
      "text/plain": [
       "<Figure size 1296x720 with 1 Axes>"
      ]
     },
     "metadata": {
      "needs_background": "light"
     },
     "output_type": "display_data"
    }
   ],
   "source": [
    "ideb_maior = final[\n",
    "                    [\n",
    "                    'IN_BIBLIOTECA_SALA_LEITURA', \n",
    "                    'IN_COMPUTADOR', \n",
    "                    'IN_INTERNET', \n",
    "                    'IN_BANDA_LARGA',\n",
    "                    'IN_LABORATORIO_CIENCIAS', \n",
    "                    'IN_LABORATORIO_INFORMATICA', \n",
    "                    'IN_QUADRA_ESPORTES', \n",
    "                    'IN_AREA_VERDE', \n",
    "                    'IN_DEPENDENCIAS_PNE',\n",
    "                    'IN_LIXO_RECICLA',\n",
    "                    'IN_BANHEIRO', \n",
    "                    'IN_AUDITORIO',\n",
    "                    'IN_TP_ATIVIDADE_COMPLEMENTAR', \n",
    "                    'IN_TP_AEE',\n",
    "                    'IN_PATIO',\n",
    "                    'IN_REFEITORIO',\n",
    "                    'IN_ALIMENTACAO',\n",
    "                    'IN_04_NIVEL_SUPERIOR_COMPLETO', \n",
    "                    'IN_05_POS_GRADUACAO',\n",
    "                    'IN_06_MESTRADO',\n",
    "                    'IN_07_DOUTORADO'\n",
    "                    ]\n",
    "                ] \\\n",
    "        [final['NOTA_IDEB'] > 4].mean()\n",
    "\n",
    "ax = ideb_maior.plot(kind='bar', figsize=(18,10), color='#6baed6')\n",
    "\n",
    "for p in ax.patches:\n",
    "    ax.annotate(str(round(p.get_height(),2)), (p.get_x(), p.get_height()))"
   ]
  },
  {
   "cell_type": "code",
   "execution_count": 26,
   "metadata": {},
   "outputs": [
    {
     "data": {
      "image/png": "[encoded data removed]",
      "text/plain": [
       "<Figure size 1296x720 with 1 Axes>"
      ]
     },
     "metadata": {
      "needs_background": "light"
     },
     "output_type": "display_data"
    }
   ],
   "source": [
    "ideb_menor = final[\n",
    "                    [\n",
    "                    'IN_BIBLIOTECA_SALA_LEITURA', \n",
    "                    'IN_COMPUTADOR', \n",
    "                    'IN_INTERNET', \n",
    "                    'IN_BANDA_LARGA',\n",
    "                    'IN_LABORATORIO_CIENCIAS', \n",
    "                    'IN_LABORATORIO_INFORMATICA', \n",
    "                    'IN_QUADRA_ESPORTES', \n",
    "                    'IN_AREA_VERDE', \n",
    "                    'IN_DEPENDENCIAS_PNE',\n",
    "                    'IN_LIXO_RECICLA',\n",
    "                    'IN_BANHEIRO', \n",
    "                    'IN_AUDITORIO',\n",
    "                    'IN_TP_ATIVIDADE_COMPLEMENTAR', \n",
    "                    'IN_TP_AEE',\n",
    "                    'IN_PATIO',\n",
    "                    'IN_REFEITORIO',\n",
    "                    'IN_ALIMENTACAO',\n",
    "                    'IN_04_NIVEL_SUPERIOR_COMPLETO', \n",
    "                    'IN_05_POS_GRADUACAO',\n",
    "                    'IN_06_MESTRADO',\n",
    "                    'IN_07_DOUTORADO'\n",
    "                    ]\n",
    "                ] \\\n",
    "        [final['NOTA_IDEB'] <= 4].mean()\n",
    "\n",
    "ax = ideb_menor.plot(kind='bar', figsize=(18,10), color='#9ecae1')\n",
    "\n",
    "for p in ax.patches:\n",
    "    ax.annotate(str(round(p.get_height(),2)), (p.get_x(), p.get_height()))"
   ]
  },
  {
   "cell_type": "code",
   "execution_count": 27,
   "metadata": {},
   "outputs": [
    {
     "data": {
      "text/plain": [
       "IN_QUADRA_ESPORTES               13.954988\n",
       "IN_PATIO                         10.875352\n",
       "IN_BIBLIOTECA_SALA_LEITURA        9.845992\n",
       "IN_AREA_VERDE                     9.068363\n",
       "IN_BANDA_LARGA                    9.017579\n",
       "IN_REFEITORIO                     8.914096\n",
       "IN_LABORATORIO_INFORMATICA        7.860719\n",
       "IN_TP_AEE                         6.816201\n",
       "IN_DEPENDENCIAS_PNE               4.933015\n",
       "IN_INTERNET                       4.775472\n",
       "IN_LABORATORIO_CIENCIAS           3.957872\n",
       "IN_AUDITORIO                      3.421109\n",
       "IN_LIXO_RECICLA                   2.526779\n",
       "IN_COMPUTADOR                     0.969907\n",
       "IN_04_NIVEL_SUPERIOR_COMPLETO     0.285247\n",
       "IN_07_DOUTORADO                   0.142993\n",
       "IN_ALIMENTACAO                    0.130480\n",
       "IN_06_MESTRADO                    0.067241\n",
       "IN_TP_ATIVIDADE_COMPLEMENTAR     -0.096932\n",
       "IN_BANHEIRO                      -4.754333\n",
       "IN_05_POS_GRADUACAO              -5.386410\n",
       "dtype: float64"
      ]
     },
     "execution_count": 27,
     "metadata": {},
     "output_type": "execute_result"
    }
   ],
   "source": [
    "result = ideb_maior.subtract(ideb_menor)\n",
    "result.sort_values(ascending=False)"
   ]
  },
  {
   "cell_type": "code",
   "execution_count": 332,
   "metadata": {},
   "outputs": [
    {
     "data": {
      "text/plain": [
       "875.4818056061158"
      ]
     },
     "execution_count": 332,
     "metadata": {},
     "output_type": "execute_result"
    }
   ],
   "source": [
    "melhor_ideb_invest_cid = final['VL_DESPESA_PAG_ED_CID'][final['NOTA_IDEB'] > 4].mean()\n",
    "melhor_ideb_invest_cid"
   ]
  },
  {
   "cell_type": "code",
   "execution_count": 333,
   "metadata": {},
   "outputs": [
    {
     "data": {
      "text/plain": [
       "952.4928776978417"
      ]
     },
     "execution_count": 333,
     "metadata": {},
     "output_type": "execute_result"
    }
   ],
   "source": [
    "pior_ideb_invest_cid = final['VL_DESPESA_PAG_ED_CID'][final['NOTA_IDEB'] < 3].mean()\n",
    "pior_ideb_invest_cid"
   ]
  },
  {
   "cell_type": "code",
   "execution_count": 336,
   "metadata": {},
   "outputs": [
    {
     "data": {
      "text/plain": [
       "-77.01107209172585"
      ]
     },
     "execution_count": 336,
     "metadata": {},
     "output_type": "execute_result"
    }
   ],
   "source": [
    "melhor_ideb_invest_cid - pior_ideb_invest_cid"
   ]
  },
  {
   "cell_type": "code",
   "execution_count": 56,
   "metadata": {},
   "outputs": [],
   "source": [
    "final_df = final[\n",
    "                    [\n",
    "                        'CO_MUNICIPIO', \n",
    "                        'CO_UF', \n",
    "                        'IN_BIBLIOTECA_SALA_LEITURA', \n",
    "                        'IN_COMPUTADOR', \n",
    "                        'IN_INTERNET', \n",
    "                        'IN_BANDA_LARGA',\n",
    "                        'IN_LABORATORIO_CIENCIAS', \n",
    "                        'IN_LABORATORIO_INFORMATICA', \n",
    "                        'IN_QUADRA_ESPORTES', \n",
    "                        'IN_AREA_VERDE', \n",
    "                        'IN_DEPENDENCIAS_PNE',\n",
    "                        'IN_LIXO_RECICLA',\n",
    "                        'IN_BANHEIRO', \n",
    "                        'IN_AUDITORIO',\n",
    "                        'IN_TP_ATIVIDADE_COMPLEMENTAR', \n",
    "                        'IN_TP_AEE',\n",
    "                        'IN_PATIO',   \n",
    "                        'IN_04_NIVEL_SUPERIOR_COMPLETO', \n",
    "                        'IN_05_POS_GRADUACAO',\n",
    "                        'IN_06_MESTRADO',\n",
    "                        'IN_07_DOUTORADO',\n",
    "                        'VL_DESPESA_PAG_ED_CID', \n",
    "                        'NOTA_IDEB'\n",
    "                    ]\n",
    "                ]"
   ]
  },
  {
   "cell_type": "code",
   "execution_count": 57,
   "metadata": {},
   "outputs": [
    {
     "name": "stderr",
     "output_type": "stream",
     "text": [
      "/home/matteus-paula/.local/lib/python3.7/site-packages/ipykernel_launcher.py:1: SettingWithCopyWarning: \n",
      "A value is trying to be set on a copy of a slice from a DataFrame.\n",
      "Try using .loc[row_indexer,col_indexer] = value instead\n",
      "\n",
      "See the caveats in the documentation: https://pandas.pydata.org/pandas-docs/stable/user_guide/indexing.html#returning-a-view-versus-a-copy\n",
      "  \"\"\"Entry point for launching an IPython kernel.\n",
      "/home/matteus-paula/.local/lib/python3.7/site-packages/pandas/core/indexing.py:966: SettingWithCopyWarning: \n",
      "A value is trying to be set on a copy of a slice from a DataFrame.\n",
      "Try using .loc[row_indexer,col_indexer] = value instead\n",
      "\n",
      "See the caveats in the documentation: https://pandas.pydata.org/pandas-docs/stable/user_guide/indexing.html#returning-a-view-versus-a-copy\n",
      "  self.obj[item] = s\n"
     ]
    }
   ],
   "source": [
    "final_df[['VL_DESPESA_PAG_ED_CID']] = scaler.fit_transform(final_df[['VL_DESPESA_PAG_ED_CID']])"
   ]
  },
  {
   "cell_type": "code",
   "execution_count": 58,
   "metadata": {},
   "outputs": [
    {
     "data": {
      "text/html": [
       "<div>\n",
       "<style scoped>\n",
       "    .dataframe tbody tr th:only-of-type {\n",
       "        vertical-align: middle;\n",
       "    }\n",
       "\n",
       "    .dataframe tbody tr th {\n",
       "        vertical-align: top;\n",
       "    }\n",
       "\n",
       "    .dataframe thead th {\n",
       "        text-align: right;\n",
       "    }\n",
       "</style>\n",
       "<table border=\"1\" class=\"dataframe\">\n",
       "  <thead>\n",
       "    <tr style=\"text-align: right;\">\n",
       "      <th></th>\n",
       "      <th>CO_MUNICIPIO</th>\n",
       "      <th>CO_UF</th>\n",
       "      <th>IN_BIBLIOTECA_SALA_LEITURA</th>\n",
       "      <th>IN_COMPUTADOR</th>\n",
       "      <th>IN_INTERNET</th>\n",
       "      <th>IN_BANDA_LARGA</th>\n",
       "      <th>IN_LABORATORIO_CIENCIAS</th>\n",
       "      <th>IN_LABORATORIO_INFORMATICA</th>\n",
       "      <th>IN_QUADRA_ESPORTES</th>\n",
       "      <th>IN_AREA_VERDE</th>\n",
       "      <th>...</th>\n",
       "      <th>IN_AUDITORIO</th>\n",
       "      <th>IN_TP_ATIVIDADE_COMPLEMENTAR</th>\n",
       "      <th>IN_TP_AEE</th>\n",
       "      <th>IN_PATIO</th>\n",
       "      <th>IN_04_NIVEL_SUPERIOR_COMPLETO</th>\n",
       "      <th>IN_05_POS_GRADUACAO</th>\n",
       "      <th>IN_06_MESTRADO</th>\n",
       "      <th>IN_07_DOUTORADO</th>\n",
       "      <th>VL_DESPESA_PAG_ED_CID</th>\n",
       "      <th>NOTA_IDEB</th>\n",
       "    </tr>\n",
       "  </thead>\n",
       "  <tbody>\n",
       "    <tr>\n",
       "      <th>0</th>\n",
       "      <td>1100015</td>\n",
       "      <td>11</td>\n",
       "      <td>50.00</td>\n",
       "      <td>50.0</td>\n",
       "      <td>50.00</td>\n",
       "      <td>50.00</td>\n",
       "      <td>50.0</td>\n",
       "      <td>50.0</td>\n",
       "      <td>50.0</td>\n",
       "      <td>0.0</td>\n",
       "      <td>...</td>\n",
       "      <td>0.00</td>\n",
       "      <td>0.00</td>\n",
       "      <td>25.00</td>\n",
       "      <td>50.0</td>\n",
       "      <td>99.60</td>\n",
       "      <td>57.71</td>\n",
       "      <td>8.89</td>\n",
       "      <td>2.37</td>\n",
       "      <td>0.122154</td>\n",
       "      <td>4.35</td>\n",
       "    </tr>\n",
       "    <tr>\n",
       "      <th>1</th>\n",
       "      <td>1100023</td>\n",
       "      <td>11</td>\n",
       "      <td>100.00</td>\n",
       "      <td>100.0</td>\n",
       "      <td>87.50</td>\n",
       "      <td>87.50</td>\n",
       "      <td>75.0</td>\n",
       "      <td>87.5</td>\n",
       "      <td>87.5</td>\n",
       "      <td>75.0</td>\n",
       "      <td>...</td>\n",
       "      <td>62.50</td>\n",
       "      <td>25.00</td>\n",
       "      <td>75.00</td>\n",
       "      <td>100.0</td>\n",
       "      <td>98.58</td>\n",
       "      <td>61.26</td>\n",
       "      <td>12.17</td>\n",
       "      <td>2.16</td>\n",
       "      <td>0.108801</td>\n",
       "      <td>4.35</td>\n",
       "    </tr>\n",
       "    <tr>\n",
       "      <th>2</th>\n",
       "      <td>1100031</td>\n",
       "      <td>11</td>\n",
       "      <td>50.00</td>\n",
       "      <td>100.0</td>\n",
       "      <td>100.00</td>\n",
       "      <td>50.00</td>\n",
       "      <td>0.0</td>\n",
       "      <td>50.0</td>\n",
       "      <td>100.0</td>\n",
       "      <td>0.0</td>\n",
       "      <td>...</td>\n",
       "      <td>0.00</td>\n",
       "      <td>50.00</td>\n",
       "      <td>50.00</td>\n",
       "      <td>100.0</td>\n",
       "      <td>100.00</td>\n",
       "      <td>49.06</td>\n",
       "      <td>0.00</td>\n",
       "      <td>0.00</td>\n",
       "      <td>0.160185</td>\n",
       "      <td>4.40</td>\n",
       "    </tr>\n",
       "    <tr>\n",
       "      <th>3</th>\n",
       "      <td>1100049</td>\n",
       "      <td>11</td>\n",
       "      <td>58.33</td>\n",
       "      <td>100.0</td>\n",
       "      <td>58.33</td>\n",
       "      <td>58.33</td>\n",
       "      <td>50.0</td>\n",
       "      <td>50.0</td>\n",
       "      <td>50.0</td>\n",
       "      <td>50.0</td>\n",
       "      <td>...</td>\n",
       "      <td>16.67</td>\n",
       "      <td>8.33</td>\n",
       "      <td>66.67</td>\n",
       "      <td>75.0</td>\n",
       "      <td>96.78</td>\n",
       "      <td>58.85</td>\n",
       "      <td>6.67</td>\n",
       "      <td>2.02</td>\n",
       "      <td>0.073729</td>\n",
       "      <td>4.50</td>\n",
       "    </tr>\n",
       "    <tr>\n",
       "      <th>4</th>\n",
       "      <td>1100056</td>\n",
       "      <td>11</td>\n",
       "      <td>100.00</td>\n",
       "      <td>100.0</td>\n",
       "      <td>100.00</td>\n",
       "      <td>100.00</td>\n",
       "      <td>100.0</td>\n",
       "      <td>100.0</td>\n",
       "      <td>100.0</td>\n",
       "      <td>100.0</td>\n",
       "      <td>...</td>\n",
       "      <td>100.00</td>\n",
       "      <td>0.00</td>\n",
       "      <td>100.00</td>\n",
       "      <td>100.0</td>\n",
       "      <td>100.00</td>\n",
       "      <td>83.56</td>\n",
       "      <td>0.00</td>\n",
       "      <td>0.00</td>\n",
       "      <td>0.104421</td>\n",
       "      <td>4.55</td>\n",
       "    </tr>\n",
       "  </tbody>\n",
       "</table>\n",
       "<p>5 rows × 23 columns</p>\n",
       "</div>"
      ],
      "text/plain": [
       "   CO_MUNICIPIO  CO_UF  IN_BIBLIOTECA_SALA_LEITURA  IN_COMPUTADOR  \\\n",
       "0       1100015     11                       50.00           50.0   \n",
       "1       1100023     11                      100.00          100.0   \n",
       "2       1100031     11                       50.00          100.0   \n",
       "3       1100049     11                       58.33          100.0   \n",
       "4       1100056     11                      100.00          100.0   \n",
       "\n",
       "   IN_INTERNET  IN_BANDA_LARGA  IN_LABORATORIO_CIENCIAS  \\\n",
       "0        50.00           50.00                     50.0   \n",
       "1        87.50           87.50                     75.0   \n",
       "2       100.00           50.00                      0.0   \n",
       "3        58.33           58.33                     50.0   \n",
       "4       100.00          100.00                    100.0   \n",
       "\n",
       "   IN_LABORATORIO_INFORMATICA  IN_QUADRA_ESPORTES  IN_AREA_VERDE  ...  \\\n",
       "0                        50.0                50.0            0.0  ...   \n",
       "1                        87.5                87.5           75.0  ...   \n",
       "2                        50.0               100.0            0.0  ...   \n",
       "3                        50.0                50.0           50.0  ...   \n",
       "4                       100.0               100.0          100.0  ...   \n",
       "\n",
       "   IN_AUDITORIO  IN_TP_ATIVIDADE_COMPLEMENTAR  IN_TP_AEE  IN_PATIO  \\\n",
       "0          0.00                          0.00      25.00      50.0   \n",
       "1         62.50                         25.00      75.00     100.0   \n",
       "2          0.00                         50.00      50.00     100.0   \n",
       "3         16.67                          8.33      66.67      75.0   \n",
       "4        100.00                          0.00     100.00     100.0   \n",
       "\n",
       "   IN_04_NIVEL_SUPERIOR_COMPLETO  IN_05_POS_GRADUACAO  IN_06_MESTRADO  \\\n",
       "0                          99.60                57.71            8.89   \n",
       "1                          98.58                61.26           12.17   \n",
       "2                         100.00                49.06            0.00   \n",
       "3                          96.78                58.85            6.67   \n",
       "4                         100.00                83.56            0.00   \n",
       "\n",
       "   IN_07_DOUTORADO  VL_DESPESA_PAG_ED_CID  NOTA_IDEB  \n",
       "0             2.37               0.122154       4.35  \n",
       "1             2.16               0.108801       4.35  \n",
       "2             0.00               0.160185       4.40  \n",
       "3             2.02               0.073729       4.50  \n",
       "4             0.00               0.104421       4.55  \n",
       "\n",
       "[5 rows x 23 columns]"
      ]
     },
     "execution_count": 58,
     "metadata": {},
     "output_type": "execute_result"
    }
   ],
   "source": [
    "final_df.head()"
   ]
  },
  {
   "cell_type": "code",
   "execution_count": 59,
   "metadata": {},
   "outputs": [
    {
     "data": {
      "text/plain": [
       "23"
      ]
     },
     "execution_count": 59,
     "metadata": {},
     "output_type": "execute_result"
    }
   ],
   "source": [
    "len(final_df.columns)"
   ]
  },
  {
   "cell_type": "code",
   "execution_count": 61,
   "metadata": {},
   "outputs": [],
   "source": [
    "X = final_df.iloc[:, 2:22].values"
   ]
  },
  {
   "cell_type": "code",
   "execution_count": 62,
   "metadata": {},
   "outputs": [],
   "source": [
    "from sklearn.cluster import KMeans\n",
    "\n",
    "wcss=[]\n",
    "\n",
    "for i in range(1,11):\n",
    "    kmeans = KMeans(n_clusters= i, init='k-means++', random_state=0)\n",
    "    kmeans.fit(X)\n",
    "    wcss.append(kmeans.inertia_)"
   ]
  },
  {
   "cell_type": "code",
   "execution_count": 63,
   "metadata": {},
   "outputs": [
    {
     "data": {
      "image/png": "[encoded data removed]",
      "text/plain": [
       "<Figure size 432x288 with 1 Axes>"
      ]
     },
     "metadata": {
      "needs_background": "light"
     },
     "output_type": "display_data"
    }
   ],
   "source": [
    "import matplotlib.pyplot as plt\n",
    "\n",
    "plt.plot(range(1,11), wcss)\n",
    "plt.title('The Elbow Method')\n",
    "plt.xlabel('no of clusters')\n",
    "plt.ylabel('wcss')\n",
    "plt.show()"
   ]
  },
  {
   "cell_type": "code",
   "execution_count": 80,
   "metadata": {},
   "outputs": [],
   "source": [
    "kmeansmodel = KMeans(n_clusters = 3, init='k-means++', random_state=0)\n",
    "y_kmeans = kmeansmodel.fit_predict(X)\n",
    "pca_data = pd.DataFrame(y_kmeans)\n",
    "pca_data.columns = ['labels']"
   ]
  },
  {
   "cell_type": "code",
   "execution_count": 81,
   "metadata": {},
   "outputs": [
    {
     "name": "stderr",
     "output_type": "stream",
     "text": [
      "/home/matteus-paula/.local/lib/python3.7/site-packages/ipykernel_launcher.py:1: SettingWithCopyWarning: \n",
      "A value is trying to be set on a copy of a slice from a DataFrame.\n",
      "Try using .loc[row_indexer,col_indexer] = value instead\n",
      "\n",
      "See the caveats in the documentation: https://pandas.pydata.org/pandas-docs/stable/user_guide/indexing.html#returning-a-view-versus-a-copy\n",
      "  \"\"\"Entry point for launching an IPython kernel.\n"
     ]
    }
   ],
   "source": [
    "final_df['labels'] = pca_data['labels']"
   ]
  },
  {
   "cell_type": "code",
   "execution_count": 84,
   "metadata": {},
   "outputs": [
    {
     "data": {
      "text/html": [
       "<div>\n",
       "<style scoped>\n",
       "    .dataframe tbody tr th:only-of-type {\n",
       "        vertical-align: middle;\n",
       "    }\n",
       "\n",
       "    .dataframe tbody tr th {\n",
       "        vertical-align: top;\n",
       "    }\n",
       "\n",
       "    .dataframe thead th {\n",
       "        text-align: right;\n",
       "    }\n",
       "</style>\n",
       "<table border=\"1\" class=\"dataframe\">\n",
       "  <thead>\n",
       "    <tr style=\"text-align: right;\">\n",
       "      <th></th>\n",
       "      <th>CO_MUNICIPIO</th>\n",
       "      <th>CO_UF</th>\n",
       "      <th>IN_BIBLIOTECA_SALA_LEITURA</th>\n",
       "      <th>IN_COMPUTADOR</th>\n",
       "      <th>IN_INTERNET</th>\n",
       "      <th>IN_BANDA_LARGA</th>\n",
       "      <th>IN_LABORATORIO_CIENCIAS</th>\n",
       "      <th>IN_LABORATORIO_INFORMATICA</th>\n",
       "      <th>IN_QUADRA_ESPORTES</th>\n",
       "      <th>IN_AREA_VERDE</th>\n",
       "      <th>...</th>\n",
       "      <th>IN_AUDITORIO</th>\n",
       "      <th>IN_TP_ATIVIDADE_COMPLEMENTAR</th>\n",
       "      <th>IN_TP_AEE</th>\n",
       "      <th>IN_PATIO</th>\n",
       "      <th>IN_04_NIVEL_SUPERIOR_COMPLETO</th>\n",
       "      <th>IN_05_POS_GRADUACAO</th>\n",
       "      <th>IN_06_MESTRADO</th>\n",
       "      <th>IN_07_DOUTORADO</th>\n",
       "      <th>VL_DESPESA_PAG_ED_CID</th>\n",
       "      <th>NOTA_IDEB</th>\n",
       "    </tr>\n",
       "    <tr>\n",
       "      <th>labels</th>\n",
       "      <th></th>\n",
       "      <th></th>\n",
       "      <th></th>\n",
       "      <th></th>\n",
       "      <th></th>\n",
       "      <th></th>\n",
       "      <th></th>\n",
       "      <th></th>\n",
       "      <th></th>\n",
       "      <th></th>\n",
       "      <th></th>\n",
       "      <th></th>\n",
       "      <th></th>\n",
       "      <th></th>\n",
       "      <th></th>\n",
       "      <th></th>\n",
       "      <th></th>\n",
       "      <th></th>\n",
       "      <th></th>\n",
       "      <th></th>\n",
       "      <th></th>\n",
       "    </tr>\n",
       "  </thead>\n",
       "  <tbody>\n",
       "    <tr>\n",
       "      <th>0</th>\n",
       "      <td>294</td>\n",
       "      <td>294</td>\n",
       "      <td>294</td>\n",
       "      <td>294</td>\n",
       "      <td>294</td>\n",
       "      <td>294</td>\n",
       "      <td>294</td>\n",
       "      <td>294</td>\n",
       "      <td>294</td>\n",
       "      <td>294</td>\n",
       "      <td>...</td>\n",
       "      <td>294</td>\n",
       "      <td>294</td>\n",
       "      <td>294</td>\n",
       "      <td>294</td>\n",
       "      <td>294</td>\n",
       "      <td>294</td>\n",
       "      <td>294</td>\n",
       "      <td>294</td>\n",
       "      <td>294</td>\n",
       "      <td>294</td>\n",
       "    </tr>\n",
       "    <tr>\n",
       "      <th>1</th>\n",
       "      <td>38</td>\n",
       "      <td>38</td>\n",
       "      <td>38</td>\n",
       "      <td>38</td>\n",
       "      <td>38</td>\n",
       "      <td>38</td>\n",
       "      <td>38</td>\n",
       "      <td>38</td>\n",
       "      <td>38</td>\n",
       "      <td>38</td>\n",
       "      <td>...</td>\n",
       "      <td>38</td>\n",
       "      <td>38</td>\n",
       "      <td>38</td>\n",
       "      <td>38</td>\n",
       "      <td>38</td>\n",
       "      <td>38</td>\n",
       "      <td>38</td>\n",
       "      <td>38</td>\n",
       "      <td>38</td>\n",
       "      <td>38</td>\n",
       "    </tr>\n",
       "    <tr>\n",
       "      <th>2</th>\n",
       "      <td>85</td>\n",
       "      <td>85</td>\n",
       "      <td>85</td>\n",
       "      <td>85</td>\n",
       "      <td>85</td>\n",
       "      <td>85</td>\n",
       "      <td>85</td>\n",
       "      <td>85</td>\n",
       "      <td>85</td>\n",
       "      <td>85</td>\n",
       "      <td>...</td>\n",
       "      <td>85</td>\n",
       "      <td>85</td>\n",
       "      <td>85</td>\n",
       "      <td>85</td>\n",
       "      <td>85</td>\n",
       "      <td>85</td>\n",
       "      <td>85</td>\n",
       "      <td>85</td>\n",
       "      <td>85</td>\n",
       "      <td>85</td>\n",
       "    </tr>\n",
       "  </tbody>\n",
       "</table>\n",
       "<p>3 rows × 23 columns</p>\n",
       "</div>"
      ],
      "text/plain": [
       "        CO_MUNICIPIO  CO_UF  IN_BIBLIOTECA_SALA_LEITURA  IN_COMPUTADOR  \\\n",
       "labels                                                                   \n",
       "0                294    294                         294            294   \n",
       "1                 38     38                          38             38   \n",
       "2                 85     85                          85             85   \n",
       "\n",
       "        IN_INTERNET  IN_BANDA_LARGA  IN_LABORATORIO_CIENCIAS  \\\n",
       "labels                                                         \n",
       "0               294             294                      294   \n",
       "1                38              38                       38   \n",
       "2                85              85                       85   \n",
       "\n",
       "        IN_LABORATORIO_INFORMATICA  IN_QUADRA_ESPORTES  IN_AREA_VERDE  ...  \\\n",
       "labels                                                                 ...   \n",
       "0                              294                 294            294  ...   \n",
       "1                               38                  38             38  ...   \n",
       "2                               85                  85             85  ...   \n",
       "\n",
       "        IN_AUDITORIO  IN_TP_ATIVIDADE_COMPLEMENTAR  IN_TP_AEE  IN_PATIO  \\\n",
       "labels                                                                    \n",
       "0                294                           294        294       294   \n",
       "1                 38                            38         38        38   \n",
       "2                 85                            85         85        85   \n",
       "\n",
       "        IN_04_NIVEL_SUPERIOR_COMPLETO  IN_05_POS_GRADUACAO  IN_06_MESTRADO  \\\n",
       "labels                                                                       \n",
       "0                                 294                  294             294   \n",
       "1                                  38                   38              38   \n",
       "2                                  85                   85              85   \n",
       "\n",
       "        IN_07_DOUTORADO  VL_DESPESA_PAG_ED_CID  NOTA_IDEB  \n",
       "labels                                                     \n",
       "0                   294                    294        294  \n",
       "1                    38                     38         38  \n",
       "2                    85                     85         85  \n",
       "\n",
       "[3 rows x 23 columns]"
      ]
     },
     "execution_count": 84,
     "metadata": {},
     "output_type": "execute_result"
    }
   ],
   "source": [
    "final_df[final_df['NOTA_IDEB'] < 3].groupby('labels').count()"
   ]
  },
  {
   "cell_type": "code",
   "execution_count": 76,
   "metadata": {},
   "outputs": [
    {
     "data": {
      "text/html": [
       "<div>\n",
       "<style scoped>\n",
       "    .dataframe tbody tr th:only-of-type {\n",
       "        vertical-align: middle;\n",
       "    }\n",
       "\n",
       "    .dataframe tbody tr th {\n",
       "        vertical-align: top;\n",
       "    }\n",
       "\n",
       "    .dataframe thead th {\n",
       "        text-align: right;\n",
       "    }\n",
       "</style>\n",
       "<table border=\"1\" class=\"dataframe\">\n",
       "  <thead>\n",
       "    <tr style=\"text-align: right;\">\n",
       "      <th></th>\n",
       "      <th>CO_MUNICIPIO</th>\n",
       "      <th>CO_UF</th>\n",
       "      <th>IN_BIBLIOTECA_SALA_LEITURA</th>\n",
       "      <th>IN_COMPUTADOR</th>\n",
       "      <th>IN_INTERNET</th>\n",
       "      <th>IN_BANDA_LARGA</th>\n",
       "      <th>IN_LABORATORIO_CIENCIAS</th>\n",
       "      <th>IN_LABORATORIO_INFORMATICA</th>\n",
       "      <th>IN_QUADRA_ESPORTES</th>\n",
       "      <th>IN_AREA_VERDE</th>\n",
       "      <th>...</th>\n",
       "      <th>IN_TP_ATIVIDADE_COMPLEMENTAR</th>\n",
       "      <th>IN_TP_AEE</th>\n",
       "      <th>IN_PATIO</th>\n",
       "      <th>IN_04_NIVEL_SUPERIOR_COMPLETO</th>\n",
       "      <th>IN_05_POS_GRADUACAO</th>\n",
       "      <th>IN_06_MESTRADO</th>\n",
       "      <th>IN_07_DOUTORADO</th>\n",
       "      <th>VL_DESPESA_PAG_ED_CID</th>\n",
       "      <th>NOTA_IDEB</th>\n",
       "      <th>labels</th>\n",
       "    </tr>\n",
       "  </thead>\n",
       "  <tbody>\n",
       "    <tr>\n",
       "      <th>1</th>\n",
       "      <td>1100023</td>\n",
       "      <td>11</td>\n",
       "      <td>100.00</td>\n",
       "      <td>100.0</td>\n",
       "      <td>87.5</td>\n",
       "      <td>87.50</td>\n",
       "      <td>75.00</td>\n",
       "      <td>87.50</td>\n",
       "      <td>87.50</td>\n",
       "      <td>75.00</td>\n",
       "      <td>...</td>\n",
       "      <td>25.00</td>\n",
       "      <td>75.00</td>\n",
       "      <td>100.0</td>\n",
       "      <td>98.58</td>\n",
       "      <td>61.26</td>\n",
       "      <td>12.17</td>\n",
       "      <td>2.16</td>\n",
       "      <td>0.108801</td>\n",
       "      <td>4.35</td>\n",
       "      <td>1</td>\n",
       "    </tr>\n",
       "    <tr>\n",
       "      <th>4</th>\n",
       "      <td>1100056</td>\n",
       "      <td>11</td>\n",
       "      <td>100.00</td>\n",
       "      <td>100.0</td>\n",
       "      <td>100.0</td>\n",
       "      <td>100.00</td>\n",
       "      <td>100.00</td>\n",
       "      <td>100.00</td>\n",
       "      <td>100.00</td>\n",
       "      <td>100.00</td>\n",
       "      <td>...</td>\n",
       "      <td>0.00</td>\n",
       "      <td>100.00</td>\n",
       "      <td>100.0</td>\n",
       "      <td>100.00</td>\n",
       "      <td>83.56</td>\n",
       "      <td>0.00</td>\n",
       "      <td>0.00</td>\n",
       "      <td>0.104421</td>\n",
       "      <td>4.55</td>\n",
       "      <td>1</td>\n",
       "    </tr>\n",
       "    <tr>\n",
       "      <th>5</th>\n",
       "      <td>1100064</td>\n",
       "      <td>11</td>\n",
       "      <td>66.67</td>\n",
       "      <td>100.0</td>\n",
       "      <td>100.0</td>\n",
       "      <td>100.00</td>\n",
       "      <td>66.67</td>\n",
       "      <td>66.67</td>\n",
       "      <td>100.00</td>\n",
       "      <td>33.33</td>\n",
       "      <td>...</td>\n",
       "      <td>0.00</td>\n",
       "      <td>66.67</td>\n",
       "      <td>100.0</td>\n",
       "      <td>100.00</td>\n",
       "      <td>48.24</td>\n",
       "      <td>16.90</td>\n",
       "      <td>5.11</td>\n",
       "      <td>0.091283</td>\n",
       "      <td>4.65</td>\n",
       "      <td>1</td>\n",
       "    </tr>\n",
       "    <tr>\n",
       "      <th>9</th>\n",
       "      <td>1100106</td>\n",
       "      <td>11</td>\n",
       "      <td>60.00</td>\n",
       "      <td>100.0</td>\n",
       "      <td>80.0</td>\n",
       "      <td>60.00</td>\n",
       "      <td>80.00</td>\n",
       "      <td>80.00</td>\n",
       "      <td>60.00</td>\n",
       "      <td>20.00</td>\n",
       "      <td>...</td>\n",
       "      <td>0.00</td>\n",
       "      <td>60.00</td>\n",
       "      <td>100.0</td>\n",
       "      <td>95.85</td>\n",
       "      <td>29.25</td>\n",
       "      <td>7.91</td>\n",
       "      <td>2.96</td>\n",
       "      <td>0.061632</td>\n",
       "      <td>3.80</td>\n",
       "      <td>1</td>\n",
       "    </tr>\n",
       "    <tr>\n",
       "      <th>10</th>\n",
       "      <td>1100114</td>\n",
       "      <td>11</td>\n",
       "      <td>77.78</td>\n",
       "      <td>100.0</td>\n",
       "      <td>100.0</td>\n",
       "      <td>77.78</td>\n",
       "      <td>33.33</td>\n",
       "      <td>77.78</td>\n",
       "      <td>88.89</td>\n",
       "      <td>33.33</td>\n",
       "      <td>...</td>\n",
       "      <td>33.33</td>\n",
       "      <td>88.89</td>\n",
       "      <td>100.0</td>\n",
       "      <td>97.69</td>\n",
       "      <td>78.94</td>\n",
       "      <td>7.88</td>\n",
       "      <td>1.15</td>\n",
       "      <td>0.076319</td>\n",
       "      <td>4.45</td>\n",
       "      <td>1</td>\n",
       "    </tr>\n",
       "    <tr>\n",
       "      <th>...</th>\n",
       "      <td>...</td>\n",
       "      <td>...</td>\n",
       "      <td>...</td>\n",
       "      <td>...</td>\n",
       "      <td>...</td>\n",
       "      <td>...</td>\n",
       "      <td>...</td>\n",
       "      <td>...</td>\n",
       "      <td>...</td>\n",
       "      <td>...</td>\n",
       "      <td>...</td>\n",
       "      <td>...</td>\n",
       "      <td>...</td>\n",
       "      <td>...</td>\n",
       "      <td>...</td>\n",
       "      <td>...</td>\n",
       "      <td>...</td>\n",
       "      <td>...</td>\n",
       "      <td>...</td>\n",
       "      <td>...</td>\n",
       "      <td>...</td>\n",
       "    </tr>\n",
       "    <tr>\n",
       "      <th>5473</th>\n",
       "      <td>5221601</td>\n",
       "      <td>52</td>\n",
       "      <td>100.00</td>\n",
       "      <td>100.0</td>\n",
       "      <td>100.0</td>\n",
       "      <td>100.00</td>\n",
       "      <td>100.00</td>\n",
       "      <td>100.00</td>\n",
       "      <td>100.00</td>\n",
       "      <td>66.67</td>\n",
       "      <td>...</td>\n",
       "      <td>0.00</td>\n",
       "      <td>0.00</td>\n",
       "      <td>100.0</td>\n",
       "      <td>92.28</td>\n",
       "      <td>28.71</td>\n",
       "      <td>11.70</td>\n",
       "      <td>0.00</td>\n",
       "      <td>0.073067</td>\n",
       "      <td>4.75</td>\n",
       "      <td>1</td>\n",
       "    </tr>\n",
       "    <tr>\n",
       "      <th>5474</th>\n",
       "      <td>5221700</td>\n",
       "      <td>52</td>\n",
       "      <td>100.00</td>\n",
       "      <td>100.0</td>\n",
       "      <td>100.0</td>\n",
       "      <td>100.00</td>\n",
       "      <td>0.00</td>\n",
       "      <td>100.00</td>\n",
       "      <td>100.00</td>\n",
       "      <td>50.00</td>\n",
       "      <td>...</td>\n",
       "      <td>50.00</td>\n",
       "      <td>50.00</td>\n",
       "      <td>100.0</td>\n",
       "      <td>82.66</td>\n",
       "      <td>39.88</td>\n",
       "      <td>0.00</td>\n",
       "      <td>0.00</td>\n",
       "      <td>0.084405</td>\n",
       "      <td>5.00</td>\n",
       "      <td>1</td>\n",
       "    </tr>\n",
       "    <tr>\n",
       "      <th>5475</th>\n",
       "      <td>5221809</td>\n",
       "      <td>52</td>\n",
       "      <td>100.00</td>\n",
       "      <td>100.0</td>\n",
       "      <td>100.0</td>\n",
       "      <td>100.00</td>\n",
       "      <td>50.00</td>\n",
       "      <td>100.00</td>\n",
       "      <td>50.00</td>\n",
       "      <td>50.00</td>\n",
       "      <td>...</td>\n",
       "      <td>0.00</td>\n",
       "      <td>100.00</td>\n",
       "      <td>100.0</td>\n",
       "      <td>97.75</td>\n",
       "      <td>36.01</td>\n",
       "      <td>34.73</td>\n",
       "      <td>9.32</td>\n",
       "      <td>0.211799</td>\n",
       "      <td>4.85</td>\n",
       "      <td>1</td>\n",
       "    </tr>\n",
       "    <tr>\n",
       "      <th>5478</th>\n",
       "      <td>5222005</td>\n",
       "      <td>52</td>\n",
       "      <td>100.00</td>\n",
       "      <td>100.0</td>\n",
       "      <td>100.0</td>\n",
       "      <td>100.00</td>\n",
       "      <td>100.00</td>\n",
       "      <td>100.00</td>\n",
       "      <td>100.00</td>\n",
       "      <td>100.00</td>\n",
       "      <td>...</td>\n",
       "      <td>0.00</td>\n",
       "      <td>0.00</td>\n",
       "      <td>100.0</td>\n",
       "      <td>82.07</td>\n",
       "      <td>48.97</td>\n",
       "      <td>0.00</td>\n",
       "      <td>0.00</td>\n",
       "      <td>0.173622</td>\n",
       "      <td>5.05</td>\n",
       "      <td>1</td>\n",
       "    </tr>\n",
       "    <tr>\n",
       "      <th>5479</th>\n",
       "      <td>5222054</td>\n",
       "      <td>52</td>\n",
       "      <td>100.00</td>\n",
       "      <td>100.0</td>\n",
       "      <td>100.0</td>\n",
       "      <td>100.00</td>\n",
       "      <td>100.00</td>\n",
       "      <td>100.00</td>\n",
       "      <td>0.00</td>\n",
       "      <td>100.00</td>\n",
       "      <td>...</td>\n",
       "      <td>100.00</td>\n",
       "      <td>100.00</td>\n",
       "      <td>100.0</td>\n",
       "      <td>100.00</td>\n",
       "      <td>29.27</td>\n",
       "      <td>0.00</td>\n",
       "      <td>0.00</td>\n",
       "      <td>0.128829</td>\n",
       "      <td>5.35</td>\n",
       "      <td>1</td>\n",
       "    </tr>\n",
       "  </tbody>\n",
       "</table>\n",
       "<p>3092 rows × 24 columns</p>\n",
       "</div>"
      ],
      "text/plain": [
       "      CO_MUNICIPIO  CO_UF  IN_BIBLIOTECA_SALA_LEITURA  IN_COMPUTADOR  \\\n",
       "1          1100023     11                      100.00          100.0   \n",
       "4          1100056     11                      100.00          100.0   \n",
       "5          1100064     11                       66.67          100.0   \n",
       "9          1100106     11                       60.00          100.0   \n",
       "10         1100114     11                       77.78          100.0   \n",
       "...            ...    ...                         ...            ...   \n",
       "5473       5221601     52                      100.00          100.0   \n",
       "5474       5221700     52                      100.00          100.0   \n",
       "5475       5221809     52                      100.00          100.0   \n",
       "5478       5222005     52                      100.00          100.0   \n",
       "5479       5222054     52                      100.00          100.0   \n",
       "\n",
       "      IN_INTERNET  IN_BANDA_LARGA  IN_LABORATORIO_CIENCIAS  \\\n",
       "1            87.5           87.50                    75.00   \n",
       "4           100.0          100.00                   100.00   \n",
       "5           100.0          100.00                    66.67   \n",
       "9            80.0           60.00                    80.00   \n",
       "10          100.0           77.78                    33.33   \n",
       "...           ...             ...                      ...   \n",
       "5473        100.0          100.00                   100.00   \n",
       "5474        100.0          100.00                     0.00   \n",
       "5475        100.0          100.00                    50.00   \n",
       "5478        100.0          100.00                   100.00   \n",
       "5479        100.0          100.00                   100.00   \n",
       "\n",
       "      IN_LABORATORIO_INFORMATICA  IN_QUADRA_ESPORTES  IN_AREA_VERDE  ...  \\\n",
       "1                          87.50               87.50          75.00  ...   \n",
       "4                         100.00              100.00         100.00  ...   \n",
       "5                          66.67              100.00          33.33  ...   \n",
       "9                          80.00               60.00          20.00  ...   \n",
       "10                         77.78               88.89          33.33  ...   \n",
       "...                          ...                 ...            ...  ...   \n",
       "5473                      100.00              100.00          66.67  ...   \n",
       "5474                      100.00              100.00          50.00  ...   \n",
       "5475                      100.00               50.00          50.00  ...   \n",
       "5478                      100.00              100.00         100.00  ...   \n",
       "5479                      100.00                0.00         100.00  ...   \n",
       "\n",
       "      IN_TP_ATIVIDADE_COMPLEMENTAR  IN_TP_AEE  IN_PATIO  \\\n",
       "1                            25.00      75.00     100.0   \n",
       "4                             0.00     100.00     100.0   \n",
       "5                             0.00      66.67     100.0   \n",
       "9                             0.00      60.00     100.0   \n",
       "10                           33.33      88.89     100.0   \n",
       "...                            ...        ...       ...   \n",
       "5473                          0.00       0.00     100.0   \n",
       "5474                         50.00      50.00     100.0   \n",
       "5475                          0.00     100.00     100.0   \n",
       "5478                          0.00       0.00     100.0   \n",
       "5479                        100.00     100.00     100.0   \n",
       "\n",
       "      IN_04_NIVEL_SUPERIOR_COMPLETO  IN_05_POS_GRADUACAO  IN_06_MESTRADO  \\\n",
       "1                             98.58                61.26           12.17   \n",
       "4                            100.00                83.56            0.00   \n",
       "5                            100.00                48.24           16.90   \n",
       "9                             95.85                29.25            7.91   \n",
       "10                            97.69                78.94            7.88   \n",
       "...                             ...                  ...             ...   \n",
       "5473                          92.28                28.71           11.70   \n",
       "5474                          82.66                39.88            0.00   \n",
       "5475                          97.75                36.01           34.73   \n",
       "5478                          82.07                48.97            0.00   \n",
       "5479                         100.00                29.27            0.00   \n",
       "\n",
       "      IN_07_DOUTORADO  VL_DESPESA_PAG_ED_CID  NOTA_IDEB  labels  \n",
       "1                2.16               0.108801       4.35       1  \n",
       "4                0.00               0.104421       4.55       1  \n",
       "5                5.11               0.091283       4.65       1  \n",
       "9                2.96               0.061632       3.80       1  \n",
       "10               1.15               0.076319       4.45       1  \n",
       "...               ...                    ...        ...     ...  \n",
       "5473             0.00               0.073067       4.75       1  \n",
       "5474             0.00               0.084405       5.00       1  \n",
       "5475             9.32               0.211799       4.85       1  \n",
       "5478             0.00               0.173622       5.05       1  \n",
       "5479             0.00               0.128829       5.35       1  \n",
       "\n",
       "[3092 rows x 24 columns]"
      ]
     },
     "execution_count": 76,
     "metadata": {},
     "output_type": "execute_result"
    }
   ],
   "source": [
    "final_df[final_df['labels'] == 1]"
   ]
  }
 ],
 "metadata": {
  "kernelspec": {
   "display_name": "Python 3",
   "language": "python",
   "name": "python3"
  },
  "language_info": {
   "codemirror_mode": {
    "name": "ipython",
    "version": 3
   },
   "file_extension": ".py",
   "mimetype": "text/x-python",
   "name": "python",
   "nbconvert_exporter": "python",
   "pygments_lexer": "ipython3",
   "version": "3.7.5"
  }
 },
 "nbformat": 4,
 "nbformat_minor": 2
}
