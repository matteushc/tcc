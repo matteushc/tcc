{
 "cells": [
  {
   "cell_type": "markdown",
   "metadata": {},
   "source": [
    "> ## Micro dados fnde pdde: dataset EXEC_FINANC_ED_BAS_2017.csv"
   ]
  },
  {
   "cell_type": "code",
   "execution_count": 27,
   "metadata": {},
   "outputs": [],
   "source": [
    "diretorio_datasets = \"C:/Users/USUARIO/Documents/puc-minas/tcc/datasets/\""
   ]
  },
  {
   "cell_type": "markdown",
   "metadata": {},
   "source": [
    "Inclusão da biblioteca Pandas do Python para exploratoria e analise dos dados"
   ]
  },
  {
   "cell_type": "code",
   "execution_count": 28,
   "metadata": {},
   "outputs": [],
   "source": [
    "import pandas as pd\n",
    "import matplotlib.pyplot as plt"
   ]
  },
  {
   "cell_type": "code",
   "execution_count": 29,
   "metadata": {},
   "outputs": [],
   "source": [
    "dados_pdde = pd.read_csv('{}dados_fnde/pdde/EXEC_FINANC_ED_BAS_2017.CSV'.format(diretorio_datasets), \n",
    "                            delimiter=\";\", encoding = \"ISO-8859-1\")"
   ]
  },
  {
   "cell_type": "code",
   "execution_count": 30,
   "metadata": {},
   "outputs": [
    {
     "data": {
      "text/html": [
       "<div>\n",
       "<style scoped>\n",
       "    .dataframe tbody tr th:only-of-type {\n",
       "        vertical-align: middle;\n",
       "    }\n",
       "\n",
       "    .dataframe tbody tr th {\n",
       "        vertical-align: top;\n",
       "    }\n",
       "\n",
       "    .dataframe thead th {\n",
       "        text-align: right;\n",
       "    }\n",
       "</style>\n",
       "<table border=\"1\" class=\"dataframe\">\n",
       "  <thead>\n",
       "    <tr style=\"text-align: right;\">\n",
       "      <th></th>\n",
       "      <th>#SG_UF</th>\n",
       "      <th>NO_MUNICIPIO</th>\n",
       "      <th>CO_MUNICIPIO_IBGE</th>\n",
       "      <th>NO_ESCOLA</th>\n",
       "      <th>CO_ESCOLA</th>\n",
       "      <th>QT_ALUNOS</th>\n",
       "      <th>ESFERA_ESCOLA</th>\n",
       "      <th>CNPJ_UNID_EXEC</th>\n",
       "      <th>NO_UNID_EXEC</th>\n",
       "      <th>DIRIGENTE_UNID_EXEC</th>\n",
       "      <th>DT_INI_VINC_DIR</th>\n",
       "      <th>CUSTEIO_PARC_01</th>\n",
       "      <th>CAPITAL_PARC_01</th>\n",
       "      <th>TOTAL_CUST_CAP_PARC_01</th>\n",
       "      <th>CUSTEIO_PARC_02</th>\n",
       "      <th>CAPITAL_PARC_02</th>\n",
       "      <th>TOTAL_CUST_CAP_PARC_02</th>\n",
       "    </tr>\n",
       "  </thead>\n",
       "  <tbody>\n",
       "    <tr>\n",
       "      <th>0</th>\n",
       "      <td>AC</td>\n",
       "      <td>CRUZEIRO DO SUL</td>\n",
       "      <td>1200203</td>\n",
       "      <td>ESC SAO JOAO I</td>\n",
       "      <td>12020206</td>\n",
       "      <td>45</td>\n",
       "      <td>MUNICIPAL</td>\n",
       "      <td>'04012548000102'</td>\n",
       "      <td>PREF MUN DE CRUZEIRO DO SUL</td>\n",
       "      <td>ILDERLEI SOUZA RODRIGUES CORDEIRO</td>\n",
       "      <td>01/01/2017</td>\n",
       "      <td>1400,00</td>\n",
       "      <td>0,00</td>\n",
       "      <td>1400,00</td>\n",
       "      <td>NaN</td>\n",
       "      <td>NaN</td>\n",
       "      <td>NaN</td>\n",
       "    </tr>\n",
       "    <tr>\n",
       "      <th>1</th>\n",
       "      <td>AC</td>\n",
       "      <td>CRUZEIRO DO SUL</td>\n",
       "      <td>1200203</td>\n",
       "      <td>ESC SAO JOSE</td>\n",
       "      <td>12001457</td>\n",
       "      <td>1225</td>\n",
       "      <td>ESTADUAL</td>\n",
       "      <td>'09556375000107'</td>\n",
       "      <td>COMITE EXECUTIVO SAO JOSE</td>\n",
       "      <td>SERNIZIA DE ARAUJO CORREIA</td>\n",
       "      <td>15/05/2013</td>\n",
       "      <td>11232,00</td>\n",
       "      <td>2808,00</td>\n",
       "      <td>14040,00</td>\n",
       "      <td>NaN</td>\n",
       "      <td>NaN</td>\n",
       "      <td>NaN</td>\n",
       "    </tr>\n",
       "    <tr>\n",
       "      <th>2</th>\n",
       "      <td>AC</td>\n",
       "      <td>CRUZEIRO DO SUL</td>\n",
       "      <td>1200203</td>\n",
       "      <td>ESC SAO RAIMUNDO</td>\n",
       "      <td>12031810</td>\n",
       "      <td>38</td>\n",
       "      <td>ESTADUAL</td>\n",
       "      <td>'04033254000167'</td>\n",
       "      <td>SECRETARIA DE EDUCACAO DO ESTADO DO ACRE</td>\n",
       "      <td>MARCO ANTONIO BRANDÃO LOPES</td>\n",
       "      <td>29/04/2014</td>\n",
       "      <td>1140,00</td>\n",
       "      <td>0,00</td>\n",
       "      <td>1140,00</td>\n",
       "      <td>NaN</td>\n",
       "      <td>NaN</td>\n",
       "      <td>NaN</td>\n",
       "    </tr>\n",
       "    <tr>\n",
       "      <th>3</th>\n",
       "      <td>AC</td>\n",
       "      <td>CRUZEIRO DO SUL</td>\n",
       "      <td>1200203</td>\n",
       "      <td>ESC SEBASTIANA SILENE VALENTE</td>\n",
       "      <td>12001490</td>\n",
       "      <td>40</td>\n",
       "      <td>ESTADUAL</td>\n",
       "      <td>'04463040000120'</td>\n",
       "      <td>COMITE EXECUTIVOCONSORCIO SEBASTIANA SILENE VA...</td>\n",
       "      <td>ISABEL DO MONTE DE SOUZA</td>\n",
       "      <td>22/06/2015</td>\n",
       "      <td>1216,00</td>\n",
       "      <td>304,00</td>\n",
       "      <td>1520,00</td>\n",
       "      <td>NaN</td>\n",
       "      <td>NaN</td>\n",
       "      <td>NaN</td>\n",
       "    </tr>\n",
       "    <tr>\n",
       "      <th>4</th>\n",
       "      <td>AC</td>\n",
       "      <td>CRUZEIRO DO SUL</td>\n",
       "      <td>1200203</td>\n",
       "      <td>ESC SEGADAS VIANA</td>\n",
       "      <td>12001503</td>\n",
       "      <td>9</td>\n",
       "      <td>MUNICIPAL</td>\n",
       "      <td>'03016628000173'</td>\n",
       "      <td>CONSELHO ESCOLAR SEGADAS VIANA</td>\n",
       "      <td>ALINE NASCIMENTO DA SILVA</td>\n",
       "      <td>27/03/2017</td>\n",
       "      <td>872,00</td>\n",
       "      <td>218,00</td>\n",
       "      <td>1090,00</td>\n",
       "      <td>NaN</td>\n",
       "      <td>NaN</td>\n",
       "      <td>NaN</td>\n",
       "    </tr>\n",
       "  </tbody>\n",
       "</table>\n",
       "</div>"
      ],
      "text/plain": [
       "  #SG_UF     NO_MUNICIPIO  CO_MUNICIPIO_IBGE                      NO_ESCOLA  \\\n",
       "0     AC  CRUZEIRO DO SUL            1200203                 ESC SAO JOAO I   \n",
       "1     AC  CRUZEIRO DO SUL            1200203                   ESC SAO JOSE   \n",
       "2     AC  CRUZEIRO DO SUL            1200203               ESC SAO RAIMUNDO   \n",
       "3     AC  CRUZEIRO DO SUL            1200203  ESC SEBASTIANA SILENE VALENTE   \n",
       "4     AC  CRUZEIRO DO SUL            1200203              ESC SEGADAS VIANA   \n",
       "\n",
       "   CO_ESCOLA  QT_ALUNOS ESFERA_ESCOLA    CNPJ_UNID_EXEC  \\\n",
       "0   12020206         45     MUNICIPAL  '04012548000102'   \n",
       "1   12001457       1225      ESTADUAL  '09556375000107'   \n",
       "2   12031810         38      ESTADUAL  '04033254000167'   \n",
       "3   12001490         40      ESTADUAL  '04463040000120'   \n",
       "4   12001503          9     MUNICIPAL  '03016628000173'   \n",
       "\n",
       "                                        NO_UNID_EXEC  \\\n",
       "0                        PREF MUN DE CRUZEIRO DO SUL   \n",
       "1                          COMITE EXECUTIVO SAO JOSE   \n",
       "2           SECRETARIA DE EDUCACAO DO ESTADO DO ACRE   \n",
       "3  COMITE EXECUTIVOCONSORCIO SEBASTIANA SILENE VA...   \n",
       "4                     CONSELHO ESCOLAR SEGADAS VIANA   \n",
       "\n",
       "                 DIRIGENTE_UNID_EXEC DT_INI_VINC_DIR CUSTEIO_PARC_01  \\\n",
       "0  ILDERLEI SOUZA RODRIGUES CORDEIRO      01/01/2017         1400,00   \n",
       "1         SERNIZIA DE ARAUJO CORREIA      15/05/2013        11232,00   \n",
       "2        MARCO ANTONIO BRANDÃO LOPES      29/04/2014         1140,00   \n",
       "3           ISABEL DO MONTE DE SOUZA      22/06/2015         1216,00   \n",
       "4          ALINE NASCIMENTO DA SILVA      27/03/2017          872,00   \n",
       "\n",
       "  CAPITAL_PARC_01 TOTAL_CUST_CAP_PARC_01  CUSTEIO_PARC_02  CAPITAL_PARC_02  \\\n",
       "0            0,00                1400,00              NaN              NaN   \n",
       "1         2808,00               14040,00              NaN              NaN   \n",
       "2            0,00                1140,00              NaN              NaN   \n",
       "3          304,00                1520,00              NaN              NaN   \n",
       "4          218,00                1090,00              NaN              NaN   \n",
       "\n",
       "   TOTAL_CUST_CAP_PARC_02  \n",
       "0                     NaN  \n",
       "1                     NaN  \n",
       "2                     NaN  \n",
       "3                     NaN  \n",
       "4                     NaN  "
      ]
     },
     "execution_count": 30,
     "metadata": {},
     "output_type": "execute_result"
    }
   ],
   "source": [
    "dados_pdde.head()"
   ]
  },
  {
   "cell_type": "markdown",
   "metadata": {},
   "source": [
    "- ### Verificando a variação e a distribuição dos dados"
   ]
  },
  {
   "cell_type": "code",
   "execution_count": 31,
   "metadata": {},
   "outputs": [
    {
     "data": {
      "text/html": [
       "<div>\n",
       "<style scoped>\n",
       "    .dataframe tbody tr th:only-of-type {\n",
       "        vertical-align: middle;\n",
       "    }\n",
       "\n",
       "    .dataframe tbody tr th {\n",
       "        vertical-align: top;\n",
       "    }\n",
       "\n",
       "    .dataframe thead th {\n",
       "        text-align: right;\n",
       "    }\n",
       "</style>\n",
       "<table border=\"1\" class=\"dataframe\">\n",
       "  <thead>\n",
       "    <tr style=\"text-align: right;\">\n",
       "      <th></th>\n",
       "      <th>CO_MUNICIPIO_IBGE</th>\n",
       "      <th>CO_ESCOLA</th>\n",
       "      <th>QT_ALUNOS</th>\n",
       "      <th>CUSTEIO_PARC_02</th>\n",
       "      <th>CAPITAL_PARC_02</th>\n",
       "      <th>TOTAL_CUST_CAP_PARC_02</th>\n",
       "    </tr>\n",
       "  </thead>\n",
       "  <tbody>\n",
       "    <tr>\n",
       "      <th>count</th>\n",
       "      <td>1.234900e+05</td>\n",
       "      <td>1.234900e+05</td>\n",
       "      <td>123490.000000</td>\n",
       "      <td>0.0</td>\n",
       "      <td>0.0</td>\n",
       "      <td>0.0</td>\n",
       "    </tr>\n",
       "    <tr>\n",
       "      <th>mean</th>\n",
       "      <td>3.006794e+06</td>\n",
       "      <td>3.007646e+07</td>\n",
       "      <td>274.922156</td>\n",
       "      <td>NaN</td>\n",
       "      <td>NaN</td>\n",
       "      <td>NaN</td>\n",
       "    </tr>\n",
       "    <tr>\n",
       "      <th>std</th>\n",
       "      <td>9.661693e+05</td>\n",
       "      <td>9.625613e+06</td>\n",
       "      <td>326.326003</td>\n",
       "      <td>NaN</td>\n",
       "      <td>NaN</td>\n",
       "      <td>NaN</td>\n",
       "    </tr>\n",
       "    <tr>\n",
       "      <th>min</th>\n",
       "      <td>1.100015e+06</td>\n",
       "      <td>1.100002e+07</td>\n",
       "      <td>1.000000</td>\n",
       "      <td>NaN</td>\n",
       "      <td>NaN</td>\n",
       "      <td>NaN</td>\n",
       "    </tr>\n",
       "    <tr>\n",
       "      <th>25%</th>\n",
       "      <td>2.305531e+06</td>\n",
       "      <td>2.310212e+07</td>\n",
       "      <td>47.000000</td>\n",
       "      <td>NaN</td>\n",
       "      <td>NaN</td>\n",
       "      <td>NaN</td>\n",
       "    </tr>\n",
       "    <tr>\n",
       "      <th>50%</th>\n",
       "      <td>2.929503e+06</td>\n",
       "      <td>2.940862e+07</td>\n",
       "      <td>158.000000</td>\n",
       "      <td>NaN</td>\n",
       "      <td>NaN</td>\n",
       "      <td>NaN</td>\n",
       "    </tr>\n",
       "    <tr>\n",
       "      <th>75%</th>\n",
       "      <td>3.543303e+06</td>\n",
       "      <td>3.524120e+07</td>\n",
       "      <td>382.000000</td>\n",
       "      <td>NaN</td>\n",
       "      <td>NaN</td>\n",
       "      <td>NaN</td>\n",
       "    </tr>\n",
       "    <tr>\n",
       "      <th>max</th>\n",
       "      <td>5.300108e+06</td>\n",
       "      <td>5.306824e+07</td>\n",
       "      <td>15684.000000</td>\n",
       "      <td>NaN</td>\n",
       "      <td>NaN</td>\n",
       "      <td>NaN</td>\n",
       "    </tr>\n",
       "  </tbody>\n",
       "</table>\n",
       "</div>"
      ],
      "text/plain": [
       "       CO_MUNICIPIO_IBGE     CO_ESCOLA      QT_ALUNOS  CUSTEIO_PARC_02  \\\n",
       "count       1.234900e+05  1.234900e+05  123490.000000              0.0   \n",
       "mean        3.006794e+06  3.007646e+07     274.922156              NaN   \n",
       "std         9.661693e+05  9.625613e+06     326.326003              NaN   \n",
       "min         1.100015e+06  1.100002e+07       1.000000              NaN   \n",
       "25%         2.305531e+06  2.310212e+07      47.000000              NaN   \n",
       "50%         2.929503e+06  2.940862e+07     158.000000              NaN   \n",
       "75%         3.543303e+06  3.524120e+07     382.000000              NaN   \n",
       "max         5.300108e+06  5.306824e+07   15684.000000              NaN   \n",
       "\n",
       "       CAPITAL_PARC_02  TOTAL_CUST_CAP_PARC_02  \n",
       "count              0.0                     0.0  \n",
       "mean               NaN                     NaN  \n",
       "std                NaN                     NaN  \n",
       "min                NaN                     NaN  \n",
       "25%                NaN                     NaN  \n",
       "50%                NaN                     NaN  \n",
       "75%                NaN                     NaN  \n",
       "max                NaN                     NaN  "
      ]
     },
     "execution_count": 31,
     "metadata": {},
     "output_type": "execute_result"
    }
   ],
   "source": [
    "dados_pdde.describe()"
   ]
  },
  {
   "cell_type": "markdown",
   "metadata": {},
   "source": [
    "- ### Verificando os dados omissos"
   ]
  },
  {
   "cell_type": "code",
   "execution_count": 32,
   "metadata": {},
   "outputs": [
    {
     "data": {
      "text/plain": [
       "#SG_UF                    False\n",
       "NO_MUNICIPIO              False\n",
       "CO_MUNICIPIO_IBGE         False\n",
       "NO_ESCOLA                 False\n",
       "CO_ESCOLA                 False\n",
       "QT_ALUNOS                 False\n",
       "ESFERA_ESCOLA             False\n",
       "CNPJ_UNID_EXEC            False\n",
       "NO_UNID_EXEC              False\n",
       "DIRIGENTE_UNID_EXEC        True\n",
       "DT_INI_VINC_DIR            True\n",
       "CUSTEIO_PARC_01           False\n",
       "CAPITAL_PARC_01           False\n",
       "TOTAL_CUST_CAP_PARC_01    False\n",
       "CUSTEIO_PARC_02            True\n",
       "CAPITAL_PARC_02            True\n",
       "TOTAL_CUST_CAP_PARC_02     True\n",
       "dtype: bool"
      ]
     },
     "execution_count": 32,
     "metadata": {},
     "output_type": "execute_result"
    }
   ],
   "source": [
    "dados_pdde.isnull().any()"
   ]
  },
  {
   "cell_type": "markdown",
   "metadata": {},
   "source": [
    "- ### A variavel DIRIGENTE_UNID_EXEC possui dados Omissos"
   ]
  },
  {
   "cell_type": "code",
   "execution_count": 33,
   "metadata": {},
   "outputs": [
    {
     "name": "stdout",
     "output_type": "stream",
     "text": [
      "Total de dados omissos 19\n"
     ]
    }
   ],
   "source": [
    "total = '{:,}'.format(dados_pdde['CO_ESCOLA'].loc[dados_pdde['DIRIGENTE_UNID_EXEC'].isnull()].count())\n",
    "print(\"Total de dados omissos \" + total)"
   ]
  },
  {
   "cell_type": "markdown",
   "metadata": {},
   "source": [
    "- ### Convertendo os nan ou nulos da variavel DIRIGENTE_UNID_EXEC para vazio"
   ]
  },
  {
   "cell_type": "code",
   "execution_count": 34,
   "metadata": {},
   "outputs": [],
   "source": [
    "dados_pdde.loc[dados_pdde['DIRIGENTE_UNID_EXEC'].isnull(), 'DIRIGENTE_UNID_EXEC'] = ''"
   ]
  },
  {
   "cell_type": "markdown",
   "metadata": {},
   "source": [
    "- ### A variavel DT_INI_VINC_DIR possui dados Omissos"
   ]
  },
  {
   "cell_type": "code",
   "execution_count": 35,
   "metadata": {},
   "outputs": [
    {
     "name": "stdout",
     "output_type": "stream",
     "text": [
      "Total de dados omissos 19\n"
     ]
    }
   ],
   "source": [
    "total = '{:,}'.format(dados_pdde['CO_ESCOLA'].loc[dados_pdde['DT_INI_VINC_DIR'].isnull()].count())\n",
    "print(\"Total de dados omissos \" + total)"
   ]
  },
  {
   "cell_type": "markdown",
   "metadata": {},
   "source": [
    "- ### Convertendo os nan ou nulos da variavel DT_INI_VINC_DIR para zero"
   ]
  },
  {
   "cell_type": "code",
   "execution_count": 36,
   "metadata": {},
   "outputs": [],
   "source": [
    "dados_pdde.loc[dados_pdde['DT_INI_VINC_DIR'].isnull(), 'DT_INI_VINC_DIR'] = 0"
   ]
  },
  {
   "cell_type": "markdown",
   "metadata": {},
   "source": [
    "- ### A variavel CUSTEIO_PARC_02 possui dados Omissos"
   ]
  },
  {
   "cell_type": "code",
   "execution_count": 37,
   "metadata": {},
   "outputs": [
    {
     "name": "stdout",
     "output_type": "stream",
     "text": [
      "Total de dados omissos 123,490\n"
     ]
    }
   ],
   "source": [
    "total = '{:,}'.format(dados_pdde['CO_ESCOLA'].loc[dados_pdde['CUSTEIO_PARC_02'].isnull()].count())\n",
    "print(\"Total de dados omissos \" + total)"
   ]
  },
  {
   "cell_type": "markdown",
   "metadata": {},
   "source": [
    "- ### Convertendo os nan ou nulos da variavel CUSTEIO_PARC_02 para zero"
   ]
  },
  {
   "cell_type": "code",
   "execution_count": 38,
   "metadata": {},
   "outputs": [],
   "source": [
    "dados_pdde.loc[dados_pdde['CUSTEIO_PARC_02'].isnull(), 'CUSTEIO_PARC_02'] = 0"
   ]
  },
  {
   "cell_type": "markdown",
   "metadata": {},
   "source": [
    "- ### A variavel CAPITAL_PARC_02 possui dados Omissos"
   ]
  },
  {
   "cell_type": "code",
   "execution_count": 39,
   "metadata": {},
   "outputs": [
    {
     "name": "stdout",
     "output_type": "stream",
     "text": [
      "Total de dados omissos 123,490\n"
     ]
    }
   ],
   "source": [
    "total = '{:,}'.format(dados_pdde['CO_ESCOLA'].loc[dados_pdde['CAPITAL_PARC_02'].isnull()].count())\n",
    "print(\"Total de dados omissos \" + total)"
   ]
  },
  {
   "cell_type": "markdown",
   "metadata": {},
   "source": [
    "- ### Convertendo os nan ou nulos da variavel CAPITAL_PARC_02 para zero"
   ]
  },
  {
   "cell_type": "code",
   "execution_count": 48,
   "metadata": {},
   "outputs": [],
   "source": [
    "dados_pdde.loc[dados_pdde['CAPITAL_PARC_02'].isnull(), 'CAPITAL_PARC_02'] = 0"
   ]
  },
  {
   "cell_type": "markdown",
   "metadata": {},
   "source": [
    "- ### A variavel TOTAL_CUST_CAP_PARC_02 possui dados Omissos"
   ]
  },
  {
   "cell_type": "code",
   "execution_count": 49,
   "metadata": {},
   "outputs": [
    {
     "name": "stdout",
     "output_type": "stream",
     "text": [
      "Total de dados omissos 0\n"
     ]
    }
   ],
   "source": [
    "total = '{:,}'.format(dados_pdde['CO_ESCOLA'].loc[dados_pdde['TOTAL_CUST_CAP_PARC_02'].isnull()].count())\n",
    "print(\"Total de dados omissos \" + total)"
   ]
  },
  {
   "cell_type": "markdown",
   "metadata": {},
   "source": [
    "- ### Convertendo os nan ou nulos da variavel TOTAL_CUST_CAP_PARC_02 para zero"
   ]
  },
  {
   "cell_type": "code",
   "execution_count": 50,
   "metadata": {},
   "outputs": [],
   "source": [
    "dados_pdde.loc[dados_pdde['TOTAL_CUST_CAP_PARC_02'].isnull(), 'TOTAL_CUST_CAP_PARC_02'] = 0"
   ]
  },
  {
   "cell_type": "markdown",
   "metadata": {},
   "source": [
    "- ### Verificando dados duplicados"
   ]
  },
  {
   "cell_type": "code",
   "execution_count": 51,
   "metadata": {},
   "outputs": [
    {
     "name": "stdout",
     "output_type": "stream",
     "text": [
      "123490\n",
      "123490\n"
     ]
    }
   ],
   "source": [
    "print(dados_pdde['CO_ESCOLA'].count())\n",
    "print(dados_pdde['CO_ESCOLA'].drop_duplicates().count())"
   ]
  },
  {
   "cell_type": "code",
   "execution_count": 52,
   "metadata": {},
   "outputs": [
    {
     "name": "stdout",
     "output_type": "stream",
     "text": [
      "<class 'pandas.core.frame.DataFrame'>\n",
      "RangeIndex: 123490 entries, 0 to 123489\n",
      "Data columns (total 17 columns):\n",
      "#SG_UF                    123490 non-null object\n",
      "NO_MUNICIPIO              123490 non-null object\n",
      "CO_MUNICIPIO_IBGE         123490 non-null int64\n",
      "NO_ESCOLA                 123490 non-null object\n",
      "CO_ESCOLA                 123490 non-null int64\n",
      "QT_ALUNOS                 123490 non-null int64\n",
      "ESFERA_ESCOLA             123490 non-null object\n",
      "CNPJ_UNID_EXEC            123490 non-null object\n",
      "NO_UNID_EXEC              123490 non-null object\n",
      "DIRIGENTE_UNID_EXEC       123490 non-null object\n",
      "DT_INI_VINC_DIR           123490 non-null object\n",
      "CUSTEIO_PARC_01           123490 non-null object\n",
      "CAPITAL_PARC_01           123490 non-null object\n",
      "TOTAL_CUST_CAP_PARC_01    123490 non-null object\n",
      "CUSTEIO_PARC_02           123490 non-null float64\n",
      "CAPITAL_PARC_02           123490 non-null float64\n",
      "TOTAL_CUST_CAP_PARC_02    123490 non-null float64\n",
      "dtypes: float64(3), int64(3), object(11)\n",
      "memory usage: 16.0+ MB\n"
     ]
    }
   ],
   "source": [
    "dados_pdde.info()"
   ]
  },
  {
   "cell_type": "markdown",
   "metadata": {},
   "source": [
    "- ### Convertendo os tipos"
   ]
  },
  {
   "cell_type": "code",
   "execution_count": 86,
   "metadata": {},
   "outputs": [
    {
     "name": "stdout",
     "output_type": "stream",
     "text": [
      "<class 'pandas.core.frame.DataFrame'>\n",
      "RangeIndex: 123490 entries, 0 to 123489\n",
      "Data columns (total 17 columns):\n",
      "#SG_UF                    123490 non-null object\n",
      "NO_MUNICIPIO              123490 non-null object\n",
      "CO_MUNICIPIO_IBGE         123490 non-null int64\n",
      "NO_ESCOLA                 123490 non-null object\n",
      "CO_ESCOLA                 123490 non-null int64\n",
      "QT_ALUNOS                 123490 non-null int32\n",
      "ESFERA_ESCOLA             123490 non-null object\n",
      "CNPJ_UNID_EXEC            123490 non-null object\n",
      "NO_UNID_EXEC              123490 non-null object\n",
      "DIRIGENTE_UNID_EXEC       123490 non-null object\n",
      "DT_INI_VINC_DIR           123490 non-null object\n",
      "CUSTEIO_PARC_01           123490 non-null float64\n",
      "CAPITAL_PARC_01           123490 non-null float64\n",
      "TOTAL_CUST_CAP_PARC_01    123490 non-null float64\n",
      "CUSTEIO_PARC_02           123490 non-null float64\n",
      "CAPITAL_PARC_02           123490 non-null float64\n",
      "TOTAL_CUST_CAP_PARC_02    123490 non-null float64\n",
      "dtypes: float64(6), int32(1), int64(2), object(8)\n",
      "memory usage: 15.5+ MB\n"
     ]
    }
   ],
   "source": [
    "dados_pdde['QT_ALUNOS'] = dados_pdde['QT_ALUNOS'].astype(int)\n",
    "dados_pdde['CUSTEIO_PARC_01'] = dados_pdde['CUSTEIO_PARC_01'].apply(lambda x: float(x.replace(\".\",\"\").replace(\",\",\".\")))\n",
    "dados_pdde['CAPITAL_PARC_01'] = dados_pdde['CAPITAL_PARC_01'].apply(lambda x: float(x.replace(\".\",\"\").replace(\",\",\".\")))\n",
    "dados_pdde['TOTAL_CUST_CAP_PARC_01'] = dados_pdde['TOTAL_CUST_CAP_PARC_01'].apply(lambda x: float(x.replace(\".\",\"\").replace(\",\",\".\")))\n",
    "dados_pdde.info()"
   ]
  },
  {
   "cell_type": "markdown",
   "metadata": {},
   "source": [
    "- ### Seleção das variaveis a serem estudadas"
   ]
  },
  {
   "cell_type": "code",
   "execution_count": 87,
   "metadata": {},
   "outputs": [],
   "source": [
    "dados_pdde_all = dados_pdde[['CO_MUNICIPIO_IBGE', 'NO_MUNICIPIO', 'CO_ESCOLA', \n",
    "                             'NO_ESCOLA', 'QT_ALUNOS', 'ESFERA_ESCOLA',\n",
    "                             'CNPJ_UNID_EXEC', 'NO_UNID_EXEC', 'DIRIGENTE_UNID_EXEC',\n",
    "                             'DT_INI_VINC_DIR', 'CUSTEIO_PARC_01', 'CAPITAL_PARC_01',\n",
    "                             'TOTAL_CUST_CAP_PARC_01']]"
   ]
  },
  {
   "cell_type": "markdown",
   "metadata": {},
   "source": [
    "- ### Verificando a variação e a distribuição dos dados"
   ]
  },
  {
   "cell_type": "code",
   "execution_count": 88,
   "metadata": {},
   "outputs": [
    {
     "data": {
      "text/html": [
       "<div>\n",
       "<style scoped>\n",
       "    .dataframe tbody tr th:only-of-type {\n",
       "        vertical-align: middle;\n",
       "    }\n",
       "\n",
       "    .dataframe tbody tr th {\n",
       "        vertical-align: top;\n",
       "    }\n",
       "\n",
       "    .dataframe thead th {\n",
       "        text-align: right;\n",
       "    }\n",
       "</style>\n",
       "<table border=\"1\" class=\"dataframe\">\n",
       "  <thead>\n",
       "    <tr style=\"text-align: right;\">\n",
       "      <th></th>\n",
       "      <th>CO_MUNICIPIO_IBGE</th>\n",
       "      <th>CO_ESCOLA</th>\n",
       "      <th>QT_ALUNOS</th>\n",
       "      <th>CUSTEIO_PARC_01</th>\n",
       "      <th>CAPITAL_PARC_01</th>\n",
       "      <th>TOTAL_CUST_CAP_PARC_01</th>\n",
       "    </tr>\n",
       "  </thead>\n",
       "  <tbody>\n",
       "    <tr>\n",
       "      <th>count</th>\n",
       "      <td>1.234900e+05</td>\n",
       "      <td>1.234900e+05</td>\n",
       "      <td>123490.000000</td>\n",
       "      <td>123490.000000</td>\n",
       "      <td>123490.000000</td>\n",
       "      <td>123490.000000</td>\n",
       "    </tr>\n",
       "    <tr>\n",
       "      <th>mean</th>\n",
       "      <td>3.006794e+06</td>\n",
       "      <td>3.007646e+07</td>\n",
       "      <td>274.922156</td>\n",
       "      <td>2837.499858</td>\n",
       "      <td>695.422969</td>\n",
       "      <td>3532.922828</td>\n",
       "    </tr>\n",
       "    <tr>\n",
       "      <th>std</th>\n",
       "      <td>9.661693e+05</td>\n",
       "      <td>9.625613e+06</td>\n",
       "      <td>326.326003</td>\n",
       "      <td>2687.797550</td>\n",
       "      <td>716.944473</td>\n",
       "      <td>3381.978902</td>\n",
       "    </tr>\n",
       "    <tr>\n",
       "      <th>min</th>\n",
       "      <td>1.100015e+06</td>\n",
       "      <td>1.100002e+07</td>\n",
       "      <td>1.000000</td>\n",
       "      <td>0.000000</td>\n",
       "      <td>0.000000</td>\n",
       "      <td>20.000000</td>\n",
       "    </tr>\n",
       "    <tr>\n",
       "      <th>25%</th>\n",
       "      <td>2.305531e+06</td>\n",
       "      <td>2.310212e+07</td>\n",
       "      <td>47.000000</td>\n",
       "      <td>1110.000000</td>\n",
       "      <td>268.000000</td>\n",
       "      <td>1350.000000</td>\n",
       "    </tr>\n",
       "    <tr>\n",
       "      <th>50%</th>\n",
       "      <td>2.929503e+06</td>\n",
       "      <td>2.940862e+07</td>\n",
       "      <td>158.000000</td>\n",
       "      <td>1880.000000</td>\n",
       "      <td>474.000000</td>\n",
       "      <td>2360.000000</td>\n",
       "    </tr>\n",
       "    <tr>\n",
       "      <th>75%</th>\n",
       "      <td>3.543303e+06</td>\n",
       "      <td>3.524120e+07</td>\n",
       "      <td>382.000000</td>\n",
       "      <td>3704.000000</td>\n",
       "      <td>938.000000</td>\n",
       "      <td>4650.000000</td>\n",
       "    </tr>\n",
       "    <tr>\n",
       "      <th>max</th>\n",
       "      <td>5.300108e+06</td>\n",
       "      <td>5.306824e+07</td>\n",
       "      <td>15684.000000</td>\n",
       "      <td>129352.000000</td>\n",
       "      <td>32338.000000</td>\n",
       "      <td>161690.000000</td>\n",
       "    </tr>\n",
       "  </tbody>\n",
       "</table>\n",
       "</div>"
      ],
      "text/plain": [
       "       CO_MUNICIPIO_IBGE     CO_ESCOLA      QT_ALUNOS  CUSTEIO_PARC_01  \\\n",
       "count       1.234900e+05  1.234900e+05  123490.000000    123490.000000   \n",
       "mean        3.006794e+06  3.007646e+07     274.922156      2837.499858   \n",
       "std         9.661693e+05  9.625613e+06     326.326003      2687.797550   \n",
       "min         1.100015e+06  1.100002e+07       1.000000         0.000000   \n",
       "25%         2.305531e+06  2.310212e+07      47.000000      1110.000000   \n",
       "50%         2.929503e+06  2.940862e+07     158.000000      1880.000000   \n",
       "75%         3.543303e+06  3.524120e+07     382.000000      3704.000000   \n",
       "max         5.300108e+06  5.306824e+07   15684.000000    129352.000000   \n",
       "\n",
       "       CAPITAL_PARC_01  TOTAL_CUST_CAP_PARC_01  \n",
       "count    123490.000000           123490.000000  \n",
       "mean        695.422969             3532.922828  \n",
       "std         716.944473             3381.978902  \n",
       "min           0.000000               20.000000  \n",
       "25%         268.000000             1350.000000  \n",
       "50%         474.000000             2360.000000  \n",
       "75%         938.000000             4650.000000  \n",
       "max       32338.000000           161690.000000  "
      ]
     },
     "execution_count": 88,
     "metadata": {},
     "output_type": "execute_result"
    }
   ],
   "source": [
    "dados_pdde_all.describe()"
   ]
  },
  {
   "cell_type": "markdown",
   "metadata": {},
   "source": [
    "# ANALISES<br>"
   ]
  },
  {
   "cell_type": "code",
   "execution_count": 94,
   "metadata": {},
   "outputs": [
    {
     "data": {
      "text/html": [
       "<div>\n",
       "<style scoped>\n",
       "    .dataframe tbody tr th:only-of-type {\n",
       "        vertical-align: middle;\n",
       "    }\n",
       "\n",
       "    .dataframe tbody tr th {\n",
       "        vertical-align: top;\n",
       "    }\n",
       "\n",
       "    .dataframe thead th {\n",
       "        text-align: right;\n",
       "    }\n",
       "</style>\n",
       "<table border=\"1\" class=\"dataframe\">\n",
       "  <thead>\n",
       "    <tr style=\"text-align: right;\">\n",
       "      <th></th>\n",
       "      <th>ESFERA_ESCOLA</th>\n",
       "      <th>CO_ESCOLA</th>\n",
       "    </tr>\n",
       "  </thead>\n",
       "  <tbody>\n",
       "    <tr>\n",
       "      <th>0</th>\n",
       "      <td>ESTADUAL</td>\n",
       "      <td>25780</td>\n",
       "    </tr>\n",
       "    <tr>\n",
       "      <th>1</th>\n",
       "      <td>MUNICIPAL</td>\n",
       "      <td>97710</td>\n",
       "    </tr>\n",
       "  </tbody>\n",
       "</table>\n",
       "</div>"
      ],
      "text/plain": [
       "  ESFERA_ESCOLA  CO_ESCOLA\n",
       "0      ESTADUAL      25780\n",
       "1     MUNICIPAL      97710"
      ]
     },
     "execution_count": 94,
     "metadata": {},
     "output_type": "execute_result"
    }
   ],
   "source": [
    "dados_pdde_all[['ESFERA_ESCOLA', 'CO_ESCOLA']].groupby(['ESFERA_ESCOLA'], as_index=False).count().head()"
   ]
  },
  {
   "cell_type": "code",
   "execution_count": null,
   "metadata": {},
   "outputs": [],
   "source": [
    "dados_pdde_escolas_federais = escolas.loc[(escolas['ESFERA_ESCOLA'] == 1)]\n",
    "print(escolas_federais['CO_ENTIDADE'].count())\n"
   ]
  }
 ],
 "metadata": {
  "kernelspec": {
   "display_name": "Python 3",
   "language": "python",
   "name": "python3"
  },
  "language_info": {
   "codemirror_mode": {
    "name": "ipython",
    "version": 3
   },
   "file_extension": ".py",
   "mimetype": "text/x-python",
   "name": "python",
   "nbconvert_exporter": "python",
   "pygments_lexer": "ipython3",
   "version": "3.7.3"
  }
 },
 "nbformat": 4,
 "nbformat_minor": 2
}
