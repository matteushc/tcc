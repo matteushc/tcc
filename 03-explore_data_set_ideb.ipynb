{
 "cells": [
  {
   "cell_type": "code",
   "execution_count": 1,
   "metadata": {},
   "outputs": [],
   "source": [
    "diretorio_datasets = \"/home/matteus-paula/Downloads/dados_tcc/ideb\""
   ]
  },
  {
   "cell_type": "code",
   "execution_count": 2,
   "metadata": {},
   "outputs": [],
   "source": [
    "import pandas as pd"
   ]
  },
  {
   "cell_type": "markdown",
   "metadata": {},
   "source": [
    "> ## Dados ideb:<br> \n",
    "- Fonte: http://portal.inep.gov.br/web/guest/educacao-basica/ideb/resultados\n",
    "- divulgacao_anos_iniciais-escolas-2017\n",
    "- divulgacao_anos_finais-escolas-2017\n",
    "- divulgacao_ensino_medio-escolas-2017"
   ]
  },
  {
   "cell_type": "code",
   "execution_count": 14,
   "metadata": {},
   "outputs": [],
   "source": [
    "diretorio = f'{diretorio_datasets}/divulgacao_ensino_medio_municipios2017-atualizado-Jun_2019.xlsx'\n",
    "ideb_ensino_medio = pd.read_excel(diretorio, header=None)"
   ]
  },
  {
   "cell_type": "code",
   "execution_count": 4,
   "metadata": {},
   "outputs": [],
   "source": [
    "diretorio = f'{diretorio_datasets}/divulgacao_anos_iniciais_municipios2017-atualizado-Jun_2019.xlsx'\n",
    "ideb_ensino_fund_iniciais = pd.read_excel(diretorio, header=None)"
   ]
  },
  {
   "cell_type": "code",
   "execution_count": 5,
   "metadata": {},
   "outputs": [],
   "source": [
    "diretorio = f'{diretorio_datasets}/divulgacao_anos_finais_municipios2017-atualizado-Jun_2019.xlsx'\n",
    "ideb_ensino_fund_finais = pd.read_excel(diretorio, header=None)"
   ]
  },
  {
   "cell_type": "code",
   "execution_count": 15,
   "metadata": {},
   "outputs": [],
   "source": [
    "def transform_dataframe(input_df):\n",
    "\n",
    "    header = input_df.iloc[6]\n",
    "    header = header.replace(r'\\n',' ', regex=True)\n",
    "\n",
    "    dfs = input_df.iloc[10:]\n",
    "    dfs.columns = header\n",
    "    \n",
    "    dfs_1 = dfs[['Sigla da UF', 'Código do Município',\n",
    "                 'Nome do Município', 'Rede', 'IDEB 2017 (N x P)']]\n",
    "\n",
    "    dfs_1.drop(dfs_1.tail(3).index,inplace=True)\n",
    "        \n",
    "    dfs_1.columns = ['SIGLA_UF', 'CO_MUNICIPIO',\n",
    "                     'NO_MUNICIPIO', 'REDE', 'NOTA_IDEB']\n",
    "\n",
    "    return dfs_1"
   ]
  },
  {
   "cell_type": "code",
   "execution_count": 16,
   "metadata": {},
   "outputs": [
    {
     "data": {
      "text/html": [
       "<div>\n",
       "<style scoped>\n",
       "    .dataframe tbody tr th:only-of-type {\n",
       "        vertical-align: middle;\n",
       "    }\n",
       "\n",
       "    .dataframe tbody tr th {\n",
       "        vertical-align: top;\n",
       "    }\n",
       "\n",
       "    .dataframe thead th {\n",
       "        text-align: right;\n",
       "    }\n",
       "</style>\n",
       "<table border=\"1\" class=\"dataframe\">\n",
       "  <thead>\n",
       "    <tr style=\"text-align: right;\">\n",
       "      <th></th>\n",
       "      <th>SIGLA_UF</th>\n",
       "      <th>CO_MUNICIPIO</th>\n",
       "      <th>NO_MUNICIPIO</th>\n",
       "      <th>REDE</th>\n",
       "      <th>NOTA_IDEB</th>\n",
       "    </tr>\n",
       "  </thead>\n",
       "  <tbody>\n",
       "    <tr>\n",
       "      <th>10</th>\n",
       "      <td>RO</td>\n",
       "      <td>1100015</td>\n",
       "      <td>Alta Floresta D'Oeste</td>\n",
       "      <td>Estadual</td>\n",
       "      <td>3.9</td>\n",
       "    </tr>\n",
       "    <tr>\n",
       "      <th>11</th>\n",
       "      <td>RO</td>\n",
       "      <td>1100015</td>\n",
       "      <td>Alta Floresta D'Oeste</td>\n",
       "      <td>Pública</td>\n",
       "      <td>3.9</td>\n",
       "    </tr>\n",
       "    <tr>\n",
       "      <th>12</th>\n",
       "      <td>RO</td>\n",
       "      <td>1100023</td>\n",
       "      <td>Ariquemes</td>\n",
       "      <td>Pública</td>\n",
       "      <td>3.8</td>\n",
       "    </tr>\n",
       "    <tr>\n",
       "      <th>13</th>\n",
       "      <td>RO</td>\n",
       "      <td>1100023</td>\n",
       "      <td>Ariquemes</td>\n",
       "      <td>Estadual</td>\n",
       "      <td>3.8</td>\n",
       "    </tr>\n",
       "    <tr>\n",
       "      <th>14</th>\n",
       "      <td>RO</td>\n",
       "      <td>1100031</td>\n",
       "      <td>Cabixi</td>\n",
       "      <td>Estadual</td>\n",
       "      <td>3.7</td>\n",
       "    </tr>\n",
       "  </tbody>\n",
       "</table>\n",
       "</div>"
      ],
      "text/plain": [
       "   SIGLA_UF CO_MUNICIPIO           NO_MUNICIPIO      REDE NOTA_IDEB\n",
       "10       RO      1100015  Alta Floresta D'Oeste  Estadual       3.9\n",
       "11       RO      1100015  Alta Floresta D'Oeste   Pública       3.9\n",
       "12       RO      1100023              Ariquemes   Pública       3.8\n",
       "13       RO      1100023              Ariquemes  Estadual       3.8\n",
       "14       RO      1100031                 Cabixi  Estadual       3.7"
      ]
     },
     "execution_count": 16,
     "metadata": {},
     "output_type": "execute_result"
    }
   ],
   "source": [
    "out_df_ideb_ensino_medio = transform_dataframe(ideb_ensino_medio)\n",
    "out_df_ideb_ensino_medio.head()"
   ]
  },
  {
   "cell_type": "code",
   "execution_count": 17,
   "metadata": {
    "scrolled": true
   },
   "outputs": [
    {
     "data": {
      "text/html": [
       "<div>\n",
       "<style scoped>\n",
       "    .dataframe tbody tr th:only-of-type {\n",
       "        vertical-align: middle;\n",
       "    }\n",
       "\n",
       "    .dataframe tbody tr th {\n",
       "        vertical-align: top;\n",
       "    }\n",
       "\n",
       "    .dataframe thead th {\n",
       "        text-align: right;\n",
       "    }\n",
       "</style>\n",
       "<table border=\"1\" class=\"dataframe\">\n",
       "  <thead>\n",
       "    <tr style=\"text-align: right;\">\n",
       "      <th></th>\n",
       "      <th>SIGLA_UF</th>\n",
       "      <th>CO_MUNICIPIO</th>\n",
       "      <th>NO_MUNICIPIO</th>\n",
       "      <th>REDE</th>\n",
       "      <th>NOTA_IDEB</th>\n",
       "    </tr>\n",
       "  </thead>\n",
       "  <tbody>\n",
       "    <tr>\n",
       "      <th>10</th>\n",
       "      <td>RO</td>\n",
       "      <td>1100015</td>\n",
       "      <td>Alta Floresta D'Oeste</td>\n",
       "      <td>Estadual</td>\n",
       "      <td>6.2</td>\n",
       "    </tr>\n",
       "    <tr>\n",
       "      <th>11</th>\n",
       "      <td>RO</td>\n",
       "      <td>1100015</td>\n",
       "      <td>Alta Floresta D'Oeste</td>\n",
       "      <td>Municipal</td>\n",
       "      <td>5.1</td>\n",
       "    </tr>\n",
       "    <tr>\n",
       "      <th>12</th>\n",
       "      <td>RO</td>\n",
       "      <td>1100015</td>\n",
       "      <td>Alta Floresta D'Oeste</td>\n",
       "      <td>Pública</td>\n",
       "      <td>6.2</td>\n",
       "    </tr>\n",
       "    <tr>\n",
       "      <th>13</th>\n",
       "      <td>RO</td>\n",
       "      <td>1100023</td>\n",
       "      <td>Ariquemes</td>\n",
       "      <td>Estadual</td>\n",
       "      <td>6</td>\n",
       "    </tr>\n",
       "    <tr>\n",
       "      <th>14</th>\n",
       "      <td>RO</td>\n",
       "      <td>1100023</td>\n",
       "      <td>Ariquemes</td>\n",
       "      <td>Municipal</td>\n",
       "      <td>5.4</td>\n",
       "    </tr>\n",
       "  </tbody>\n",
       "</table>\n",
       "</div>"
      ],
      "text/plain": [
       "   SIGLA_UF CO_MUNICIPIO           NO_MUNICIPIO       REDE NOTA_IDEB\n",
       "10       RO      1100015  Alta Floresta D'Oeste   Estadual       6.2\n",
       "11       RO      1100015  Alta Floresta D'Oeste  Municipal       5.1\n",
       "12       RO      1100015  Alta Floresta D'Oeste    Pública       6.2\n",
       "13       RO      1100023              Ariquemes   Estadual         6\n",
       "14       RO      1100023              Ariquemes  Municipal       5.4"
      ]
     },
     "execution_count": 17,
     "metadata": {},
     "output_type": "execute_result"
    }
   ],
   "source": [
    "out_df_ideb_ensino_fund_iniciais = transform_dataframe(ideb_ensino_fund_iniciais)\n",
    "out_df_ideb_ensino_fund_iniciais.head()"
   ]
  },
  {
   "cell_type": "code",
   "execution_count": 18,
   "metadata": {},
   "outputs": [
    {
     "data": {
      "text/html": [
       "<div>\n",
       "<style scoped>\n",
       "    .dataframe tbody tr th:only-of-type {\n",
       "        vertical-align: middle;\n",
       "    }\n",
       "\n",
       "    .dataframe tbody tr th {\n",
       "        vertical-align: top;\n",
       "    }\n",
       "\n",
       "    .dataframe thead th {\n",
       "        text-align: right;\n",
       "    }\n",
       "</style>\n",
       "<table border=\"1\" class=\"dataframe\">\n",
       "  <thead>\n",
       "    <tr style=\"text-align: right;\">\n",
       "      <th></th>\n",
       "      <th>SIGLA_UF</th>\n",
       "      <th>CO_MUNICIPIO</th>\n",
       "      <th>NO_MUNICIPIO</th>\n",
       "      <th>REDE</th>\n",
       "      <th>NOTA_IDEB</th>\n",
       "    </tr>\n",
       "  </thead>\n",
       "  <tbody>\n",
       "    <tr>\n",
       "      <th>10</th>\n",
       "      <td>RO</td>\n",
       "      <td>1100015</td>\n",
       "      <td>Alta Floresta D'Oeste</td>\n",
       "      <td>Estadual</td>\n",
       "      <td>5.1</td>\n",
       "    </tr>\n",
       "    <tr>\n",
       "      <th>11</th>\n",
       "      <td>RO</td>\n",
       "      <td>1100015</td>\n",
       "      <td>Alta Floresta D'Oeste</td>\n",
       "      <td>Municipal</td>\n",
       "      <td>4.3</td>\n",
       "    </tr>\n",
       "    <tr>\n",
       "      <th>12</th>\n",
       "      <td>RO</td>\n",
       "      <td>1100015</td>\n",
       "      <td>Alta Floresta D'Oeste</td>\n",
       "      <td>Pública</td>\n",
       "      <td>4.8</td>\n",
       "    </tr>\n",
       "    <tr>\n",
       "      <th>13</th>\n",
       "      <td>RO</td>\n",
       "      <td>1100023</td>\n",
       "      <td>Ariquemes</td>\n",
       "      <td>Estadual</td>\n",
       "      <td>5</td>\n",
       "    </tr>\n",
       "    <tr>\n",
       "      <th>14</th>\n",
       "      <td>RO</td>\n",
       "      <td>1100023</td>\n",
       "      <td>Ariquemes</td>\n",
       "      <td>Municipal</td>\n",
       "      <td>4.7</td>\n",
       "    </tr>\n",
       "  </tbody>\n",
       "</table>\n",
       "</div>"
      ],
      "text/plain": [
       "   SIGLA_UF CO_MUNICIPIO           NO_MUNICIPIO       REDE NOTA_IDEB\n",
       "10       RO      1100015  Alta Floresta D'Oeste   Estadual       5.1\n",
       "11       RO      1100015  Alta Floresta D'Oeste  Municipal       4.3\n",
       "12       RO      1100015  Alta Floresta D'Oeste    Pública       4.8\n",
       "13       RO      1100023              Ariquemes   Estadual         5\n",
       "14       RO      1100023              Ariquemes  Municipal       4.7"
      ]
     },
     "execution_count": 18,
     "metadata": {},
     "output_type": "execute_result"
    }
   ],
   "source": [
    "out_df_ideb_ensino_fund_finais = transform_dataframe(ideb_ensino_fund_finais)\n",
    "out_df_ideb_ensino_fund_finais.head()"
   ]
  },
  {
   "cell_type": "code",
   "execution_count": 23,
   "metadata": {},
   "outputs": [],
   "source": [
    "out_df_ideb_ensino_medio = out_df_ideb_ensino_medio[out_df_ideb_ensino_medio['REDE'] == 'Pública']\n",
    "\n",
    "out_df_ideb_ensino_fund_finais = out_df_ideb_ensino_fund_finais[out_df_ideb_ensino_fund_finais['REDE'] == 'Pública']"
   ]
  },
  {
   "cell_type": "code",
   "execution_count": 24,
   "metadata": {},
   "outputs": [],
   "source": [
    "concat_df = [out_df_ideb_ensino_medio, out_df_ideb_ensino_fund_finais]\n",
    "result_1 = pd.concat(concat_df)\n",
    "\n",
    "result_1['NOTA_IDEB'] = pd.to_numeric(result_1['NOTA_IDEB'],errors='coerce')\n",
    "\n",
    "columns = ['SIGLA_UF','CO_MUNICIPIO', 'NO_MUNICIPIO', 'REDE']\n",
    "final_result = result_1.groupby(columns, as_index=False).mean()"
   ]
  },
  {
   "cell_type": "code",
   "execution_count": 25,
   "metadata": {},
   "outputs": [
    {
     "data": {
      "text/html": [
       "<div>\n",
       "<style scoped>\n",
       "    .dataframe tbody tr th:only-of-type {\n",
       "        vertical-align: middle;\n",
       "    }\n",
       "\n",
       "    .dataframe tbody tr th {\n",
       "        vertical-align: top;\n",
       "    }\n",
       "\n",
       "    .dataframe thead th {\n",
       "        text-align: right;\n",
       "    }\n",
       "</style>\n",
       "<table border=\"1\" class=\"dataframe\">\n",
       "  <thead>\n",
       "    <tr style=\"text-align: right;\">\n",
       "      <th></th>\n",
       "      <th>SIGLA_UF</th>\n",
       "      <th>CO_MUNICIPIO</th>\n",
       "      <th>NO_MUNICIPIO</th>\n",
       "      <th>REDE</th>\n",
       "      <th>NOTA_IDEB</th>\n",
       "    </tr>\n",
       "  </thead>\n",
       "  <tbody>\n",
       "    <tr>\n",
       "      <th>0</th>\n",
       "      <td>AC</td>\n",
       "      <td>1200013</td>\n",
       "      <td>Acrelândia</td>\n",
       "      <td>Pública</td>\n",
       "      <td>4.05</td>\n",
       "    </tr>\n",
       "    <tr>\n",
       "      <th>1</th>\n",
       "      <td>AC</td>\n",
       "      <td>1200054</td>\n",
       "      <td>Assis Brasil</td>\n",
       "      <td>Pública</td>\n",
       "      <td>3.90</td>\n",
       "    </tr>\n",
       "    <tr>\n",
       "      <th>2</th>\n",
       "      <td>AC</td>\n",
       "      <td>1200104</td>\n",
       "      <td>Brasiléia</td>\n",
       "      <td>Pública</td>\n",
       "      <td>5.00</td>\n",
       "    </tr>\n",
       "    <tr>\n",
       "      <th>3</th>\n",
       "      <td>AC</td>\n",
       "      <td>1200138</td>\n",
       "      <td>Bujari</td>\n",
       "      <td>Pública</td>\n",
       "      <td>3.90</td>\n",
       "    </tr>\n",
       "    <tr>\n",
       "      <th>4</th>\n",
       "      <td>AC</td>\n",
       "      <td>1200179</td>\n",
       "      <td>Capixaba</td>\n",
       "      <td>Pública</td>\n",
       "      <td>4.00</td>\n",
       "    </tr>\n",
       "  </tbody>\n",
       "</table>\n",
       "</div>"
      ],
      "text/plain": [
       "  SIGLA_UF  CO_MUNICIPIO  NO_MUNICIPIO     REDE  NOTA_IDEB\n",
       "0       AC       1200013    Acrelândia  Pública       4.05\n",
       "1       AC       1200054  Assis Brasil  Pública       3.90\n",
       "2       AC       1200104     Brasiléia  Pública       5.00\n",
       "3       AC       1200138        Bujari  Pública       3.90\n",
       "4       AC       1200179      Capixaba  Pública       4.00"
      ]
     },
     "execution_count": 25,
     "metadata": {},
     "output_type": "execute_result"
    }
   ],
   "source": [
    "final_result.head()"
   ]
  },
  {
   "cell_type": "code",
   "execution_count": 26,
   "metadata": {},
   "outputs": [
    {
     "data": {
      "text/plain": [
       "SIGLA_UF        False\n",
       "CO_MUNICIPIO    False\n",
       "NO_MUNICIPIO    False\n",
       "REDE            False\n",
       "NOTA_IDEB        True\n",
       "dtype: bool"
      ]
     },
     "execution_count": 26,
     "metadata": {},
     "output_type": "execute_result"
    }
   ],
   "source": [
    "final_result.isnull().any()"
   ]
  },
  {
   "cell_type": "code",
   "execution_count": 27,
   "metadata": {},
   "outputs": [
    {
     "name": "stdout",
     "output_type": "stream",
     "text": [
      "<class 'pandas.core.frame.DataFrame'>\n",
      "Int64Index: 5569 entries, 0 to 5568\n",
      "Data columns (total 5 columns):\n",
      "SIGLA_UF        5569 non-null object\n",
      "CO_MUNICIPIO    5569 non-null int64\n",
      "NO_MUNICIPIO    5569 non-null object\n",
      "REDE            5569 non-null object\n",
      "NOTA_IDEB       5536 non-null float64\n",
      "dtypes: float64(1), int64(1), object(3)\n",
      "memory usage: 261.0+ KB\n"
     ]
    }
   ],
   "source": [
    "final_result.info()"
   ]
  },
  {
   "cell_type": "code",
   "execution_count": 28,
   "metadata": {},
   "outputs": [
    {
     "data": {
      "text/html": [
       "<div>\n",
       "<style scoped>\n",
       "    .dataframe tbody tr th:only-of-type {\n",
       "        vertical-align: middle;\n",
       "    }\n",
       "\n",
       "    .dataframe tbody tr th {\n",
       "        vertical-align: top;\n",
       "    }\n",
       "\n",
       "    .dataframe thead th {\n",
       "        text-align: right;\n",
       "    }\n",
       "</style>\n",
       "<table border=\"1\" class=\"dataframe\">\n",
       "  <thead>\n",
       "    <tr style=\"text-align: right;\">\n",
       "      <th></th>\n",
       "      <th>CO_MUNICIPIO</th>\n",
       "      <th>NOTA_IDEB</th>\n",
       "    </tr>\n",
       "  </thead>\n",
       "  <tbody>\n",
       "    <tr>\n",
       "      <th>count</th>\n",
       "      <td>5.569000e+03</td>\n",
       "      <td>5536.000000</td>\n",
       "    </tr>\n",
       "    <tr>\n",
       "      <th>mean</th>\n",
       "      <td>3.253283e+06</td>\n",
       "      <td>3.988566</td>\n",
       "    </tr>\n",
       "    <tr>\n",
       "      <th>std</th>\n",
       "      <td>9.848221e+05</td>\n",
       "      <td>0.678659</td>\n",
       "    </tr>\n",
       "    <tr>\n",
       "      <th>min</th>\n",
       "      <td>1.100015e+06</td>\n",
       "      <td>2.100000</td>\n",
       "    </tr>\n",
       "    <tr>\n",
       "      <th>25%</th>\n",
       "      <td>2.512101e+06</td>\n",
       "      <td>3.500000</td>\n",
       "    </tr>\n",
       "    <tr>\n",
       "      <th>50%</th>\n",
       "      <td>3.146255e+06</td>\n",
       "      <td>4.000000</td>\n",
       "    </tr>\n",
       "    <tr>\n",
       "      <th>75%</th>\n",
       "      <td>4.119103e+06</td>\n",
       "      <td>4.500000</td>\n",
       "    </tr>\n",
       "    <tr>\n",
       "      <th>max</th>\n",
       "      <td>5.300108e+06</td>\n",
       "      <td>6.400000</td>\n",
       "    </tr>\n",
       "  </tbody>\n",
       "</table>\n",
       "</div>"
      ],
      "text/plain": [
       "       CO_MUNICIPIO    NOTA_IDEB\n",
       "count  5.569000e+03  5536.000000\n",
       "mean   3.253283e+06     3.988566\n",
       "std    9.848221e+05     0.678659\n",
       "min    1.100015e+06     2.100000\n",
       "25%    2.512101e+06     3.500000\n",
       "50%    3.146255e+06     4.000000\n",
       "75%    4.119103e+06     4.500000\n",
       "max    5.300108e+06     6.400000"
      ]
     },
     "execution_count": 28,
     "metadata": {},
     "output_type": "execute_result"
    }
   ],
   "source": [
    "final_result.describe()"
   ]
  },
  {
   "cell_type": "code",
   "execution_count": 29,
   "metadata": {
    "scrolled": true
   },
   "outputs": [
    {
     "data": {
      "text/plain": [
       "CO_MUNICIPIO    5536\n",
       "NOTA_IDEB       5536\n",
       "dtype: int64"
      ]
     },
     "execution_count": 29,
     "metadata": {},
     "output_type": "execute_result"
    }
   ],
   "source": [
    "dados_ideb = final_result[['CO_MUNICIPIO', 'NOTA_IDEB']][final_result['NOTA_IDEB'].notnull()]\n",
    "dados_ideb.count()"
   ]
  },
  {
   "cell_type": "code",
   "execution_count": 58,
   "metadata": {},
   "outputs": [],
   "source": [
    "dados_ideb.to_csv(f'{diretorio_datasets}/ideb_final.csv', sep=';', encoding='utf-8', index=False)"
   ]
  }
 ],
 "metadata": {
  "kernelspec": {
   "display_name": "Python 3",
   "language": "python",
   "name": "python3"
  },
  "language_info": {
   "codemirror_mode": {
    "name": "ipython",
    "version": 3
   },
   "file_extension": ".py",
   "mimetype": "text/x-python",
   "name": "python",
   "nbconvert_exporter": "python",
   "pygments_lexer": "ipython3",
   "version": "3.7.3"
  }
 },
 "nbformat": 4,
 "nbformat_minor": 2
}
