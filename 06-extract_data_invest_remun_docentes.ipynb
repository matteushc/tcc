{
 "cells": [
  {
   "cell_type": "code",
   "execution_count": 1,
   "metadata": {},
   "outputs": [],
   "source": [
    "import requests\n",
    "import os\n",
    "import re\n",
    "import urllib.request as request\n",
    "from tqdm import tqdm\n",
    "from bs4 import BeautifulSoup"
   ]
  },
  {
   "cell_type": "code",
   "execution_count": 3,
   "metadata": {},
   "outputs": [],
   "source": [
    "fonte_data = \"https://www.fnde.gov.br/index.php/fnde_sistemas/siope/relatorios/arquivos-dados-analiticos\"\n",
    "path_directory = \"\"\n",
    "files_remuneracao = \"REMUNERACAO_PROFISSIONAIS_EDUCACAO_.+\\.CSV\"\n",
    "dados_consolidados = \"DADOS_CONSOLIDADOS_2017.CSV\"\n",
    "ano = '2017'"
   ]
  },
  {
   "cell_type": "code",
   "execution_count": 4,
   "metadata": {},
   "outputs": [],
   "source": [
    "result = requests.get(fonte_data)\n",
    "src = result.content"
   ]
  },
  {
   "cell_type": "code",
   "execution_count": null,
   "metadata": {},
   "outputs": [],
   "source": [
    "soup = BeautifulSoup(src, 'lxml')\n",
    "download_content = soup.find('div',{'class':'itemFullText'})"
   ]
  },
  {
   "cell_type": "code",
   "execution_count": null,
   "metadata": {},
   "outputs": [],
   "source": [
    "for p in download_content.find_all('p'):\n",
    "    if p.text == ano:\n",
    "\n",
    "        xml_uls = p.find_next_sibling('ul')\n",
    "        \n",
    "        for j in xml_uls.find_all('li'):\n",
    "            for x in j.find_all('a'):\n",
    "                url = x.attrs['href']\n",
    "                download_name = os.path.basename(url)\n",
    "\n",
    "                z = re.match(files_remuneracao, download_name)\n",
    "                if z or download_name == dados_consolidados:\n",
    "                    with tqdm.wrapattr(open(path_directory + download_name, \"wb\"),\n",
    "                        \"write\", miniters=1, desc=download_name) as fout:\n",
    "                        for chunk in request.urlopen(url):\n",
    "                            fout.write(chunk)"
   ]
  }
 ],
 "metadata": {
  "kernelspec": {
   "display_name": "Python 3",
   "language": "python",
   "name": "python3"
  },
  "language_info": {
   "codemirror_mode": {
    "name": "ipython",
    "version": 3
   },
   "file_extension": ".py",
   "mimetype": "text/x-python",
   "name": "python",
   "nbconvert_exporter": "python",
   "pygments_lexer": "ipython3",
   "version": "3.7.5"
  }
 },
 "nbformat": 4,
 "nbformat_minor": 2
}
