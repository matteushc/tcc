{
 "cells": [
  {
   "cell_type": "code",
   "execution_count": 1,
   "metadata": {},
   "outputs": [],
   "source": [
    "import requests\n",
    "import os\n",
    "import re\n",
    "import urllib.request as request\n",
    "from tqdm import tqdm\n",
    "from bs4 import BeautifulSoup"
   ]
  },
  {
   "cell_type": "code",
   "execution_count": 6,
   "metadata": {},
   "outputs": [],
   "source": [
    "fonte_data = \"https://www.fnde.gov.br/index.php/fnde_sistemas/siope/relatorios/arquivos-dados-analiticos\"\n",
    "path_directory = \"/home/caioabreu/workspace/tcc/datasets/investimento/\"\n",
    "files_remuneracao = \"REMUNERACAO_PROFISSIONAIS_EDUCACAO_.+\\.CSV\"\n",
    "dados_consolidados = \"DADOS_CONSOLIDADOS_2017.CSV\"\n",
    "ano = '2017'"
   ]
  },
  {
   "cell_type": "code",
   "execution_count": 3,
   "metadata": {},
   "outputs": [],
   "source": [
    "result = requests.get(fonte_data)\n",
    "src = result.content"
   ]
  },
  {
   "cell_type": "code",
   "execution_count": 4,
   "metadata": {},
   "outputs": [],
   "source": [
    "soup = BeautifulSoup(src, 'lxml')\n",
    "download_content = soup.find('div',{'class':'itemFullText'})"
   ]
  },
  {
   "cell_type": "code",
   "execution_count": null,
   "metadata": {},
   "outputs": [
    {
     "name": "stderr",
     "output_type": "stream",
     "text": [
      "DADOS_CONSOLIDADOS_2017.CSV: 6.18MB [00:06, 946kB/s] \n",
      "REMUNERACAO_PROFISSIONAIS_EDUCACAO_AC_2017.CSV: 29.7MB [00:16, 1.92MB/s]\n",
      "REMUNERACAO_PROFISSIONAIS_EDUCACAO_AL_2017.CSV: 151MB [02:21, 1.12MB/s] \n",
      "REMUNERACAO_PROFISSIONAIS_EDUCACAO_AM_2017.CSV: 146MB [01:43, 1.48MB/s] \n",
      "REMUNERACAO_PROFISSIONAIS_EDUCACAO_AP_2017.CSV: 20.6MB [00:15, 1.42MB/s]\n",
      "REMUNERACAO_PROFISSIONAIS_EDUCACAO_BA_2017.CSV: 584MB [06:00, 1.70MB/s] \n",
      "REMUNERACAO_PROFISSIONAIS_EDUCACAO_CE_2017.CSV: 390MB [01:57, 3.48MB/s] \n",
      "REMUNERACAO_PROFISSIONAIS_EDUCACAO_DF_2017.CSV: 252B [00:00, 615B/s]\n",
      "REMUNERACAO_PROFISSIONAIS_EDUCACAO_ES_2017.CSV: 139MB [00:38, 3.79MB/s] \n",
      "REMUNERACAO_PROFISSIONAIS_EDUCACAO_GO_2017.CSV: 123MB [00:51, 2.49MB/s] \n",
      "REMUNERACAO_PROFISSIONAIS_EDUCACAO_MA_2017.CSV: 335MB [02:36, 2.25MB/s] \n",
      "REMUNERACAO_PROFISSIONAIS_EDUCACAO_MG_2017.CSV: 541MB [02:30, 3.78MB/s] \n",
      "REMUNERACAO_PROFISSIONAIS_EDUCACAO_MS_2017.CSV: 86.8MB [00:27, 3.32MB/s]\n",
      "REMUNERACAO_PROFISSIONAIS_EDUCACAO_MT_2017.CSV: 104MB [00:35, 3.05MB/s] \n",
      "REMUNERACAO_PROFISSIONAIS_EDUCACAO_PA_2017.CSV: 273MB [01:22, 3.48MB/s] \n",
      "REMUNERACAO_PROFISSIONAIS_EDUCACAO_PB_2017.CSV: 169MB [01:03, 2.80MB/s] \n",
      "REMUNERACAO_PROFISSIONAIS_EDUCACAO_PE_2017.CSV: 311MB [02:09, 2.51MB/s] \n",
      "REMUNERACAO_PROFISSIONAIS_EDUCACAO_PI_2017.CSV: 135MB [00:49, 2.86MB/s] \n",
      "REMUNERACAO_PROFISSIONAIS_EDUCACAO_PR_2017.CSV: 298MB [01:28, 3.53MB/s] \n",
      "REMUNERACAO_PROFISSIONAIS_EDUCACAO_RJ_2017.CSV: 438MB [02:08, 3.57MB/s] \n",
      "REMUNERACAO_PROFISSIONAIS_EDUCACAO_RN_2017.CSV: 120MB [00:52, 2.42MB/s] \n",
      "REMUNERACAO_PROFISSIONAIS_EDUCACAO_RO_2017.CSV: 47.2MB [00:17, 2.85MB/s]\n",
      "REMUNERACAO_PROFISSIONAIS_EDUCACAO_RR_2017.CSV: 21.7MB [00:07, 2.99MB/s]\n",
      "REMUNERACAO_PROFISSIONAIS_EDUCACAO_RS_2017.CSV: 264MB [01:06, 4.15MB/s] \n",
      "REMUNERACAO_PROFISSIONAIS_EDUCACAO_SC_2017.CSV: 201MB [00:55, 3.76MB/s] \n",
      "REMUNERACAO_PROFISSIONAIS_EDUCACAO_SC_2017.CSV: 201MB [01:10, 2.97MB/s] \n",
      "REMUNERACAO_PROFISSIONAIS_EDUCACAO_SE_2017.CSV: 73.0MB [00:32, 2.36MB/s]\n",
      "REMUNERACAO_PROFISSIONAIS_EDUCACAO_SP_2017.CSV: 131MB [00:37, 3.25MB/s] "
     ]
    }
   ],
   "source": [
    "for p in download_content.find_all('p'):\n",
    "    if p.text == ano:\n",
    "\n",
    "        xml_uls = p.find_next_sibling('ul')\n",
    "        \n",
    "        for j in xml_uls.find_all('li'):\n",
    "            for x in j.find_all('a'):\n",
    "                url = x.attrs['href']\n",
    "                download_name = os.path.basename(url)\n",
    "\n",
    "                z = re.match(files_remuneracao, download_name)\n",
    "                if z or download_name == dados_consolidados:\n",
    "                    with tqdm.wrapattr(open(path_directory + download_name, \"wb\"),\n",
    "                        \"write\", miniters=1, desc=download_name) as fout:\n",
    "                        for chunk in request.urlopen(url):\n",
    "                            fout.write(chunk)"
   ]
  }
 ],
 "metadata": {
  "kernelspec": {
   "display_name": "Python 3",
   "language": "python",
   "name": "python3"
  },
  "language_info": {
   "codemirror_mode": {
    "name": "ipython",
    "version": 3
   },
   "file_extension": ".py",
   "mimetype": "text/x-python",
   "name": "python",
   "nbconvert_exporter": "python",
   "pygments_lexer": "ipython3",
   "version": "3.7.5"
  }
 },
 "nbformat": 4,
 "nbformat_minor": 2
}
